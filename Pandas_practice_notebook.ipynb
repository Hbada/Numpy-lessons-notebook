{
  "nbformat": 4,
  "nbformat_minor": 0,
  "metadata": {
    "colab": {
      "name": "Pandas practice notebook.ipynb",
      "version": "0.3.2",
      "provenance": [],
      "collapsed_sections": [],
      "include_colab_link": true
    },
    "kernelspec": {
      "name": "python3",
      "display_name": "Python 3"
    }
  },
  "cells": [
    {
      "cell_type": "markdown",
      "metadata": {
        "id": "view-in-github",
        "colab_type": "text"
      },
      "source": [
        "<a href=\"https://colab.research.google.com/github/Hbada/Numpy-lessons-notebook/blob/master/Pandas_practice_notebook.ipynb\" target=\"_parent\"><img src=\"https://colab.research.google.com/assets/colab-badge.svg\" alt=\"Open In Colab\"/></a>"
      ]
    },
    {
      "cell_type": "code",
      "metadata": {
        "id": "f9pe6TpV5rU1",
        "colab_type": "code",
        "colab": {}
      },
      "source": [
        "# original notebook source: Google Colab\n",
        "# exercise sources: Udemy course Python for Data Science... by Portilla\n",
        "import numpy as np\n",
        "import pandas as pd"
      ],
      "execution_count": 0,
      "outputs": []
    },
    {
      "cell_type": "markdown",
      "metadata": {
        "id": "eSk9BkWr7YZK",
        "colab_type": "text"
      },
      "source": [
        "## Create series"
      ]
    },
    {
      "cell_type": "code",
      "metadata": {
        "id": "Y1qZDJf67LAx",
        "colab_type": "code",
        "colab": {}
      },
      "source": [
        "# create lists of data\n",
        "labels = ['a', 'b', 'c']\n",
        "my_data = [10, 20, 30]"
      ],
      "execution_count": 0,
      "outputs": []
    },
    {
      "cell_type": "code",
      "metadata": {
        "id": "QnYE0UHD7orz",
        "colab_type": "code",
        "colab": {
          "base_uri": "https://localhost:8080/",
          "height": 34
        },
        "outputId": "fa4812eb-8d84-4495-b6dc-38d728c209b2"
      },
      "source": [
        "# create initial array\n",
        "arr = np.array(my_data)\n",
        "arr"
      ],
      "execution_count": 8,
      "outputs": [
        {
          "output_type": "execute_result",
          "data": {
            "text/plain": [
              "array([10, 20, 30])"
            ]
          },
          "metadata": {
            "tags": []
          },
          "execution_count": 8
        }
      ]
    },
    {
      "cell_type": "code",
      "metadata": {
        "id": "7GueqLWL75yo",
        "colab_type": "code",
        "colab": {}
      },
      "source": [
        "# create dictionary\n",
        "d = {'a':10, 'b':20, 'c':30} # Python way to combine index with values"
      ],
      "execution_count": 0,
      "outputs": []
    },
    {
      "cell_type": "code",
      "metadata": {
        "id": "XolLPo6M8IwT",
        "colab_type": "code",
        "colab": {
          "base_uri": "https://localhost:8080/",
          "height": 85
        },
        "outputId": "8f63e571-f02b-4acb-9a35-6026002378f9"
      },
      "source": [
        "# create series\n",
        "pd.Series(data = my_data)"
      ],
      "execution_count": 10,
      "outputs": [
        {
          "output_type": "execute_result",
          "data": {
            "text/plain": [
              "0    10\n",
              "1    20\n",
              "2    30\n",
              "dtype: int64"
            ]
          },
          "metadata": {
            "tags": []
          },
          "execution_count": 10
        }
      ]
    },
    {
      "cell_type": "code",
      "metadata": {
        "id": "iw72UL6S8PhQ",
        "colab_type": "code",
        "colab": {
          "base_uri": "https://localhost:8080/",
          "height": 85
        },
        "outputId": "409837b1-487d-4d06-a650-fb49da347612"
      },
      "source": [
        "# create new series with an index\n",
        "pd.Series(data=my_data, index=labels)"
      ],
      "execution_count": 11,
      "outputs": [
        {
          "output_type": "execute_result",
          "data": {
            "text/plain": [
              "a    10\n",
              "b    20\n",
              "c    30\n",
              "dtype: int64"
            ]
          },
          "metadata": {
            "tags": []
          },
          "execution_count": 11
        }
      ]
    },
    {
      "cell_type": "code",
      "metadata": {
        "id": "R8PFoUda8mhP",
        "colab_type": "code",
        "colab": {
          "base_uri": "https://localhost:8080/",
          "height": 85
        },
        "outputId": "dc5e2ca8-90df-4790-b5a3-a3d0218e3c7d"
      },
      "source": [
        "# shortcut to create series with index\n",
        "pd.Series(my_data, labels)"
      ],
      "execution_count": 13,
      "outputs": [
        {
          "output_type": "execute_result",
          "data": {
            "text/plain": [
              "a    10\n",
              "b    20\n",
              "c    30\n",
              "dtype: int64"
            ]
          },
          "metadata": {
            "tags": []
          },
          "execution_count": 13
        }
      ]
    },
    {
      "cell_type": "code",
      "metadata": {
        "id": "kzpOTPjM86hp",
        "colab_type": "code",
        "colab": {
          "base_uri": "https://localhost:8080/",
          "height": 187
        },
        "outputId": "baf1439b-9ef7-4a1c-f3cb-0c31a9461b62"
      },
      "source": [
        "# create series from any numpy array\n",
        "zeroes = np.zeros(9)\n",
        "pd.Series(zeroes)\n",
        "# can't use .reshape(3,3) yet because .Series() requires 1D array"
      ],
      "execution_count": 17,
      "outputs": [
        {
          "output_type": "execute_result",
          "data": {
            "text/plain": [
              "0    0.0\n",
              "1    0.0\n",
              "2    0.0\n",
              "3    0.0\n",
              "4    0.0\n",
              "5    0.0\n",
              "6    0.0\n",
              "7    0.0\n",
              "8    0.0\n",
              "dtype: float64"
            ]
          },
          "metadata": {
            "tags": []
          },
          "execution_count": 17
        }
      ]
    },
    {
      "cell_type": "code",
      "metadata": {
        "id": "sgDQhgpg9A8d",
        "colab_type": "code",
        "colab": {
          "base_uri": "https://localhost:8080/",
          "height": 85
        },
        "outputId": "4ca948d1-06ea-47ae-9728-84121733afee"
      },
      "source": [
        "# turn dictionary into series\n",
        "pd.Series(d)\n",
        "# automatically converts dictionary keys to index in the series"
      ],
      "execution_count": 19,
      "outputs": [
        {
          "output_type": "execute_result",
          "data": {
            "text/plain": [
              "a    10\n",
              "b    20\n",
              "c    30\n",
              "dtype: int64"
            ]
          },
          "metadata": {
            "tags": []
          },
          "execution_count": 19
        }
      ]
    },
    {
      "cell_type": "code",
      "metadata": {
        "id": "JgZPtKXF9qUn",
        "colab_type": "code",
        "colab": {
          "base_uri": "https://localhost:8080/",
          "height": 85
        },
        "outputId": "4718539e-e6ca-4ad1-e490-8bc6cd348f17"
      },
      "source": [
        "# create series of strings\n",
        "pd.Series(labels)\n",
        "# index is automatically created, and labels array becomes the values"
      ],
      "execution_count": 21,
      "outputs": [
        {
          "output_type": "execute_result",
          "data": {
            "text/plain": [
              "0    a\n",
              "1    b\n",
              "2    c\n",
              "dtype: object"
            ]
          },
          "metadata": {
            "tags": []
          },
          "execution_count": 21
        }
      ]
    },
    {
      "cell_type": "code",
      "metadata": {
        "id": "0lsDKPlF-ElG",
        "colab_type": "code",
        "colab": {
          "base_uri": "https://localhost:8080/",
          "height": 68
        },
        "outputId": "9d5e9cad-2d10-4e66-a8cb-a030ac6ed89b"
      },
      "source": [
        "# can also create series holding other object types\n",
        "pd.Series(data=[sum,len]) # series of functions"
      ],
      "execution_count": 22,
      "outputs": [
        {
          "output_type": "execute_result",
          "data": {
            "text/plain": [
              "0    <built-in function sum>\n",
              "1    <built-in function len>\n",
              "dtype: object"
            ]
          },
          "metadata": {
            "tags": []
          },
          "execution_count": 22
        }
      ]
    },
    {
      "cell_type": "markdown",
      "metadata": {
        "id": "oy4vB5pS-oXd",
        "colab_type": "text"
      },
      "source": [
        "## Using index in a series"
      ]
    },
    {
      "cell_type": "code",
      "metadata": {
        "id": "jmhHipBQ-nha",
        "colab_type": "code",
        "colab": {}
      },
      "source": [
        "# half way through lesson 26"
      ],
      "execution_count": 0,
      "outputs": []
    },
    {
      "cell_type": "code",
      "metadata": {
        "id": "01RPckXi-ylT",
        "colab_type": "code",
        "colab": {}
      },
      "source": [
        ""
      ],
      "execution_count": 0,
      "outputs": []
    }
  ]
}