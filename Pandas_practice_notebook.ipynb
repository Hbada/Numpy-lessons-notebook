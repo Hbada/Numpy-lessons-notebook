{
  "nbformat": 4,
  "nbformat_minor": 0,
  "metadata": {
    "colab": {
      "name": "Pandas practice notebook.ipynb",
      "version": "0.3.2",
      "provenance": [],
      "collapsed_sections": [],
      "include_colab_link": true
    },
    "kernelspec": {
      "name": "python3",
      "display_name": "Python 3"
    }
  },
  "cells": [
    {
      "cell_type": "markdown",
      "metadata": {
        "id": "view-in-github",
        "colab_type": "text"
      },
      "source": [
        "<a href=\"https://colab.research.google.com/github/Hbada/Python-data-analysis-lessons-notebooks/blob/master/Pandas_practice_notebook.ipynb\" target=\"_parent\"><img src=\"https://colab.research.google.com/assets/colab-badge.svg\" alt=\"Open In Colab\"/></a>"
      ]
    },
    {
      "cell_type": "code",
      "metadata": {
        "id": "f9pe6TpV5rU1",
        "colab_type": "code",
        "colab": {}
      },
      "source": [
        "# original notebook source: Google Colab\n",
        "# exercise sources: Udemy course Python for Data Science... by Portilla\n",
        "import numpy as np\n",
        "import pandas as pd"
      ],
      "execution_count": 0,
      "outputs": []
    },
    {
      "cell_type": "markdown",
      "metadata": {
        "id": "eSk9BkWr7YZK",
        "colab_type": "text"
      },
      "source": [
        "## Create series"
      ]
    },
    {
      "cell_type": "code",
      "metadata": {
        "id": "Y1qZDJf67LAx",
        "colab_type": "code",
        "colab": {}
      },
      "source": [
        "# create lists of data\n",
        "labels = ['a', 'b', 'c']\n",
        "my_data = [10, 20, 30]"
      ],
      "execution_count": 0,
      "outputs": []
    },
    {
      "cell_type": "code",
      "metadata": {
        "id": "QnYE0UHD7orz",
        "colab_type": "code",
        "outputId": "f9f36dc8-2556-4406-f78b-57dec0f0a7c9",
        "colab": {
          "base_uri": "https://localhost:8080/",
          "height": 34
        }
      },
      "source": [
        "# create initial array\n",
        "arr = np.array(my_data)\n",
        "arr"
      ],
      "execution_count": 4,
      "outputs": [
        {
          "output_type": "execute_result",
          "data": {
            "text/plain": [
              "array([10, 20, 30])"
            ]
          },
          "metadata": {
            "tags": []
          },
          "execution_count": 4
        }
      ]
    },
    {
      "cell_type": "code",
      "metadata": {
        "id": "7GueqLWL75yo",
        "colab_type": "code",
        "colab": {}
      },
      "source": [
        "# create dictionary\n",
        "d = {'a':10, 'b':20, 'c':30} # Python way to combine index with values"
      ],
      "execution_count": 0,
      "outputs": []
    },
    {
      "cell_type": "code",
      "metadata": {
        "id": "XolLPo6M8IwT",
        "colab_type": "code",
        "outputId": "79017ba9-82e5-4828-e4ab-838469367001",
        "colab": {
          "base_uri": "https://localhost:8080/",
          "height": 85
        }
      },
      "source": [
        "# create series\n",
        "pd.Series(data = my_data)"
      ],
      "execution_count": 6,
      "outputs": [
        {
          "output_type": "execute_result",
          "data": {
            "text/plain": [
              "0    10\n",
              "1    20\n",
              "2    30\n",
              "dtype: int64"
            ]
          },
          "metadata": {
            "tags": []
          },
          "execution_count": 6
        }
      ]
    },
    {
      "cell_type": "code",
      "metadata": {
        "id": "iw72UL6S8PhQ",
        "colab_type": "code",
        "outputId": "678a2d22-7d31-4245-c4df-950dd61826a9",
        "colab": {
          "base_uri": "https://localhost:8080/",
          "height": 85
        }
      },
      "source": [
        "# create new series with an index\n",
        "pd.Series(data=my_data, index=labels) # series use labels to denote indexes"
      ],
      "execution_count": 7,
      "outputs": [
        {
          "output_type": "execute_result",
          "data": {
            "text/plain": [
              "a    10\n",
              "b    20\n",
              "c    30\n",
              "dtype: int64"
            ]
          },
          "metadata": {
            "tags": []
          },
          "execution_count": 7
        }
      ]
    },
    {
      "cell_type": "code",
      "metadata": {
        "id": "R8PFoUda8mhP",
        "colab_type": "code",
        "outputId": "100d67a2-f9d6-4ed1-ef50-d99cd2efa349",
        "colab": {
          "base_uri": "https://localhost:8080/",
          "height": 85
        }
      },
      "source": [
        "# shortcut to create series with index\n",
        "pd.Series(my_data, labels)"
      ],
      "execution_count": 8,
      "outputs": [
        {
          "output_type": "execute_result",
          "data": {
            "text/plain": [
              "a    10\n",
              "b    20\n",
              "c    30\n",
              "dtype: int64"
            ]
          },
          "metadata": {
            "tags": []
          },
          "execution_count": 8
        }
      ]
    },
    {
      "cell_type": "code",
      "metadata": {
        "id": "kzpOTPjM86hp",
        "colab_type": "code",
        "outputId": "9ce0634b-5c8b-4f5a-b738-7620ff171147",
        "colab": {
          "base_uri": "https://localhost:8080/",
          "height": 187
        }
      },
      "source": [
        "# create series from any numpy array\n",
        "zeroes = np.zeros(9)\n",
        "pd.Series(zeroes)\n",
        "# can't use .reshape(3,3) yet because .Series() requires 1D array"
      ],
      "execution_count": 9,
      "outputs": [
        {
          "output_type": "execute_result",
          "data": {
            "text/plain": [
              "0    0.0\n",
              "1    0.0\n",
              "2    0.0\n",
              "3    0.0\n",
              "4    0.0\n",
              "5    0.0\n",
              "6    0.0\n",
              "7    0.0\n",
              "8    0.0\n",
              "dtype: float64"
            ]
          },
          "metadata": {
            "tags": []
          },
          "execution_count": 9
        }
      ]
    },
    {
      "cell_type": "code",
      "metadata": {
        "id": "sgDQhgpg9A8d",
        "colab_type": "code",
        "outputId": "6619c761-81ed-4a4e-c831-cdfb82917686",
        "colab": {
          "base_uri": "https://localhost:8080/",
          "height": 85
        }
      },
      "source": [
        "# turn dictionary into series\n",
        "pd.Series(d)\n",
        "# automatically converts dictionary keys to index in the series"
      ],
      "execution_count": 10,
      "outputs": [
        {
          "output_type": "execute_result",
          "data": {
            "text/plain": [
              "a    10\n",
              "b    20\n",
              "c    30\n",
              "dtype: int64"
            ]
          },
          "metadata": {
            "tags": []
          },
          "execution_count": 10
        }
      ]
    },
    {
      "cell_type": "code",
      "metadata": {
        "id": "JgZPtKXF9qUn",
        "colab_type": "code",
        "outputId": "652367e1-99db-4077-9ed2-8c5a96519921",
        "colab": {
          "base_uri": "https://localhost:8080/",
          "height": 85
        }
      },
      "source": [
        "# create series of strings\n",
        "pd.Series(labels)\n",
        "# index is automatically created, and labels array becomes the values"
      ],
      "execution_count": 11,
      "outputs": [
        {
          "output_type": "execute_result",
          "data": {
            "text/plain": [
              "0    a\n",
              "1    b\n",
              "2    c\n",
              "dtype: object"
            ]
          },
          "metadata": {
            "tags": []
          },
          "execution_count": 11
        }
      ]
    },
    {
      "cell_type": "code",
      "metadata": {
        "id": "0lsDKPlF-ElG",
        "colab_type": "code",
        "outputId": "6c05920c-b4d4-4bcd-bd75-c4bd50415509",
        "colab": {
          "base_uri": "https://localhost:8080/",
          "height": 68
        }
      },
      "source": [
        "# can also create series holding other object types\n",
        "pd.Series(data=[sum,len]) # series of functions"
      ],
      "execution_count": 12,
      "outputs": [
        {
          "output_type": "execute_result",
          "data": {
            "text/plain": [
              "0    <built-in function sum>\n",
              "1    <built-in function len>\n",
              "dtype: object"
            ]
          },
          "metadata": {
            "tags": []
          },
          "execution_count": 12
        }
      ]
    },
    {
      "cell_type": "markdown",
      "metadata": {
        "id": "oy4vB5pS-oXd",
        "colab_type": "text"
      },
      "source": [
        "## Using index in a series"
      ]
    },
    {
      "cell_type": "code",
      "metadata": {
        "id": "jmhHipBQ-nha",
        "colab_type": "code",
        "outputId": "a6b2f0f3-3b99-4375-b624-66461a825f19",
        "colab": {
          "base_uri": "https://localhost:8080/",
          "height": 102
        }
      },
      "source": [
        "# create two series with values then labels\n",
        "ser1 = pd.Series([1, 2, 3, 4], ['Japan', 'Morocco', 'Canada', 'England'])\n",
        "ser1\n"
      ],
      "execution_count": 13,
      "outputs": [
        {
          "output_type": "execute_result",
          "data": {
            "text/plain": [
              "Japan      1\n",
              "Morocco    2\n",
              "Canada     3\n",
              "England    4\n",
              "dtype: int64"
            ]
          },
          "metadata": {
            "tags": []
          },
          "execution_count": 13
        }
      ]
    },
    {
      "cell_type": "code",
      "metadata": {
        "id": "_K9kpVrR9PVT",
        "colab_type": "code",
        "outputId": "a3511504-e3de-4d9c-f651-76163f5003fe",
        "colab": {
          "base_uri": "https://localhost:8080/",
          "height": 102
        }
      },
      "source": [
        "ser2 = pd.Series([1, 5, 3, 4], ['Japan', 'Italy', 'Canada', 'England'])\n",
        "ser2"
      ],
      "execution_count": 14,
      "outputs": [
        {
          "output_type": "execute_result",
          "data": {
            "text/plain": [
              "Japan      1\n",
              "Italy      5\n",
              "Canada     3\n",
              "England    4\n",
              "dtype: int64"
            ]
          },
          "metadata": {
            "tags": []
          },
          "execution_count": 14
        }
      ]
    },
    {
      "cell_type": "code",
      "metadata": {
        "id": "01RPckXi-ylT",
        "colab_type": "code",
        "outputId": "76064b83-50e9-43f7-9abd-ab7e6ecf4b7d",
        "colab": {
          "base_uri": "https://localhost:8080/",
          "height": 34
        }
      },
      "source": [
        "# retrieve by label as index\n",
        "ser2['Italy']"
      ],
      "execution_count": 15,
      "outputs": [
        {
          "output_type": "execute_result",
          "data": {
            "text/plain": [
              "5"
            ]
          },
          "metadata": {
            "tags": []
          },
          "execution_count": 15
        }
      ]
    },
    {
      "cell_type": "code",
      "metadata": {
        "id": "bqYK8Blb-iEy",
        "colab_type": "code",
        "outputId": "87a40b44-57d0-42d1-c225-0a4b2e861d02",
        "colab": {
          "base_uri": "https://localhost:8080/",
          "height": 119
        }
      },
      "source": [
        "# see how indexes line up; add two series\n",
        "ser1 + ser2 # integers become floats automatically so you don't lose info"
      ],
      "execution_count": 16,
      "outputs": [
        {
          "output_type": "execute_result",
          "data": {
            "text/plain": [
              "Canada     6.0\n",
              "England    8.0\n",
              "Italy      NaN\n",
              "Japan      2.0\n",
              "Morocco    NaN\n",
              "dtype: float64"
            ]
          },
          "metadata": {
            "tags": []
          },
          "execution_count": 16
        }
      ]
    },
    {
      "cell_type": "markdown",
      "metadata": {
        "id": "rgigVdMBAKhh",
        "colab_type": "text"
      },
      "source": [
        "## Create data frame"
      ]
    },
    {
      "cell_type": "code",
      "metadata": {
        "id": "_B30zSehAPSn",
        "colab_type": "code",
        "colab": {}
      },
      "source": [
        "from numpy.random import randn\n",
        "np.random.seed(101) # set a seed to match the course instructor's results"
      ],
      "execution_count": 0,
      "outputs": []
    },
    {
      "cell_type": "code",
      "metadata": {
        "id": "YbZ9GRI9AXW6",
        "colab_type": "code",
        "outputId": "b196dc3f-a995-4527-8e0b-039e94ddd909",
        "colab": {
          "base_uri": "https://localhost:8080/",
          "height": 204
        }
      },
      "source": [
        "# create table of random normal distribution numbers in 5 rows, 4 columns\n",
        "df = pd.DataFrame(randn(5, 4))\n",
        "df"
      ],
      "execution_count": 18,
      "outputs": [
        {
          "output_type": "execute_result",
          "data": {
            "text/html": [
              "<div>\n",
              "<style scoped>\n",
              "    .dataframe tbody tr th:only-of-type {\n",
              "        vertical-align: middle;\n",
              "    }\n",
              "\n",
              "    .dataframe tbody tr th {\n",
              "        vertical-align: top;\n",
              "    }\n",
              "\n",
              "    .dataframe thead th {\n",
              "        text-align: right;\n",
              "    }\n",
              "</style>\n",
              "<table border=\"1\" class=\"dataframe\">\n",
              "  <thead>\n",
              "    <tr style=\"text-align: right;\">\n",
              "      <th></th>\n",
              "      <th>0</th>\n",
              "      <th>1</th>\n",
              "      <th>2</th>\n",
              "      <th>3</th>\n",
              "    </tr>\n",
              "  </thead>\n",
              "  <tbody>\n",
              "    <tr>\n",
              "      <th>0</th>\n",
              "      <td>2.706850</td>\n",
              "      <td>0.628133</td>\n",
              "      <td>0.907969</td>\n",
              "      <td>0.503826</td>\n",
              "    </tr>\n",
              "    <tr>\n",
              "      <th>1</th>\n",
              "      <td>0.651118</td>\n",
              "      <td>-0.319318</td>\n",
              "      <td>-0.848077</td>\n",
              "      <td>0.605965</td>\n",
              "    </tr>\n",
              "    <tr>\n",
              "      <th>2</th>\n",
              "      <td>-2.018168</td>\n",
              "      <td>0.740122</td>\n",
              "      <td>0.528813</td>\n",
              "      <td>-0.589001</td>\n",
              "    </tr>\n",
              "    <tr>\n",
              "      <th>3</th>\n",
              "      <td>0.188695</td>\n",
              "      <td>-0.758872</td>\n",
              "      <td>-0.933237</td>\n",
              "      <td>0.955057</td>\n",
              "    </tr>\n",
              "    <tr>\n",
              "      <th>4</th>\n",
              "      <td>0.190794</td>\n",
              "      <td>1.978757</td>\n",
              "      <td>2.605967</td>\n",
              "      <td>0.683509</td>\n",
              "    </tr>\n",
              "  </tbody>\n",
              "</table>\n",
              "</div>"
            ],
            "text/plain": [
              "          0         1         2         3\n",
              "0  2.706850  0.628133  0.907969  0.503826\n",
              "1  0.651118 -0.319318 -0.848077  0.605965\n",
              "2 -2.018168  0.740122  0.528813 -0.589001\n",
              "3  0.188695 -0.758872 -0.933237  0.955057\n",
              "4  0.190794  1.978757  2.605967  0.683509"
            ]
          },
          "metadata": {
            "tags": []
          },
          "execution_count": 18
        }
      ]
    },
    {
      "cell_type": "code",
      "metadata": {
        "id": "X99hYmOBBNTG",
        "colab_type": "code",
        "outputId": "de9b6192-3063-4bbd-bf37-c8dfd5ee3419",
        "colab": {
          "base_uri": "https://localhost:8080/",
          "height": 204
        }
      },
      "source": [
        "# create same table but with labels\n",
        "df = pd.DataFrame(randn(5, 4), ['A', 'B', 'C', 'D', 'E'], ['Apples', 'Oranges', 'Bananas', 'Mangos'])\n",
        "df"
      ],
      "execution_count": 19,
      "outputs": [
        {
          "output_type": "execute_result",
          "data": {
            "text/html": [
              "<div>\n",
              "<style scoped>\n",
              "    .dataframe tbody tr th:only-of-type {\n",
              "        vertical-align: middle;\n",
              "    }\n",
              "\n",
              "    .dataframe tbody tr th {\n",
              "        vertical-align: top;\n",
              "    }\n",
              "\n",
              "    .dataframe thead th {\n",
              "        text-align: right;\n",
              "    }\n",
              "</style>\n",
              "<table border=\"1\" class=\"dataframe\">\n",
              "  <thead>\n",
              "    <tr style=\"text-align: right;\">\n",
              "      <th></th>\n",
              "      <th>Apples</th>\n",
              "      <th>Oranges</th>\n",
              "      <th>Bananas</th>\n",
              "      <th>Mangos</th>\n",
              "    </tr>\n",
              "  </thead>\n",
              "  <tbody>\n",
              "    <tr>\n",
              "      <th>A</th>\n",
              "      <td>0.302665</td>\n",
              "      <td>1.693723</td>\n",
              "      <td>-1.706086</td>\n",
              "      <td>-1.159119</td>\n",
              "    </tr>\n",
              "    <tr>\n",
              "      <th>B</th>\n",
              "      <td>-0.134841</td>\n",
              "      <td>0.390528</td>\n",
              "      <td>0.166905</td>\n",
              "      <td>0.184502</td>\n",
              "    </tr>\n",
              "    <tr>\n",
              "      <th>C</th>\n",
              "      <td>0.807706</td>\n",
              "      <td>0.072960</td>\n",
              "      <td>0.638787</td>\n",
              "      <td>0.329646</td>\n",
              "    </tr>\n",
              "    <tr>\n",
              "      <th>D</th>\n",
              "      <td>-0.497104</td>\n",
              "      <td>-0.754070</td>\n",
              "      <td>-0.943406</td>\n",
              "      <td>0.484752</td>\n",
              "    </tr>\n",
              "    <tr>\n",
              "      <th>E</th>\n",
              "      <td>-0.116773</td>\n",
              "      <td>1.901755</td>\n",
              "      <td>0.238127</td>\n",
              "      <td>1.996652</td>\n",
              "    </tr>\n",
              "  </tbody>\n",
              "</table>\n",
              "</div>"
            ],
            "text/plain": [
              "     Apples   Oranges   Bananas    Mangos\n",
              "A  0.302665  1.693723 -1.706086 -1.159119\n",
              "B -0.134841  0.390528  0.166905  0.184502\n",
              "C  0.807706  0.072960  0.638787  0.329646\n",
              "D -0.497104 -0.754070 -0.943406  0.484752\n",
              "E -0.116773  1.901755  0.238127  1.996652"
            ]
          },
          "metadata": {
            "tags": []
          },
          "execution_count": 19
        }
      ]
    },
    {
      "cell_type": "markdown",
      "metadata": {
        "id": "wlJuMw9OCSmj",
        "colab_type": "text"
      },
      "source": [
        "## Select portions of a dataframe"
      ]
    },
    {
      "cell_type": "code",
      "metadata": {
        "id": "tIylNSUXCXgm",
        "colab_type": "code",
        "outputId": "c454ec03-9f0a-4217-fea0-3f01050eda9e",
        "colab": {
          "base_uri": "https://localhost:8080/",
          "height": 119
        }
      },
      "source": [
        "# select one column only\n",
        "df['Apples']"
      ],
      "execution_count": 20,
      "outputs": [
        {
          "output_type": "execute_result",
          "data": {
            "text/plain": [
              "A    0.302665\n",
              "B   -0.134841\n",
              "C    0.807706\n",
              "D   -0.497104\n",
              "E   -0.116773\n",
              "Name: Apples, dtype: float64"
            ]
          },
          "metadata": {
            "tags": []
          },
          "execution_count": 20
        }
      ]
    },
    {
      "cell_type": "code",
      "metadata": {
        "id": "N5FAgNOrChCB",
        "colab_type": "code",
        "outputId": "9534344b-ca5a-42bd-90f5-1fb1870e3e76",
        "colab": {
          "base_uri": "https://localhost:8080/",
          "height": 34
        }
      },
      "source": [
        "# confirm that a column is considered a series\n",
        "type(df['Apples'])"
      ],
      "execution_count": 21,
      "outputs": [
        {
          "output_type": "execute_result",
          "data": {
            "text/plain": [
              "pandas.core.series.Series"
            ]
          },
          "metadata": {
            "tags": []
          },
          "execution_count": 21
        }
      ]
    },
    {
      "cell_type": "code",
      "metadata": {
        "id": "56ReY_uPCvCV",
        "colab_type": "code",
        "outputId": "6355b81a-bd61-4d6e-d9d7-84f72a3e9b39",
        "colab": {
          "base_uri": "https://localhost:8080/",
          "height": 204
        }
      },
      "source": [
        "# select multiple columns by inserting a list as index\n",
        "df[['Apples', 'Mangos']]"
      ],
      "execution_count": 22,
      "outputs": [
        {
          "output_type": "execute_result",
          "data": {
            "text/html": [
              "<div>\n",
              "<style scoped>\n",
              "    .dataframe tbody tr th:only-of-type {\n",
              "        vertical-align: middle;\n",
              "    }\n",
              "\n",
              "    .dataframe tbody tr th {\n",
              "        vertical-align: top;\n",
              "    }\n",
              "\n",
              "    .dataframe thead th {\n",
              "        text-align: right;\n",
              "    }\n",
              "</style>\n",
              "<table border=\"1\" class=\"dataframe\">\n",
              "  <thead>\n",
              "    <tr style=\"text-align: right;\">\n",
              "      <th></th>\n",
              "      <th>Apples</th>\n",
              "      <th>Mangos</th>\n",
              "    </tr>\n",
              "  </thead>\n",
              "  <tbody>\n",
              "    <tr>\n",
              "      <th>A</th>\n",
              "      <td>0.302665</td>\n",
              "      <td>-1.159119</td>\n",
              "    </tr>\n",
              "    <tr>\n",
              "      <th>B</th>\n",
              "      <td>-0.134841</td>\n",
              "      <td>0.184502</td>\n",
              "    </tr>\n",
              "    <tr>\n",
              "      <th>C</th>\n",
              "      <td>0.807706</td>\n",
              "      <td>0.329646</td>\n",
              "    </tr>\n",
              "    <tr>\n",
              "      <th>D</th>\n",
              "      <td>-0.497104</td>\n",
              "      <td>0.484752</td>\n",
              "    </tr>\n",
              "    <tr>\n",
              "      <th>E</th>\n",
              "      <td>-0.116773</td>\n",
              "      <td>1.996652</td>\n",
              "    </tr>\n",
              "  </tbody>\n",
              "</table>\n",
              "</div>"
            ],
            "text/plain": [
              "     Apples    Mangos\n",
              "A  0.302665 -1.159119\n",
              "B -0.134841  0.184502\n",
              "C  0.807706  0.329646\n",
              "D -0.497104  0.484752\n",
              "E -0.116773  1.996652"
            ]
          },
          "metadata": {
            "tags": []
          },
          "execution_count": 22
        }
      ]
    },
    {
      "cell_type": "code",
      "metadata": {
        "id": "EapHfUmiDXnH",
        "colab_type": "code",
        "outputId": "4ffad8bb-5297-43df-aa71-30798ef3b87a",
        "colab": {
          "base_uri": "https://localhost:8080/",
          "height": 34
        }
      },
      "source": [
        "# confirm that a multi-column selection is not a series, but rather a df\n",
        "type(df[['Apples', 'Mangos']])"
      ],
      "execution_count": 23,
      "outputs": [
        {
          "output_type": "execute_result",
          "data": {
            "text/plain": [
              "pandas.core.frame.DataFrame"
            ]
          },
          "metadata": {
            "tags": []
          },
          "execution_count": 23
        }
      ]
    },
    {
      "cell_type": "code",
      "metadata": {
        "id": "S2CU2CDaI9jt",
        "colab_type": "code",
        "outputId": "17a719d2-7e0b-4b2b-8787-c08579da34fe",
        "colab": {
          "base_uri": "https://localhost:8080/",
          "height": 102
        }
      },
      "source": [
        "# select a row using .loc method\n",
        "df.loc['B']\n",
        "# returns a series"
      ],
      "execution_count": 24,
      "outputs": [
        {
          "output_type": "execute_result",
          "data": {
            "text/plain": [
              "Apples    -0.134841\n",
              "Oranges    0.390528\n",
              "Bananas    0.166905\n",
              "Mangos     0.184502\n",
              "Name: B, dtype: float64"
            ]
          },
          "metadata": {
            "tags": []
          },
          "execution_count": 24
        }
      ]
    },
    {
      "cell_type": "code",
      "metadata": {
        "id": "RDcxR7snJX9e",
        "colab_type": "code",
        "outputId": "ded11822-e2f1-4449-faa2-6acec1c59398",
        "colab": {
          "base_uri": "https://localhost:8080/",
          "height": 102
        }
      },
      "source": [
        "# select a row using index location .iloc method\n",
        "df.iloc[3] # returns row 4"
      ],
      "execution_count": 25,
      "outputs": [
        {
          "output_type": "execute_result",
          "data": {
            "text/plain": [
              "Apples    -0.497104\n",
              "Oranges   -0.754070\n",
              "Bananas   -0.943406\n",
              "Mangos     0.484752\n",
              "Name: D, dtype: float64"
            ]
          },
          "metadata": {
            "tags": []
          },
          "execution_count": 25
        }
      ]
    },
    {
      "cell_type": "code",
      "metadata": {
        "id": "jmuLrXi2a6Sq",
        "colab_type": "code",
        "outputId": "3f8aaa4e-1e03-4934-fa3b-6369980f076b",
        "colab": {
          "base_uri": "https://localhost:8080/",
          "height": 34
        }
      },
      "source": [
        "# select a cell given a row and column\n",
        "df.loc['B', 'Oranges']"
      ],
      "execution_count": 26,
      "outputs": [
        {
          "output_type": "execute_result",
          "data": {
            "text/plain": [
              "0.39052784273374097"
            ]
          },
          "metadata": {
            "tags": []
          },
          "execution_count": 26
        }
      ]
    },
    {
      "cell_type": "code",
      "metadata": {
        "id": "QsVxak2YbnC1",
        "colab_type": "code",
        "outputId": "345a9f07-a43c-46bc-f756-7f57509f06d4",
        "colab": {
          "base_uri": "https://localhost:8080/",
          "height": 204
        }
      },
      "source": [
        "# display current df\n",
        "df"
      ],
      "execution_count": 27,
      "outputs": [
        {
          "output_type": "execute_result",
          "data": {
            "text/html": [
              "<div>\n",
              "<style scoped>\n",
              "    .dataframe tbody tr th:only-of-type {\n",
              "        vertical-align: middle;\n",
              "    }\n",
              "\n",
              "    .dataframe tbody tr th {\n",
              "        vertical-align: top;\n",
              "    }\n",
              "\n",
              "    .dataframe thead th {\n",
              "        text-align: right;\n",
              "    }\n",
              "</style>\n",
              "<table border=\"1\" class=\"dataframe\">\n",
              "  <thead>\n",
              "    <tr style=\"text-align: right;\">\n",
              "      <th></th>\n",
              "      <th>Apples</th>\n",
              "      <th>Oranges</th>\n",
              "      <th>Bananas</th>\n",
              "      <th>Mangos</th>\n",
              "    </tr>\n",
              "  </thead>\n",
              "  <tbody>\n",
              "    <tr>\n",
              "      <th>A</th>\n",
              "      <td>0.302665</td>\n",
              "      <td>1.693723</td>\n",
              "      <td>-1.706086</td>\n",
              "      <td>-1.159119</td>\n",
              "    </tr>\n",
              "    <tr>\n",
              "      <th>B</th>\n",
              "      <td>-0.134841</td>\n",
              "      <td>0.390528</td>\n",
              "      <td>0.166905</td>\n",
              "      <td>0.184502</td>\n",
              "    </tr>\n",
              "    <tr>\n",
              "      <th>C</th>\n",
              "      <td>0.807706</td>\n",
              "      <td>0.072960</td>\n",
              "      <td>0.638787</td>\n",
              "      <td>0.329646</td>\n",
              "    </tr>\n",
              "    <tr>\n",
              "      <th>D</th>\n",
              "      <td>-0.497104</td>\n",
              "      <td>-0.754070</td>\n",
              "      <td>-0.943406</td>\n",
              "      <td>0.484752</td>\n",
              "    </tr>\n",
              "    <tr>\n",
              "      <th>E</th>\n",
              "      <td>-0.116773</td>\n",
              "      <td>1.901755</td>\n",
              "      <td>0.238127</td>\n",
              "      <td>1.996652</td>\n",
              "    </tr>\n",
              "  </tbody>\n",
              "</table>\n",
              "</div>"
            ],
            "text/plain": [
              "     Apples   Oranges   Bananas    Mangos\n",
              "A  0.302665  1.693723 -1.706086 -1.159119\n",
              "B -0.134841  0.390528  0.166905  0.184502\n",
              "C  0.807706  0.072960  0.638787  0.329646\n",
              "D -0.497104 -0.754070 -0.943406  0.484752\n",
              "E -0.116773  1.901755  0.238127  1.996652"
            ]
          },
          "metadata": {
            "tags": []
          },
          "execution_count": 27
        }
      ]
    },
    {
      "cell_type": "code",
      "metadata": {
        "id": "WiEHG3xQbWA0",
        "colab_type": "code",
        "outputId": "6f1bd6e1-f11d-41fb-bac5-dc55eab416f6",
        "colab": {
          "base_uri": "https://localhost:8080/",
          "height": 111
        }
      },
      "source": [
        "# select a bunch of cells given a few rows and few columns to include\n",
        "df.loc[['B', 'C'], ['Bananas', 'Mangos']]"
      ],
      "execution_count": 28,
      "outputs": [
        {
          "output_type": "execute_result",
          "data": {
            "text/html": [
              "<div>\n",
              "<style scoped>\n",
              "    .dataframe tbody tr th:only-of-type {\n",
              "        vertical-align: middle;\n",
              "    }\n",
              "\n",
              "    .dataframe tbody tr th {\n",
              "        vertical-align: top;\n",
              "    }\n",
              "\n",
              "    .dataframe thead th {\n",
              "        text-align: right;\n",
              "    }\n",
              "</style>\n",
              "<table border=\"1\" class=\"dataframe\">\n",
              "  <thead>\n",
              "    <tr style=\"text-align: right;\">\n",
              "      <th></th>\n",
              "      <th>Bananas</th>\n",
              "      <th>Mangos</th>\n",
              "    </tr>\n",
              "  </thead>\n",
              "  <tbody>\n",
              "    <tr>\n",
              "      <th>B</th>\n",
              "      <td>0.166905</td>\n",
              "      <td>0.184502</td>\n",
              "    </tr>\n",
              "    <tr>\n",
              "      <th>C</th>\n",
              "      <td>0.638787</td>\n",
              "      <td>0.329646</td>\n",
              "    </tr>\n",
              "  </tbody>\n",
              "</table>\n",
              "</div>"
            ],
            "text/plain": [
              "    Bananas    Mangos\n",
              "B  0.166905  0.184502\n",
              "C  0.638787  0.329646"
            ]
          },
          "metadata": {
            "tags": []
          },
          "execution_count": 28
        }
      ]
    },
    {
      "cell_type": "markdown",
      "metadata": {
        "id": "eHdcsl57IOjc",
        "colab_type": "text"
      },
      "source": [
        "## Add and remove columns and rows"
      ]
    },
    {
      "cell_type": "code",
      "metadata": {
        "id": "3MLOctd8DkG0",
        "colab_type": "code",
        "outputId": "161a30df-aef0-4b5a-aad6-3baaa33d203d",
        "colab": {
          "base_uri": "https://localhost:8080/",
          "height": 204
        }
      },
      "source": [
        "# add a column to df, in the context of a column operation\n",
        "df['Sum'] = df['Apples'] + df['Oranges'] + df['Bananas'] + df['Mangos'] # sum column is new and contains sums\n",
        "df"
      ],
      "execution_count": 29,
      "outputs": [
        {
          "output_type": "execute_result",
          "data": {
            "text/html": [
              "<div>\n",
              "<style scoped>\n",
              "    .dataframe tbody tr th:only-of-type {\n",
              "        vertical-align: middle;\n",
              "    }\n",
              "\n",
              "    .dataframe tbody tr th {\n",
              "        vertical-align: top;\n",
              "    }\n",
              "\n",
              "    .dataframe thead th {\n",
              "        text-align: right;\n",
              "    }\n",
              "</style>\n",
              "<table border=\"1\" class=\"dataframe\">\n",
              "  <thead>\n",
              "    <tr style=\"text-align: right;\">\n",
              "      <th></th>\n",
              "      <th>Apples</th>\n",
              "      <th>Oranges</th>\n",
              "      <th>Bananas</th>\n",
              "      <th>Mangos</th>\n",
              "      <th>Sum</th>\n",
              "    </tr>\n",
              "  </thead>\n",
              "  <tbody>\n",
              "    <tr>\n",
              "      <th>A</th>\n",
              "      <td>0.302665</td>\n",
              "      <td>1.693723</td>\n",
              "      <td>-1.706086</td>\n",
              "      <td>-1.159119</td>\n",
              "      <td>-0.868817</td>\n",
              "    </tr>\n",
              "    <tr>\n",
              "      <th>B</th>\n",
              "      <td>-0.134841</td>\n",
              "      <td>0.390528</td>\n",
              "      <td>0.166905</td>\n",
              "      <td>0.184502</td>\n",
              "      <td>0.607094</td>\n",
              "    </tr>\n",
              "    <tr>\n",
              "      <th>C</th>\n",
              "      <td>0.807706</td>\n",
              "      <td>0.072960</td>\n",
              "      <td>0.638787</td>\n",
              "      <td>0.329646</td>\n",
              "      <td>1.849099</td>\n",
              "    </tr>\n",
              "    <tr>\n",
              "      <th>D</th>\n",
              "      <td>-0.497104</td>\n",
              "      <td>-0.754070</td>\n",
              "      <td>-0.943406</td>\n",
              "      <td>0.484752</td>\n",
              "      <td>-1.709828</td>\n",
              "    </tr>\n",
              "    <tr>\n",
              "      <th>E</th>\n",
              "      <td>-0.116773</td>\n",
              "      <td>1.901755</td>\n",
              "      <td>0.238127</td>\n",
              "      <td>1.996652</td>\n",
              "      <td>4.019761</td>\n",
              "    </tr>\n",
              "  </tbody>\n",
              "</table>\n",
              "</div>"
            ],
            "text/plain": [
              "     Apples   Oranges   Bananas    Mangos       Sum\n",
              "A  0.302665  1.693723 -1.706086 -1.159119 -0.868817\n",
              "B -0.134841  0.390528  0.166905  0.184502  0.607094\n",
              "C  0.807706  0.072960  0.638787  0.329646  1.849099\n",
              "D -0.497104 -0.754070 -0.943406  0.484752 -1.709828\n",
              "E -0.116773  1.901755  0.238127  1.996652  4.019761"
            ]
          },
          "metadata": {
            "tags": []
          },
          "execution_count": 29
        }
      ]
    },
    {
      "cell_type": "code",
      "metadata": {
        "id": "vEHAzBOJEGN3",
        "colab_type": "code",
        "outputId": "a84522be-872a-40a9-8a71-2585da71bf17",
        "colab": {
          "base_uri": "https://localhost:8080/",
          "height": 204
        }
      },
      "source": [
        "# remove a column; requires axis=1 to specify it's a column\n",
        "df.drop('Bananas', axis=1)\n",
        "\n",
        "# notice the sum hasn't changed"
      ],
      "execution_count": 30,
      "outputs": [
        {
          "output_type": "execute_result",
          "data": {
            "text/html": [
              "<div>\n",
              "<style scoped>\n",
              "    .dataframe tbody tr th:only-of-type {\n",
              "        vertical-align: middle;\n",
              "    }\n",
              "\n",
              "    .dataframe tbody tr th {\n",
              "        vertical-align: top;\n",
              "    }\n",
              "\n",
              "    .dataframe thead th {\n",
              "        text-align: right;\n",
              "    }\n",
              "</style>\n",
              "<table border=\"1\" class=\"dataframe\">\n",
              "  <thead>\n",
              "    <tr style=\"text-align: right;\">\n",
              "      <th></th>\n",
              "      <th>Apples</th>\n",
              "      <th>Oranges</th>\n",
              "      <th>Mangos</th>\n",
              "      <th>Sum</th>\n",
              "    </tr>\n",
              "  </thead>\n",
              "  <tbody>\n",
              "    <tr>\n",
              "      <th>A</th>\n",
              "      <td>0.302665</td>\n",
              "      <td>1.693723</td>\n",
              "      <td>-1.159119</td>\n",
              "      <td>-0.868817</td>\n",
              "    </tr>\n",
              "    <tr>\n",
              "      <th>B</th>\n",
              "      <td>-0.134841</td>\n",
              "      <td>0.390528</td>\n",
              "      <td>0.184502</td>\n",
              "      <td>0.607094</td>\n",
              "    </tr>\n",
              "    <tr>\n",
              "      <th>C</th>\n",
              "      <td>0.807706</td>\n",
              "      <td>0.072960</td>\n",
              "      <td>0.329646</td>\n",
              "      <td>1.849099</td>\n",
              "    </tr>\n",
              "    <tr>\n",
              "      <th>D</th>\n",
              "      <td>-0.497104</td>\n",
              "      <td>-0.754070</td>\n",
              "      <td>0.484752</td>\n",
              "      <td>-1.709828</td>\n",
              "    </tr>\n",
              "    <tr>\n",
              "      <th>E</th>\n",
              "      <td>-0.116773</td>\n",
              "      <td>1.901755</td>\n",
              "      <td>1.996652</td>\n",
              "      <td>4.019761</td>\n",
              "    </tr>\n",
              "  </tbody>\n",
              "</table>\n",
              "</div>"
            ],
            "text/plain": [
              "     Apples   Oranges    Mangos       Sum\n",
              "A  0.302665  1.693723 -1.159119 -0.868817\n",
              "B -0.134841  0.390528  0.184502  0.607094\n",
              "C  0.807706  0.072960  0.329646  1.849099\n",
              "D -0.497104 -0.754070  0.484752 -1.709828\n",
              "E -0.116773  1.901755  1.996652  4.019761"
            ]
          },
          "metadata": {
            "tags": []
          },
          "execution_count": 30
        }
      ]
    },
    {
      "cell_type": "code",
      "metadata": {
        "id": "djCgWzUlF1KQ",
        "colab_type": "code",
        "outputId": "a726b0ed-796d-4b3f-cc31-d4a5b74eb16d",
        "colab": {
          "base_uri": "https://localhost:8080/",
          "height": 204
        }
      },
      "source": [
        "# confirm Bananas column still exists\n",
        "df"
      ],
      "execution_count": 31,
      "outputs": [
        {
          "output_type": "execute_result",
          "data": {
            "text/html": [
              "<div>\n",
              "<style scoped>\n",
              "    .dataframe tbody tr th:only-of-type {\n",
              "        vertical-align: middle;\n",
              "    }\n",
              "\n",
              "    .dataframe tbody tr th {\n",
              "        vertical-align: top;\n",
              "    }\n",
              "\n",
              "    .dataframe thead th {\n",
              "        text-align: right;\n",
              "    }\n",
              "</style>\n",
              "<table border=\"1\" class=\"dataframe\">\n",
              "  <thead>\n",
              "    <tr style=\"text-align: right;\">\n",
              "      <th></th>\n",
              "      <th>Apples</th>\n",
              "      <th>Oranges</th>\n",
              "      <th>Bananas</th>\n",
              "      <th>Mangos</th>\n",
              "      <th>Sum</th>\n",
              "    </tr>\n",
              "  </thead>\n",
              "  <tbody>\n",
              "    <tr>\n",
              "      <th>A</th>\n",
              "      <td>0.302665</td>\n",
              "      <td>1.693723</td>\n",
              "      <td>-1.706086</td>\n",
              "      <td>-1.159119</td>\n",
              "      <td>-0.868817</td>\n",
              "    </tr>\n",
              "    <tr>\n",
              "      <th>B</th>\n",
              "      <td>-0.134841</td>\n",
              "      <td>0.390528</td>\n",
              "      <td>0.166905</td>\n",
              "      <td>0.184502</td>\n",
              "      <td>0.607094</td>\n",
              "    </tr>\n",
              "    <tr>\n",
              "      <th>C</th>\n",
              "      <td>0.807706</td>\n",
              "      <td>0.072960</td>\n",
              "      <td>0.638787</td>\n",
              "      <td>0.329646</td>\n",
              "      <td>1.849099</td>\n",
              "    </tr>\n",
              "    <tr>\n",
              "      <th>D</th>\n",
              "      <td>-0.497104</td>\n",
              "      <td>-0.754070</td>\n",
              "      <td>-0.943406</td>\n",
              "      <td>0.484752</td>\n",
              "      <td>-1.709828</td>\n",
              "    </tr>\n",
              "    <tr>\n",
              "      <th>E</th>\n",
              "      <td>-0.116773</td>\n",
              "      <td>1.901755</td>\n",
              "      <td>0.238127</td>\n",
              "      <td>1.996652</td>\n",
              "      <td>4.019761</td>\n",
              "    </tr>\n",
              "  </tbody>\n",
              "</table>\n",
              "</div>"
            ],
            "text/plain": [
              "     Apples   Oranges   Bananas    Mangos       Sum\n",
              "A  0.302665  1.693723 -1.706086 -1.159119 -0.868817\n",
              "B -0.134841  0.390528  0.166905  0.184502  0.607094\n",
              "C  0.807706  0.072960  0.638787  0.329646  1.849099\n",
              "D -0.497104 -0.754070 -0.943406  0.484752 -1.709828\n",
              "E -0.116773  1.901755  0.238127  1.996652  4.019761"
            ]
          },
          "metadata": {
            "tags": []
          },
          "execution_count": 31
        }
      ]
    },
    {
      "cell_type": "code",
      "metadata": {
        "id": "txEG9yAUGOzX",
        "colab_type": "code",
        "outputId": "30eb9f0e-d3a5-4640-ad57-f8d88240e391",
        "colab": {
          "base_uri": "https://localhost:8080/",
          "height": 204
        }
      },
      "source": [
        "# delete column for real\n",
        "df.drop('Bananas', axis=1, inplace=True)\n",
        "# also delete Sum column since it was calculated on a previous columns\n",
        "df.drop('Sum', axis=1, inplace=True)\n",
        "df"
      ],
      "execution_count": 32,
      "outputs": [
        {
          "output_type": "execute_result",
          "data": {
            "text/html": [
              "<div>\n",
              "<style scoped>\n",
              "    .dataframe tbody tr th:only-of-type {\n",
              "        vertical-align: middle;\n",
              "    }\n",
              "\n",
              "    .dataframe tbody tr th {\n",
              "        vertical-align: top;\n",
              "    }\n",
              "\n",
              "    .dataframe thead th {\n",
              "        text-align: right;\n",
              "    }\n",
              "</style>\n",
              "<table border=\"1\" class=\"dataframe\">\n",
              "  <thead>\n",
              "    <tr style=\"text-align: right;\">\n",
              "      <th></th>\n",
              "      <th>Apples</th>\n",
              "      <th>Oranges</th>\n",
              "      <th>Mangos</th>\n",
              "    </tr>\n",
              "  </thead>\n",
              "  <tbody>\n",
              "    <tr>\n",
              "      <th>A</th>\n",
              "      <td>0.302665</td>\n",
              "      <td>1.693723</td>\n",
              "      <td>-1.159119</td>\n",
              "    </tr>\n",
              "    <tr>\n",
              "      <th>B</th>\n",
              "      <td>-0.134841</td>\n",
              "      <td>0.390528</td>\n",
              "      <td>0.184502</td>\n",
              "    </tr>\n",
              "    <tr>\n",
              "      <th>C</th>\n",
              "      <td>0.807706</td>\n",
              "      <td>0.072960</td>\n",
              "      <td>0.329646</td>\n",
              "    </tr>\n",
              "    <tr>\n",
              "      <th>D</th>\n",
              "      <td>-0.497104</td>\n",
              "      <td>-0.754070</td>\n",
              "      <td>0.484752</td>\n",
              "    </tr>\n",
              "    <tr>\n",
              "      <th>E</th>\n",
              "      <td>-0.116773</td>\n",
              "      <td>1.901755</td>\n",
              "      <td>1.996652</td>\n",
              "    </tr>\n",
              "  </tbody>\n",
              "</table>\n",
              "</div>"
            ],
            "text/plain": [
              "     Apples   Oranges    Mangos\n",
              "A  0.302665  1.693723 -1.159119\n",
              "B -0.134841  0.390528  0.184502\n",
              "C  0.807706  0.072960  0.329646\n",
              "D -0.497104 -0.754070  0.484752\n",
              "E -0.116773  1.901755  1.996652"
            ]
          },
          "metadata": {
            "tags": []
          },
          "execution_count": 32
        }
      ]
    },
    {
      "cell_type": "code",
      "metadata": {
        "id": "d0K4spoAGWx1",
        "colab_type": "code",
        "outputId": "0822a815-3a8c-460e-86f4-192160ac32fc",
        "colab": {
          "base_uri": "https://localhost:8080/",
          "height": 173
        }
      },
      "source": [
        "# drop rows\n",
        "df.drop('E', axis=0) # axis=0 can be omitted because it's the default value"
      ],
      "execution_count": 33,
      "outputs": [
        {
          "output_type": "execute_result",
          "data": {
            "text/html": [
              "<div>\n",
              "<style scoped>\n",
              "    .dataframe tbody tr th:only-of-type {\n",
              "        vertical-align: middle;\n",
              "    }\n",
              "\n",
              "    .dataframe tbody tr th {\n",
              "        vertical-align: top;\n",
              "    }\n",
              "\n",
              "    .dataframe thead th {\n",
              "        text-align: right;\n",
              "    }\n",
              "</style>\n",
              "<table border=\"1\" class=\"dataframe\">\n",
              "  <thead>\n",
              "    <tr style=\"text-align: right;\">\n",
              "      <th></th>\n",
              "      <th>Apples</th>\n",
              "      <th>Oranges</th>\n",
              "      <th>Mangos</th>\n",
              "    </tr>\n",
              "  </thead>\n",
              "  <tbody>\n",
              "    <tr>\n",
              "      <th>A</th>\n",
              "      <td>0.302665</td>\n",
              "      <td>1.693723</td>\n",
              "      <td>-1.159119</td>\n",
              "    </tr>\n",
              "    <tr>\n",
              "      <th>B</th>\n",
              "      <td>-0.134841</td>\n",
              "      <td>0.390528</td>\n",
              "      <td>0.184502</td>\n",
              "    </tr>\n",
              "    <tr>\n",
              "      <th>C</th>\n",
              "      <td>0.807706</td>\n",
              "      <td>0.072960</td>\n",
              "      <td>0.329646</td>\n",
              "    </tr>\n",
              "    <tr>\n",
              "      <th>D</th>\n",
              "      <td>-0.497104</td>\n",
              "      <td>-0.754070</td>\n",
              "      <td>0.484752</td>\n",
              "    </tr>\n",
              "  </tbody>\n",
              "</table>\n",
              "</div>"
            ],
            "text/plain": [
              "     Apples   Oranges    Mangos\n",
              "A  0.302665  1.693723 -1.159119\n",
              "B -0.134841  0.390528  0.184502\n",
              "C  0.807706  0.072960  0.329646\n",
              "D -0.497104 -0.754070  0.484752"
            ]
          },
          "metadata": {
            "tags": []
          },
          "execution_count": 33
        }
      ]
    },
    {
      "cell_type": "code",
      "metadata": {
        "id": "fgyk7wzOHn8V",
        "colab_type": "code",
        "outputId": "04787439-9257-4f9c-8c2d-f1614d2f2835",
        "colab": {
          "base_uri": "https://localhost:8080/",
          "height": 204
        }
      },
      "source": [
        "# notice it still has row E\n",
        "df"
      ],
      "execution_count": 34,
      "outputs": [
        {
          "output_type": "execute_result",
          "data": {
            "text/html": [
              "<div>\n",
              "<style scoped>\n",
              "    .dataframe tbody tr th:only-of-type {\n",
              "        vertical-align: middle;\n",
              "    }\n",
              "\n",
              "    .dataframe tbody tr th {\n",
              "        vertical-align: top;\n",
              "    }\n",
              "\n",
              "    .dataframe thead th {\n",
              "        text-align: right;\n",
              "    }\n",
              "</style>\n",
              "<table border=\"1\" class=\"dataframe\">\n",
              "  <thead>\n",
              "    <tr style=\"text-align: right;\">\n",
              "      <th></th>\n",
              "      <th>Apples</th>\n",
              "      <th>Oranges</th>\n",
              "      <th>Mangos</th>\n",
              "    </tr>\n",
              "  </thead>\n",
              "  <tbody>\n",
              "    <tr>\n",
              "      <th>A</th>\n",
              "      <td>0.302665</td>\n",
              "      <td>1.693723</td>\n",
              "      <td>-1.159119</td>\n",
              "    </tr>\n",
              "    <tr>\n",
              "      <th>B</th>\n",
              "      <td>-0.134841</td>\n",
              "      <td>0.390528</td>\n",
              "      <td>0.184502</td>\n",
              "    </tr>\n",
              "    <tr>\n",
              "      <th>C</th>\n",
              "      <td>0.807706</td>\n",
              "      <td>0.072960</td>\n",
              "      <td>0.329646</td>\n",
              "    </tr>\n",
              "    <tr>\n",
              "      <th>D</th>\n",
              "      <td>-0.497104</td>\n",
              "      <td>-0.754070</td>\n",
              "      <td>0.484752</td>\n",
              "    </tr>\n",
              "    <tr>\n",
              "      <th>E</th>\n",
              "      <td>-0.116773</td>\n",
              "      <td>1.901755</td>\n",
              "      <td>1.996652</td>\n",
              "    </tr>\n",
              "  </tbody>\n",
              "</table>\n",
              "</div>"
            ],
            "text/plain": [
              "     Apples   Oranges    Mangos\n",
              "A  0.302665  1.693723 -1.159119\n",
              "B -0.134841  0.390528  0.184502\n",
              "C  0.807706  0.072960  0.329646\n",
              "D -0.497104 -0.754070  0.484752\n",
              "E -0.116773  1.901755  1.996652"
            ]
          },
          "metadata": {
            "tags": []
          },
          "execution_count": 34
        }
      ]
    },
    {
      "cell_type": "code",
      "metadata": {
        "id": "4PIYVxRdHW2f",
        "colab_type": "code",
        "outputId": "c23197a6-e266-490c-9188-56984d32581c",
        "colab": {
          "base_uri": "https://localhost:8080/",
          "height": 173
        }
      },
      "source": [
        "# delete a row for real\n",
        "df.drop('E', axis=0, inplace=True)\n",
        "df"
      ],
      "execution_count": 35,
      "outputs": [
        {
          "output_type": "execute_result",
          "data": {
            "text/html": [
              "<div>\n",
              "<style scoped>\n",
              "    .dataframe tbody tr th:only-of-type {\n",
              "        vertical-align: middle;\n",
              "    }\n",
              "\n",
              "    .dataframe tbody tr th {\n",
              "        vertical-align: top;\n",
              "    }\n",
              "\n",
              "    .dataframe thead th {\n",
              "        text-align: right;\n",
              "    }\n",
              "</style>\n",
              "<table border=\"1\" class=\"dataframe\">\n",
              "  <thead>\n",
              "    <tr style=\"text-align: right;\">\n",
              "      <th></th>\n",
              "      <th>Apples</th>\n",
              "      <th>Oranges</th>\n",
              "      <th>Mangos</th>\n",
              "    </tr>\n",
              "  </thead>\n",
              "  <tbody>\n",
              "    <tr>\n",
              "      <th>A</th>\n",
              "      <td>0.302665</td>\n",
              "      <td>1.693723</td>\n",
              "      <td>-1.159119</td>\n",
              "    </tr>\n",
              "    <tr>\n",
              "      <th>B</th>\n",
              "      <td>-0.134841</td>\n",
              "      <td>0.390528</td>\n",
              "      <td>0.184502</td>\n",
              "    </tr>\n",
              "    <tr>\n",
              "      <th>C</th>\n",
              "      <td>0.807706</td>\n",
              "      <td>0.072960</td>\n",
              "      <td>0.329646</td>\n",
              "    </tr>\n",
              "    <tr>\n",
              "      <th>D</th>\n",
              "      <td>-0.497104</td>\n",
              "      <td>-0.754070</td>\n",
              "      <td>0.484752</td>\n",
              "    </tr>\n",
              "  </tbody>\n",
              "</table>\n",
              "</div>"
            ],
            "text/plain": [
              "     Apples   Oranges    Mangos\n",
              "A  0.302665  1.693723 -1.159119\n",
              "B -0.134841  0.390528  0.184502\n",
              "C  0.807706  0.072960  0.329646\n",
              "D -0.497104 -0.754070  0.484752"
            ]
          },
          "metadata": {
            "tags": []
          },
          "execution_count": 35
        }
      ]
    },
    {
      "cell_type": "markdown",
      "metadata": {
        "id": "CCtX00vNIHC_",
        "colab_type": "text"
      },
      "source": [
        "## Shape of dataframe"
      ]
    },
    {
      "cell_type": "code",
      "metadata": {
        "id": "wy76NOVyIJZx",
        "colab_type": "code",
        "outputId": "41e9299a-9ded-41ec-b216-30da775bdf5b",
        "colab": {
          "base_uri": "https://localhost:8080/",
          "height": 34
        }
      },
      "source": [
        "# retrieve shape of dataframe, in (rows, columns)\n",
        "# this is why axis=0 refers to rows and axis=1 refers to columns above\n",
        "df.shape"
      ],
      "execution_count": 36,
      "outputs": [
        {
          "output_type": "execute_result",
          "data": {
            "text/plain": [
              "(4, 3)"
            ]
          },
          "metadata": {
            "tags": []
          },
          "execution_count": 36
        }
      ]
    },
    {
      "cell_type": "markdown",
      "metadata": {
        "id": "tulUSlhLziWJ",
        "colab_type": "text"
      },
      "source": [
        "## Conditional selection"
      ]
    },
    {
      "cell_type": "code",
      "metadata": {
        "id": "_AJyC-Q4zkKb",
        "colab_type": "code",
        "colab": {
          "base_uri": "https://localhost:8080/",
          "height": 173
        },
        "outputId": "4ea6ebb7-29e9-49a6-cb2a-dfdcd9e359f1"
      },
      "source": [
        "# return boolean for whether cell > 0\n",
        "booldf = df > 0\n",
        "booldf"
      ],
      "execution_count": 37,
      "outputs": [
        {
          "output_type": "execute_result",
          "data": {
            "text/html": [
              "<div>\n",
              "<style scoped>\n",
              "    .dataframe tbody tr th:only-of-type {\n",
              "        vertical-align: middle;\n",
              "    }\n",
              "\n",
              "    .dataframe tbody tr th {\n",
              "        vertical-align: top;\n",
              "    }\n",
              "\n",
              "    .dataframe thead th {\n",
              "        text-align: right;\n",
              "    }\n",
              "</style>\n",
              "<table border=\"1\" class=\"dataframe\">\n",
              "  <thead>\n",
              "    <tr style=\"text-align: right;\">\n",
              "      <th></th>\n",
              "      <th>Apples</th>\n",
              "      <th>Oranges</th>\n",
              "      <th>Mangos</th>\n",
              "    </tr>\n",
              "  </thead>\n",
              "  <tbody>\n",
              "    <tr>\n",
              "      <th>A</th>\n",
              "      <td>True</td>\n",
              "      <td>True</td>\n",
              "      <td>False</td>\n",
              "    </tr>\n",
              "    <tr>\n",
              "      <th>B</th>\n",
              "      <td>False</td>\n",
              "      <td>True</td>\n",
              "      <td>True</td>\n",
              "    </tr>\n",
              "    <tr>\n",
              "      <th>C</th>\n",
              "      <td>True</td>\n",
              "      <td>True</td>\n",
              "      <td>True</td>\n",
              "    </tr>\n",
              "    <tr>\n",
              "      <th>D</th>\n",
              "      <td>False</td>\n",
              "      <td>False</td>\n",
              "      <td>True</td>\n",
              "    </tr>\n",
              "  </tbody>\n",
              "</table>\n",
              "</div>"
            ],
            "text/plain": [
              "   Apples  Oranges  Mangos\n",
              "A    True     True   False\n",
              "B   False     True    True\n",
              "C    True     True    True\n",
              "D   False    False    True"
            ]
          },
          "metadata": {
            "tags": []
          },
          "execution_count": 37
        }
      ]
    },
    {
      "cell_type": "code",
      "metadata": {
        "id": "GmqltpgSzpGf",
        "colab_type": "code",
        "colab": {
          "base_uri": "https://localhost:8080/",
          "height": 173
        },
        "outputId": "99113d06-ab6c-47a2-8fed-e2572f3aee3f"
      },
      "source": [
        "# cells that are True return a value; False give null result\n",
        "df[booldf]"
      ],
      "execution_count": 38,
      "outputs": [
        {
          "output_type": "execute_result",
          "data": {
            "text/html": [
              "<div>\n",
              "<style scoped>\n",
              "    .dataframe tbody tr th:only-of-type {\n",
              "        vertical-align: middle;\n",
              "    }\n",
              "\n",
              "    .dataframe tbody tr th {\n",
              "        vertical-align: top;\n",
              "    }\n",
              "\n",
              "    .dataframe thead th {\n",
              "        text-align: right;\n",
              "    }\n",
              "</style>\n",
              "<table border=\"1\" class=\"dataframe\">\n",
              "  <thead>\n",
              "    <tr style=\"text-align: right;\">\n",
              "      <th></th>\n",
              "      <th>Apples</th>\n",
              "      <th>Oranges</th>\n",
              "      <th>Mangos</th>\n",
              "    </tr>\n",
              "  </thead>\n",
              "  <tbody>\n",
              "    <tr>\n",
              "      <th>A</th>\n",
              "      <td>0.302665</td>\n",
              "      <td>1.693723</td>\n",
              "      <td>NaN</td>\n",
              "    </tr>\n",
              "    <tr>\n",
              "      <th>B</th>\n",
              "      <td>NaN</td>\n",
              "      <td>0.390528</td>\n",
              "      <td>0.184502</td>\n",
              "    </tr>\n",
              "    <tr>\n",
              "      <th>C</th>\n",
              "      <td>0.807706</td>\n",
              "      <td>0.072960</td>\n",
              "      <td>0.329646</td>\n",
              "    </tr>\n",
              "    <tr>\n",
              "      <th>D</th>\n",
              "      <td>NaN</td>\n",
              "      <td>NaN</td>\n",
              "      <td>0.484752</td>\n",
              "    </tr>\n",
              "  </tbody>\n",
              "</table>\n",
              "</div>"
            ],
            "text/plain": [
              "     Apples   Oranges    Mangos\n",
              "A  0.302665  1.693723       NaN\n",
              "B       NaN  0.390528  0.184502\n",
              "C  0.807706  0.072960  0.329646\n",
              "D       NaN       NaN  0.484752"
            ]
          },
          "metadata": {
            "tags": []
          },
          "execution_count": 38
        }
      ]
    },
    {
      "cell_type": "code",
      "metadata": {
        "id": "MXnurIta0ne2",
        "colab_type": "code",
        "colab": {
          "base_uri": "https://localhost:8080/",
          "height": 173
        },
        "outputId": "084f00ee-385b-4f5a-cb91-e465249f2612"
      },
      "source": [
        "# shortcut to df of a condition\n",
        "df[df > 0]"
      ],
      "execution_count": 39,
      "outputs": [
        {
          "output_type": "execute_result",
          "data": {
            "text/html": [
              "<div>\n",
              "<style scoped>\n",
              "    .dataframe tbody tr th:only-of-type {\n",
              "        vertical-align: middle;\n",
              "    }\n",
              "\n",
              "    .dataframe tbody tr th {\n",
              "        vertical-align: top;\n",
              "    }\n",
              "\n",
              "    .dataframe thead th {\n",
              "        text-align: right;\n",
              "    }\n",
              "</style>\n",
              "<table border=\"1\" class=\"dataframe\">\n",
              "  <thead>\n",
              "    <tr style=\"text-align: right;\">\n",
              "      <th></th>\n",
              "      <th>Apples</th>\n",
              "      <th>Oranges</th>\n",
              "      <th>Mangos</th>\n",
              "    </tr>\n",
              "  </thead>\n",
              "  <tbody>\n",
              "    <tr>\n",
              "      <th>A</th>\n",
              "      <td>0.302665</td>\n",
              "      <td>1.693723</td>\n",
              "      <td>NaN</td>\n",
              "    </tr>\n",
              "    <tr>\n",
              "      <th>B</th>\n",
              "      <td>NaN</td>\n",
              "      <td>0.390528</td>\n",
              "      <td>0.184502</td>\n",
              "    </tr>\n",
              "    <tr>\n",
              "      <th>C</th>\n",
              "      <td>0.807706</td>\n",
              "      <td>0.072960</td>\n",
              "      <td>0.329646</td>\n",
              "    </tr>\n",
              "    <tr>\n",
              "      <th>D</th>\n",
              "      <td>NaN</td>\n",
              "      <td>NaN</td>\n",
              "      <td>0.484752</td>\n",
              "    </tr>\n",
              "  </tbody>\n",
              "</table>\n",
              "</div>"
            ],
            "text/plain": [
              "     Apples   Oranges    Mangos\n",
              "A  0.302665  1.693723       NaN\n",
              "B       NaN  0.390528  0.184502\n",
              "C  0.807706  0.072960  0.329646\n",
              "D       NaN       NaN  0.484752"
            ]
          },
          "metadata": {
            "tags": []
          },
          "execution_count": 39
        }
      ]
    },
    {
      "cell_type": "code",
      "metadata": {
        "id": "xESiAP5203eF",
        "colab_type": "code",
        "colab": {
          "base_uri": "https://localhost:8080/",
          "height": 173
        },
        "outputId": "bbdc1533-e8aa-42a8-c3c4-bf45bc27970a"
      },
      "source": [
        "# note df as a variable still exists\n",
        "df"
      ],
      "execution_count": 40,
      "outputs": [
        {
          "output_type": "execute_result",
          "data": {
            "text/html": [
              "<div>\n",
              "<style scoped>\n",
              "    .dataframe tbody tr th:only-of-type {\n",
              "        vertical-align: middle;\n",
              "    }\n",
              "\n",
              "    .dataframe tbody tr th {\n",
              "        vertical-align: top;\n",
              "    }\n",
              "\n",
              "    .dataframe thead th {\n",
              "        text-align: right;\n",
              "    }\n",
              "</style>\n",
              "<table border=\"1\" class=\"dataframe\">\n",
              "  <thead>\n",
              "    <tr style=\"text-align: right;\">\n",
              "      <th></th>\n",
              "      <th>Apples</th>\n",
              "      <th>Oranges</th>\n",
              "      <th>Mangos</th>\n",
              "    </tr>\n",
              "  </thead>\n",
              "  <tbody>\n",
              "    <tr>\n",
              "      <th>A</th>\n",
              "      <td>0.302665</td>\n",
              "      <td>1.693723</td>\n",
              "      <td>-1.159119</td>\n",
              "    </tr>\n",
              "    <tr>\n",
              "      <th>B</th>\n",
              "      <td>-0.134841</td>\n",
              "      <td>0.390528</td>\n",
              "      <td>0.184502</td>\n",
              "    </tr>\n",
              "    <tr>\n",
              "      <th>C</th>\n",
              "      <td>0.807706</td>\n",
              "      <td>0.072960</td>\n",
              "      <td>0.329646</td>\n",
              "    </tr>\n",
              "    <tr>\n",
              "      <th>D</th>\n",
              "      <td>-0.497104</td>\n",
              "      <td>-0.754070</td>\n",
              "      <td>0.484752</td>\n",
              "    </tr>\n",
              "  </tbody>\n",
              "</table>\n",
              "</div>"
            ],
            "text/plain": [
              "     Apples   Oranges    Mangos\n",
              "A  0.302665  1.693723 -1.159119\n",
              "B -0.134841  0.390528  0.184502\n",
              "C  0.807706  0.072960  0.329646\n",
              "D -0.497104 -0.754070  0.484752"
            ]
          },
          "metadata": {
            "tags": []
          },
          "execution_count": 40
        }
      ]
    },
    {
      "cell_type": "code",
      "metadata": {
        "id": "VPr_FS-i1E51",
        "colab_type": "code",
        "colab": {
          "base_uri": "https://localhost:8080/",
          "height": 102
        },
        "outputId": "bc4a8924-1a2a-4cb3-ae69-2eea3d1cdd06"
      },
      "source": [
        "# find all positives in a column\n",
        "df['Apples'] > 0 # returns a series"
      ],
      "execution_count": 41,
      "outputs": [
        {
          "output_type": "execute_result",
          "data": {
            "text/plain": [
              "A     True\n",
              "B    False\n",
              "C     True\n",
              "D    False\n",
              "Name: Apples, dtype: bool"
            ]
          },
          "metadata": {
            "tags": []
          },
          "execution_count": 41
        }
      ]
    },
    {
      "cell_type": "code",
      "metadata": {
        "id": "ND67EPhB1R3A",
        "colab_type": "code",
        "colab": {
          "base_uri": "https://localhost:8080/",
          "height": 111
        },
        "outputId": "ec332c70-197e-4872-c608-0884ac83eea1"
      },
      "source": [
        "# select all rows that have True condition in Apples column\n",
        "df[df['Apples'] > 0]"
      ],
      "execution_count": 42,
      "outputs": [
        {
          "output_type": "execute_result",
          "data": {
            "text/html": [
              "<div>\n",
              "<style scoped>\n",
              "    .dataframe tbody tr th:only-of-type {\n",
              "        vertical-align: middle;\n",
              "    }\n",
              "\n",
              "    .dataframe tbody tr th {\n",
              "        vertical-align: top;\n",
              "    }\n",
              "\n",
              "    .dataframe thead th {\n",
              "        text-align: right;\n",
              "    }\n",
              "</style>\n",
              "<table border=\"1\" class=\"dataframe\">\n",
              "  <thead>\n",
              "    <tr style=\"text-align: right;\">\n",
              "      <th></th>\n",
              "      <th>Apples</th>\n",
              "      <th>Oranges</th>\n",
              "      <th>Mangos</th>\n",
              "    </tr>\n",
              "  </thead>\n",
              "  <tbody>\n",
              "    <tr>\n",
              "      <th>A</th>\n",
              "      <td>0.302665</td>\n",
              "      <td>1.693723</td>\n",
              "      <td>-1.159119</td>\n",
              "    </tr>\n",
              "    <tr>\n",
              "      <th>C</th>\n",
              "      <td>0.807706</td>\n",
              "      <td>0.072960</td>\n",
              "      <td>0.329646</td>\n",
              "    </tr>\n",
              "  </tbody>\n",
              "</table>\n",
              "</div>"
            ],
            "text/plain": [
              "     Apples   Oranges    Mangos\n",
              "A  0.302665  1.693723 -1.159119\n",
              "C  0.807706  0.072960  0.329646"
            ]
          },
          "metadata": {
            "tags": []
          },
          "execution_count": 42
        }
      ]
    },
    {
      "cell_type": "code",
      "metadata": {
        "id": "Ay4BJWr03UZF",
        "colab_type": "code",
        "colab": {
          "base_uri": "https://localhost:8080/",
          "height": 68
        },
        "outputId": "6841fd2b-d145-4fcd-d7b2-ff1cd624e5bc"
      },
      "source": [
        "# selections based on the results of the condition\n",
        "# save the conditional selection to a variable\n",
        "resultdf = df[df['Apples'] > 0]\n",
        "# select one column of the results\n",
        "resultdf['Oranges'] # all the Oranges values, for rows with positive Apples values"
      ],
      "execution_count": 43,
      "outputs": [
        {
          "output_type": "execute_result",
          "data": {
            "text/plain": [
              "A    1.693723\n",
              "C    0.072960\n",
              "Name: Oranges, dtype: float64"
            ]
          },
          "metadata": {
            "tags": []
          },
          "execution_count": 43
        }
      ]
    },
    {
      "cell_type": "code",
      "metadata": {
        "id": "SZJHJouQ4iTU",
        "colab_type": "code",
        "colab": {
          "base_uri": "https://localhost:8080/",
          "height": 68
        },
        "outputId": "13f01519-2f07-47c4-9ab0-5f2e97bf9373"
      },
      "source": [
        "# shortcut for prior cell\n",
        "df[df['Apples'] > 0]['Oranges']\n",
        "# process uses less memory where you use fewer variables"
      ],
      "execution_count": 44,
      "outputs": [
        {
          "output_type": "execute_result",
          "data": {
            "text/plain": [
              "A    1.693723\n",
              "C    0.072960\n",
              "Name: Oranges, dtype: float64"
            ]
          },
          "metadata": {
            "tags": []
          },
          "execution_count": 44
        }
      ]
    },
    {
      "cell_type": "code",
      "metadata": {
        "id": "84K7eH7P40mY",
        "colab_type": "code",
        "colab": {
          "base_uri": "https://localhost:8080/",
          "height": 111
        },
        "outputId": "0f1dbf10-49da-48a7-fbf3-8f070bf57927"
      },
      "source": [
        "# another shortcut; collect Orange & Mango cols for rows with positive Apples value\n",
        "df[df['Apples']>0][['Oranges', 'Mangos']] # the 'filter' is a list thus double brackets\n",
        "# combining like this, without breaking each step down and using variables...\n",
        "# is example of abstraction\n",
        "# reminds me of gloves as abstraction of German 'hand shoe' noun"
      ],
      "execution_count": 45,
      "outputs": [
        {
          "output_type": "execute_result",
          "data": {
            "text/html": [
              "<div>\n",
              "<style scoped>\n",
              "    .dataframe tbody tr th:only-of-type {\n",
              "        vertical-align: middle;\n",
              "    }\n",
              "\n",
              "    .dataframe tbody tr th {\n",
              "        vertical-align: top;\n",
              "    }\n",
              "\n",
              "    .dataframe thead th {\n",
              "        text-align: right;\n",
              "    }\n",
              "</style>\n",
              "<table border=\"1\" class=\"dataframe\">\n",
              "  <thead>\n",
              "    <tr style=\"text-align: right;\">\n",
              "      <th></th>\n",
              "      <th>Oranges</th>\n",
              "      <th>Mangos</th>\n",
              "    </tr>\n",
              "  </thead>\n",
              "  <tbody>\n",
              "    <tr>\n",
              "      <th>A</th>\n",
              "      <td>1.693723</td>\n",
              "      <td>-1.159119</td>\n",
              "    </tr>\n",
              "    <tr>\n",
              "      <th>C</th>\n",
              "      <td>0.072960</td>\n",
              "      <td>0.329646</td>\n",
              "    </tr>\n",
              "  </tbody>\n",
              "</table>\n",
              "</div>"
            ],
            "text/plain": [
              "    Oranges    Mangos\n",
              "A  1.693723 -1.159119\n",
              "C  0.072960  0.329646"
            ]
          },
          "metadata": {
            "tags": []
          },
          "execution_count": 45
        }
      ]
    },
    {
      "cell_type": "markdown",
      "metadata": {
        "id": "bfLySVax14PC",
        "colab_type": "text"
      },
      "source": [
        "## Selecting with multiple conditions"
      ]
    },
    {
      "cell_type": "code",
      "metadata": {
        "id": "YEtzDOKN18Y3",
        "colab_type": "code",
        "colab": {
          "base_uri": "https://localhost:8080/",
          "height": 80
        },
        "outputId": "f5f50183-8a38-4294-e391-62371433e55c"
      },
      "source": [
        "# show DataFrame involving mulitiple conditions with 'and'\n",
        "df[(df['Apples'] > 0) & (df['Mangos'] > 0)]"
      ],
      "execution_count": 46,
      "outputs": [
        {
          "output_type": "execute_result",
          "data": {
            "text/html": [
              "<div>\n",
              "<style scoped>\n",
              "    .dataframe tbody tr th:only-of-type {\n",
              "        vertical-align: middle;\n",
              "    }\n",
              "\n",
              "    .dataframe tbody tr th {\n",
              "        vertical-align: top;\n",
              "    }\n",
              "\n",
              "    .dataframe thead th {\n",
              "        text-align: right;\n",
              "    }\n",
              "</style>\n",
              "<table border=\"1\" class=\"dataframe\">\n",
              "  <thead>\n",
              "    <tr style=\"text-align: right;\">\n",
              "      <th></th>\n",
              "      <th>Apples</th>\n",
              "      <th>Oranges</th>\n",
              "      <th>Mangos</th>\n",
              "    </tr>\n",
              "  </thead>\n",
              "  <tbody>\n",
              "    <tr>\n",
              "      <th>C</th>\n",
              "      <td>0.807706</td>\n",
              "      <td>0.07296</td>\n",
              "      <td>0.329646</td>\n",
              "    </tr>\n",
              "  </tbody>\n",
              "</table>\n",
              "</div>"
            ],
            "text/plain": [
              "     Apples  Oranges    Mangos\n",
              "C  0.807706  0.07296  0.329646"
            ]
          },
          "metadata": {
            "tags": []
          },
          "execution_count": 46
        }
      ]
    },
    {
      "cell_type": "code",
      "metadata": {
        "id": "MYb2osIB2qpD",
        "colab_type": "code",
        "colab": {
          "base_uri": "https://localhost:8080/",
          "height": 173
        },
        "outputId": "773dbb3a-93b5-4430-a551-9b9f6e8cf1c9"
      },
      "source": [
        "# show DataFrame involving multiple conditions with 'or'\n",
        "df[(df['Apples'] > 0) | (df['Mangos'] > 0)]"
      ],
      "execution_count": 47,
      "outputs": [
        {
          "output_type": "execute_result",
          "data": {
            "text/html": [
              "<div>\n",
              "<style scoped>\n",
              "    .dataframe tbody tr th:only-of-type {\n",
              "        vertical-align: middle;\n",
              "    }\n",
              "\n",
              "    .dataframe tbody tr th {\n",
              "        vertical-align: top;\n",
              "    }\n",
              "\n",
              "    .dataframe thead th {\n",
              "        text-align: right;\n",
              "    }\n",
              "</style>\n",
              "<table border=\"1\" class=\"dataframe\">\n",
              "  <thead>\n",
              "    <tr style=\"text-align: right;\">\n",
              "      <th></th>\n",
              "      <th>Apples</th>\n",
              "      <th>Oranges</th>\n",
              "      <th>Mangos</th>\n",
              "    </tr>\n",
              "  </thead>\n",
              "  <tbody>\n",
              "    <tr>\n",
              "      <th>A</th>\n",
              "      <td>0.302665</td>\n",
              "      <td>1.693723</td>\n",
              "      <td>-1.159119</td>\n",
              "    </tr>\n",
              "    <tr>\n",
              "      <th>B</th>\n",
              "      <td>-0.134841</td>\n",
              "      <td>0.390528</td>\n",
              "      <td>0.184502</td>\n",
              "    </tr>\n",
              "    <tr>\n",
              "      <th>C</th>\n",
              "      <td>0.807706</td>\n",
              "      <td>0.072960</td>\n",
              "      <td>0.329646</td>\n",
              "    </tr>\n",
              "    <tr>\n",
              "      <th>D</th>\n",
              "      <td>-0.497104</td>\n",
              "      <td>-0.754070</td>\n",
              "      <td>0.484752</td>\n",
              "    </tr>\n",
              "  </tbody>\n",
              "</table>\n",
              "</div>"
            ],
            "text/plain": [
              "     Apples   Oranges    Mangos\n",
              "A  0.302665  1.693723 -1.159119\n",
              "B -0.134841  0.390528  0.184502\n",
              "C  0.807706  0.072960  0.329646\n",
              "D -0.497104 -0.754070  0.484752"
            ]
          },
          "metadata": {
            "tags": []
          },
          "execution_count": 47
        }
      ]
    },
    {
      "cell_type": "markdown",
      "metadata": {
        "id": "_8Tq5KYG4XRh",
        "colab_type": "text"
      },
      "source": [
        "## Reset index"
      ]
    },
    {
      "cell_type": "code",
      "metadata": {
        "id": "fPQzjiSa4aOY",
        "colab_type": "code",
        "colab": {
          "base_uri": "https://localhost:8080/",
          "height": 173
        },
        "outputId": "344c11f9-d243-4216-e8d3-d50b6c062135"
      },
      "source": [
        "df"
      ],
      "execution_count": 48,
      "outputs": [
        {
          "output_type": "execute_result",
          "data": {
            "text/html": [
              "<div>\n",
              "<style scoped>\n",
              "    .dataframe tbody tr th:only-of-type {\n",
              "        vertical-align: middle;\n",
              "    }\n",
              "\n",
              "    .dataframe tbody tr th {\n",
              "        vertical-align: top;\n",
              "    }\n",
              "\n",
              "    .dataframe thead th {\n",
              "        text-align: right;\n",
              "    }\n",
              "</style>\n",
              "<table border=\"1\" class=\"dataframe\">\n",
              "  <thead>\n",
              "    <tr style=\"text-align: right;\">\n",
              "      <th></th>\n",
              "      <th>Apples</th>\n",
              "      <th>Oranges</th>\n",
              "      <th>Mangos</th>\n",
              "    </tr>\n",
              "  </thead>\n",
              "  <tbody>\n",
              "    <tr>\n",
              "      <th>A</th>\n",
              "      <td>0.302665</td>\n",
              "      <td>1.693723</td>\n",
              "      <td>-1.159119</td>\n",
              "    </tr>\n",
              "    <tr>\n",
              "      <th>B</th>\n",
              "      <td>-0.134841</td>\n",
              "      <td>0.390528</td>\n",
              "      <td>0.184502</td>\n",
              "    </tr>\n",
              "    <tr>\n",
              "      <th>C</th>\n",
              "      <td>0.807706</td>\n",
              "      <td>0.072960</td>\n",
              "      <td>0.329646</td>\n",
              "    </tr>\n",
              "    <tr>\n",
              "      <th>D</th>\n",
              "      <td>-0.497104</td>\n",
              "      <td>-0.754070</td>\n",
              "      <td>0.484752</td>\n",
              "    </tr>\n",
              "  </tbody>\n",
              "</table>\n",
              "</div>"
            ],
            "text/plain": [
              "     Apples   Oranges    Mangos\n",
              "A  0.302665  1.693723 -1.159119\n",
              "B -0.134841  0.390528  0.184502\n",
              "C  0.807706  0.072960  0.329646\n",
              "D -0.497104 -0.754070  0.484752"
            ]
          },
          "metadata": {
            "tags": []
          },
          "execution_count": 48
        }
      ]
    },
    {
      "cell_type": "code",
      "metadata": {
        "id": "nqEpAs724dgR",
        "colab_type": "code",
        "colab": {
          "base_uri": "https://localhost:8080/",
          "height": 173
        },
        "outputId": "f72cc099-5fa4-4a91-a6e6-ce4b23e47530"
      },
      "source": [
        "# reset index\n",
        "df.reset_index()\n",
        "# notice letters for rows are now in a column and you see index number"
      ],
      "execution_count": 49,
      "outputs": [
        {
          "output_type": "execute_result",
          "data": {
            "text/html": [
              "<div>\n",
              "<style scoped>\n",
              "    .dataframe tbody tr th:only-of-type {\n",
              "        vertical-align: middle;\n",
              "    }\n",
              "\n",
              "    .dataframe tbody tr th {\n",
              "        vertical-align: top;\n",
              "    }\n",
              "\n",
              "    .dataframe thead th {\n",
              "        text-align: right;\n",
              "    }\n",
              "</style>\n",
              "<table border=\"1\" class=\"dataframe\">\n",
              "  <thead>\n",
              "    <tr style=\"text-align: right;\">\n",
              "      <th></th>\n",
              "      <th>index</th>\n",
              "      <th>Apples</th>\n",
              "      <th>Oranges</th>\n",
              "      <th>Mangos</th>\n",
              "    </tr>\n",
              "  </thead>\n",
              "  <tbody>\n",
              "    <tr>\n",
              "      <th>0</th>\n",
              "      <td>A</td>\n",
              "      <td>0.302665</td>\n",
              "      <td>1.693723</td>\n",
              "      <td>-1.159119</td>\n",
              "    </tr>\n",
              "    <tr>\n",
              "      <th>1</th>\n",
              "      <td>B</td>\n",
              "      <td>-0.134841</td>\n",
              "      <td>0.390528</td>\n",
              "      <td>0.184502</td>\n",
              "    </tr>\n",
              "    <tr>\n",
              "      <th>2</th>\n",
              "      <td>C</td>\n",
              "      <td>0.807706</td>\n",
              "      <td>0.072960</td>\n",
              "      <td>0.329646</td>\n",
              "    </tr>\n",
              "    <tr>\n",
              "      <th>3</th>\n",
              "      <td>D</td>\n",
              "      <td>-0.497104</td>\n",
              "      <td>-0.754070</td>\n",
              "      <td>0.484752</td>\n",
              "    </tr>\n",
              "  </tbody>\n",
              "</table>\n",
              "</div>"
            ],
            "text/plain": [
              "  index    Apples   Oranges    Mangos\n",
              "0     A  0.302665  1.693723 -1.159119\n",
              "1     B -0.134841  0.390528  0.184502\n",
              "2     C  0.807706  0.072960  0.329646\n",
              "3     D -0.497104 -0.754070  0.484752"
            ]
          },
          "metadata": {
            "tags": []
          },
          "execution_count": 49
        }
      ]
    },
    {
      "cell_type": "code",
      "metadata": {
        "id": "aaz1BbI-4kjK",
        "colab_type": "code",
        "colab": {
          "base_uri": "https://localhost:8080/",
          "height": 173
        },
        "outputId": "50fd8d8d-816f-4f09-85fe-676086f75714"
      },
      "source": [
        "# note that index number still won't show when you call the variable\n",
        "df"
      ],
      "execution_count": 50,
      "outputs": [
        {
          "output_type": "execute_result",
          "data": {
            "text/html": [
              "<div>\n",
              "<style scoped>\n",
              "    .dataframe tbody tr th:only-of-type {\n",
              "        vertical-align: middle;\n",
              "    }\n",
              "\n",
              "    .dataframe tbody tr th {\n",
              "        vertical-align: top;\n",
              "    }\n",
              "\n",
              "    .dataframe thead th {\n",
              "        text-align: right;\n",
              "    }\n",
              "</style>\n",
              "<table border=\"1\" class=\"dataframe\">\n",
              "  <thead>\n",
              "    <tr style=\"text-align: right;\">\n",
              "      <th></th>\n",
              "      <th>Apples</th>\n",
              "      <th>Oranges</th>\n",
              "      <th>Mangos</th>\n",
              "    </tr>\n",
              "  </thead>\n",
              "  <tbody>\n",
              "    <tr>\n",
              "      <th>A</th>\n",
              "      <td>0.302665</td>\n",
              "      <td>1.693723</td>\n",
              "      <td>-1.159119</td>\n",
              "    </tr>\n",
              "    <tr>\n",
              "      <th>B</th>\n",
              "      <td>-0.134841</td>\n",
              "      <td>0.390528</td>\n",
              "      <td>0.184502</td>\n",
              "    </tr>\n",
              "    <tr>\n",
              "      <th>C</th>\n",
              "      <td>0.807706</td>\n",
              "      <td>0.072960</td>\n",
              "      <td>0.329646</td>\n",
              "    </tr>\n",
              "    <tr>\n",
              "      <th>D</th>\n",
              "      <td>-0.497104</td>\n",
              "      <td>-0.754070</td>\n",
              "      <td>0.484752</td>\n",
              "    </tr>\n",
              "  </tbody>\n",
              "</table>\n",
              "</div>"
            ],
            "text/plain": [
              "     Apples   Oranges    Mangos\n",
              "A  0.302665  1.693723 -1.159119\n",
              "B -0.134841  0.390528  0.184502\n",
              "C  0.807706  0.072960  0.329646\n",
              "D -0.497104 -0.754070  0.484752"
            ]
          },
          "metadata": {
            "tags": []
          },
          "execution_count": 50
        }
      ]
    },
    {
      "cell_type": "code",
      "metadata": {
        "id": "mETtIS7Q4_LX",
        "colab_type": "code",
        "colab": {}
      },
      "source": [
        "# make the index numbers remain in place\n",
        "# df.reset_index(inplace=True)\n",
        "# df"
      ],
      "execution_count": 0,
      "outputs": []
    },
    {
      "cell_type": "code",
      "metadata": {
        "id": "n4mzj0Ql5LbX",
        "colab_type": "code",
        "colab": {
          "base_uri": "https://localhost:8080/",
          "height": 34
        },
        "outputId": "aaae04d3-a9ae-41b1-82bc-b9c3c01cf89c"
      },
      "source": [
        "# create new list of index values using split to insert commas\n",
        "newind = 'CA NY WY OR'.split()\n",
        "newind"
      ],
      "execution_count": 52,
      "outputs": [
        {
          "output_type": "execute_result",
          "data": {
            "text/plain": [
              "['CA', 'NY', 'WY', 'OR']"
            ]
          },
          "metadata": {
            "tags": []
          },
          "execution_count": 52
        }
      ]
    },
    {
      "cell_type": "code",
      "metadata": {
        "id": "Ja-BATHU5gaW",
        "colab_type": "code",
        "colab": {
          "base_uri": "https://localhost:8080/",
          "height": 173
        },
        "outputId": "95d02357-8e50-483b-9da6-29b2ca21a5f5"
      },
      "source": [
        "# append a list as new column of values\n",
        "df['State'] = newind\n",
        "df"
      ],
      "execution_count": 53,
      "outputs": [
        {
          "output_type": "execute_result",
          "data": {
            "text/html": [
              "<div>\n",
              "<style scoped>\n",
              "    .dataframe tbody tr th:only-of-type {\n",
              "        vertical-align: middle;\n",
              "    }\n",
              "\n",
              "    .dataframe tbody tr th {\n",
              "        vertical-align: top;\n",
              "    }\n",
              "\n",
              "    .dataframe thead th {\n",
              "        text-align: right;\n",
              "    }\n",
              "</style>\n",
              "<table border=\"1\" class=\"dataframe\">\n",
              "  <thead>\n",
              "    <tr style=\"text-align: right;\">\n",
              "      <th></th>\n",
              "      <th>Apples</th>\n",
              "      <th>Oranges</th>\n",
              "      <th>Mangos</th>\n",
              "      <th>State</th>\n",
              "    </tr>\n",
              "  </thead>\n",
              "  <tbody>\n",
              "    <tr>\n",
              "      <th>A</th>\n",
              "      <td>0.302665</td>\n",
              "      <td>1.693723</td>\n",
              "      <td>-1.159119</td>\n",
              "      <td>CA</td>\n",
              "    </tr>\n",
              "    <tr>\n",
              "      <th>B</th>\n",
              "      <td>-0.134841</td>\n",
              "      <td>0.390528</td>\n",
              "      <td>0.184502</td>\n",
              "      <td>NY</td>\n",
              "    </tr>\n",
              "    <tr>\n",
              "      <th>C</th>\n",
              "      <td>0.807706</td>\n",
              "      <td>0.072960</td>\n",
              "      <td>0.329646</td>\n",
              "      <td>WY</td>\n",
              "    </tr>\n",
              "    <tr>\n",
              "      <th>D</th>\n",
              "      <td>-0.497104</td>\n",
              "      <td>-0.754070</td>\n",
              "      <td>0.484752</td>\n",
              "      <td>OR</td>\n",
              "    </tr>\n",
              "  </tbody>\n",
              "</table>\n",
              "</div>"
            ],
            "text/plain": [
              "     Apples   Oranges    Mangos State\n",
              "A  0.302665  1.693723 -1.159119    CA\n",
              "B -0.134841  0.390528  0.184502    NY\n",
              "C  0.807706  0.072960  0.329646    WY\n",
              "D -0.497104 -0.754070  0.484752    OR"
            ]
          },
          "metadata": {
            "tags": []
          },
          "execution_count": 53
        }
      ]
    },
    {
      "cell_type": "code",
      "metadata": {
        "id": "0Fnms5Wc51qY",
        "colab_type": "code",
        "colab": {
          "base_uri": "https://localhost:8080/",
          "height": 204
        },
        "outputId": "7c1c6d1d-2217-4e17-b68e-3c5c98b8736b"
      },
      "source": [
        "# set a column's values as index\n",
        "df.set_index('State', inplace=True) # inplace makes it permanent\n",
        "df"
      ],
      "execution_count": 54,
      "outputs": [
        {
          "output_type": "execute_result",
          "data": {
            "text/html": [
              "<div>\n",
              "<style scoped>\n",
              "    .dataframe tbody tr th:only-of-type {\n",
              "        vertical-align: middle;\n",
              "    }\n",
              "\n",
              "    .dataframe tbody tr th {\n",
              "        vertical-align: top;\n",
              "    }\n",
              "\n",
              "    .dataframe thead th {\n",
              "        text-align: right;\n",
              "    }\n",
              "</style>\n",
              "<table border=\"1\" class=\"dataframe\">\n",
              "  <thead>\n",
              "    <tr style=\"text-align: right;\">\n",
              "      <th></th>\n",
              "      <th>Apples</th>\n",
              "      <th>Oranges</th>\n",
              "      <th>Mangos</th>\n",
              "    </tr>\n",
              "    <tr>\n",
              "      <th>State</th>\n",
              "      <th></th>\n",
              "      <th></th>\n",
              "      <th></th>\n",
              "    </tr>\n",
              "  </thead>\n",
              "  <tbody>\n",
              "    <tr>\n",
              "      <th>CA</th>\n",
              "      <td>0.302665</td>\n",
              "      <td>1.693723</td>\n",
              "      <td>-1.159119</td>\n",
              "    </tr>\n",
              "    <tr>\n",
              "      <th>NY</th>\n",
              "      <td>-0.134841</td>\n",
              "      <td>0.390528</td>\n",
              "      <td>0.184502</td>\n",
              "    </tr>\n",
              "    <tr>\n",
              "      <th>WY</th>\n",
              "      <td>0.807706</td>\n",
              "      <td>0.072960</td>\n",
              "      <td>0.329646</td>\n",
              "    </tr>\n",
              "    <tr>\n",
              "      <th>OR</th>\n",
              "      <td>-0.497104</td>\n",
              "      <td>-0.754070</td>\n",
              "      <td>0.484752</td>\n",
              "    </tr>\n",
              "  </tbody>\n",
              "</table>\n",
              "</div>"
            ],
            "text/plain": [
              "         Apples   Oranges    Mangos\n",
              "State                              \n",
              "CA     0.302665  1.693723 -1.159119\n",
              "NY    -0.134841  0.390528  0.184502\n",
              "WY     0.807706  0.072960  0.329646\n",
              "OR    -0.497104 -0.754070  0.484752"
            ]
          },
          "metadata": {
            "tags": []
          },
          "execution_count": 54
        }
      ]
    },
    {
      "cell_type": "markdown",
      "metadata": {
        "id": "quRdX89BMGau",
        "colab_type": "text"
      },
      "source": [
        "## Multi-index DataFrames\n",
        "Aka. index hierarchy"
      ]
    },
    {
      "cell_type": "code",
      "metadata": {
        "id": "N-8NFDbZMKEL",
        "colab_type": "code",
        "colab": {}
      },
      "source": [
        "# index levels\n",
        "outside = ['G1', 'G1', 'G1', 'G2', 'G2', 'G2']\n",
        "inside = [1, 2, 3, 1, 2, 3]"
      ],
      "execution_count": 0,
      "outputs": []
    },
    {
      "cell_type": "code",
      "metadata": {
        "id": "RJhKGTo0MjUT",
        "colab_type": "code",
        "colab": {
          "base_uri": "https://localhost:8080/",
          "height": 34
        },
        "outputId": "9011b51f-c1ac-4be0-e7ad-4e74e79e40c7"
      },
      "source": [
        "# zip into tuples\n",
        "hier_index = list(zip(outside, inside))\n",
        "hier_index"
      ],
      "execution_count": 56,
      "outputs": [
        {
          "output_type": "execute_result",
          "data": {
            "text/plain": [
              "[('G1', 1), ('G1', 2), ('G1', 3), ('G2', 1), ('G2', 2), ('G2', 3)]"
            ]
          },
          "metadata": {
            "tags": []
          },
          "execution_count": 56
        }
      ]
    },
    {
      "cell_type": "code",
      "metadata": {
        "id": "NRiRuLp3NEGm",
        "colab_type": "code",
        "colab": {
          "base_uri": "https://localhost:8080/",
          "height": 51
        },
        "outputId": "9ec993bc-ae64-4a5f-e722-34953d4c2dde"
      },
      "source": [
        "# turns a tuple index into multi index\n",
        "hier_index = pd.MultiIndex.from_tuples(hier_index)\n",
        "hier_index"
      ],
      "execution_count": 58,
      "outputs": [
        {
          "output_type": "execute_result",
          "data": {
            "text/plain": [
              "MultiIndex(levels=[['G1', 'G2'], [1, 2, 3]],\n",
              "           codes=[[0, 0, 0, 1, 1, 1], [0, 1, 2, 0, 1, 2]])"
            ]
          },
          "metadata": {
            "tags": []
          },
          "execution_count": 58
        }
      ]
    },
    {
      "cell_type": "code",
      "metadata": {
        "id": "Tk7rNOcwNE7k",
        "colab_type": "code",
        "colab": {
          "base_uri": "https://localhost:8080/",
          "height": 235
        },
        "outputId": "d2c8fb40-d793-42b6-f0aa-10a4557be25d"
      },
      "source": [
        "# create randn with 6 rows, 2 col\n",
        "df = pd.DataFrame(randn(6,2))\n",
        "df"
      ],
      "execution_count": 60,
      "outputs": [
        {
          "output_type": "execute_result",
          "data": {
            "text/html": [
              "<div>\n",
              "<style scoped>\n",
              "    .dataframe tbody tr th:only-of-type {\n",
              "        vertical-align: middle;\n",
              "    }\n",
              "\n",
              "    .dataframe tbody tr th {\n",
              "        vertical-align: top;\n",
              "    }\n",
              "\n",
              "    .dataframe thead th {\n",
              "        text-align: right;\n",
              "    }\n",
              "</style>\n",
              "<table border=\"1\" class=\"dataframe\">\n",
              "  <thead>\n",
              "    <tr style=\"text-align: right;\">\n",
              "      <th></th>\n",
              "      <th>0</th>\n",
              "      <th>1</th>\n",
              "    </tr>\n",
              "  </thead>\n",
              "  <tbody>\n",
              "    <tr>\n",
              "      <th>0</th>\n",
              "      <td>0.147027</td>\n",
              "      <td>-0.479448</td>\n",
              "    </tr>\n",
              "    <tr>\n",
              "      <th>1</th>\n",
              "      <td>0.558769</td>\n",
              "      <td>1.024810</td>\n",
              "    </tr>\n",
              "    <tr>\n",
              "      <th>2</th>\n",
              "      <td>-0.925874</td>\n",
              "      <td>1.862864</td>\n",
              "    </tr>\n",
              "    <tr>\n",
              "      <th>3</th>\n",
              "      <td>-1.133817</td>\n",
              "      <td>0.610478</td>\n",
              "    </tr>\n",
              "    <tr>\n",
              "      <th>4</th>\n",
              "      <td>0.386030</td>\n",
              "      <td>2.084019</td>\n",
              "    </tr>\n",
              "    <tr>\n",
              "      <th>5</th>\n",
              "      <td>-0.376519</td>\n",
              "      <td>0.230336</td>\n",
              "    </tr>\n",
              "  </tbody>\n",
              "</table>\n",
              "</div>"
            ],
            "text/plain": [
              "          0         1\n",
              "0  0.147027 -0.479448\n",
              "1  0.558769  1.024810\n",
              "2 -0.925874  1.862864\n",
              "3 -1.133817  0.610478\n",
              "4  0.386030  2.084019\n",
              "5 -0.376519  0.230336"
            ]
          },
          "metadata": {
            "tags": []
          },
          "execution_count": 60
        }
      ]
    },
    {
      "cell_type": "code",
      "metadata": {
        "id": "VVCSrVEXNj_A",
        "colab_type": "code",
        "colab": {
          "base_uri": "https://localhost:8080/",
          "height": 235
        },
        "outputId": "af144806-4d3e-4742-aac1-a7f725d2dd7c"
      },
      "source": [
        "# create same but with 'Multi index' and column labels A & B\n",
        "df = pd.DataFrame(randn(6,2), hier_index, ['A', 'B'])\n",
        "df"
      ],
      "execution_count": 62,
      "outputs": [
        {
          "output_type": "execute_result",
          "data": {
            "text/html": [
              "<div>\n",
              "<style scoped>\n",
              "    .dataframe tbody tr th:only-of-type {\n",
              "        vertical-align: middle;\n",
              "    }\n",
              "\n",
              "    .dataframe tbody tr th {\n",
              "        vertical-align: top;\n",
              "    }\n",
              "\n",
              "    .dataframe thead th {\n",
              "        text-align: right;\n",
              "    }\n",
              "</style>\n",
              "<table border=\"1\" class=\"dataframe\">\n",
              "  <thead>\n",
              "    <tr style=\"text-align: right;\">\n",
              "      <th></th>\n",
              "      <th></th>\n",
              "      <th>A</th>\n",
              "      <th>B</th>\n",
              "    </tr>\n",
              "  </thead>\n",
              "  <tbody>\n",
              "    <tr>\n",
              "      <th rowspan=\"3\" valign=\"top\">G1</th>\n",
              "      <th>1</th>\n",
              "      <td>0.992573</td>\n",
              "      <td>1.192241</td>\n",
              "    </tr>\n",
              "    <tr>\n",
              "      <th>2</th>\n",
              "      <td>-1.046780</td>\n",
              "      <td>1.292765</td>\n",
              "    </tr>\n",
              "    <tr>\n",
              "      <th>3</th>\n",
              "      <td>-1.467514</td>\n",
              "      <td>-0.494095</td>\n",
              "    </tr>\n",
              "    <tr>\n",
              "      <th rowspan=\"3\" valign=\"top\">G2</th>\n",
              "      <th>1</th>\n",
              "      <td>-0.162535</td>\n",
              "      <td>0.485809</td>\n",
              "    </tr>\n",
              "    <tr>\n",
              "      <th>2</th>\n",
              "      <td>0.392489</td>\n",
              "      <td>0.221491</td>\n",
              "    </tr>\n",
              "    <tr>\n",
              "      <th>3</th>\n",
              "      <td>-0.855196</td>\n",
              "      <td>1.541990</td>\n",
              "    </tr>\n",
              "  </tbody>\n",
              "</table>\n",
              "</div>"
            ],
            "text/plain": [
              "             A         B\n",
              "G1 1  0.992573  1.192241\n",
              "   2 -1.046780  1.292765\n",
              "   3 -1.467514 -0.494095\n",
              "G2 1 -0.162535  0.485809\n",
              "   2  0.392489  0.221491\n",
              "   3 -0.855196  1.541990"
            ]
          },
          "metadata": {
            "tags": []
          },
          "execution_count": 62
        }
      ]
    },
    {
      "cell_type": "markdown",
      "metadata": {
        "id": "dCaFjI_-POXw",
        "colab_type": "text"
      },
      "source": [
        "## Selections in a multi-index dataframe"
      ]
    },
    {
      "cell_type": "code",
      "metadata": {
        "id": "UGX6_oQQPVJu",
        "colab_type": "code",
        "colab": {
          "base_uri": "https://localhost:8080/",
          "height": 142
        },
        "outputId": "83e88ceb-fd12-40b8-c7d3-9f13b2d45e0d"
      },
      "source": [
        "# select an outside index\n",
        "df.loc['G1']"
      ],
      "execution_count": 63,
      "outputs": [
        {
          "output_type": "execute_result",
          "data": {
            "text/html": [
              "<div>\n",
              "<style scoped>\n",
              "    .dataframe tbody tr th:only-of-type {\n",
              "        vertical-align: middle;\n",
              "    }\n",
              "\n",
              "    .dataframe tbody tr th {\n",
              "        vertical-align: top;\n",
              "    }\n",
              "\n",
              "    .dataframe thead th {\n",
              "        text-align: right;\n",
              "    }\n",
              "</style>\n",
              "<table border=\"1\" class=\"dataframe\">\n",
              "  <thead>\n",
              "    <tr style=\"text-align: right;\">\n",
              "      <th></th>\n",
              "      <th>A</th>\n",
              "      <th>B</th>\n",
              "    </tr>\n",
              "  </thead>\n",
              "  <tbody>\n",
              "    <tr>\n",
              "      <th>1</th>\n",
              "      <td>0.992573</td>\n",
              "      <td>1.192241</td>\n",
              "    </tr>\n",
              "    <tr>\n",
              "      <th>2</th>\n",
              "      <td>-1.046780</td>\n",
              "      <td>1.292765</td>\n",
              "    </tr>\n",
              "    <tr>\n",
              "      <th>3</th>\n",
              "      <td>-1.467514</td>\n",
              "      <td>-0.494095</td>\n",
              "    </tr>\n",
              "  </tbody>\n",
              "</table>\n",
              "</div>"
            ],
            "text/plain": [
              "          A         B\n",
              "1  0.992573  1.192241\n",
              "2 -1.046780  1.292765\n",
              "3 -1.467514 -0.494095"
            ]
          },
          "metadata": {
            "tags": []
          },
          "execution_count": 63
        }
      ]
    },
    {
      "cell_type": "code",
      "metadata": {
        "id": "hGaLaeefPdCv",
        "colab_type": "code",
        "colab": {
          "base_uri": "https://localhost:8080/",
          "height": 68
        },
        "outputId": "8c009d77-f681-43a9-ae82-3e8aeeb94948"
      },
      "source": [
        "# select outside index then an inner selection\n",
        "df.loc['G1'].loc[1] # returns series of row 1 in section G1"
      ],
      "execution_count": 66,
      "outputs": [
        {
          "output_type": "execute_result",
          "data": {
            "text/plain": [
              "A    0.992573\n",
              "B    1.192241\n",
              "Name: 1, dtype: float64"
            ]
          },
          "metadata": {
            "tags": []
          },
          "execution_count": 66
        }
      ]
    },
    {
      "cell_type": "code",
      "metadata": {
        "id": "6Ln-XwJOPtIe",
        "colab_type": "code",
        "colab": {
          "base_uri": "https://localhost:8080/",
          "height": 34
        },
        "outputId": "5a0af149-034a-4d53-e666-b15aa930b65a"
      },
      "source": [
        "# confirm the indexes have no names\n",
        "df.index.names"
      ],
      "execution_count": 67,
      "outputs": [
        {
          "output_type": "execute_result",
          "data": {
            "text/plain": [
              "FrozenList([None, None])"
            ]
          },
          "metadata": {
            "tags": []
          },
          "execution_count": 67
        }
      ]
    },
    {
      "cell_type": "code",
      "metadata": {
        "id": "xOOgt1TGQEsV",
        "colab_type": "code",
        "colab": {}
      },
      "source": [
        "# name the indexes\n",
        "df.index.names = ['Groups', 'Num']"
      ],
      "execution_count": 0,
      "outputs": []
    },
    {
      "cell_type": "code",
      "metadata": {
        "id": "6JOiiV8dQjzQ",
        "colab_type": "code",
        "colab": {
          "base_uri": "https://localhost:8080/",
          "height": 266
        },
        "outputId": "07d1dcab-f0d2-4d22-ec49-381c7c6c29db"
      },
      "source": [
        "# see dataframe with new index labels\n",
        "df"
      ],
      "execution_count": 69,
      "outputs": [
        {
          "output_type": "execute_result",
          "data": {
            "text/html": [
              "<div>\n",
              "<style scoped>\n",
              "    .dataframe tbody tr th:only-of-type {\n",
              "        vertical-align: middle;\n",
              "    }\n",
              "\n",
              "    .dataframe tbody tr th {\n",
              "        vertical-align: top;\n",
              "    }\n",
              "\n",
              "    .dataframe thead th {\n",
              "        text-align: right;\n",
              "    }\n",
              "</style>\n",
              "<table border=\"1\" class=\"dataframe\">\n",
              "  <thead>\n",
              "    <tr style=\"text-align: right;\">\n",
              "      <th></th>\n",
              "      <th></th>\n",
              "      <th>A</th>\n",
              "      <th>B</th>\n",
              "    </tr>\n",
              "    <tr>\n",
              "      <th>Groups</th>\n",
              "      <th>Num</th>\n",
              "      <th></th>\n",
              "      <th></th>\n",
              "    </tr>\n",
              "  </thead>\n",
              "  <tbody>\n",
              "    <tr>\n",
              "      <th rowspan=\"3\" valign=\"top\">G1</th>\n",
              "      <th>1</th>\n",
              "      <td>0.992573</td>\n",
              "      <td>1.192241</td>\n",
              "    </tr>\n",
              "    <tr>\n",
              "      <th>2</th>\n",
              "      <td>-1.046780</td>\n",
              "      <td>1.292765</td>\n",
              "    </tr>\n",
              "    <tr>\n",
              "      <th>3</th>\n",
              "      <td>-1.467514</td>\n",
              "      <td>-0.494095</td>\n",
              "    </tr>\n",
              "    <tr>\n",
              "      <th rowspan=\"3\" valign=\"top\">G2</th>\n",
              "      <th>1</th>\n",
              "      <td>-0.162535</td>\n",
              "      <td>0.485809</td>\n",
              "    </tr>\n",
              "    <tr>\n",
              "      <th>2</th>\n",
              "      <td>0.392489</td>\n",
              "      <td>0.221491</td>\n",
              "    </tr>\n",
              "    <tr>\n",
              "      <th>3</th>\n",
              "      <td>-0.855196</td>\n",
              "      <td>1.541990</td>\n",
              "    </tr>\n",
              "  </tbody>\n",
              "</table>\n",
              "</div>"
            ],
            "text/plain": [
              "                   A         B\n",
              "Groups Num                    \n",
              "G1     1    0.992573  1.192241\n",
              "       2   -1.046780  1.292765\n",
              "       3   -1.467514 -0.494095\n",
              "G2     1   -0.162535  0.485809\n",
              "       2    0.392489  0.221491\n",
              "       3   -0.855196  1.541990"
            ]
          },
          "metadata": {
            "tags": []
          },
          "execution_count": 69
        }
      ]
    },
    {
      "cell_type": "code",
      "metadata": {
        "id": "-oO41V5MQkd9",
        "colab_type": "code",
        "colab": {
          "base_uri": "https://localhost:8080/",
          "height": 34
        },
        "outputId": "68ea446f-6d98-4fcd-b4bd-208a7dd04260"
      },
      "source": [
        "# select a cell\n",
        "df.loc['G2'].loc[2].loc['B'] # section G2, row 2, col B"
      ],
      "execution_count": 71,
      "outputs": [
        {
          "output_type": "execute_result",
          "data": {
            "text/plain": [
              "0.22149068500354543"
            ]
          },
          "metadata": {
            "tags": []
          },
          "execution_count": 71
        }
      ]
    },
    {
      "cell_type": "code",
      "metadata": {
        "id": "6HU7V_mgQ8C4",
        "colab_type": "code",
        "colab": {
          "base_uri": "https://localhost:8080/",
          "height": 142
        },
        "outputId": "53496448-cd83-4b8b-d66b-589dd462c74a"
      },
      "source": [
        "# retrieve a cross section: something from each outer index\n",
        "df.xs(1, level='Num') # select all Num=1 from all Groups"
      ],
      "execution_count": 73,
      "outputs": [
        {
          "output_type": "execute_result",
          "data": {
            "text/html": [
              "<div>\n",
              "<style scoped>\n",
              "    .dataframe tbody tr th:only-of-type {\n",
              "        vertical-align: middle;\n",
              "    }\n",
              "\n",
              "    .dataframe tbody tr th {\n",
              "        vertical-align: top;\n",
              "    }\n",
              "\n",
              "    .dataframe thead th {\n",
              "        text-align: right;\n",
              "    }\n",
              "</style>\n",
              "<table border=\"1\" class=\"dataframe\">\n",
              "  <thead>\n",
              "    <tr style=\"text-align: right;\">\n",
              "      <th></th>\n",
              "      <th>A</th>\n",
              "      <th>B</th>\n",
              "    </tr>\n",
              "    <tr>\n",
              "      <th>Groups</th>\n",
              "      <th></th>\n",
              "      <th></th>\n",
              "    </tr>\n",
              "  </thead>\n",
              "  <tbody>\n",
              "    <tr>\n",
              "      <th>G1</th>\n",
              "      <td>0.992573</td>\n",
              "      <td>1.192241</td>\n",
              "    </tr>\n",
              "    <tr>\n",
              "      <th>G2</th>\n",
              "      <td>-0.162535</td>\n",
              "      <td>0.485809</td>\n",
              "    </tr>\n",
              "  </tbody>\n",
              "</table>\n",
              "</div>"
            ],
            "text/plain": [
              "               A         B\n",
              "Groups                    \n",
              "G1      0.992573  1.192241\n",
              "G2     -0.162535  0.485809"
            ]
          },
          "metadata": {
            "tags": []
          },
          "execution_count": 73
        }
      ]
    },
    {
      "cell_type": "markdown",
      "metadata": {
        "id": "6htlj58bSIZT",
        "colab_type": "text"
      },
      "source": [
        "## My example of something more meaningful\n",
        "Eg. fruit harvest sampling data"
      ]
    },
    {
      "cell_type": "code",
      "metadata": {
        "id": "4PDYnbl1SOeH",
        "colab_type": "code",
        "colab": {}
      },
      "source": [
        "# create outer and inner index labels\n",
        "outside = ['Mon', 'Mon', 'Tue', 'Tue', 'Wed', 'Wed', 'Th', 'Th', 'Fri', 'Fri']\n",
        "inside = [1, 2, 1, 2, 1, 2, 1, 2, 1, 2]"
      ],
      "execution_count": 0,
      "outputs": []
    },
    {
      "cell_type": "code",
      "metadata": {
        "id": "QBtqcbFySf1P",
        "colab_type": "code",
        "colab": {
          "base_uri": "https://localhost:8080/",
          "height": 187
        },
        "outputId": "a3dc2180-ba0d-4e7f-d969-dc90a873ee4c"
      },
      "source": [
        "# zip into tuples\n",
        "hier_index = list(zip(outside, inside))\n",
        "hier_index"
      ],
      "execution_count": 75,
      "outputs": [
        {
          "output_type": "execute_result",
          "data": {
            "text/plain": [
              "[('Mon', 1),\n",
              " ('Mon', 2),\n",
              " ('Tue', 1),\n",
              " ('Tue', 2),\n",
              " ('Wed', 1),\n",
              " ('Wed', 2),\n",
              " ('Th', 1),\n",
              " ('Th', 2),\n",
              " ('Fri', 1),\n",
              " ('Fri', 2)]"
            ]
          },
          "metadata": {
            "tags": []
          },
          "execution_count": 75
        }
      ]
    },
    {
      "cell_type": "code",
      "metadata": {
        "id": "ZR7B-UNASulB",
        "colab_type": "code",
        "colab": {
          "base_uri": "https://localhost:8080/",
          "height": 71
        },
        "outputId": "11816333-e512-4fa5-e5ee-a1a494499eec"
      },
      "source": [
        "# turns a tuple index into multi index\n",
        "hier_index = pd.MultiIndex.from_tuples(hier_index)\n",
        "hier_index # two rows for each day of the work week"
      ],
      "execution_count": 76,
      "outputs": [
        {
          "output_type": "execute_result",
          "data": {
            "text/plain": [
              "MultiIndex(levels=[['Fri', 'Mon', 'Th', 'Tue', 'Wed'], [1, 2]],\n",
              "           codes=[[1, 1, 3, 3, 4, 4, 2, 2, 0, 0], [0, 1, 0, 1, 0, 1, 0, 1, 0, 1]])"
            ]
          },
          "metadata": {
            "tags": []
          },
          "execution_count": 76
        }
      ]
    },
    {
      "cell_type": "code",
      "metadata": {
        "id": "zUmtwmUgTOYD",
        "colab_type": "code",
        "colab": {
          "base_uri": "https://localhost:8080/",
          "height": 359
        },
        "outputId": "e90ae134-76a4-4b1a-8bdc-cd87d2a06e43"
      },
      "source": [
        "# create dataframe with 'Multi index' and column labels A & B\n",
        "df = pd.DataFrame(randn(10,2), hier_index, ['Apples', 'Oranges'])\n",
        "df"
      ],
      "execution_count": 81,
      "outputs": [
        {
          "output_type": "execute_result",
          "data": {
            "text/html": [
              "<div>\n",
              "<style scoped>\n",
              "    .dataframe tbody tr th:only-of-type {\n",
              "        vertical-align: middle;\n",
              "    }\n",
              "\n",
              "    .dataframe tbody tr th {\n",
              "        vertical-align: top;\n",
              "    }\n",
              "\n",
              "    .dataframe thead th {\n",
              "        text-align: right;\n",
              "    }\n",
              "</style>\n",
              "<table border=\"1\" class=\"dataframe\">\n",
              "  <thead>\n",
              "    <tr style=\"text-align: right;\">\n",
              "      <th></th>\n",
              "      <th></th>\n",
              "      <th>Apples</th>\n",
              "      <th>Oranges</th>\n",
              "    </tr>\n",
              "  </thead>\n",
              "  <tbody>\n",
              "    <tr>\n",
              "      <th rowspan=\"2\" valign=\"top\">Mon</th>\n",
              "      <th>1</th>\n",
              "      <td>0.197524</td>\n",
              "      <td>2.302987</td>\n",
              "    </tr>\n",
              "    <tr>\n",
              "      <th>2</th>\n",
              "      <td>0.729024</td>\n",
              "      <td>-0.863091</td>\n",
              "    </tr>\n",
              "    <tr>\n",
              "      <th rowspan=\"2\" valign=\"top\">Tue</th>\n",
              "      <th>1</th>\n",
              "      <td>0.305632</td>\n",
              "      <td>0.243178</td>\n",
              "    </tr>\n",
              "    <tr>\n",
              "      <th>2</th>\n",
              "      <td>0.864165</td>\n",
              "      <td>-1.560931</td>\n",
              "    </tr>\n",
              "    <tr>\n",
              "      <th rowspan=\"2\" valign=\"top\">Wed</th>\n",
              "      <th>1</th>\n",
              "      <td>-0.251897</td>\n",
              "      <td>-0.578120</td>\n",
              "    </tr>\n",
              "    <tr>\n",
              "      <th>2</th>\n",
              "      <td>0.236996</td>\n",
              "      <td>0.200780</td>\n",
              "    </tr>\n",
              "    <tr>\n",
              "      <th rowspan=\"2\" valign=\"top\">Th</th>\n",
              "      <th>1</th>\n",
              "      <td>0.327845</td>\n",
              "      <td>0.674485</td>\n",
              "    </tr>\n",
              "    <tr>\n",
              "      <th>2</th>\n",
              "      <td>-0.174057</td>\n",
              "      <td>0.780140</td>\n",
              "    </tr>\n",
              "    <tr>\n",
              "      <th rowspan=\"2\" valign=\"top\">Fri</th>\n",
              "      <th>1</th>\n",
              "      <td>-0.383258</td>\n",
              "      <td>-0.409318</td>\n",
              "    </tr>\n",
              "    <tr>\n",
              "      <th>2</th>\n",
              "      <td>0.343539</td>\n",
              "      <td>0.196275</td>\n",
              "    </tr>\n",
              "  </tbody>\n",
              "</table>\n",
              "</div>"
            ],
            "text/plain": [
              "         Apples   Oranges\n",
              "Mon 1  0.197524  2.302987\n",
              "    2  0.729024 -0.863091\n",
              "Tue 1  0.305632  0.243178\n",
              "    2  0.864165 -1.560931\n",
              "Wed 1 -0.251897 -0.578120\n",
              "    2  0.236996  0.200780\n",
              "Th  1  0.327845  0.674485\n",
              "    2 -0.174057  0.780140\n",
              "Fri 1 -0.383258 -0.409318\n",
              "    2  0.343539  0.196275"
            ]
          },
          "metadata": {
            "tags": []
          },
          "execution_count": 81
        }
      ]
    },
    {
      "cell_type": "code",
      "metadata": {
        "id": "NUslH_E1UBao",
        "colab_type": "code",
        "colab": {
          "base_uri": "https://localhost:8080/",
          "height": 390
        },
        "outputId": "c292a6bd-b9b0-4655-a5d7-51fce31d2cad"
      },
      "source": [
        "# name the indexes\n",
        "df.index.names = ['Day', 'Sample']\n",
        "# load the dataframe\n",
        "df"
      ],
      "execution_count": 88,
      "outputs": [
        {
          "output_type": "execute_result",
          "data": {
            "text/html": [
              "<div>\n",
              "<style scoped>\n",
              "    .dataframe tbody tr th:only-of-type {\n",
              "        vertical-align: middle;\n",
              "    }\n",
              "\n",
              "    .dataframe tbody tr th {\n",
              "        vertical-align: top;\n",
              "    }\n",
              "\n",
              "    .dataframe thead th {\n",
              "        text-align: right;\n",
              "    }\n",
              "</style>\n",
              "<table border=\"1\" class=\"dataframe\">\n",
              "  <thead>\n",
              "    <tr style=\"text-align: right;\">\n",
              "      <th></th>\n",
              "      <th></th>\n",
              "      <th>Apples</th>\n",
              "      <th>Oranges</th>\n",
              "    </tr>\n",
              "    <tr>\n",
              "      <th>Day</th>\n",
              "      <th>Sample</th>\n",
              "      <th></th>\n",
              "      <th></th>\n",
              "    </tr>\n",
              "  </thead>\n",
              "  <tbody>\n",
              "    <tr>\n",
              "      <th rowspan=\"2\" valign=\"top\">Mon</th>\n",
              "      <th>1</th>\n",
              "      <td>0.197524</td>\n",
              "      <td>2.302987</td>\n",
              "    </tr>\n",
              "    <tr>\n",
              "      <th>2</th>\n",
              "      <td>0.729024</td>\n",
              "      <td>-0.863091</td>\n",
              "    </tr>\n",
              "    <tr>\n",
              "      <th rowspan=\"2\" valign=\"top\">Tue</th>\n",
              "      <th>1</th>\n",
              "      <td>0.305632</td>\n",
              "      <td>0.243178</td>\n",
              "    </tr>\n",
              "    <tr>\n",
              "      <th>2</th>\n",
              "      <td>0.864165</td>\n",
              "      <td>-1.560931</td>\n",
              "    </tr>\n",
              "    <tr>\n",
              "      <th rowspan=\"2\" valign=\"top\">Wed</th>\n",
              "      <th>1</th>\n",
              "      <td>-0.251897</td>\n",
              "      <td>-0.578120</td>\n",
              "    </tr>\n",
              "    <tr>\n",
              "      <th>2</th>\n",
              "      <td>0.236996</td>\n",
              "      <td>0.200780</td>\n",
              "    </tr>\n",
              "    <tr>\n",
              "      <th rowspan=\"2\" valign=\"top\">Th</th>\n",
              "      <th>1</th>\n",
              "      <td>0.327845</td>\n",
              "      <td>0.674485</td>\n",
              "    </tr>\n",
              "    <tr>\n",
              "      <th>2</th>\n",
              "      <td>-0.174057</td>\n",
              "      <td>0.780140</td>\n",
              "    </tr>\n",
              "    <tr>\n",
              "      <th rowspan=\"2\" valign=\"top\">Fri</th>\n",
              "      <th>1</th>\n",
              "      <td>-0.383258</td>\n",
              "      <td>-0.409318</td>\n",
              "    </tr>\n",
              "    <tr>\n",
              "      <th>2</th>\n",
              "      <td>0.343539</td>\n",
              "      <td>0.196275</td>\n",
              "    </tr>\n",
              "  </tbody>\n",
              "</table>\n",
              "</div>"
            ],
            "text/plain": [
              "              Apples   Oranges\n",
              "Day Sample                    \n",
              "Mon 1       0.197524  2.302987\n",
              "    2       0.729024 -0.863091\n",
              "Tue 1       0.305632  0.243178\n",
              "    2       0.864165 -1.560931\n",
              "Wed 1      -0.251897 -0.578120\n",
              "    2       0.236996  0.200780\n",
              "Th  1       0.327845  0.674485\n",
              "    2      -0.174057  0.780140\n",
              "Fri 1      -0.383258 -0.409318\n",
              "    2       0.343539  0.196275"
            ]
          },
          "metadata": {
            "tags": []
          },
          "execution_count": 88
        }
      ]
    },
    {
      "cell_type": "code",
      "metadata": {
        "id": "33NGObMjUnYH",
        "colab_type": "code",
        "colab": {
          "base_uri": "https://localhost:8080/",
          "height": 235
        },
        "outputId": "db50d150-3859-424a-cfaf-78fdab581829"
      },
      "source": [
        "# retrieve a cross section: only the second sample of the day\n",
        "df.xs(2, level='Sample') # select all Sample=2 from every Day"
      ],
      "execution_count": 89,
      "outputs": [
        {
          "output_type": "execute_result",
          "data": {
            "text/html": [
              "<div>\n",
              "<style scoped>\n",
              "    .dataframe tbody tr th:only-of-type {\n",
              "        vertical-align: middle;\n",
              "    }\n",
              "\n",
              "    .dataframe tbody tr th {\n",
              "        vertical-align: top;\n",
              "    }\n",
              "\n",
              "    .dataframe thead th {\n",
              "        text-align: right;\n",
              "    }\n",
              "</style>\n",
              "<table border=\"1\" class=\"dataframe\">\n",
              "  <thead>\n",
              "    <tr style=\"text-align: right;\">\n",
              "      <th></th>\n",
              "      <th>Apples</th>\n",
              "      <th>Oranges</th>\n",
              "    </tr>\n",
              "    <tr>\n",
              "      <th>Day</th>\n",
              "      <th></th>\n",
              "      <th></th>\n",
              "    </tr>\n",
              "  </thead>\n",
              "  <tbody>\n",
              "    <tr>\n",
              "      <th>Mon</th>\n",
              "      <td>0.729024</td>\n",
              "      <td>-0.863091</td>\n",
              "    </tr>\n",
              "    <tr>\n",
              "      <th>Tue</th>\n",
              "      <td>0.864165</td>\n",
              "      <td>-1.560931</td>\n",
              "    </tr>\n",
              "    <tr>\n",
              "      <th>Wed</th>\n",
              "      <td>0.236996</td>\n",
              "      <td>0.200780</td>\n",
              "    </tr>\n",
              "    <tr>\n",
              "      <th>Th</th>\n",
              "      <td>-0.174057</td>\n",
              "      <td>0.780140</td>\n",
              "    </tr>\n",
              "    <tr>\n",
              "      <th>Fri</th>\n",
              "      <td>0.343539</td>\n",
              "      <td>0.196275</td>\n",
              "    </tr>\n",
              "  </tbody>\n",
              "</table>\n",
              "</div>"
            ],
            "text/plain": [
              "       Apples   Oranges\n",
              "Day                    \n",
              "Mon  0.729024 -0.863091\n",
              "Tue  0.864165 -1.560931\n",
              "Wed  0.236996  0.200780\n",
              "Th  -0.174057  0.780140\n",
              "Fri  0.343539  0.196275"
            ]
          },
          "metadata": {
            "tags": []
          },
          "execution_count": 89
        }
      ]
    },
    {
      "cell_type": "markdown",
      "metadata": {
        "id": "7iVXm-unVhc0",
        "colab_type": "text"
      },
      "source": [
        "## Dealing with missing data"
      ]
    },
    {
      "cell_type": "code",
      "metadata": {
        "id": "Uv0BH8h5Vkcp",
        "colab_type": "code",
        "colab": {}
      },
      "source": [
        "# create dictionary with some null values\n",
        "d = {'A': [1, 2, np.nan], 'B': [5, np.nan, np.nan], 'C': [1, 2, 3]}"
      ],
      "execution_count": 0,
      "outputs": []
    },
    {
      "cell_type": "code",
      "metadata": {
        "id": "_VsmW9e-V3W5",
        "colab_type": "code",
        "colab": {
          "base_uri": "https://localhost:8080/",
          "height": 142
        },
        "outputId": "f76ef755-f316-42bf-b5a8-fe424952a424"
      },
      "source": [
        "# create dataframe from the dictionary\n",
        "df = pd.DataFrame(d)\n",
        "df"
      ],
      "execution_count": 91,
      "outputs": [
        {
          "output_type": "execute_result",
          "data": {
            "text/html": [
              "<div>\n",
              "<style scoped>\n",
              "    .dataframe tbody tr th:only-of-type {\n",
              "        vertical-align: middle;\n",
              "    }\n",
              "\n",
              "    .dataframe tbody tr th {\n",
              "        vertical-align: top;\n",
              "    }\n",
              "\n",
              "    .dataframe thead th {\n",
              "        text-align: right;\n",
              "    }\n",
              "</style>\n",
              "<table border=\"1\" class=\"dataframe\">\n",
              "  <thead>\n",
              "    <tr style=\"text-align: right;\">\n",
              "      <th></th>\n",
              "      <th>A</th>\n",
              "      <th>B</th>\n",
              "      <th>C</th>\n",
              "    </tr>\n",
              "  </thead>\n",
              "  <tbody>\n",
              "    <tr>\n",
              "      <th>0</th>\n",
              "      <td>1.0</td>\n",
              "      <td>5.0</td>\n",
              "      <td>1</td>\n",
              "    </tr>\n",
              "    <tr>\n",
              "      <th>1</th>\n",
              "      <td>2.0</td>\n",
              "      <td>NaN</td>\n",
              "      <td>2</td>\n",
              "    </tr>\n",
              "    <tr>\n",
              "      <th>2</th>\n",
              "      <td>NaN</td>\n",
              "      <td>NaN</td>\n",
              "      <td>3</td>\n",
              "    </tr>\n",
              "  </tbody>\n",
              "</table>\n",
              "</div>"
            ],
            "text/plain": [
              "     A    B  C\n",
              "0  1.0  5.0  1\n",
              "1  2.0  NaN  2\n",
              "2  NaN  NaN  3"
            ]
          },
          "metadata": {
            "tags": []
          },
          "execution_count": 91
        }
      ]
    },
    {
      "cell_type": "code",
      "metadata": {
        "id": "E5UQTcDPV-lN",
        "colab_type": "code",
        "colab": {
          "base_uri": "https://localhost:8080/",
          "height": 80
        },
        "outputId": "5b78a3a2-850a-41b3-b841-a524c3083c75"
      },
      "source": [
        "# drop rows with null or missing values (called 'na')\n",
        "df.dropna() # default is axis=0, so rows with NaN are dropped"
      ],
      "execution_count": 92,
      "outputs": [
        {
          "output_type": "execute_result",
          "data": {
            "text/html": [
              "<div>\n",
              "<style scoped>\n",
              "    .dataframe tbody tr th:only-of-type {\n",
              "        vertical-align: middle;\n",
              "    }\n",
              "\n",
              "    .dataframe tbody tr th {\n",
              "        vertical-align: top;\n",
              "    }\n",
              "\n",
              "    .dataframe thead th {\n",
              "        text-align: right;\n",
              "    }\n",
              "</style>\n",
              "<table border=\"1\" class=\"dataframe\">\n",
              "  <thead>\n",
              "    <tr style=\"text-align: right;\">\n",
              "      <th></th>\n",
              "      <th>A</th>\n",
              "      <th>B</th>\n",
              "      <th>C</th>\n",
              "    </tr>\n",
              "  </thead>\n",
              "  <tbody>\n",
              "    <tr>\n",
              "      <th>0</th>\n",
              "      <td>1.0</td>\n",
              "      <td>5.0</td>\n",
              "      <td>1</td>\n",
              "    </tr>\n",
              "  </tbody>\n",
              "</table>\n",
              "</div>"
            ],
            "text/plain": [
              "     A    B  C\n",
              "0  1.0  5.0  1"
            ]
          },
          "metadata": {
            "tags": []
          },
          "execution_count": 92
        }
      ]
    },
    {
      "cell_type": "code",
      "metadata": {
        "id": "ffX5UILnWIMz",
        "colab_type": "code",
        "colab": {
          "base_uri": "https://localhost:8080/",
          "height": 142
        },
        "outputId": "351c4322-e6a9-45fb-bd22-8bfb27fe7c23"
      },
      "source": [
        "# create dataframe again\n",
        "d = {'A': [1, 2, np.nan], 'B': [5, np.nan, np.nan], 'C': [1, 2, 3]}\n",
        "df = pd.DataFrame(d)\n",
        "df"
      ],
      "execution_count": 94,
      "outputs": [
        {
          "output_type": "execute_result",
          "data": {
            "text/html": [
              "<div>\n",
              "<style scoped>\n",
              "    .dataframe tbody tr th:only-of-type {\n",
              "        vertical-align: middle;\n",
              "    }\n",
              "\n",
              "    .dataframe tbody tr th {\n",
              "        vertical-align: top;\n",
              "    }\n",
              "\n",
              "    .dataframe thead th {\n",
              "        text-align: right;\n",
              "    }\n",
              "</style>\n",
              "<table border=\"1\" class=\"dataframe\">\n",
              "  <thead>\n",
              "    <tr style=\"text-align: right;\">\n",
              "      <th></th>\n",
              "      <th>A</th>\n",
              "      <th>B</th>\n",
              "      <th>C</th>\n",
              "    </tr>\n",
              "  </thead>\n",
              "  <tbody>\n",
              "    <tr>\n",
              "      <th>0</th>\n",
              "      <td>1.0</td>\n",
              "      <td>5.0</td>\n",
              "      <td>1</td>\n",
              "    </tr>\n",
              "    <tr>\n",
              "      <th>1</th>\n",
              "      <td>2.0</td>\n",
              "      <td>NaN</td>\n",
              "      <td>2</td>\n",
              "    </tr>\n",
              "    <tr>\n",
              "      <th>2</th>\n",
              "      <td>NaN</td>\n",
              "      <td>NaN</td>\n",
              "      <td>3</td>\n",
              "    </tr>\n",
              "  </tbody>\n",
              "</table>\n",
              "</div>"
            ],
            "text/plain": [
              "     A    B  C\n",
              "0  1.0  5.0  1\n",
              "1  2.0  NaN  2\n",
              "2  NaN  NaN  3"
            ]
          },
          "metadata": {
            "tags": []
          },
          "execution_count": 94
        }
      ]
    },
    {
      "cell_type": "code",
      "metadata": {
        "id": "pRSRLzbuWYdQ",
        "colab_type": "code",
        "colab": {
          "base_uri": "https://localhost:8080/",
          "height": 142
        },
        "outputId": "5b2af52b-7daf-4241-c17a-c714ddbac937"
      },
      "source": [
        "# drop based on columns, axis=1\n",
        "df.dropna(axis=1)"
      ],
      "execution_count": 95,
      "outputs": [
        {
          "output_type": "execute_result",
          "data": {
            "text/html": [
              "<div>\n",
              "<style scoped>\n",
              "    .dataframe tbody tr th:only-of-type {\n",
              "        vertical-align: middle;\n",
              "    }\n",
              "\n",
              "    .dataframe tbody tr th {\n",
              "        vertical-align: top;\n",
              "    }\n",
              "\n",
              "    .dataframe thead th {\n",
              "        text-align: right;\n",
              "    }\n",
              "</style>\n",
              "<table border=\"1\" class=\"dataframe\">\n",
              "  <thead>\n",
              "    <tr style=\"text-align: right;\">\n",
              "      <th></th>\n",
              "      <th>C</th>\n",
              "    </tr>\n",
              "  </thead>\n",
              "  <tbody>\n",
              "    <tr>\n",
              "      <th>0</th>\n",
              "      <td>1</td>\n",
              "    </tr>\n",
              "    <tr>\n",
              "      <th>1</th>\n",
              "      <td>2</td>\n",
              "    </tr>\n",
              "    <tr>\n",
              "      <th>2</th>\n",
              "      <td>3</td>\n",
              "    </tr>\n",
              "  </tbody>\n",
              "</table>\n",
              "</div>"
            ],
            "text/plain": [
              "   C\n",
              "0  1\n",
              "1  2\n",
              "2  3"
            ]
          },
          "metadata": {
            "tags": []
          },
          "execution_count": 95
        }
      ]
    },
    {
      "cell_type": "code",
      "metadata": {
        "id": "R0y7ss5kWjlM",
        "colab_type": "code",
        "colab": {
          "base_uri": "https://localhost:8080/",
          "height": 111
        },
        "outputId": "d63dbda4-674f-4088-e5b8-f12db27da0a3"
      },
      "source": [
        "# drop NaN with a threshhold\n",
        "# a threshhold is the number of occurrences\n",
        "df.dropna(thresh=2) # keep rows with at least 2 non-NaN values"
      ],
      "execution_count": 99,
      "outputs": [
        {
          "output_type": "execute_result",
          "data": {
            "text/html": [
              "<div>\n",
              "<style scoped>\n",
              "    .dataframe tbody tr th:only-of-type {\n",
              "        vertical-align: middle;\n",
              "    }\n",
              "\n",
              "    .dataframe tbody tr th {\n",
              "        vertical-align: top;\n",
              "    }\n",
              "\n",
              "    .dataframe thead th {\n",
              "        text-align: right;\n",
              "    }\n",
              "</style>\n",
              "<table border=\"1\" class=\"dataframe\">\n",
              "  <thead>\n",
              "    <tr style=\"text-align: right;\">\n",
              "      <th></th>\n",
              "      <th>A</th>\n",
              "      <th>B</th>\n",
              "      <th>C</th>\n",
              "    </tr>\n",
              "  </thead>\n",
              "  <tbody>\n",
              "    <tr>\n",
              "      <th>0</th>\n",
              "      <td>1.0</td>\n",
              "      <td>5.0</td>\n",
              "      <td>1</td>\n",
              "    </tr>\n",
              "    <tr>\n",
              "      <th>1</th>\n",
              "      <td>2.0</td>\n",
              "      <td>NaN</td>\n",
              "      <td>2</td>\n",
              "    </tr>\n",
              "  </tbody>\n",
              "</table>\n",
              "</div>"
            ],
            "text/plain": [
              "     A    B  C\n",
              "0  1.0  5.0  1\n",
              "1  2.0  NaN  2"
            ]
          },
          "metadata": {
            "tags": []
          },
          "execution_count": 99
        }
      ]
    },
    {
      "cell_type": "code",
      "metadata": {
        "id": "Dqlfn9Csdbfv",
        "colab_type": "code",
        "colab": {
          "base_uri": "https://localhost:8080/",
          "height": 142
        },
        "outputId": "ddda2423-210d-46c3-ed5a-7263fe5ac85f"
      },
      "source": [
        "df # full df remains"
      ],
      "execution_count": 100,
      "outputs": [
        {
          "output_type": "execute_result",
          "data": {
            "text/html": [
              "<div>\n",
              "<style scoped>\n",
              "    .dataframe tbody tr th:only-of-type {\n",
              "        vertical-align: middle;\n",
              "    }\n",
              "\n",
              "    .dataframe tbody tr th {\n",
              "        vertical-align: top;\n",
              "    }\n",
              "\n",
              "    .dataframe thead th {\n",
              "        text-align: right;\n",
              "    }\n",
              "</style>\n",
              "<table border=\"1\" class=\"dataframe\">\n",
              "  <thead>\n",
              "    <tr style=\"text-align: right;\">\n",
              "      <th></th>\n",
              "      <th>A</th>\n",
              "      <th>B</th>\n",
              "      <th>C</th>\n",
              "    </tr>\n",
              "  </thead>\n",
              "  <tbody>\n",
              "    <tr>\n",
              "      <th>0</th>\n",
              "      <td>1.0</td>\n",
              "      <td>5.0</td>\n",
              "      <td>1</td>\n",
              "    </tr>\n",
              "    <tr>\n",
              "      <th>1</th>\n",
              "      <td>2.0</td>\n",
              "      <td>NaN</td>\n",
              "      <td>2</td>\n",
              "    </tr>\n",
              "    <tr>\n",
              "      <th>2</th>\n",
              "      <td>NaN</td>\n",
              "      <td>NaN</td>\n",
              "      <td>3</td>\n",
              "    </tr>\n",
              "  </tbody>\n",
              "</table>\n",
              "</div>"
            ],
            "text/plain": [
              "     A    B  C\n",
              "0  1.0  5.0  1\n",
              "1  2.0  NaN  2\n",
              "2  NaN  NaN  3"
            ]
          },
          "metadata": {
            "tags": []
          },
          "execution_count": 100
        }
      ]
    },
    {
      "cell_type": "code",
      "metadata": {
        "id": "HdzhXegqdcdo",
        "colab_type": "code",
        "colab": {
          "base_uri": "https://localhost:8080/",
          "height": 142
        },
        "outputId": "adca2168-0db7-4441-da74-41a531dabd3d"
      },
      "source": [
        "# fill in missing values\n",
        "df.fillna(value='Absent')"
      ],
      "execution_count": 103,
      "outputs": [
        {
          "output_type": "execute_result",
          "data": {
            "text/html": [
              "<div>\n",
              "<style scoped>\n",
              "    .dataframe tbody tr th:only-of-type {\n",
              "        vertical-align: middle;\n",
              "    }\n",
              "\n",
              "    .dataframe tbody tr th {\n",
              "        vertical-align: top;\n",
              "    }\n",
              "\n",
              "    .dataframe thead th {\n",
              "        text-align: right;\n",
              "    }\n",
              "</style>\n",
              "<table border=\"1\" class=\"dataframe\">\n",
              "  <thead>\n",
              "    <tr style=\"text-align: right;\">\n",
              "      <th></th>\n",
              "      <th>A</th>\n",
              "      <th>B</th>\n",
              "      <th>C</th>\n",
              "    </tr>\n",
              "  </thead>\n",
              "  <tbody>\n",
              "    <tr>\n",
              "      <th>0</th>\n",
              "      <td>1</td>\n",
              "      <td>5</td>\n",
              "      <td>1</td>\n",
              "    </tr>\n",
              "    <tr>\n",
              "      <th>1</th>\n",
              "      <td>2</td>\n",
              "      <td>Absent</td>\n",
              "      <td>2</td>\n",
              "    </tr>\n",
              "    <tr>\n",
              "      <th>2</th>\n",
              "      <td>Absent</td>\n",
              "      <td>Absent</td>\n",
              "      <td>3</td>\n",
              "    </tr>\n",
              "  </tbody>\n",
              "</table>\n",
              "</div>"
            ],
            "text/plain": [
              "        A       B  C\n",
              "0       1       5  1\n",
              "1       2  Absent  2\n",
              "2  Absent  Absent  3"
            ]
          },
          "metadata": {
            "tags": []
          },
          "execution_count": 103
        }
      ]
    },
    {
      "cell_type": "code",
      "metadata": {
        "id": "eYzq2S7Ed37c",
        "colab_type": "code",
        "colab": {
          "base_uri": "https://localhost:8080/",
          "height": 85
        },
        "outputId": "dfb058b7-47da-48f2-f250-61cb449af9e5"
      },
      "source": [
        "# replace NaN with mean of that column\n",
        "df['A'].fillna(value=df['A'].mean())\n",
        "\n",
        "# many theories exist about the best ways to fill missing values\n",
        "# check online for recommendations and philosophies"
      ],
      "execution_count": 105,
      "outputs": [
        {
          "output_type": "execute_result",
          "data": {
            "text/plain": [
              "0    1.0\n",
              "1    2.0\n",
              "2    1.5\n",
              "Name: A, dtype: float64"
            ]
          },
          "metadata": {
            "tags": []
          },
          "execution_count": 105
        }
      ]
    },
    {
      "cell_type": "code",
      "metadata": {
        "id": "qc6ZSZUCfEeK",
        "colab_type": "code",
        "colab": {}
      },
      "source": [
        ""
      ],
      "execution_count": 0,
      "outputs": []
    }
  ]
}