{
  "nbformat": 4,
  "nbformat_minor": 0,
  "metadata": {
    "colab": {
      "name": "Pandas practice notebook.ipynb",
      "version": "0.3.2",
      "provenance": [],
      "collapsed_sections": [
        "eSk9BkWr7YZK",
        "oy4vB5pS-oXd",
        "rgigVdMBAKhh",
        "wlJuMw9OCSmj",
        "CCtX00vNIHC_",
        "tulUSlhLziWJ",
        "bfLySVax14PC",
        "_8Tq5KYG4XRh",
        "quRdX89BMGau",
        "dCaFjI_-POXw",
        "6htlj58bSIZT",
        "7iVXm-unVhc0",
        "-2tJ8-y65rn5",
        "eneaB0JHoQjK",
        "Qp67ydI1sjNZ",
        "udOcGlGwuUiD",
        "SZCDtVyqvE11",
        "SmAqD_zQwn9q"
      ],
      "include_colab_link": true
    },
    "kernelspec": {
      "name": "python3",
      "display_name": "Python 3"
    }
  },
  "cells": [
    {
      "cell_type": "markdown",
      "metadata": {
        "id": "view-in-github",
        "colab_type": "text"
      },
      "source": [
        "<a href=\"https://colab.research.google.com/github/Hbada/Python-data-analysis-lessons-notebooks/blob/master/Pandas_practice_notebook.ipynb\" target=\"_parent\"><img src=\"https://colab.research.google.com/assets/colab-badge.svg\" alt=\"Open In Colab\"/></a>"
      ]
    },
    {
      "cell_type": "code",
      "metadata": {
        "id": "f9pe6TpV5rU1",
        "colab_type": "code",
        "colab": {}
      },
      "source": [
        "# original notebook source: Google Colab\n",
        "# exercise sources: Udemy course Python for Data Science... by Portilla\n",
        "import numpy as np\n",
        "import pandas as pd"
      ],
      "execution_count": 0,
      "outputs": []
    },
    {
      "cell_type": "markdown",
      "metadata": {
        "id": "eSk9BkWr7YZK",
        "colab_type": "text"
      },
      "source": [
        "## Create series"
      ]
    },
    {
      "cell_type": "code",
      "metadata": {
        "id": "Y1qZDJf67LAx",
        "colab_type": "code",
        "colab": {}
      },
      "source": [
        "# create lists of data\n",
        "labels = ['a', 'b', 'c']\n",
        "my_data = [10, 20, 30]"
      ],
      "execution_count": 0,
      "outputs": []
    },
    {
      "cell_type": "code",
      "metadata": {
        "id": "QnYE0UHD7orz",
        "colab_type": "code",
        "outputId": "eb0fa730-f58d-4993-c5cd-193f9ab27cb9",
        "colab": {
          "base_uri": "https://localhost:8080/",
          "height": 34
        }
      },
      "source": [
        "# create initial array\n",
        "arr = np.array(my_data)\n",
        "arr"
      ],
      "execution_count": 3,
      "outputs": [
        {
          "output_type": "execute_result",
          "data": {
            "text/plain": [
              "array([10, 20, 30])"
            ]
          },
          "metadata": {
            "tags": []
          },
          "execution_count": 3
        }
      ]
    },
    {
      "cell_type": "code",
      "metadata": {
        "id": "7GueqLWL75yo",
        "colab_type": "code",
        "colab": {}
      },
      "source": [
        "# create dictionary\n",
        "d = {'a':10, 'b':20, 'c':30} # Python way to combine index with values"
      ],
      "execution_count": 0,
      "outputs": []
    },
    {
      "cell_type": "code",
      "metadata": {
        "id": "XolLPo6M8IwT",
        "colab_type": "code",
        "outputId": "b587748c-8906-41fa-c348-da808b981428",
        "colab": {
          "base_uri": "https://localhost:8080/",
          "height": 85
        }
      },
      "source": [
        "# create series\n",
        "pd.Series(data = my_data)"
      ],
      "execution_count": 5,
      "outputs": [
        {
          "output_type": "execute_result",
          "data": {
            "text/plain": [
              "0    10\n",
              "1    20\n",
              "2    30\n",
              "dtype: int64"
            ]
          },
          "metadata": {
            "tags": []
          },
          "execution_count": 5
        }
      ]
    },
    {
      "cell_type": "code",
      "metadata": {
        "id": "iw72UL6S8PhQ",
        "colab_type": "code",
        "outputId": "176c07b6-6384-4d91-e0c9-a79eb449d330",
        "colab": {
          "base_uri": "https://localhost:8080/",
          "height": 85
        }
      },
      "source": [
        "# create new series with an index\n",
        "pd.Series(data=my_data, index=labels) # series use labels to denote indexes"
      ],
      "execution_count": 6,
      "outputs": [
        {
          "output_type": "execute_result",
          "data": {
            "text/plain": [
              "a    10\n",
              "b    20\n",
              "c    30\n",
              "dtype: int64"
            ]
          },
          "metadata": {
            "tags": []
          },
          "execution_count": 6
        }
      ]
    },
    {
      "cell_type": "code",
      "metadata": {
        "id": "R8PFoUda8mhP",
        "colab_type": "code",
        "outputId": "de4683c0-89fd-41ee-8a02-a93e62c51a86",
        "colab": {
          "base_uri": "https://localhost:8080/",
          "height": 85
        }
      },
      "source": [
        "# shortcut to create series with index\n",
        "pd.Series(my_data, labels)"
      ],
      "execution_count": 7,
      "outputs": [
        {
          "output_type": "execute_result",
          "data": {
            "text/plain": [
              "a    10\n",
              "b    20\n",
              "c    30\n",
              "dtype: int64"
            ]
          },
          "metadata": {
            "tags": []
          },
          "execution_count": 7
        }
      ]
    },
    {
      "cell_type": "code",
      "metadata": {
        "id": "kzpOTPjM86hp",
        "colab_type": "code",
        "outputId": "90382ae6-92bc-4e38-c34c-533041d5beb8",
        "colab": {
          "base_uri": "https://localhost:8080/",
          "height": 187
        }
      },
      "source": [
        "# create series from any numpy array\n",
        "zeroes = np.zeros(9)\n",
        "pd.Series(zeroes)\n",
        "# can't use .reshape(3,3) yet because .Series() requires 1D array"
      ],
      "execution_count": 8,
      "outputs": [
        {
          "output_type": "execute_result",
          "data": {
            "text/plain": [
              "0    0.0\n",
              "1    0.0\n",
              "2    0.0\n",
              "3    0.0\n",
              "4    0.0\n",
              "5    0.0\n",
              "6    0.0\n",
              "7    0.0\n",
              "8    0.0\n",
              "dtype: float64"
            ]
          },
          "metadata": {
            "tags": []
          },
          "execution_count": 8
        }
      ]
    },
    {
      "cell_type": "code",
      "metadata": {
        "id": "sgDQhgpg9A8d",
        "colab_type": "code",
        "outputId": "52612653-4248-462a-f24e-b4aaee4b77bf",
        "colab": {
          "base_uri": "https://localhost:8080/",
          "height": 85
        }
      },
      "source": [
        "# turn dictionary into series\n",
        "pd.Series(d)\n",
        "# automatically converts dictionary keys to index in the series"
      ],
      "execution_count": 9,
      "outputs": [
        {
          "output_type": "execute_result",
          "data": {
            "text/plain": [
              "a    10\n",
              "b    20\n",
              "c    30\n",
              "dtype: int64"
            ]
          },
          "metadata": {
            "tags": []
          },
          "execution_count": 9
        }
      ]
    },
    {
      "cell_type": "code",
      "metadata": {
        "id": "JgZPtKXF9qUn",
        "colab_type": "code",
        "outputId": "6f62e96f-c43e-4b5b-fa7c-ecc46305f6d8",
        "colab": {
          "base_uri": "https://localhost:8080/",
          "height": 85
        }
      },
      "source": [
        "# create series of strings\n",
        "pd.Series(labels)\n",
        "# index is automatically created, and labels array becomes the values"
      ],
      "execution_count": 10,
      "outputs": [
        {
          "output_type": "execute_result",
          "data": {
            "text/plain": [
              "0    a\n",
              "1    b\n",
              "2    c\n",
              "dtype: object"
            ]
          },
          "metadata": {
            "tags": []
          },
          "execution_count": 10
        }
      ]
    },
    {
      "cell_type": "code",
      "metadata": {
        "id": "0lsDKPlF-ElG",
        "colab_type": "code",
        "outputId": "86c71bc9-9169-4316-c1ed-79ea844ae475",
        "colab": {
          "base_uri": "https://localhost:8080/",
          "height": 68
        }
      },
      "source": [
        "# can also create series holding other object types\n",
        "pd.Series(data=[sum,len]) # series of functions"
      ],
      "execution_count": 11,
      "outputs": [
        {
          "output_type": "execute_result",
          "data": {
            "text/plain": [
              "0    <built-in function sum>\n",
              "1    <built-in function len>\n",
              "dtype: object"
            ]
          },
          "metadata": {
            "tags": []
          },
          "execution_count": 11
        }
      ]
    },
    {
      "cell_type": "markdown",
      "metadata": {
        "id": "oy4vB5pS-oXd",
        "colab_type": "text"
      },
      "source": [
        "## Using index in a series"
      ]
    },
    {
      "cell_type": "code",
      "metadata": {
        "id": "jmhHipBQ-nha",
        "colab_type": "code",
        "outputId": "b3495ee9-ca4c-4db6-d052-cc179bdabe59",
        "colab": {
          "base_uri": "https://localhost:8080/",
          "height": 102
        }
      },
      "source": [
        "# create two series with values then labels\n",
        "ser1 = pd.Series([1, 2, 3, 4], ['Japan', 'Morocco', 'Canada', 'England'])\n",
        "ser1\n"
      ],
      "execution_count": 12,
      "outputs": [
        {
          "output_type": "execute_result",
          "data": {
            "text/plain": [
              "Japan      1\n",
              "Morocco    2\n",
              "Canada     3\n",
              "England    4\n",
              "dtype: int64"
            ]
          },
          "metadata": {
            "tags": []
          },
          "execution_count": 12
        }
      ]
    },
    {
      "cell_type": "code",
      "metadata": {
        "id": "_K9kpVrR9PVT",
        "colab_type": "code",
        "outputId": "d2f7fe8a-b9da-4915-b14b-9587fa7c6552",
        "colab": {
          "base_uri": "https://localhost:8080/",
          "height": 102
        }
      },
      "source": [
        "ser2 = pd.Series([1, 5, 3, 4], ['Japan', 'Italy', 'Canada', 'England'])\n",
        "ser2"
      ],
      "execution_count": 13,
      "outputs": [
        {
          "output_type": "execute_result",
          "data": {
            "text/plain": [
              "Japan      1\n",
              "Italy      5\n",
              "Canada     3\n",
              "England    4\n",
              "dtype: int64"
            ]
          },
          "metadata": {
            "tags": []
          },
          "execution_count": 13
        }
      ]
    },
    {
      "cell_type": "code",
      "metadata": {
        "id": "01RPckXi-ylT",
        "colab_type": "code",
        "outputId": "151154f9-4238-49cb-f8e3-614ab05dd0f7",
        "colab": {
          "base_uri": "https://localhost:8080/",
          "height": 34
        }
      },
      "source": [
        "# retrieve by label as index\n",
        "ser2['Italy']"
      ],
      "execution_count": 14,
      "outputs": [
        {
          "output_type": "execute_result",
          "data": {
            "text/plain": [
              "5"
            ]
          },
          "metadata": {
            "tags": []
          },
          "execution_count": 14
        }
      ]
    },
    {
      "cell_type": "code",
      "metadata": {
        "id": "bqYK8Blb-iEy",
        "colab_type": "code",
        "outputId": "f242e21d-ea25-4006-d29f-9eb19780dd92",
        "colab": {
          "base_uri": "https://localhost:8080/",
          "height": 119
        }
      },
      "source": [
        "# see how indexes line up; add two series\n",
        "ser1 + ser2 # integers become floats automatically so you don't lose info"
      ],
      "execution_count": 15,
      "outputs": [
        {
          "output_type": "execute_result",
          "data": {
            "text/plain": [
              "Canada     6.0\n",
              "England    8.0\n",
              "Italy      NaN\n",
              "Japan      2.0\n",
              "Morocco    NaN\n",
              "dtype: float64"
            ]
          },
          "metadata": {
            "tags": []
          },
          "execution_count": 15
        }
      ]
    },
    {
      "cell_type": "markdown",
      "metadata": {
        "id": "rgigVdMBAKhh",
        "colab_type": "text"
      },
      "source": [
        "## Create data frame"
      ]
    },
    {
      "cell_type": "code",
      "metadata": {
        "id": "_B30zSehAPSn",
        "colab_type": "code",
        "colab": {}
      },
      "source": [
        "from numpy.random import randn\n",
        "np.random.seed(101) # set a seed to match the course instructor's results"
      ],
      "execution_count": 0,
      "outputs": []
    },
    {
      "cell_type": "code",
      "metadata": {
        "id": "YbZ9GRI9AXW6",
        "colab_type": "code",
        "outputId": "9da190e4-6483-4a7b-b639-a59685157ae2",
        "colab": {
          "base_uri": "https://localhost:8080/",
          "height": 204
        }
      },
      "source": [
        "# create table of random normal distribution numbers in 5 rows, 4 columns\n",
        "df = pd.DataFrame(randn(5, 4))\n",
        "df"
      ],
      "execution_count": 17,
      "outputs": [
        {
          "output_type": "execute_result",
          "data": {
            "text/html": [
              "<div>\n",
              "<style scoped>\n",
              "    .dataframe tbody tr th:only-of-type {\n",
              "        vertical-align: middle;\n",
              "    }\n",
              "\n",
              "    .dataframe tbody tr th {\n",
              "        vertical-align: top;\n",
              "    }\n",
              "\n",
              "    .dataframe thead th {\n",
              "        text-align: right;\n",
              "    }\n",
              "</style>\n",
              "<table border=\"1\" class=\"dataframe\">\n",
              "  <thead>\n",
              "    <tr style=\"text-align: right;\">\n",
              "      <th></th>\n",
              "      <th>0</th>\n",
              "      <th>1</th>\n",
              "      <th>2</th>\n",
              "      <th>3</th>\n",
              "    </tr>\n",
              "  </thead>\n",
              "  <tbody>\n",
              "    <tr>\n",
              "      <th>0</th>\n",
              "      <td>2.706850</td>\n",
              "      <td>0.628133</td>\n",
              "      <td>0.907969</td>\n",
              "      <td>0.503826</td>\n",
              "    </tr>\n",
              "    <tr>\n",
              "      <th>1</th>\n",
              "      <td>0.651118</td>\n",
              "      <td>-0.319318</td>\n",
              "      <td>-0.848077</td>\n",
              "      <td>0.605965</td>\n",
              "    </tr>\n",
              "    <tr>\n",
              "      <th>2</th>\n",
              "      <td>-2.018168</td>\n",
              "      <td>0.740122</td>\n",
              "      <td>0.528813</td>\n",
              "      <td>-0.589001</td>\n",
              "    </tr>\n",
              "    <tr>\n",
              "      <th>3</th>\n",
              "      <td>0.188695</td>\n",
              "      <td>-0.758872</td>\n",
              "      <td>-0.933237</td>\n",
              "      <td>0.955057</td>\n",
              "    </tr>\n",
              "    <tr>\n",
              "      <th>4</th>\n",
              "      <td>0.190794</td>\n",
              "      <td>1.978757</td>\n",
              "      <td>2.605967</td>\n",
              "      <td>0.683509</td>\n",
              "    </tr>\n",
              "  </tbody>\n",
              "</table>\n",
              "</div>"
            ],
            "text/plain": [
              "          0         1         2         3\n",
              "0  2.706850  0.628133  0.907969  0.503826\n",
              "1  0.651118 -0.319318 -0.848077  0.605965\n",
              "2 -2.018168  0.740122  0.528813 -0.589001\n",
              "3  0.188695 -0.758872 -0.933237  0.955057\n",
              "4  0.190794  1.978757  2.605967  0.683509"
            ]
          },
          "metadata": {
            "tags": []
          },
          "execution_count": 17
        }
      ]
    },
    {
      "cell_type": "code",
      "metadata": {
        "id": "X99hYmOBBNTG",
        "colab_type": "code",
        "outputId": "794f6733-1256-4fb3-8bf8-2bb159105b23",
        "colab": {
          "base_uri": "https://localhost:8080/",
          "height": 204
        }
      },
      "source": [
        "# create same table but with labels\n",
        "df = pd.DataFrame(randn(5, 4), ['A', 'B', 'C', 'D', 'E'], ['Apples', 'Oranges', 'Bananas', 'Mangos'])\n",
        "df"
      ],
      "execution_count": 18,
      "outputs": [
        {
          "output_type": "execute_result",
          "data": {
            "text/html": [
              "<div>\n",
              "<style scoped>\n",
              "    .dataframe tbody tr th:only-of-type {\n",
              "        vertical-align: middle;\n",
              "    }\n",
              "\n",
              "    .dataframe tbody tr th {\n",
              "        vertical-align: top;\n",
              "    }\n",
              "\n",
              "    .dataframe thead th {\n",
              "        text-align: right;\n",
              "    }\n",
              "</style>\n",
              "<table border=\"1\" class=\"dataframe\">\n",
              "  <thead>\n",
              "    <tr style=\"text-align: right;\">\n",
              "      <th></th>\n",
              "      <th>Apples</th>\n",
              "      <th>Oranges</th>\n",
              "      <th>Bananas</th>\n",
              "      <th>Mangos</th>\n",
              "    </tr>\n",
              "  </thead>\n",
              "  <tbody>\n",
              "    <tr>\n",
              "      <th>A</th>\n",
              "      <td>0.302665</td>\n",
              "      <td>1.693723</td>\n",
              "      <td>-1.706086</td>\n",
              "      <td>-1.159119</td>\n",
              "    </tr>\n",
              "    <tr>\n",
              "      <th>B</th>\n",
              "      <td>-0.134841</td>\n",
              "      <td>0.390528</td>\n",
              "      <td>0.166905</td>\n",
              "      <td>0.184502</td>\n",
              "    </tr>\n",
              "    <tr>\n",
              "      <th>C</th>\n",
              "      <td>0.807706</td>\n",
              "      <td>0.072960</td>\n",
              "      <td>0.638787</td>\n",
              "      <td>0.329646</td>\n",
              "    </tr>\n",
              "    <tr>\n",
              "      <th>D</th>\n",
              "      <td>-0.497104</td>\n",
              "      <td>-0.754070</td>\n",
              "      <td>-0.943406</td>\n",
              "      <td>0.484752</td>\n",
              "    </tr>\n",
              "    <tr>\n",
              "      <th>E</th>\n",
              "      <td>-0.116773</td>\n",
              "      <td>1.901755</td>\n",
              "      <td>0.238127</td>\n",
              "      <td>1.996652</td>\n",
              "    </tr>\n",
              "  </tbody>\n",
              "</table>\n",
              "</div>"
            ],
            "text/plain": [
              "     Apples   Oranges   Bananas    Mangos\n",
              "A  0.302665  1.693723 -1.706086 -1.159119\n",
              "B -0.134841  0.390528  0.166905  0.184502\n",
              "C  0.807706  0.072960  0.638787  0.329646\n",
              "D -0.497104 -0.754070 -0.943406  0.484752\n",
              "E -0.116773  1.901755  0.238127  1.996652"
            ]
          },
          "metadata": {
            "tags": []
          },
          "execution_count": 18
        }
      ]
    },
    {
      "cell_type": "markdown",
      "metadata": {
        "id": "wlJuMw9OCSmj",
        "colab_type": "text"
      },
      "source": [
        "## Select portions of a dataframe"
      ]
    },
    {
      "cell_type": "code",
      "metadata": {
        "id": "tIylNSUXCXgm",
        "colab_type": "code",
        "outputId": "02a4a327-a141-442c-fb93-98a265f473ae",
        "colab": {
          "base_uri": "https://localhost:8080/",
          "height": 119
        }
      },
      "source": [
        "# select one column only\n",
        "df['Apples']"
      ],
      "execution_count": 19,
      "outputs": [
        {
          "output_type": "execute_result",
          "data": {
            "text/plain": [
              "A    0.302665\n",
              "B   -0.134841\n",
              "C    0.807706\n",
              "D   -0.497104\n",
              "E   -0.116773\n",
              "Name: Apples, dtype: float64"
            ]
          },
          "metadata": {
            "tags": []
          },
          "execution_count": 19
        }
      ]
    },
    {
      "cell_type": "code",
      "metadata": {
        "id": "N5FAgNOrChCB",
        "colab_type": "code",
        "outputId": "dea324e4-319e-4b42-99e3-8864427b7462",
        "colab": {
          "base_uri": "https://localhost:8080/",
          "height": 34
        }
      },
      "source": [
        "# confirm that a column is considered a series\n",
        "type(df['Apples'])"
      ],
      "execution_count": 20,
      "outputs": [
        {
          "output_type": "execute_result",
          "data": {
            "text/plain": [
              "pandas.core.series.Series"
            ]
          },
          "metadata": {
            "tags": []
          },
          "execution_count": 20
        }
      ]
    },
    {
      "cell_type": "code",
      "metadata": {
        "id": "56ReY_uPCvCV",
        "colab_type": "code",
        "outputId": "f0447041-3e54-4130-bea4-fddd0afe3d82",
        "colab": {
          "base_uri": "https://localhost:8080/",
          "height": 204
        }
      },
      "source": [
        "# select multiple columns by inserting a list as index\n",
        "df[['Apples', 'Mangos']]"
      ],
      "execution_count": 21,
      "outputs": [
        {
          "output_type": "execute_result",
          "data": {
            "text/html": [
              "<div>\n",
              "<style scoped>\n",
              "    .dataframe tbody tr th:only-of-type {\n",
              "        vertical-align: middle;\n",
              "    }\n",
              "\n",
              "    .dataframe tbody tr th {\n",
              "        vertical-align: top;\n",
              "    }\n",
              "\n",
              "    .dataframe thead th {\n",
              "        text-align: right;\n",
              "    }\n",
              "</style>\n",
              "<table border=\"1\" class=\"dataframe\">\n",
              "  <thead>\n",
              "    <tr style=\"text-align: right;\">\n",
              "      <th></th>\n",
              "      <th>Apples</th>\n",
              "      <th>Mangos</th>\n",
              "    </tr>\n",
              "  </thead>\n",
              "  <tbody>\n",
              "    <tr>\n",
              "      <th>A</th>\n",
              "      <td>0.302665</td>\n",
              "      <td>-1.159119</td>\n",
              "    </tr>\n",
              "    <tr>\n",
              "      <th>B</th>\n",
              "      <td>-0.134841</td>\n",
              "      <td>0.184502</td>\n",
              "    </tr>\n",
              "    <tr>\n",
              "      <th>C</th>\n",
              "      <td>0.807706</td>\n",
              "      <td>0.329646</td>\n",
              "    </tr>\n",
              "    <tr>\n",
              "      <th>D</th>\n",
              "      <td>-0.497104</td>\n",
              "      <td>0.484752</td>\n",
              "    </tr>\n",
              "    <tr>\n",
              "      <th>E</th>\n",
              "      <td>-0.116773</td>\n",
              "      <td>1.996652</td>\n",
              "    </tr>\n",
              "  </tbody>\n",
              "</table>\n",
              "</div>"
            ],
            "text/plain": [
              "     Apples    Mangos\n",
              "A  0.302665 -1.159119\n",
              "B -0.134841  0.184502\n",
              "C  0.807706  0.329646\n",
              "D -0.497104  0.484752\n",
              "E -0.116773  1.996652"
            ]
          },
          "metadata": {
            "tags": []
          },
          "execution_count": 21
        }
      ]
    },
    {
      "cell_type": "code",
      "metadata": {
        "id": "EapHfUmiDXnH",
        "colab_type": "code",
        "outputId": "75159953-f687-4b98-eff0-e35a2696c2fe",
        "colab": {
          "base_uri": "https://localhost:8080/",
          "height": 34
        }
      },
      "source": [
        "# confirm that a multi-column selection is not a series, but rather a df\n",
        "type(df[['Apples', 'Mangos']])"
      ],
      "execution_count": 22,
      "outputs": [
        {
          "output_type": "execute_result",
          "data": {
            "text/plain": [
              "pandas.core.frame.DataFrame"
            ]
          },
          "metadata": {
            "tags": []
          },
          "execution_count": 22
        }
      ]
    },
    {
      "cell_type": "code",
      "metadata": {
        "id": "S2CU2CDaI9jt",
        "colab_type": "code",
        "outputId": "153e89ee-8bfb-41aa-b5b0-593e40a90d0f",
        "colab": {
          "base_uri": "https://localhost:8080/",
          "height": 102
        }
      },
      "source": [
        "# select a row using .loc method\n",
        "df.loc['B']\n",
        "# returns a series"
      ],
      "execution_count": 23,
      "outputs": [
        {
          "output_type": "execute_result",
          "data": {
            "text/plain": [
              "Apples    -0.134841\n",
              "Oranges    0.390528\n",
              "Bananas    0.166905\n",
              "Mangos     0.184502\n",
              "Name: B, dtype: float64"
            ]
          },
          "metadata": {
            "tags": []
          },
          "execution_count": 23
        }
      ]
    },
    {
      "cell_type": "code",
      "metadata": {
        "id": "RDcxR7snJX9e",
        "colab_type": "code",
        "outputId": "150ac4f0-bb14-4b7d-e25e-2b1c7a1b3984",
        "colab": {
          "base_uri": "https://localhost:8080/",
          "height": 102
        }
      },
      "source": [
        "# select a row using index location .iloc method\n",
        "df.iloc[3] # returns row 4"
      ],
      "execution_count": 24,
      "outputs": [
        {
          "output_type": "execute_result",
          "data": {
            "text/plain": [
              "Apples    -0.497104\n",
              "Oranges   -0.754070\n",
              "Bananas   -0.943406\n",
              "Mangos     0.484752\n",
              "Name: D, dtype: float64"
            ]
          },
          "metadata": {
            "tags": []
          },
          "execution_count": 24
        }
      ]
    },
    {
      "cell_type": "code",
      "metadata": {
        "id": "jmuLrXi2a6Sq",
        "colab_type": "code",
        "outputId": "20a0abaf-02c8-4804-abc1-002b97114535",
        "colab": {
          "base_uri": "https://localhost:8080/",
          "height": 34
        }
      },
      "source": [
        "# select a cell given a row and column\n",
        "df.loc['B', 'Oranges']"
      ],
      "execution_count": 25,
      "outputs": [
        {
          "output_type": "execute_result",
          "data": {
            "text/plain": [
              "0.39052784273374097"
            ]
          },
          "metadata": {
            "tags": []
          },
          "execution_count": 25
        }
      ]
    },
    {
      "cell_type": "code",
      "metadata": {
        "id": "QsVxak2YbnC1",
        "colab_type": "code",
        "outputId": "eee3a7f9-3ffd-4f0b-e9b9-d389bb2a9d05",
        "colab": {
          "base_uri": "https://localhost:8080/",
          "height": 204
        }
      },
      "source": [
        "# display current df\n",
        "df"
      ],
      "execution_count": 26,
      "outputs": [
        {
          "output_type": "execute_result",
          "data": {
            "text/html": [
              "<div>\n",
              "<style scoped>\n",
              "    .dataframe tbody tr th:only-of-type {\n",
              "        vertical-align: middle;\n",
              "    }\n",
              "\n",
              "    .dataframe tbody tr th {\n",
              "        vertical-align: top;\n",
              "    }\n",
              "\n",
              "    .dataframe thead th {\n",
              "        text-align: right;\n",
              "    }\n",
              "</style>\n",
              "<table border=\"1\" class=\"dataframe\">\n",
              "  <thead>\n",
              "    <tr style=\"text-align: right;\">\n",
              "      <th></th>\n",
              "      <th>Apples</th>\n",
              "      <th>Oranges</th>\n",
              "      <th>Bananas</th>\n",
              "      <th>Mangos</th>\n",
              "    </tr>\n",
              "  </thead>\n",
              "  <tbody>\n",
              "    <tr>\n",
              "      <th>A</th>\n",
              "      <td>0.302665</td>\n",
              "      <td>1.693723</td>\n",
              "      <td>-1.706086</td>\n",
              "      <td>-1.159119</td>\n",
              "    </tr>\n",
              "    <tr>\n",
              "      <th>B</th>\n",
              "      <td>-0.134841</td>\n",
              "      <td>0.390528</td>\n",
              "      <td>0.166905</td>\n",
              "      <td>0.184502</td>\n",
              "    </tr>\n",
              "    <tr>\n",
              "      <th>C</th>\n",
              "      <td>0.807706</td>\n",
              "      <td>0.072960</td>\n",
              "      <td>0.638787</td>\n",
              "      <td>0.329646</td>\n",
              "    </tr>\n",
              "    <tr>\n",
              "      <th>D</th>\n",
              "      <td>-0.497104</td>\n",
              "      <td>-0.754070</td>\n",
              "      <td>-0.943406</td>\n",
              "      <td>0.484752</td>\n",
              "    </tr>\n",
              "    <tr>\n",
              "      <th>E</th>\n",
              "      <td>-0.116773</td>\n",
              "      <td>1.901755</td>\n",
              "      <td>0.238127</td>\n",
              "      <td>1.996652</td>\n",
              "    </tr>\n",
              "  </tbody>\n",
              "</table>\n",
              "</div>"
            ],
            "text/plain": [
              "     Apples   Oranges   Bananas    Mangos\n",
              "A  0.302665  1.693723 -1.706086 -1.159119\n",
              "B -0.134841  0.390528  0.166905  0.184502\n",
              "C  0.807706  0.072960  0.638787  0.329646\n",
              "D -0.497104 -0.754070 -0.943406  0.484752\n",
              "E -0.116773  1.901755  0.238127  1.996652"
            ]
          },
          "metadata": {
            "tags": []
          },
          "execution_count": 26
        }
      ]
    },
    {
      "cell_type": "code",
      "metadata": {
        "id": "WiEHG3xQbWA0",
        "colab_type": "code",
        "outputId": "2d8aeae1-8896-4973-ba6c-24a02f3aadc3",
        "colab": {
          "base_uri": "https://localhost:8080/",
          "height": 111
        }
      },
      "source": [
        "# select a bunch of cells given a few rows and few columns to include\n",
        "df.loc[['B', 'C'], ['Bananas', 'Mangos']]"
      ],
      "execution_count": 27,
      "outputs": [
        {
          "output_type": "execute_result",
          "data": {
            "text/html": [
              "<div>\n",
              "<style scoped>\n",
              "    .dataframe tbody tr th:only-of-type {\n",
              "        vertical-align: middle;\n",
              "    }\n",
              "\n",
              "    .dataframe tbody tr th {\n",
              "        vertical-align: top;\n",
              "    }\n",
              "\n",
              "    .dataframe thead th {\n",
              "        text-align: right;\n",
              "    }\n",
              "</style>\n",
              "<table border=\"1\" class=\"dataframe\">\n",
              "  <thead>\n",
              "    <tr style=\"text-align: right;\">\n",
              "      <th></th>\n",
              "      <th>Bananas</th>\n",
              "      <th>Mangos</th>\n",
              "    </tr>\n",
              "  </thead>\n",
              "  <tbody>\n",
              "    <tr>\n",
              "      <th>B</th>\n",
              "      <td>0.166905</td>\n",
              "      <td>0.184502</td>\n",
              "    </tr>\n",
              "    <tr>\n",
              "      <th>C</th>\n",
              "      <td>0.638787</td>\n",
              "      <td>0.329646</td>\n",
              "    </tr>\n",
              "  </tbody>\n",
              "</table>\n",
              "</div>"
            ],
            "text/plain": [
              "    Bananas    Mangos\n",
              "B  0.166905  0.184502\n",
              "C  0.638787  0.329646"
            ]
          },
          "metadata": {
            "tags": []
          },
          "execution_count": 27
        }
      ]
    },
    {
      "cell_type": "markdown",
      "metadata": {
        "id": "eHdcsl57IOjc",
        "colab_type": "text"
      },
      "source": [
        "## Add and remove columns and rows"
      ]
    },
    {
      "cell_type": "code",
      "metadata": {
        "id": "3MLOctd8DkG0",
        "colab_type": "code",
        "outputId": "ad054a88-165c-4b36-dd8c-bff4af9b7aff",
        "colab": {
          "base_uri": "https://localhost:8080/",
          "height": 204
        }
      },
      "source": [
        "# add a column to df, in the context of a column operation\n",
        "df['Sum'] = df['Apples'] + df['Oranges'] + df['Bananas'] + df['Mangos'] # sum column is new and contains sums\n",
        "df"
      ],
      "execution_count": 28,
      "outputs": [
        {
          "output_type": "execute_result",
          "data": {
            "text/html": [
              "<div>\n",
              "<style scoped>\n",
              "    .dataframe tbody tr th:only-of-type {\n",
              "        vertical-align: middle;\n",
              "    }\n",
              "\n",
              "    .dataframe tbody tr th {\n",
              "        vertical-align: top;\n",
              "    }\n",
              "\n",
              "    .dataframe thead th {\n",
              "        text-align: right;\n",
              "    }\n",
              "</style>\n",
              "<table border=\"1\" class=\"dataframe\">\n",
              "  <thead>\n",
              "    <tr style=\"text-align: right;\">\n",
              "      <th></th>\n",
              "      <th>Apples</th>\n",
              "      <th>Oranges</th>\n",
              "      <th>Bananas</th>\n",
              "      <th>Mangos</th>\n",
              "      <th>Sum</th>\n",
              "    </tr>\n",
              "  </thead>\n",
              "  <tbody>\n",
              "    <tr>\n",
              "      <th>A</th>\n",
              "      <td>0.302665</td>\n",
              "      <td>1.693723</td>\n",
              "      <td>-1.706086</td>\n",
              "      <td>-1.159119</td>\n",
              "      <td>-0.868817</td>\n",
              "    </tr>\n",
              "    <tr>\n",
              "      <th>B</th>\n",
              "      <td>-0.134841</td>\n",
              "      <td>0.390528</td>\n",
              "      <td>0.166905</td>\n",
              "      <td>0.184502</td>\n",
              "      <td>0.607094</td>\n",
              "    </tr>\n",
              "    <tr>\n",
              "      <th>C</th>\n",
              "      <td>0.807706</td>\n",
              "      <td>0.072960</td>\n",
              "      <td>0.638787</td>\n",
              "      <td>0.329646</td>\n",
              "      <td>1.849099</td>\n",
              "    </tr>\n",
              "    <tr>\n",
              "      <th>D</th>\n",
              "      <td>-0.497104</td>\n",
              "      <td>-0.754070</td>\n",
              "      <td>-0.943406</td>\n",
              "      <td>0.484752</td>\n",
              "      <td>-1.709828</td>\n",
              "    </tr>\n",
              "    <tr>\n",
              "      <th>E</th>\n",
              "      <td>-0.116773</td>\n",
              "      <td>1.901755</td>\n",
              "      <td>0.238127</td>\n",
              "      <td>1.996652</td>\n",
              "      <td>4.019761</td>\n",
              "    </tr>\n",
              "  </tbody>\n",
              "</table>\n",
              "</div>"
            ],
            "text/plain": [
              "     Apples   Oranges   Bananas    Mangos       Sum\n",
              "A  0.302665  1.693723 -1.706086 -1.159119 -0.868817\n",
              "B -0.134841  0.390528  0.166905  0.184502  0.607094\n",
              "C  0.807706  0.072960  0.638787  0.329646  1.849099\n",
              "D -0.497104 -0.754070 -0.943406  0.484752 -1.709828\n",
              "E -0.116773  1.901755  0.238127  1.996652  4.019761"
            ]
          },
          "metadata": {
            "tags": []
          },
          "execution_count": 28
        }
      ]
    },
    {
      "cell_type": "code",
      "metadata": {
        "id": "vEHAzBOJEGN3",
        "colab_type": "code",
        "outputId": "874e51e3-b9f1-4257-e4ec-6cb96d7b0ea1",
        "colab": {
          "base_uri": "https://localhost:8080/",
          "height": 204
        }
      },
      "source": [
        "# remove a column; requires axis=1 to specify it's a column\n",
        "df.drop('Bananas', axis=1)\n",
        "\n",
        "# notice the sum hasn't changed"
      ],
      "execution_count": 29,
      "outputs": [
        {
          "output_type": "execute_result",
          "data": {
            "text/html": [
              "<div>\n",
              "<style scoped>\n",
              "    .dataframe tbody tr th:only-of-type {\n",
              "        vertical-align: middle;\n",
              "    }\n",
              "\n",
              "    .dataframe tbody tr th {\n",
              "        vertical-align: top;\n",
              "    }\n",
              "\n",
              "    .dataframe thead th {\n",
              "        text-align: right;\n",
              "    }\n",
              "</style>\n",
              "<table border=\"1\" class=\"dataframe\">\n",
              "  <thead>\n",
              "    <tr style=\"text-align: right;\">\n",
              "      <th></th>\n",
              "      <th>Apples</th>\n",
              "      <th>Oranges</th>\n",
              "      <th>Mangos</th>\n",
              "      <th>Sum</th>\n",
              "    </tr>\n",
              "  </thead>\n",
              "  <tbody>\n",
              "    <tr>\n",
              "      <th>A</th>\n",
              "      <td>0.302665</td>\n",
              "      <td>1.693723</td>\n",
              "      <td>-1.159119</td>\n",
              "      <td>-0.868817</td>\n",
              "    </tr>\n",
              "    <tr>\n",
              "      <th>B</th>\n",
              "      <td>-0.134841</td>\n",
              "      <td>0.390528</td>\n",
              "      <td>0.184502</td>\n",
              "      <td>0.607094</td>\n",
              "    </tr>\n",
              "    <tr>\n",
              "      <th>C</th>\n",
              "      <td>0.807706</td>\n",
              "      <td>0.072960</td>\n",
              "      <td>0.329646</td>\n",
              "      <td>1.849099</td>\n",
              "    </tr>\n",
              "    <tr>\n",
              "      <th>D</th>\n",
              "      <td>-0.497104</td>\n",
              "      <td>-0.754070</td>\n",
              "      <td>0.484752</td>\n",
              "      <td>-1.709828</td>\n",
              "    </tr>\n",
              "    <tr>\n",
              "      <th>E</th>\n",
              "      <td>-0.116773</td>\n",
              "      <td>1.901755</td>\n",
              "      <td>1.996652</td>\n",
              "      <td>4.019761</td>\n",
              "    </tr>\n",
              "  </tbody>\n",
              "</table>\n",
              "</div>"
            ],
            "text/plain": [
              "     Apples   Oranges    Mangos       Sum\n",
              "A  0.302665  1.693723 -1.159119 -0.868817\n",
              "B -0.134841  0.390528  0.184502  0.607094\n",
              "C  0.807706  0.072960  0.329646  1.849099\n",
              "D -0.497104 -0.754070  0.484752 -1.709828\n",
              "E -0.116773  1.901755  1.996652  4.019761"
            ]
          },
          "metadata": {
            "tags": []
          },
          "execution_count": 29
        }
      ]
    },
    {
      "cell_type": "code",
      "metadata": {
        "id": "djCgWzUlF1KQ",
        "colab_type": "code",
        "outputId": "f2986e97-99ad-4801-f0c5-65c89d3fd11d",
        "colab": {
          "base_uri": "https://localhost:8080/",
          "height": 204
        }
      },
      "source": [
        "# confirm Bananas column still exists\n",
        "df"
      ],
      "execution_count": 30,
      "outputs": [
        {
          "output_type": "execute_result",
          "data": {
            "text/html": [
              "<div>\n",
              "<style scoped>\n",
              "    .dataframe tbody tr th:only-of-type {\n",
              "        vertical-align: middle;\n",
              "    }\n",
              "\n",
              "    .dataframe tbody tr th {\n",
              "        vertical-align: top;\n",
              "    }\n",
              "\n",
              "    .dataframe thead th {\n",
              "        text-align: right;\n",
              "    }\n",
              "</style>\n",
              "<table border=\"1\" class=\"dataframe\">\n",
              "  <thead>\n",
              "    <tr style=\"text-align: right;\">\n",
              "      <th></th>\n",
              "      <th>Apples</th>\n",
              "      <th>Oranges</th>\n",
              "      <th>Bananas</th>\n",
              "      <th>Mangos</th>\n",
              "      <th>Sum</th>\n",
              "    </tr>\n",
              "  </thead>\n",
              "  <tbody>\n",
              "    <tr>\n",
              "      <th>A</th>\n",
              "      <td>0.302665</td>\n",
              "      <td>1.693723</td>\n",
              "      <td>-1.706086</td>\n",
              "      <td>-1.159119</td>\n",
              "      <td>-0.868817</td>\n",
              "    </tr>\n",
              "    <tr>\n",
              "      <th>B</th>\n",
              "      <td>-0.134841</td>\n",
              "      <td>0.390528</td>\n",
              "      <td>0.166905</td>\n",
              "      <td>0.184502</td>\n",
              "      <td>0.607094</td>\n",
              "    </tr>\n",
              "    <tr>\n",
              "      <th>C</th>\n",
              "      <td>0.807706</td>\n",
              "      <td>0.072960</td>\n",
              "      <td>0.638787</td>\n",
              "      <td>0.329646</td>\n",
              "      <td>1.849099</td>\n",
              "    </tr>\n",
              "    <tr>\n",
              "      <th>D</th>\n",
              "      <td>-0.497104</td>\n",
              "      <td>-0.754070</td>\n",
              "      <td>-0.943406</td>\n",
              "      <td>0.484752</td>\n",
              "      <td>-1.709828</td>\n",
              "    </tr>\n",
              "    <tr>\n",
              "      <th>E</th>\n",
              "      <td>-0.116773</td>\n",
              "      <td>1.901755</td>\n",
              "      <td>0.238127</td>\n",
              "      <td>1.996652</td>\n",
              "      <td>4.019761</td>\n",
              "    </tr>\n",
              "  </tbody>\n",
              "</table>\n",
              "</div>"
            ],
            "text/plain": [
              "     Apples   Oranges   Bananas    Mangos       Sum\n",
              "A  0.302665  1.693723 -1.706086 -1.159119 -0.868817\n",
              "B -0.134841  0.390528  0.166905  0.184502  0.607094\n",
              "C  0.807706  0.072960  0.638787  0.329646  1.849099\n",
              "D -0.497104 -0.754070 -0.943406  0.484752 -1.709828\n",
              "E -0.116773  1.901755  0.238127  1.996652  4.019761"
            ]
          },
          "metadata": {
            "tags": []
          },
          "execution_count": 30
        }
      ]
    },
    {
      "cell_type": "code",
      "metadata": {
        "id": "txEG9yAUGOzX",
        "colab_type": "code",
        "outputId": "0a454ab7-b9e5-4891-974e-816dfd4d1314",
        "colab": {
          "base_uri": "https://localhost:8080/",
          "height": 204
        }
      },
      "source": [
        "# delete column for real\n",
        "df.drop('Bananas', axis=1, inplace=True)\n",
        "# also delete Sum column since it was calculated on a previous columns\n",
        "df.drop('Sum', axis=1, inplace=True)\n",
        "df"
      ],
      "execution_count": 31,
      "outputs": [
        {
          "output_type": "execute_result",
          "data": {
            "text/html": [
              "<div>\n",
              "<style scoped>\n",
              "    .dataframe tbody tr th:only-of-type {\n",
              "        vertical-align: middle;\n",
              "    }\n",
              "\n",
              "    .dataframe tbody tr th {\n",
              "        vertical-align: top;\n",
              "    }\n",
              "\n",
              "    .dataframe thead th {\n",
              "        text-align: right;\n",
              "    }\n",
              "</style>\n",
              "<table border=\"1\" class=\"dataframe\">\n",
              "  <thead>\n",
              "    <tr style=\"text-align: right;\">\n",
              "      <th></th>\n",
              "      <th>Apples</th>\n",
              "      <th>Oranges</th>\n",
              "      <th>Mangos</th>\n",
              "    </tr>\n",
              "  </thead>\n",
              "  <tbody>\n",
              "    <tr>\n",
              "      <th>A</th>\n",
              "      <td>0.302665</td>\n",
              "      <td>1.693723</td>\n",
              "      <td>-1.159119</td>\n",
              "    </tr>\n",
              "    <tr>\n",
              "      <th>B</th>\n",
              "      <td>-0.134841</td>\n",
              "      <td>0.390528</td>\n",
              "      <td>0.184502</td>\n",
              "    </tr>\n",
              "    <tr>\n",
              "      <th>C</th>\n",
              "      <td>0.807706</td>\n",
              "      <td>0.072960</td>\n",
              "      <td>0.329646</td>\n",
              "    </tr>\n",
              "    <tr>\n",
              "      <th>D</th>\n",
              "      <td>-0.497104</td>\n",
              "      <td>-0.754070</td>\n",
              "      <td>0.484752</td>\n",
              "    </tr>\n",
              "    <tr>\n",
              "      <th>E</th>\n",
              "      <td>-0.116773</td>\n",
              "      <td>1.901755</td>\n",
              "      <td>1.996652</td>\n",
              "    </tr>\n",
              "  </tbody>\n",
              "</table>\n",
              "</div>"
            ],
            "text/plain": [
              "     Apples   Oranges    Mangos\n",
              "A  0.302665  1.693723 -1.159119\n",
              "B -0.134841  0.390528  0.184502\n",
              "C  0.807706  0.072960  0.329646\n",
              "D -0.497104 -0.754070  0.484752\n",
              "E -0.116773  1.901755  1.996652"
            ]
          },
          "metadata": {
            "tags": []
          },
          "execution_count": 31
        }
      ]
    },
    {
      "cell_type": "code",
      "metadata": {
        "id": "d0K4spoAGWx1",
        "colab_type": "code",
        "outputId": "9326db17-fa38-491c-8ae6-adba4f66b12a",
        "colab": {
          "base_uri": "https://localhost:8080/",
          "height": 173
        }
      },
      "source": [
        "# drop rows\n",
        "df.drop('E', axis=0) # axis=0 can be omitted because it's the default value"
      ],
      "execution_count": 32,
      "outputs": [
        {
          "output_type": "execute_result",
          "data": {
            "text/html": [
              "<div>\n",
              "<style scoped>\n",
              "    .dataframe tbody tr th:only-of-type {\n",
              "        vertical-align: middle;\n",
              "    }\n",
              "\n",
              "    .dataframe tbody tr th {\n",
              "        vertical-align: top;\n",
              "    }\n",
              "\n",
              "    .dataframe thead th {\n",
              "        text-align: right;\n",
              "    }\n",
              "</style>\n",
              "<table border=\"1\" class=\"dataframe\">\n",
              "  <thead>\n",
              "    <tr style=\"text-align: right;\">\n",
              "      <th></th>\n",
              "      <th>Apples</th>\n",
              "      <th>Oranges</th>\n",
              "      <th>Mangos</th>\n",
              "    </tr>\n",
              "  </thead>\n",
              "  <tbody>\n",
              "    <tr>\n",
              "      <th>A</th>\n",
              "      <td>0.302665</td>\n",
              "      <td>1.693723</td>\n",
              "      <td>-1.159119</td>\n",
              "    </tr>\n",
              "    <tr>\n",
              "      <th>B</th>\n",
              "      <td>-0.134841</td>\n",
              "      <td>0.390528</td>\n",
              "      <td>0.184502</td>\n",
              "    </tr>\n",
              "    <tr>\n",
              "      <th>C</th>\n",
              "      <td>0.807706</td>\n",
              "      <td>0.072960</td>\n",
              "      <td>0.329646</td>\n",
              "    </tr>\n",
              "    <tr>\n",
              "      <th>D</th>\n",
              "      <td>-0.497104</td>\n",
              "      <td>-0.754070</td>\n",
              "      <td>0.484752</td>\n",
              "    </tr>\n",
              "  </tbody>\n",
              "</table>\n",
              "</div>"
            ],
            "text/plain": [
              "     Apples   Oranges    Mangos\n",
              "A  0.302665  1.693723 -1.159119\n",
              "B -0.134841  0.390528  0.184502\n",
              "C  0.807706  0.072960  0.329646\n",
              "D -0.497104 -0.754070  0.484752"
            ]
          },
          "metadata": {
            "tags": []
          },
          "execution_count": 32
        }
      ]
    },
    {
      "cell_type": "code",
      "metadata": {
        "id": "fgyk7wzOHn8V",
        "colab_type": "code",
        "outputId": "95e54b2e-13f0-4f01-cf5c-cd25a9f450f6",
        "colab": {
          "base_uri": "https://localhost:8080/",
          "height": 204
        }
      },
      "source": [
        "# notice it still has row E\n",
        "df"
      ],
      "execution_count": 33,
      "outputs": [
        {
          "output_type": "execute_result",
          "data": {
            "text/html": [
              "<div>\n",
              "<style scoped>\n",
              "    .dataframe tbody tr th:only-of-type {\n",
              "        vertical-align: middle;\n",
              "    }\n",
              "\n",
              "    .dataframe tbody tr th {\n",
              "        vertical-align: top;\n",
              "    }\n",
              "\n",
              "    .dataframe thead th {\n",
              "        text-align: right;\n",
              "    }\n",
              "</style>\n",
              "<table border=\"1\" class=\"dataframe\">\n",
              "  <thead>\n",
              "    <tr style=\"text-align: right;\">\n",
              "      <th></th>\n",
              "      <th>Apples</th>\n",
              "      <th>Oranges</th>\n",
              "      <th>Mangos</th>\n",
              "    </tr>\n",
              "  </thead>\n",
              "  <tbody>\n",
              "    <tr>\n",
              "      <th>A</th>\n",
              "      <td>0.302665</td>\n",
              "      <td>1.693723</td>\n",
              "      <td>-1.159119</td>\n",
              "    </tr>\n",
              "    <tr>\n",
              "      <th>B</th>\n",
              "      <td>-0.134841</td>\n",
              "      <td>0.390528</td>\n",
              "      <td>0.184502</td>\n",
              "    </tr>\n",
              "    <tr>\n",
              "      <th>C</th>\n",
              "      <td>0.807706</td>\n",
              "      <td>0.072960</td>\n",
              "      <td>0.329646</td>\n",
              "    </tr>\n",
              "    <tr>\n",
              "      <th>D</th>\n",
              "      <td>-0.497104</td>\n",
              "      <td>-0.754070</td>\n",
              "      <td>0.484752</td>\n",
              "    </tr>\n",
              "    <tr>\n",
              "      <th>E</th>\n",
              "      <td>-0.116773</td>\n",
              "      <td>1.901755</td>\n",
              "      <td>1.996652</td>\n",
              "    </tr>\n",
              "  </tbody>\n",
              "</table>\n",
              "</div>"
            ],
            "text/plain": [
              "     Apples   Oranges    Mangos\n",
              "A  0.302665  1.693723 -1.159119\n",
              "B -0.134841  0.390528  0.184502\n",
              "C  0.807706  0.072960  0.329646\n",
              "D -0.497104 -0.754070  0.484752\n",
              "E -0.116773  1.901755  1.996652"
            ]
          },
          "metadata": {
            "tags": []
          },
          "execution_count": 33
        }
      ]
    },
    {
      "cell_type": "code",
      "metadata": {
        "id": "4PIYVxRdHW2f",
        "colab_type": "code",
        "outputId": "885f451c-a6fc-44aa-9cf6-e190bd8f4749",
        "colab": {
          "base_uri": "https://localhost:8080/",
          "height": 173
        }
      },
      "source": [
        "# delete a row for real\n",
        "df.drop('E', axis=0, inplace=True)\n",
        "df"
      ],
      "execution_count": 34,
      "outputs": [
        {
          "output_type": "execute_result",
          "data": {
            "text/html": [
              "<div>\n",
              "<style scoped>\n",
              "    .dataframe tbody tr th:only-of-type {\n",
              "        vertical-align: middle;\n",
              "    }\n",
              "\n",
              "    .dataframe tbody tr th {\n",
              "        vertical-align: top;\n",
              "    }\n",
              "\n",
              "    .dataframe thead th {\n",
              "        text-align: right;\n",
              "    }\n",
              "</style>\n",
              "<table border=\"1\" class=\"dataframe\">\n",
              "  <thead>\n",
              "    <tr style=\"text-align: right;\">\n",
              "      <th></th>\n",
              "      <th>Apples</th>\n",
              "      <th>Oranges</th>\n",
              "      <th>Mangos</th>\n",
              "    </tr>\n",
              "  </thead>\n",
              "  <tbody>\n",
              "    <tr>\n",
              "      <th>A</th>\n",
              "      <td>0.302665</td>\n",
              "      <td>1.693723</td>\n",
              "      <td>-1.159119</td>\n",
              "    </tr>\n",
              "    <tr>\n",
              "      <th>B</th>\n",
              "      <td>-0.134841</td>\n",
              "      <td>0.390528</td>\n",
              "      <td>0.184502</td>\n",
              "    </tr>\n",
              "    <tr>\n",
              "      <th>C</th>\n",
              "      <td>0.807706</td>\n",
              "      <td>0.072960</td>\n",
              "      <td>0.329646</td>\n",
              "    </tr>\n",
              "    <tr>\n",
              "      <th>D</th>\n",
              "      <td>-0.497104</td>\n",
              "      <td>-0.754070</td>\n",
              "      <td>0.484752</td>\n",
              "    </tr>\n",
              "  </tbody>\n",
              "</table>\n",
              "</div>"
            ],
            "text/plain": [
              "     Apples   Oranges    Mangos\n",
              "A  0.302665  1.693723 -1.159119\n",
              "B -0.134841  0.390528  0.184502\n",
              "C  0.807706  0.072960  0.329646\n",
              "D -0.497104 -0.754070  0.484752"
            ]
          },
          "metadata": {
            "tags": []
          },
          "execution_count": 34
        }
      ]
    },
    {
      "cell_type": "markdown",
      "metadata": {
        "id": "CCtX00vNIHC_",
        "colab_type": "text"
      },
      "source": [
        "## Shape of dataframe"
      ]
    },
    {
      "cell_type": "code",
      "metadata": {
        "id": "wy76NOVyIJZx",
        "colab_type": "code",
        "outputId": "1e333e9c-1635-4f4f-896c-c13aef67d7c6",
        "colab": {
          "base_uri": "https://localhost:8080/",
          "height": 34
        }
      },
      "source": [
        "# retrieve shape of dataframe, in (rows, columns)\n",
        "# this is why axis=0 refers to rows and axis=1 refers to columns above\n",
        "df.shape"
      ],
      "execution_count": 35,
      "outputs": [
        {
          "output_type": "execute_result",
          "data": {
            "text/plain": [
              "(4, 3)"
            ]
          },
          "metadata": {
            "tags": []
          },
          "execution_count": 35
        }
      ]
    },
    {
      "cell_type": "markdown",
      "metadata": {
        "id": "tulUSlhLziWJ",
        "colab_type": "text"
      },
      "source": [
        "## Conditional selection"
      ]
    },
    {
      "cell_type": "code",
      "metadata": {
        "id": "_AJyC-Q4zkKb",
        "colab_type": "code",
        "outputId": "94a62023-c6eb-4e19-82e5-e7819d67e6ee",
        "colab": {
          "base_uri": "https://localhost:8080/",
          "height": 173
        }
      },
      "source": [
        "# return boolean for whether cell > 0\n",
        "booldf = df > 0\n",
        "booldf"
      ],
      "execution_count": 36,
      "outputs": [
        {
          "output_type": "execute_result",
          "data": {
            "text/html": [
              "<div>\n",
              "<style scoped>\n",
              "    .dataframe tbody tr th:only-of-type {\n",
              "        vertical-align: middle;\n",
              "    }\n",
              "\n",
              "    .dataframe tbody tr th {\n",
              "        vertical-align: top;\n",
              "    }\n",
              "\n",
              "    .dataframe thead th {\n",
              "        text-align: right;\n",
              "    }\n",
              "</style>\n",
              "<table border=\"1\" class=\"dataframe\">\n",
              "  <thead>\n",
              "    <tr style=\"text-align: right;\">\n",
              "      <th></th>\n",
              "      <th>Apples</th>\n",
              "      <th>Oranges</th>\n",
              "      <th>Mangos</th>\n",
              "    </tr>\n",
              "  </thead>\n",
              "  <tbody>\n",
              "    <tr>\n",
              "      <th>A</th>\n",
              "      <td>True</td>\n",
              "      <td>True</td>\n",
              "      <td>False</td>\n",
              "    </tr>\n",
              "    <tr>\n",
              "      <th>B</th>\n",
              "      <td>False</td>\n",
              "      <td>True</td>\n",
              "      <td>True</td>\n",
              "    </tr>\n",
              "    <tr>\n",
              "      <th>C</th>\n",
              "      <td>True</td>\n",
              "      <td>True</td>\n",
              "      <td>True</td>\n",
              "    </tr>\n",
              "    <tr>\n",
              "      <th>D</th>\n",
              "      <td>False</td>\n",
              "      <td>False</td>\n",
              "      <td>True</td>\n",
              "    </tr>\n",
              "  </tbody>\n",
              "</table>\n",
              "</div>"
            ],
            "text/plain": [
              "   Apples  Oranges  Mangos\n",
              "A    True     True   False\n",
              "B   False     True    True\n",
              "C    True     True    True\n",
              "D   False    False    True"
            ]
          },
          "metadata": {
            "tags": []
          },
          "execution_count": 36
        }
      ]
    },
    {
      "cell_type": "code",
      "metadata": {
        "id": "GmqltpgSzpGf",
        "colab_type": "code",
        "outputId": "b72a2716-6256-4757-d83d-de180ffd756f",
        "colab": {
          "base_uri": "https://localhost:8080/",
          "height": 173
        }
      },
      "source": [
        "# cells that are True return a value; False give null result\n",
        "df[booldf]"
      ],
      "execution_count": 37,
      "outputs": [
        {
          "output_type": "execute_result",
          "data": {
            "text/html": [
              "<div>\n",
              "<style scoped>\n",
              "    .dataframe tbody tr th:only-of-type {\n",
              "        vertical-align: middle;\n",
              "    }\n",
              "\n",
              "    .dataframe tbody tr th {\n",
              "        vertical-align: top;\n",
              "    }\n",
              "\n",
              "    .dataframe thead th {\n",
              "        text-align: right;\n",
              "    }\n",
              "</style>\n",
              "<table border=\"1\" class=\"dataframe\">\n",
              "  <thead>\n",
              "    <tr style=\"text-align: right;\">\n",
              "      <th></th>\n",
              "      <th>Apples</th>\n",
              "      <th>Oranges</th>\n",
              "      <th>Mangos</th>\n",
              "    </tr>\n",
              "  </thead>\n",
              "  <tbody>\n",
              "    <tr>\n",
              "      <th>A</th>\n",
              "      <td>0.302665</td>\n",
              "      <td>1.693723</td>\n",
              "      <td>NaN</td>\n",
              "    </tr>\n",
              "    <tr>\n",
              "      <th>B</th>\n",
              "      <td>NaN</td>\n",
              "      <td>0.390528</td>\n",
              "      <td>0.184502</td>\n",
              "    </tr>\n",
              "    <tr>\n",
              "      <th>C</th>\n",
              "      <td>0.807706</td>\n",
              "      <td>0.072960</td>\n",
              "      <td>0.329646</td>\n",
              "    </tr>\n",
              "    <tr>\n",
              "      <th>D</th>\n",
              "      <td>NaN</td>\n",
              "      <td>NaN</td>\n",
              "      <td>0.484752</td>\n",
              "    </tr>\n",
              "  </tbody>\n",
              "</table>\n",
              "</div>"
            ],
            "text/plain": [
              "     Apples   Oranges    Mangos\n",
              "A  0.302665  1.693723       NaN\n",
              "B       NaN  0.390528  0.184502\n",
              "C  0.807706  0.072960  0.329646\n",
              "D       NaN       NaN  0.484752"
            ]
          },
          "metadata": {
            "tags": []
          },
          "execution_count": 37
        }
      ]
    },
    {
      "cell_type": "code",
      "metadata": {
        "id": "MXnurIta0ne2",
        "colab_type": "code",
        "outputId": "10664a8a-0f9f-497e-f857-f1d6a6932681",
        "colab": {
          "base_uri": "https://localhost:8080/",
          "height": 173
        }
      },
      "source": [
        "# shortcut to df of a condition\n",
        "df[df > 0]"
      ],
      "execution_count": 38,
      "outputs": [
        {
          "output_type": "execute_result",
          "data": {
            "text/html": [
              "<div>\n",
              "<style scoped>\n",
              "    .dataframe tbody tr th:only-of-type {\n",
              "        vertical-align: middle;\n",
              "    }\n",
              "\n",
              "    .dataframe tbody tr th {\n",
              "        vertical-align: top;\n",
              "    }\n",
              "\n",
              "    .dataframe thead th {\n",
              "        text-align: right;\n",
              "    }\n",
              "</style>\n",
              "<table border=\"1\" class=\"dataframe\">\n",
              "  <thead>\n",
              "    <tr style=\"text-align: right;\">\n",
              "      <th></th>\n",
              "      <th>Apples</th>\n",
              "      <th>Oranges</th>\n",
              "      <th>Mangos</th>\n",
              "    </tr>\n",
              "  </thead>\n",
              "  <tbody>\n",
              "    <tr>\n",
              "      <th>A</th>\n",
              "      <td>0.302665</td>\n",
              "      <td>1.693723</td>\n",
              "      <td>NaN</td>\n",
              "    </tr>\n",
              "    <tr>\n",
              "      <th>B</th>\n",
              "      <td>NaN</td>\n",
              "      <td>0.390528</td>\n",
              "      <td>0.184502</td>\n",
              "    </tr>\n",
              "    <tr>\n",
              "      <th>C</th>\n",
              "      <td>0.807706</td>\n",
              "      <td>0.072960</td>\n",
              "      <td>0.329646</td>\n",
              "    </tr>\n",
              "    <tr>\n",
              "      <th>D</th>\n",
              "      <td>NaN</td>\n",
              "      <td>NaN</td>\n",
              "      <td>0.484752</td>\n",
              "    </tr>\n",
              "  </tbody>\n",
              "</table>\n",
              "</div>"
            ],
            "text/plain": [
              "     Apples   Oranges    Mangos\n",
              "A  0.302665  1.693723       NaN\n",
              "B       NaN  0.390528  0.184502\n",
              "C  0.807706  0.072960  0.329646\n",
              "D       NaN       NaN  0.484752"
            ]
          },
          "metadata": {
            "tags": []
          },
          "execution_count": 38
        }
      ]
    },
    {
      "cell_type": "code",
      "metadata": {
        "id": "xESiAP5203eF",
        "colab_type": "code",
        "outputId": "4818119a-d975-484b-a225-cd4e06b2031b",
        "colab": {
          "base_uri": "https://localhost:8080/",
          "height": 173
        }
      },
      "source": [
        "# note df as a variable still exists\n",
        "df"
      ],
      "execution_count": 39,
      "outputs": [
        {
          "output_type": "execute_result",
          "data": {
            "text/html": [
              "<div>\n",
              "<style scoped>\n",
              "    .dataframe tbody tr th:only-of-type {\n",
              "        vertical-align: middle;\n",
              "    }\n",
              "\n",
              "    .dataframe tbody tr th {\n",
              "        vertical-align: top;\n",
              "    }\n",
              "\n",
              "    .dataframe thead th {\n",
              "        text-align: right;\n",
              "    }\n",
              "</style>\n",
              "<table border=\"1\" class=\"dataframe\">\n",
              "  <thead>\n",
              "    <tr style=\"text-align: right;\">\n",
              "      <th></th>\n",
              "      <th>Apples</th>\n",
              "      <th>Oranges</th>\n",
              "      <th>Mangos</th>\n",
              "    </tr>\n",
              "  </thead>\n",
              "  <tbody>\n",
              "    <tr>\n",
              "      <th>A</th>\n",
              "      <td>0.302665</td>\n",
              "      <td>1.693723</td>\n",
              "      <td>-1.159119</td>\n",
              "    </tr>\n",
              "    <tr>\n",
              "      <th>B</th>\n",
              "      <td>-0.134841</td>\n",
              "      <td>0.390528</td>\n",
              "      <td>0.184502</td>\n",
              "    </tr>\n",
              "    <tr>\n",
              "      <th>C</th>\n",
              "      <td>0.807706</td>\n",
              "      <td>0.072960</td>\n",
              "      <td>0.329646</td>\n",
              "    </tr>\n",
              "    <tr>\n",
              "      <th>D</th>\n",
              "      <td>-0.497104</td>\n",
              "      <td>-0.754070</td>\n",
              "      <td>0.484752</td>\n",
              "    </tr>\n",
              "  </tbody>\n",
              "</table>\n",
              "</div>"
            ],
            "text/plain": [
              "     Apples   Oranges    Mangos\n",
              "A  0.302665  1.693723 -1.159119\n",
              "B -0.134841  0.390528  0.184502\n",
              "C  0.807706  0.072960  0.329646\n",
              "D -0.497104 -0.754070  0.484752"
            ]
          },
          "metadata": {
            "tags": []
          },
          "execution_count": 39
        }
      ]
    },
    {
      "cell_type": "code",
      "metadata": {
        "id": "VPr_FS-i1E51",
        "colab_type": "code",
        "outputId": "44670b6f-df6d-4407-e360-37a0c000bb19",
        "colab": {
          "base_uri": "https://localhost:8080/",
          "height": 102
        }
      },
      "source": [
        "# find all positives in a column\n",
        "df['Apples'] > 0 # returns a series"
      ],
      "execution_count": 40,
      "outputs": [
        {
          "output_type": "execute_result",
          "data": {
            "text/plain": [
              "A     True\n",
              "B    False\n",
              "C     True\n",
              "D    False\n",
              "Name: Apples, dtype: bool"
            ]
          },
          "metadata": {
            "tags": []
          },
          "execution_count": 40
        }
      ]
    },
    {
      "cell_type": "code",
      "metadata": {
        "id": "ND67EPhB1R3A",
        "colab_type": "code",
        "outputId": "2476e38f-1d85-4d79-f379-ef27bdd8eaba",
        "colab": {
          "base_uri": "https://localhost:8080/",
          "height": 111
        }
      },
      "source": [
        "# select all rows that have True condition in Apples column\n",
        "df[df['Apples'] > 0]"
      ],
      "execution_count": 41,
      "outputs": [
        {
          "output_type": "execute_result",
          "data": {
            "text/html": [
              "<div>\n",
              "<style scoped>\n",
              "    .dataframe tbody tr th:only-of-type {\n",
              "        vertical-align: middle;\n",
              "    }\n",
              "\n",
              "    .dataframe tbody tr th {\n",
              "        vertical-align: top;\n",
              "    }\n",
              "\n",
              "    .dataframe thead th {\n",
              "        text-align: right;\n",
              "    }\n",
              "</style>\n",
              "<table border=\"1\" class=\"dataframe\">\n",
              "  <thead>\n",
              "    <tr style=\"text-align: right;\">\n",
              "      <th></th>\n",
              "      <th>Apples</th>\n",
              "      <th>Oranges</th>\n",
              "      <th>Mangos</th>\n",
              "    </tr>\n",
              "  </thead>\n",
              "  <tbody>\n",
              "    <tr>\n",
              "      <th>A</th>\n",
              "      <td>0.302665</td>\n",
              "      <td>1.693723</td>\n",
              "      <td>-1.159119</td>\n",
              "    </tr>\n",
              "    <tr>\n",
              "      <th>C</th>\n",
              "      <td>0.807706</td>\n",
              "      <td>0.072960</td>\n",
              "      <td>0.329646</td>\n",
              "    </tr>\n",
              "  </tbody>\n",
              "</table>\n",
              "</div>"
            ],
            "text/plain": [
              "     Apples   Oranges    Mangos\n",
              "A  0.302665  1.693723 -1.159119\n",
              "C  0.807706  0.072960  0.329646"
            ]
          },
          "metadata": {
            "tags": []
          },
          "execution_count": 41
        }
      ]
    },
    {
      "cell_type": "code",
      "metadata": {
        "id": "Ay4BJWr03UZF",
        "colab_type": "code",
        "outputId": "bd067329-f8f0-480d-e079-dd6ab46b157b",
        "colab": {
          "base_uri": "https://localhost:8080/",
          "height": 68
        }
      },
      "source": [
        "# selections based on the results of the condition\n",
        "# save the conditional selection to a variable\n",
        "resultdf = df[df['Apples'] > 0]\n",
        "# select one column of the results\n",
        "resultdf['Oranges'] # all the Oranges values, for rows with positive Apples values"
      ],
      "execution_count": 42,
      "outputs": [
        {
          "output_type": "execute_result",
          "data": {
            "text/plain": [
              "A    1.693723\n",
              "C    0.072960\n",
              "Name: Oranges, dtype: float64"
            ]
          },
          "metadata": {
            "tags": []
          },
          "execution_count": 42
        }
      ]
    },
    {
      "cell_type": "code",
      "metadata": {
        "id": "SZJHJouQ4iTU",
        "colab_type": "code",
        "outputId": "7af3a152-9640-45ce-8ec5-2c153e9fb85c",
        "colab": {
          "base_uri": "https://localhost:8080/",
          "height": 68
        }
      },
      "source": [
        "# shortcut for prior cell\n",
        "df[df['Apples'] > 0]['Oranges']\n",
        "# process uses less memory where you use fewer variables"
      ],
      "execution_count": 43,
      "outputs": [
        {
          "output_type": "execute_result",
          "data": {
            "text/plain": [
              "A    1.693723\n",
              "C    0.072960\n",
              "Name: Oranges, dtype: float64"
            ]
          },
          "metadata": {
            "tags": []
          },
          "execution_count": 43
        }
      ]
    },
    {
      "cell_type": "code",
      "metadata": {
        "id": "84K7eH7P40mY",
        "colab_type": "code",
        "outputId": "56ac30ee-7c51-4588-aa29-ed895584e344",
        "colab": {
          "base_uri": "https://localhost:8080/",
          "height": 111
        }
      },
      "source": [
        "# another shortcut; collect Orange & Mango cols for rows with positive Apples value\n",
        "df[df['Apples']>0][['Oranges', 'Mangos']] # the 'filter' is a list thus double brackets\n",
        "# combining like this, without breaking each step down and using variables...\n",
        "# is example of abstraction\n",
        "# reminds me of gloves as abstraction of German 'hand shoe' noun"
      ],
      "execution_count": 44,
      "outputs": [
        {
          "output_type": "execute_result",
          "data": {
            "text/html": [
              "<div>\n",
              "<style scoped>\n",
              "    .dataframe tbody tr th:only-of-type {\n",
              "        vertical-align: middle;\n",
              "    }\n",
              "\n",
              "    .dataframe tbody tr th {\n",
              "        vertical-align: top;\n",
              "    }\n",
              "\n",
              "    .dataframe thead th {\n",
              "        text-align: right;\n",
              "    }\n",
              "</style>\n",
              "<table border=\"1\" class=\"dataframe\">\n",
              "  <thead>\n",
              "    <tr style=\"text-align: right;\">\n",
              "      <th></th>\n",
              "      <th>Oranges</th>\n",
              "      <th>Mangos</th>\n",
              "    </tr>\n",
              "  </thead>\n",
              "  <tbody>\n",
              "    <tr>\n",
              "      <th>A</th>\n",
              "      <td>1.693723</td>\n",
              "      <td>-1.159119</td>\n",
              "    </tr>\n",
              "    <tr>\n",
              "      <th>C</th>\n",
              "      <td>0.072960</td>\n",
              "      <td>0.329646</td>\n",
              "    </tr>\n",
              "  </tbody>\n",
              "</table>\n",
              "</div>"
            ],
            "text/plain": [
              "    Oranges    Mangos\n",
              "A  1.693723 -1.159119\n",
              "C  0.072960  0.329646"
            ]
          },
          "metadata": {
            "tags": []
          },
          "execution_count": 44
        }
      ]
    },
    {
      "cell_type": "markdown",
      "metadata": {
        "id": "bfLySVax14PC",
        "colab_type": "text"
      },
      "source": [
        "## Selecting with multiple conditions"
      ]
    },
    {
      "cell_type": "code",
      "metadata": {
        "id": "YEtzDOKN18Y3",
        "colab_type": "code",
        "outputId": "bb9be5e7-c985-46dc-e774-fd9d552fe48e",
        "colab": {
          "base_uri": "https://localhost:8080/",
          "height": 80
        }
      },
      "source": [
        "# show DataFrame involving mulitiple conditions with 'and'\n",
        "df[(df['Apples'] > 0) & (df['Mangos'] > 0)]"
      ],
      "execution_count": 45,
      "outputs": [
        {
          "output_type": "execute_result",
          "data": {
            "text/html": [
              "<div>\n",
              "<style scoped>\n",
              "    .dataframe tbody tr th:only-of-type {\n",
              "        vertical-align: middle;\n",
              "    }\n",
              "\n",
              "    .dataframe tbody tr th {\n",
              "        vertical-align: top;\n",
              "    }\n",
              "\n",
              "    .dataframe thead th {\n",
              "        text-align: right;\n",
              "    }\n",
              "</style>\n",
              "<table border=\"1\" class=\"dataframe\">\n",
              "  <thead>\n",
              "    <tr style=\"text-align: right;\">\n",
              "      <th></th>\n",
              "      <th>Apples</th>\n",
              "      <th>Oranges</th>\n",
              "      <th>Mangos</th>\n",
              "    </tr>\n",
              "  </thead>\n",
              "  <tbody>\n",
              "    <tr>\n",
              "      <th>C</th>\n",
              "      <td>0.807706</td>\n",
              "      <td>0.07296</td>\n",
              "      <td>0.329646</td>\n",
              "    </tr>\n",
              "  </tbody>\n",
              "</table>\n",
              "</div>"
            ],
            "text/plain": [
              "     Apples  Oranges    Mangos\n",
              "C  0.807706  0.07296  0.329646"
            ]
          },
          "metadata": {
            "tags": []
          },
          "execution_count": 45
        }
      ]
    },
    {
      "cell_type": "code",
      "metadata": {
        "id": "MYb2osIB2qpD",
        "colab_type": "code",
        "outputId": "af01844b-e42b-416e-e962-5821110e0fd6",
        "colab": {
          "base_uri": "https://localhost:8080/",
          "height": 173
        }
      },
      "source": [
        "# show DataFrame involving multiple conditions with 'or'\n",
        "df[(df['Apples'] > 0) | (df['Mangos'] > 0)]"
      ],
      "execution_count": 46,
      "outputs": [
        {
          "output_type": "execute_result",
          "data": {
            "text/html": [
              "<div>\n",
              "<style scoped>\n",
              "    .dataframe tbody tr th:only-of-type {\n",
              "        vertical-align: middle;\n",
              "    }\n",
              "\n",
              "    .dataframe tbody tr th {\n",
              "        vertical-align: top;\n",
              "    }\n",
              "\n",
              "    .dataframe thead th {\n",
              "        text-align: right;\n",
              "    }\n",
              "</style>\n",
              "<table border=\"1\" class=\"dataframe\">\n",
              "  <thead>\n",
              "    <tr style=\"text-align: right;\">\n",
              "      <th></th>\n",
              "      <th>Apples</th>\n",
              "      <th>Oranges</th>\n",
              "      <th>Mangos</th>\n",
              "    </tr>\n",
              "  </thead>\n",
              "  <tbody>\n",
              "    <tr>\n",
              "      <th>A</th>\n",
              "      <td>0.302665</td>\n",
              "      <td>1.693723</td>\n",
              "      <td>-1.159119</td>\n",
              "    </tr>\n",
              "    <tr>\n",
              "      <th>B</th>\n",
              "      <td>-0.134841</td>\n",
              "      <td>0.390528</td>\n",
              "      <td>0.184502</td>\n",
              "    </tr>\n",
              "    <tr>\n",
              "      <th>C</th>\n",
              "      <td>0.807706</td>\n",
              "      <td>0.072960</td>\n",
              "      <td>0.329646</td>\n",
              "    </tr>\n",
              "    <tr>\n",
              "      <th>D</th>\n",
              "      <td>-0.497104</td>\n",
              "      <td>-0.754070</td>\n",
              "      <td>0.484752</td>\n",
              "    </tr>\n",
              "  </tbody>\n",
              "</table>\n",
              "</div>"
            ],
            "text/plain": [
              "     Apples   Oranges    Mangos\n",
              "A  0.302665  1.693723 -1.159119\n",
              "B -0.134841  0.390528  0.184502\n",
              "C  0.807706  0.072960  0.329646\n",
              "D -0.497104 -0.754070  0.484752"
            ]
          },
          "metadata": {
            "tags": []
          },
          "execution_count": 46
        }
      ]
    },
    {
      "cell_type": "markdown",
      "metadata": {
        "id": "_8Tq5KYG4XRh",
        "colab_type": "text"
      },
      "source": [
        "## Reset index"
      ]
    },
    {
      "cell_type": "code",
      "metadata": {
        "id": "fPQzjiSa4aOY",
        "colab_type": "code",
        "outputId": "e3db57cc-63d7-4489-cb5d-2988625d9409",
        "colab": {
          "base_uri": "https://localhost:8080/",
          "height": 173
        }
      },
      "source": [
        "df"
      ],
      "execution_count": 47,
      "outputs": [
        {
          "output_type": "execute_result",
          "data": {
            "text/html": [
              "<div>\n",
              "<style scoped>\n",
              "    .dataframe tbody tr th:only-of-type {\n",
              "        vertical-align: middle;\n",
              "    }\n",
              "\n",
              "    .dataframe tbody tr th {\n",
              "        vertical-align: top;\n",
              "    }\n",
              "\n",
              "    .dataframe thead th {\n",
              "        text-align: right;\n",
              "    }\n",
              "</style>\n",
              "<table border=\"1\" class=\"dataframe\">\n",
              "  <thead>\n",
              "    <tr style=\"text-align: right;\">\n",
              "      <th></th>\n",
              "      <th>Apples</th>\n",
              "      <th>Oranges</th>\n",
              "      <th>Mangos</th>\n",
              "    </tr>\n",
              "  </thead>\n",
              "  <tbody>\n",
              "    <tr>\n",
              "      <th>A</th>\n",
              "      <td>0.302665</td>\n",
              "      <td>1.693723</td>\n",
              "      <td>-1.159119</td>\n",
              "    </tr>\n",
              "    <tr>\n",
              "      <th>B</th>\n",
              "      <td>-0.134841</td>\n",
              "      <td>0.390528</td>\n",
              "      <td>0.184502</td>\n",
              "    </tr>\n",
              "    <tr>\n",
              "      <th>C</th>\n",
              "      <td>0.807706</td>\n",
              "      <td>0.072960</td>\n",
              "      <td>0.329646</td>\n",
              "    </tr>\n",
              "    <tr>\n",
              "      <th>D</th>\n",
              "      <td>-0.497104</td>\n",
              "      <td>-0.754070</td>\n",
              "      <td>0.484752</td>\n",
              "    </tr>\n",
              "  </tbody>\n",
              "</table>\n",
              "</div>"
            ],
            "text/plain": [
              "     Apples   Oranges    Mangos\n",
              "A  0.302665  1.693723 -1.159119\n",
              "B -0.134841  0.390528  0.184502\n",
              "C  0.807706  0.072960  0.329646\n",
              "D -0.497104 -0.754070  0.484752"
            ]
          },
          "metadata": {
            "tags": []
          },
          "execution_count": 47
        }
      ]
    },
    {
      "cell_type": "code",
      "metadata": {
        "id": "nqEpAs724dgR",
        "colab_type": "code",
        "outputId": "13b4dfb7-c8b9-43fe-dd51-d78820c8fbec",
        "colab": {
          "base_uri": "https://localhost:8080/",
          "height": 173
        }
      },
      "source": [
        "# reset index\n",
        "df.reset_index()\n",
        "# notice letters for rows are now in a column and you see index number"
      ],
      "execution_count": 48,
      "outputs": [
        {
          "output_type": "execute_result",
          "data": {
            "text/html": [
              "<div>\n",
              "<style scoped>\n",
              "    .dataframe tbody tr th:only-of-type {\n",
              "        vertical-align: middle;\n",
              "    }\n",
              "\n",
              "    .dataframe tbody tr th {\n",
              "        vertical-align: top;\n",
              "    }\n",
              "\n",
              "    .dataframe thead th {\n",
              "        text-align: right;\n",
              "    }\n",
              "</style>\n",
              "<table border=\"1\" class=\"dataframe\">\n",
              "  <thead>\n",
              "    <tr style=\"text-align: right;\">\n",
              "      <th></th>\n",
              "      <th>index</th>\n",
              "      <th>Apples</th>\n",
              "      <th>Oranges</th>\n",
              "      <th>Mangos</th>\n",
              "    </tr>\n",
              "  </thead>\n",
              "  <tbody>\n",
              "    <tr>\n",
              "      <th>0</th>\n",
              "      <td>A</td>\n",
              "      <td>0.302665</td>\n",
              "      <td>1.693723</td>\n",
              "      <td>-1.159119</td>\n",
              "    </tr>\n",
              "    <tr>\n",
              "      <th>1</th>\n",
              "      <td>B</td>\n",
              "      <td>-0.134841</td>\n",
              "      <td>0.390528</td>\n",
              "      <td>0.184502</td>\n",
              "    </tr>\n",
              "    <tr>\n",
              "      <th>2</th>\n",
              "      <td>C</td>\n",
              "      <td>0.807706</td>\n",
              "      <td>0.072960</td>\n",
              "      <td>0.329646</td>\n",
              "    </tr>\n",
              "    <tr>\n",
              "      <th>3</th>\n",
              "      <td>D</td>\n",
              "      <td>-0.497104</td>\n",
              "      <td>-0.754070</td>\n",
              "      <td>0.484752</td>\n",
              "    </tr>\n",
              "  </tbody>\n",
              "</table>\n",
              "</div>"
            ],
            "text/plain": [
              "  index    Apples   Oranges    Mangos\n",
              "0     A  0.302665  1.693723 -1.159119\n",
              "1     B -0.134841  0.390528  0.184502\n",
              "2     C  0.807706  0.072960  0.329646\n",
              "3     D -0.497104 -0.754070  0.484752"
            ]
          },
          "metadata": {
            "tags": []
          },
          "execution_count": 48
        }
      ]
    },
    {
      "cell_type": "code",
      "metadata": {
        "id": "aaz1BbI-4kjK",
        "colab_type": "code",
        "outputId": "4c569588-c678-4aee-fe55-343ae6b26742",
        "colab": {
          "base_uri": "https://localhost:8080/",
          "height": 173
        }
      },
      "source": [
        "# note that index number still won't show when you call the variable\n",
        "df"
      ],
      "execution_count": 49,
      "outputs": [
        {
          "output_type": "execute_result",
          "data": {
            "text/html": [
              "<div>\n",
              "<style scoped>\n",
              "    .dataframe tbody tr th:only-of-type {\n",
              "        vertical-align: middle;\n",
              "    }\n",
              "\n",
              "    .dataframe tbody tr th {\n",
              "        vertical-align: top;\n",
              "    }\n",
              "\n",
              "    .dataframe thead th {\n",
              "        text-align: right;\n",
              "    }\n",
              "</style>\n",
              "<table border=\"1\" class=\"dataframe\">\n",
              "  <thead>\n",
              "    <tr style=\"text-align: right;\">\n",
              "      <th></th>\n",
              "      <th>Apples</th>\n",
              "      <th>Oranges</th>\n",
              "      <th>Mangos</th>\n",
              "    </tr>\n",
              "  </thead>\n",
              "  <tbody>\n",
              "    <tr>\n",
              "      <th>A</th>\n",
              "      <td>0.302665</td>\n",
              "      <td>1.693723</td>\n",
              "      <td>-1.159119</td>\n",
              "    </tr>\n",
              "    <tr>\n",
              "      <th>B</th>\n",
              "      <td>-0.134841</td>\n",
              "      <td>0.390528</td>\n",
              "      <td>0.184502</td>\n",
              "    </tr>\n",
              "    <tr>\n",
              "      <th>C</th>\n",
              "      <td>0.807706</td>\n",
              "      <td>0.072960</td>\n",
              "      <td>0.329646</td>\n",
              "    </tr>\n",
              "    <tr>\n",
              "      <th>D</th>\n",
              "      <td>-0.497104</td>\n",
              "      <td>-0.754070</td>\n",
              "      <td>0.484752</td>\n",
              "    </tr>\n",
              "  </tbody>\n",
              "</table>\n",
              "</div>"
            ],
            "text/plain": [
              "     Apples   Oranges    Mangos\n",
              "A  0.302665  1.693723 -1.159119\n",
              "B -0.134841  0.390528  0.184502\n",
              "C  0.807706  0.072960  0.329646\n",
              "D -0.497104 -0.754070  0.484752"
            ]
          },
          "metadata": {
            "tags": []
          },
          "execution_count": 49
        }
      ]
    },
    {
      "cell_type": "code",
      "metadata": {
        "id": "mETtIS7Q4_LX",
        "colab_type": "code",
        "colab": {}
      },
      "source": [
        "# make the index numbers remain in place\n",
        "# df.reset_index(inplace=True)\n",
        "# df"
      ],
      "execution_count": 0,
      "outputs": []
    },
    {
      "cell_type": "code",
      "metadata": {
        "id": "n4mzj0Ql5LbX",
        "colab_type": "code",
        "outputId": "58404497-d382-45ba-c395-63c9b1120bc0",
        "colab": {
          "base_uri": "https://localhost:8080/",
          "height": 34
        }
      },
      "source": [
        "# create new list of index values using split to insert commas\n",
        "newind = 'CA NY WY OR'.split()\n",
        "newind"
      ],
      "execution_count": 51,
      "outputs": [
        {
          "output_type": "execute_result",
          "data": {
            "text/plain": [
              "['CA', 'NY', 'WY', 'OR']"
            ]
          },
          "metadata": {
            "tags": []
          },
          "execution_count": 51
        }
      ]
    },
    {
      "cell_type": "code",
      "metadata": {
        "id": "Ja-BATHU5gaW",
        "colab_type": "code",
        "outputId": "69cb15c9-3ede-476c-ab65-fcf52adfa944",
        "colab": {
          "base_uri": "https://localhost:8080/",
          "height": 173
        }
      },
      "source": [
        "# append a list as new column of values\n",
        "df['State'] = newind\n",
        "df"
      ],
      "execution_count": 52,
      "outputs": [
        {
          "output_type": "execute_result",
          "data": {
            "text/html": [
              "<div>\n",
              "<style scoped>\n",
              "    .dataframe tbody tr th:only-of-type {\n",
              "        vertical-align: middle;\n",
              "    }\n",
              "\n",
              "    .dataframe tbody tr th {\n",
              "        vertical-align: top;\n",
              "    }\n",
              "\n",
              "    .dataframe thead th {\n",
              "        text-align: right;\n",
              "    }\n",
              "</style>\n",
              "<table border=\"1\" class=\"dataframe\">\n",
              "  <thead>\n",
              "    <tr style=\"text-align: right;\">\n",
              "      <th></th>\n",
              "      <th>Apples</th>\n",
              "      <th>Oranges</th>\n",
              "      <th>Mangos</th>\n",
              "      <th>State</th>\n",
              "    </tr>\n",
              "  </thead>\n",
              "  <tbody>\n",
              "    <tr>\n",
              "      <th>A</th>\n",
              "      <td>0.302665</td>\n",
              "      <td>1.693723</td>\n",
              "      <td>-1.159119</td>\n",
              "      <td>CA</td>\n",
              "    </tr>\n",
              "    <tr>\n",
              "      <th>B</th>\n",
              "      <td>-0.134841</td>\n",
              "      <td>0.390528</td>\n",
              "      <td>0.184502</td>\n",
              "      <td>NY</td>\n",
              "    </tr>\n",
              "    <tr>\n",
              "      <th>C</th>\n",
              "      <td>0.807706</td>\n",
              "      <td>0.072960</td>\n",
              "      <td>0.329646</td>\n",
              "      <td>WY</td>\n",
              "    </tr>\n",
              "    <tr>\n",
              "      <th>D</th>\n",
              "      <td>-0.497104</td>\n",
              "      <td>-0.754070</td>\n",
              "      <td>0.484752</td>\n",
              "      <td>OR</td>\n",
              "    </tr>\n",
              "  </tbody>\n",
              "</table>\n",
              "</div>"
            ],
            "text/plain": [
              "     Apples   Oranges    Mangos State\n",
              "A  0.302665  1.693723 -1.159119    CA\n",
              "B -0.134841  0.390528  0.184502    NY\n",
              "C  0.807706  0.072960  0.329646    WY\n",
              "D -0.497104 -0.754070  0.484752    OR"
            ]
          },
          "metadata": {
            "tags": []
          },
          "execution_count": 52
        }
      ]
    },
    {
      "cell_type": "code",
      "metadata": {
        "id": "0Fnms5Wc51qY",
        "colab_type": "code",
        "outputId": "91afb25a-fa2f-4f4f-d879-2c210ce9b1c5",
        "colab": {
          "base_uri": "https://localhost:8080/",
          "height": 204
        }
      },
      "source": [
        "# set a column's values as index\n",
        "df.set_index('State', inplace=True) # inplace makes it permanent\n",
        "df"
      ],
      "execution_count": 53,
      "outputs": [
        {
          "output_type": "execute_result",
          "data": {
            "text/html": [
              "<div>\n",
              "<style scoped>\n",
              "    .dataframe tbody tr th:only-of-type {\n",
              "        vertical-align: middle;\n",
              "    }\n",
              "\n",
              "    .dataframe tbody tr th {\n",
              "        vertical-align: top;\n",
              "    }\n",
              "\n",
              "    .dataframe thead th {\n",
              "        text-align: right;\n",
              "    }\n",
              "</style>\n",
              "<table border=\"1\" class=\"dataframe\">\n",
              "  <thead>\n",
              "    <tr style=\"text-align: right;\">\n",
              "      <th></th>\n",
              "      <th>Apples</th>\n",
              "      <th>Oranges</th>\n",
              "      <th>Mangos</th>\n",
              "    </tr>\n",
              "    <tr>\n",
              "      <th>State</th>\n",
              "      <th></th>\n",
              "      <th></th>\n",
              "      <th></th>\n",
              "    </tr>\n",
              "  </thead>\n",
              "  <tbody>\n",
              "    <tr>\n",
              "      <th>CA</th>\n",
              "      <td>0.302665</td>\n",
              "      <td>1.693723</td>\n",
              "      <td>-1.159119</td>\n",
              "    </tr>\n",
              "    <tr>\n",
              "      <th>NY</th>\n",
              "      <td>-0.134841</td>\n",
              "      <td>0.390528</td>\n",
              "      <td>0.184502</td>\n",
              "    </tr>\n",
              "    <tr>\n",
              "      <th>WY</th>\n",
              "      <td>0.807706</td>\n",
              "      <td>0.072960</td>\n",
              "      <td>0.329646</td>\n",
              "    </tr>\n",
              "    <tr>\n",
              "      <th>OR</th>\n",
              "      <td>-0.497104</td>\n",
              "      <td>-0.754070</td>\n",
              "      <td>0.484752</td>\n",
              "    </tr>\n",
              "  </tbody>\n",
              "</table>\n",
              "</div>"
            ],
            "text/plain": [
              "         Apples   Oranges    Mangos\n",
              "State                              \n",
              "CA     0.302665  1.693723 -1.159119\n",
              "NY    -0.134841  0.390528  0.184502\n",
              "WY     0.807706  0.072960  0.329646\n",
              "OR    -0.497104 -0.754070  0.484752"
            ]
          },
          "metadata": {
            "tags": []
          },
          "execution_count": 53
        }
      ]
    },
    {
      "cell_type": "markdown",
      "metadata": {
        "id": "quRdX89BMGau",
        "colab_type": "text"
      },
      "source": [
        "## Multi-index DataFrames\n",
        "Aka. index hierarchy"
      ]
    },
    {
      "cell_type": "code",
      "metadata": {
        "id": "N-8NFDbZMKEL",
        "colab_type": "code",
        "colab": {}
      },
      "source": [
        "# index levels\n",
        "outside = ['G1', 'G1', 'G1', 'G2', 'G2', 'G2']\n",
        "inside = [1, 2, 3, 1, 2, 3]"
      ],
      "execution_count": 0,
      "outputs": []
    },
    {
      "cell_type": "code",
      "metadata": {
        "id": "RJhKGTo0MjUT",
        "colab_type": "code",
        "outputId": "cd5a7728-e22a-4b10-b47f-942b91f59c5d",
        "colab": {
          "base_uri": "https://localhost:8080/",
          "height": 34
        }
      },
      "source": [
        "# zip into tuples\n",
        "hier_index = list(zip(outside, inside))\n",
        "hier_index"
      ],
      "execution_count": 55,
      "outputs": [
        {
          "output_type": "execute_result",
          "data": {
            "text/plain": [
              "[('G1', 1), ('G1', 2), ('G1', 3), ('G2', 1), ('G2', 2), ('G2', 3)]"
            ]
          },
          "metadata": {
            "tags": []
          },
          "execution_count": 55
        }
      ]
    },
    {
      "cell_type": "code",
      "metadata": {
        "id": "NRiRuLp3NEGm",
        "colab_type": "code",
        "outputId": "8b5c32b5-1307-4807-f140-e78cb4db795f",
        "colab": {
          "base_uri": "https://localhost:8080/",
          "height": 51
        }
      },
      "source": [
        "# turns a tuple index into multi index\n",
        "hier_index = pd.MultiIndex.from_tuples(hier_index)\n",
        "hier_index"
      ],
      "execution_count": 56,
      "outputs": [
        {
          "output_type": "execute_result",
          "data": {
            "text/plain": [
              "MultiIndex(levels=[['G1', 'G2'], [1, 2, 3]],\n",
              "           codes=[[0, 0, 0, 1, 1, 1], [0, 1, 2, 0, 1, 2]])"
            ]
          },
          "metadata": {
            "tags": []
          },
          "execution_count": 56
        }
      ]
    },
    {
      "cell_type": "code",
      "metadata": {
        "id": "Tk7rNOcwNE7k",
        "colab_type": "code",
        "outputId": "af306457-d89d-4043-bb4a-62dd3db8dd48",
        "colab": {
          "base_uri": "https://localhost:8080/",
          "height": 235
        }
      },
      "source": [
        "# create randn with 6 rows, 2 col\n",
        "df = pd.DataFrame(randn(6,2))\n",
        "df"
      ],
      "execution_count": 57,
      "outputs": [
        {
          "output_type": "execute_result",
          "data": {
            "text/html": [
              "<div>\n",
              "<style scoped>\n",
              "    .dataframe tbody tr th:only-of-type {\n",
              "        vertical-align: middle;\n",
              "    }\n",
              "\n",
              "    .dataframe tbody tr th {\n",
              "        vertical-align: top;\n",
              "    }\n",
              "\n",
              "    .dataframe thead th {\n",
              "        text-align: right;\n",
              "    }\n",
              "</style>\n",
              "<table border=\"1\" class=\"dataframe\">\n",
              "  <thead>\n",
              "    <tr style=\"text-align: right;\">\n",
              "      <th></th>\n",
              "      <th>0</th>\n",
              "      <th>1</th>\n",
              "    </tr>\n",
              "  </thead>\n",
              "  <tbody>\n",
              "    <tr>\n",
              "      <th>0</th>\n",
              "      <td>-0.993263</td>\n",
              "      <td>0.196800</td>\n",
              "    </tr>\n",
              "    <tr>\n",
              "      <th>1</th>\n",
              "      <td>-1.136645</td>\n",
              "      <td>0.000366</td>\n",
              "    </tr>\n",
              "    <tr>\n",
              "      <th>2</th>\n",
              "      <td>1.025984</td>\n",
              "      <td>-0.156598</td>\n",
              "    </tr>\n",
              "    <tr>\n",
              "      <th>3</th>\n",
              "      <td>-0.031579</td>\n",
              "      <td>0.649826</td>\n",
              "    </tr>\n",
              "    <tr>\n",
              "      <th>4</th>\n",
              "      <td>2.154846</td>\n",
              "      <td>-0.610259</td>\n",
              "    </tr>\n",
              "    <tr>\n",
              "      <th>5</th>\n",
              "      <td>-0.755325</td>\n",
              "      <td>-0.346419</td>\n",
              "    </tr>\n",
              "  </tbody>\n",
              "</table>\n",
              "</div>"
            ],
            "text/plain": [
              "          0         1\n",
              "0 -0.993263  0.196800\n",
              "1 -1.136645  0.000366\n",
              "2  1.025984 -0.156598\n",
              "3 -0.031579  0.649826\n",
              "4  2.154846 -0.610259\n",
              "5 -0.755325 -0.346419"
            ]
          },
          "metadata": {
            "tags": []
          },
          "execution_count": 57
        }
      ]
    },
    {
      "cell_type": "code",
      "metadata": {
        "id": "VVCSrVEXNj_A",
        "colab_type": "code",
        "outputId": "48873a57-38b5-4780-c8ad-2c033ba4a8a9",
        "colab": {
          "base_uri": "https://localhost:8080/",
          "height": 235
        }
      },
      "source": [
        "# create same but with 'Multi index' and column labels A & B\n",
        "df = pd.DataFrame(randn(6,2), hier_index, ['A', 'B'])\n",
        "df"
      ],
      "execution_count": 58,
      "outputs": [
        {
          "output_type": "execute_result",
          "data": {
            "text/html": [
              "<div>\n",
              "<style scoped>\n",
              "    .dataframe tbody tr th:only-of-type {\n",
              "        vertical-align: middle;\n",
              "    }\n",
              "\n",
              "    .dataframe tbody tr th {\n",
              "        vertical-align: top;\n",
              "    }\n",
              "\n",
              "    .dataframe thead th {\n",
              "        text-align: right;\n",
              "    }\n",
              "</style>\n",
              "<table border=\"1\" class=\"dataframe\">\n",
              "  <thead>\n",
              "    <tr style=\"text-align: right;\">\n",
              "      <th></th>\n",
              "      <th></th>\n",
              "      <th>A</th>\n",
              "      <th>B</th>\n",
              "    </tr>\n",
              "  </thead>\n",
              "  <tbody>\n",
              "    <tr>\n",
              "      <th rowspan=\"3\" valign=\"top\">G1</th>\n",
              "      <th>1</th>\n",
              "      <td>0.147027</td>\n",
              "      <td>-0.479448</td>\n",
              "    </tr>\n",
              "    <tr>\n",
              "      <th>2</th>\n",
              "      <td>0.558769</td>\n",
              "      <td>1.024810</td>\n",
              "    </tr>\n",
              "    <tr>\n",
              "      <th>3</th>\n",
              "      <td>-0.925874</td>\n",
              "      <td>1.862864</td>\n",
              "    </tr>\n",
              "    <tr>\n",
              "      <th rowspan=\"3\" valign=\"top\">G2</th>\n",
              "      <th>1</th>\n",
              "      <td>-1.133817</td>\n",
              "      <td>0.610478</td>\n",
              "    </tr>\n",
              "    <tr>\n",
              "      <th>2</th>\n",
              "      <td>0.386030</td>\n",
              "      <td>2.084019</td>\n",
              "    </tr>\n",
              "    <tr>\n",
              "      <th>3</th>\n",
              "      <td>-0.376519</td>\n",
              "      <td>0.230336</td>\n",
              "    </tr>\n",
              "  </tbody>\n",
              "</table>\n",
              "</div>"
            ],
            "text/plain": [
              "             A         B\n",
              "G1 1  0.147027 -0.479448\n",
              "   2  0.558769  1.024810\n",
              "   3 -0.925874  1.862864\n",
              "G2 1 -1.133817  0.610478\n",
              "   2  0.386030  2.084019\n",
              "   3 -0.376519  0.230336"
            ]
          },
          "metadata": {
            "tags": []
          },
          "execution_count": 58
        }
      ]
    },
    {
      "cell_type": "markdown",
      "metadata": {
        "id": "dCaFjI_-POXw",
        "colab_type": "text"
      },
      "source": [
        "## Selections in a multi-index dataframe"
      ]
    },
    {
      "cell_type": "code",
      "metadata": {
        "id": "UGX6_oQQPVJu",
        "colab_type": "code",
        "outputId": "0514fdc9-6810-4bf6-d727-a58b430283b0",
        "colab": {
          "base_uri": "https://localhost:8080/",
          "height": 142
        }
      },
      "source": [
        "# select an outside index\n",
        "df.loc['G1']"
      ],
      "execution_count": 59,
      "outputs": [
        {
          "output_type": "execute_result",
          "data": {
            "text/html": [
              "<div>\n",
              "<style scoped>\n",
              "    .dataframe tbody tr th:only-of-type {\n",
              "        vertical-align: middle;\n",
              "    }\n",
              "\n",
              "    .dataframe tbody tr th {\n",
              "        vertical-align: top;\n",
              "    }\n",
              "\n",
              "    .dataframe thead th {\n",
              "        text-align: right;\n",
              "    }\n",
              "</style>\n",
              "<table border=\"1\" class=\"dataframe\">\n",
              "  <thead>\n",
              "    <tr style=\"text-align: right;\">\n",
              "      <th></th>\n",
              "      <th>A</th>\n",
              "      <th>B</th>\n",
              "    </tr>\n",
              "  </thead>\n",
              "  <tbody>\n",
              "    <tr>\n",
              "      <th>1</th>\n",
              "      <td>0.147027</td>\n",
              "      <td>-0.479448</td>\n",
              "    </tr>\n",
              "    <tr>\n",
              "      <th>2</th>\n",
              "      <td>0.558769</td>\n",
              "      <td>1.024810</td>\n",
              "    </tr>\n",
              "    <tr>\n",
              "      <th>3</th>\n",
              "      <td>-0.925874</td>\n",
              "      <td>1.862864</td>\n",
              "    </tr>\n",
              "  </tbody>\n",
              "</table>\n",
              "</div>"
            ],
            "text/plain": [
              "          A         B\n",
              "1  0.147027 -0.479448\n",
              "2  0.558769  1.024810\n",
              "3 -0.925874  1.862864"
            ]
          },
          "metadata": {
            "tags": []
          },
          "execution_count": 59
        }
      ]
    },
    {
      "cell_type": "code",
      "metadata": {
        "id": "hGaLaeefPdCv",
        "colab_type": "code",
        "outputId": "6ae32dae-125e-4009-ce1c-1ee41017f025",
        "colab": {
          "base_uri": "https://localhost:8080/",
          "height": 68
        }
      },
      "source": [
        "# select outside index then an inner selection\n",
        "df.loc['G1'].loc[1] # returns series of row 1 in section G1"
      ],
      "execution_count": 60,
      "outputs": [
        {
          "output_type": "execute_result",
          "data": {
            "text/plain": [
              "A    0.147027\n",
              "B   -0.479448\n",
              "Name: 1, dtype: float64"
            ]
          },
          "metadata": {
            "tags": []
          },
          "execution_count": 60
        }
      ]
    },
    {
      "cell_type": "code",
      "metadata": {
        "id": "6Ln-XwJOPtIe",
        "colab_type": "code",
        "outputId": "c5d46f8f-6a7c-45d5-95ad-447002fe5d81",
        "colab": {
          "base_uri": "https://localhost:8080/",
          "height": 34
        }
      },
      "source": [
        "# confirm the indexes have no names\n",
        "df.index.names"
      ],
      "execution_count": 61,
      "outputs": [
        {
          "output_type": "execute_result",
          "data": {
            "text/plain": [
              "FrozenList([None, None])"
            ]
          },
          "metadata": {
            "tags": []
          },
          "execution_count": 61
        }
      ]
    },
    {
      "cell_type": "code",
      "metadata": {
        "id": "xOOgt1TGQEsV",
        "colab_type": "code",
        "colab": {}
      },
      "source": [
        "# name the indexes\n",
        "df.index.names = ['Groups', 'Num']"
      ],
      "execution_count": 0,
      "outputs": []
    },
    {
      "cell_type": "code",
      "metadata": {
        "id": "6JOiiV8dQjzQ",
        "colab_type": "code",
        "outputId": "a66e55c7-557d-47dd-aedd-715664a589ed",
        "colab": {
          "base_uri": "https://localhost:8080/",
          "height": 266
        }
      },
      "source": [
        "# see dataframe with new index labels\n",
        "df"
      ],
      "execution_count": 63,
      "outputs": [
        {
          "output_type": "execute_result",
          "data": {
            "text/html": [
              "<div>\n",
              "<style scoped>\n",
              "    .dataframe tbody tr th:only-of-type {\n",
              "        vertical-align: middle;\n",
              "    }\n",
              "\n",
              "    .dataframe tbody tr th {\n",
              "        vertical-align: top;\n",
              "    }\n",
              "\n",
              "    .dataframe thead th {\n",
              "        text-align: right;\n",
              "    }\n",
              "</style>\n",
              "<table border=\"1\" class=\"dataframe\">\n",
              "  <thead>\n",
              "    <tr style=\"text-align: right;\">\n",
              "      <th></th>\n",
              "      <th></th>\n",
              "      <th>A</th>\n",
              "      <th>B</th>\n",
              "    </tr>\n",
              "    <tr>\n",
              "      <th>Groups</th>\n",
              "      <th>Num</th>\n",
              "      <th></th>\n",
              "      <th></th>\n",
              "    </tr>\n",
              "  </thead>\n",
              "  <tbody>\n",
              "    <tr>\n",
              "      <th rowspan=\"3\" valign=\"top\">G1</th>\n",
              "      <th>1</th>\n",
              "      <td>0.147027</td>\n",
              "      <td>-0.479448</td>\n",
              "    </tr>\n",
              "    <tr>\n",
              "      <th>2</th>\n",
              "      <td>0.558769</td>\n",
              "      <td>1.024810</td>\n",
              "    </tr>\n",
              "    <tr>\n",
              "      <th>3</th>\n",
              "      <td>-0.925874</td>\n",
              "      <td>1.862864</td>\n",
              "    </tr>\n",
              "    <tr>\n",
              "      <th rowspan=\"3\" valign=\"top\">G2</th>\n",
              "      <th>1</th>\n",
              "      <td>-1.133817</td>\n",
              "      <td>0.610478</td>\n",
              "    </tr>\n",
              "    <tr>\n",
              "      <th>2</th>\n",
              "      <td>0.386030</td>\n",
              "      <td>2.084019</td>\n",
              "    </tr>\n",
              "    <tr>\n",
              "      <th>3</th>\n",
              "      <td>-0.376519</td>\n",
              "      <td>0.230336</td>\n",
              "    </tr>\n",
              "  </tbody>\n",
              "</table>\n",
              "</div>"
            ],
            "text/plain": [
              "                   A         B\n",
              "Groups Num                    \n",
              "G1     1    0.147027 -0.479448\n",
              "       2    0.558769  1.024810\n",
              "       3   -0.925874  1.862864\n",
              "G2     1   -1.133817  0.610478\n",
              "       2    0.386030  2.084019\n",
              "       3   -0.376519  0.230336"
            ]
          },
          "metadata": {
            "tags": []
          },
          "execution_count": 63
        }
      ]
    },
    {
      "cell_type": "code",
      "metadata": {
        "id": "-oO41V5MQkd9",
        "colab_type": "code",
        "outputId": "597967c8-6be0-4c2f-b1cc-4f00b94eee45",
        "colab": {
          "base_uri": "https://localhost:8080/",
          "height": 34
        }
      },
      "source": [
        "# select a cell\n",
        "df.loc['G2'].loc[2].loc['B'] # section G2, row 2, col B"
      ],
      "execution_count": 64,
      "outputs": [
        {
          "output_type": "execute_result",
          "data": {
            "text/plain": [
              "2.084018530338962"
            ]
          },
          "metadata": {
            "tags": []
          },
          "execution_count": 64
        }
      ]
    },
    {
      "cell_type": "code",
      "metadata": {
        "id": "6HU7V_mgQ8C4",
        "colab_type": "code",
        "outputId": "9504c3f7-7598-4b38-e791-361b92831186",
        "colab": {
          "base_uri": "https://localhost:8080/",
          "height": 142
        }
      },
      "source": [
        "# retrieve a cross section: something from each outer index\n",
        "df.xs(1, level='Num') # select all Num=1 from all Groups"
      ],
      "execution_count": 65,
      "outputs": [
        {
          "output_type": "execute_result",
          "data": {
            "text/html": [
              "<div>\n",
              "<style scoped>\n",
              "    .dataframe tbody tr th:only-of-type {\n",
              "        vertical-align: middle;\n",
              "    }\n",
              "\n",
              "    .dataframe tbody tr th {\n",
              "        vertical-align: top;\n",
              "    }\n",
              "\n",
              "    .dataframe thead th {\n",
              "        text-align: right;\n",
              "    }\n",
              "</style>\n",
              "<table border=\"1\" class=\"dataframe\">\n",
              "  <thead>\n",
              "    <tr style=\"text-align: right;\">\n",
              "      <th></th>\n",
              "      <th>A</th>\n",
              "      <th>B</th>\n",
              "    </tr>\n",
              "    <tr>\n",
              "      <th>Groups</th>\n",
              "      <th></th>\n",
              "      <th></th>\n",
              "    </tr>\n",
              "  </thead>\n",
              "  <tbody>\n",
              "    <tr>\n",
              "      <th>G1</th>\n",
              "      <td>0.147027</td>\n",
              "      <td>-0.479448</td>\n",
              "    </tr>\n",
              "    <tr>\n",
              "      <th>G2</th>\n",
              "      <td>-1.133817</td>\n",
              "      <td>0.610478</td>\n",
              "    </tr>\n",
              "  </tbody>\n",
              "</table>\n",
              "</div>"
            ],
            "text/plain": [
              "               A         B\n",
              "Groups                    \n",
              "G1      0.147027 -0.479448\n",
              "G2     -1.133817  0.610478"
            ]
          },
          "metadata": {
            "tags": []
          },
          "execution_count": 65
        }
      ]
    },
    {
      "cell_type": "markdown",
      "metadata": {
        "id": "6htlj58bSIZT",
        "colab_type": "text"
      },
      "source": [
        "## My example of something more meaningful\n",
        "Eg. fruit harvest sampling data"
      ]
    },
    {
      "cell_type": "code",
      "metadata": {
        "id": "4PDYnbl1SOeH",
        "colab_type": "code",
        "colab": {}
      },
      "source": [
        "# create outer and inner index labels\n",
        "outside = ['Mon', 'Mon', 'Tue', 'Tue', 'Wed', 'Wed', 'Th', 'Th', 'Fri', 'Fri']\n",
        "inside = [1, 2, 1, 2, 1, 2, 1, 2, 1, 2]"
      ],
      "execution_count": 0,
      "outputs": []
    },
    {
      "cell_type": "code",
      "metadata": {
        "id": "QBtqcbFySf1P",
        "colab_type": "code",
        "outputId": "9b427fcf-db14-4c04-f3fb-b9ad7b3a6f7e",
        "colab": {
          "base_uri": "https://localhost:8080/",
          "height": 187
        }
      },
      "source": [
        "# zip into tuples\n",
        "hier_index = list(zip(outside, inside))\n",
        "hier_index"
      ],
      "execution_count": 67,
      "outputs": [
        {
          "output_type": "execute_result",
          "data": {
            "text/plain": [
              "[('Mon', 1),\n",
              " ('Mon', 2),\n",
              " ('Tue', 1),\n",
              " ('Tue', 2),\n",
              " ('Wed', 1),\n",
              " ('Wed', 2),\n",
              " ('Th', 1),\n",
              " ('Th', 2),\n",
              " ('Fri', 1),\n",
              " ('Fri', 2)]"
            ]
          },
          "metadata": {
            "tags": []
          },
          "execution_count": 67
        }
      ]
    },
    {
      "cell_type": "code",
      "metadata": {
        "id": "ZR7B-UNASulB",
        "colab_type": "code",
        "outputId": "9928fe9c-6f68-4783-fdef-98f7c350b8cc",
        "colab": {
          "base_uri": "https://localhost:8080/",
          "height": 71
        }
      },
      "source": [
        "# turns a tuple index into multi index\n",
        "hier_index = pd.MultiIndex.from_tuples(hier_index)\n",
        "hier_index # two rows for each day of the work week"
      ],
      "execution_count": 68,
      "outputs": [
        {
          "output_type": "execute_result",
          "data": {
            "text/plain": [
              "MultiIndex(levels=[['Fri', 'Mon', 'Th', 'Tue', 'Wed'], [1, 2]],\n",
              "           codes=[[1, 1, 3, 3, 4, 4, 2, 2, 0, 0], [0, 1, 0, 1, 0, 1, 0, 1, 0, 1]])"
            ]
          },
          "metadata": {
            "tags": []
          },
          "execution_count": 68
        }
      ]
    },
    {
      "cell_type": "code",
      "metadata": {
        "id": "zUmtwmUgTOYD",
        "colab_type": "code",
        "outputId": "f993939a-5f15-4cd4-b531-0178a4165963",
        "colab": {
          "base_uri": "https://localhost:8080/",
          "height": 359
        }
      },
      "source": [
        "# create dataframe with 'Multi index' and column labels A & B\n",
        "df = pd.DataFrame(randn(10,2), hier_index, ['Apples', 'Oranges'])\n",
        "df"
      ],
      "execution_count": 69,
      "outputs": [
        {
          "output_type": "execute_result",
          "data": {
            "text/html": [
              "<div>\n",
              "<style scoped>\n",
              "    .dataframe tbody tr th:only-of-type {\n",
              "        vertical-align: middle;\n",
              "    }\n",
              "\n",
              "    .dataframe tbody tr th {\n",
              "        vertical-align: top;\n",
              "    }\n",
              "\n",
              "    .dataframe thead th {\n",
              "        text-align: right;\n",
              "    }\n",
              "</style>\n",
              "<table border=\"1\" class=\"dataframe\">\n",
              "  <thead>\n",
              "    <tr style=\"text-align: right;\">\n",
              "      <th></th>\n",
              "      <th></th>\n",
              "      <th>Apples</th>\n",
              "      <th>Oranges</th>\n",
              "    </tr>\n",
              "  </thead>\n",
              "  <tbody>\n",
              "    <tr>\n",
              "      <th rowspan=\"2\" valign=\"top\">Mon</th>\n",
              "      <th>1</th>\n",
              "      <td>0.681209</td>\n",
              "      <td>1.035125</td>\n",
              "    </tr>\n",
              "    <tr>\n",
              "      <th>2</th>\n",
              "      <td>-0.031160</td>\n",
              "      <td>1.939932</td>\n",
              "    </tr>\n",
              "    <tr>\n",
              "      <th rowspan=\"2\" valign=\"top\">Tue</th>\n",
              "      <th>1</th>\n",
              "      <td>-1.005187</td>\n",
              "      <td>-0.741790</td>\n",
              "    </tr>\n",
              "    <tr>\n",
              "      <th>2</th>\n",
              "      <td>0.187125</td>\n",
              "      <td>-0.732845</td>\n",
              "    </tr>\n",
              "    <tr>\n",
              "      <th rowspan=\"2\" valign=\"top\">Wed</th>\n",
              "      <th>1</th>\n",
              "      <td>-1.382920</td>\n",
              "      <td>1.482495</td>\n",
              "    </tr>\n",
              "    <tr>\n",
              "      <th>2</th>\n",
              "      <td>0.961458</td>\n",
              "      <td>-2.141212</td>\n",
              "    </tr>\n",
              "    <tr>\n",
              "      <th rowspan=\"2\" valign=\"top\">Th</th>\n",
              "      <th>1</th>\n",
              "      <td>0.992573</td>\n",
              "      <td>1.192241</td>\n",
              "    </tr>\n",
              "    <tr>\n",
              "      <th>2</th>\n",
              "      <td>-1.046780</td>\n",
              "      <td>1.292765</td>\n",
              "    </tr>\n",
              "    <tr>\n",
              "      <th rowspan=\"2\" valign=\"top\">Fri</th>\n",
              "      <th>1</th>\n",
              "      <td>-1.467514</td>\n",
              "      <td>-0.494095</td>\n",
              "    </tr>\n",
              "    <tr>\n",
              "      <th>2</th>\n",
              "      <td>-0.162535</td>\n",
              "      <td>0.485809</td>\n",
              "    </tr>\n",
              "  </tbody>\n",
              "</table>\n",
              "</div>"
            ],
            "text/plain": [
              "         Apples   Oranges\n",
              "Mon 1  0.681209  1.035125\n",
              "    2 -0.031160  1.939932\n",
              "Tue 1 -1.005187 -0.741790\n",
              "    2  0.187125 -0.732845\n",
              "Wed 1 -1.382920  1.482495\n",
              "    2  0.961458 -2.141212\n",
              "Th  1  0.992573  1.192241\n",
              "    2 -1.046780  1.292765\n",
              "Fri 1 -1.467514 -0.494095\n",
              "    2 -0.162535  0.485809"
            ]
          },
          "metadata": {
            "tags": []
          },
          "execution_count": 69
        }
      ]
    },
    {
      "cell_type": "code",
      "metadata": {
        "id": "NUslH_E1UBao",
        "colab_type": "code",
        "outputId": "128b0a9f-2f18-4d62-c9d6-d04cc22f3367",
        "colab": {
          "base_uri": "https://localhost:8080/",
          "height": 390
        }
      },
      "source": [
        "# name the indexes\n",
        "df.index.names = ['Day', 'Sample']\n",
        "# load the dataframe\n",
        "df"
      ],
      "execution_count": 70,
      "outputs": [
        {
          "output_type": "execute_result",
          "data": {
            "text/html": [
              "<div>\n",
              "<style scoped>\n",
              "    .dataframe tbody tr th:only-of-type {\n",
              "        vertical-align: middle;\n",
              "    }\n",
              "\n",
              "    .dataframe tbody tr th {\n",
              "        vertical-align: top;\n",
              "    }\n",
              "\n",
              "    .dataframe thead th {\n",
              "        text-align: right;\n",
              "    }\n",
              "</style>\n",
              "<table border=\"1\" class=\"dataframe\">\n",
              "  <thead>\n",
              "    <tr style=\"text-align: right;\">\n",
              "      <th></th>\n",
              "      <th></th>\n",
              "      <th>Apples</th>\n",
              "      <th>Oranges</th>\n",
              "    </tr>\n",
              "    <tr>\n",
              "      <th>Day</th>\n",
              "      <th>Sample</th>\n",
              "      <th></th>\n",
              "      <th></th>\n",
              "    </tr>\n",
              "  </thead>\n",
              "  <tbody>\n",
              "    <tr>\n",
              "      <th rowspan=\"2\" valign=\"top\">Mon</th>\n",
              "      <th>1</th>\n",
              "      <td>0.681209</td>\n",
              "      <td>1.035125</td>\n",
              "    </tr>\n",
              "    <tr>\n",
              "      <th>2</th>\n",
              "      <td>-0.031160</td>\n",
              "      <td>1.939932</td>\n",
              "    </tr>\n",
              "    <tr>\n",
              "      <th rowspan=\"2\" valign=\"top\">Tue</th>\n",
              "      <th>1</th>\n",
              "      <td>-1.005187</td>\n",
              "      <td>-0.741790</td>\n",
              "    </tr>\n",
              "    <tr>\n",
              "      <th>2</th>\n",
              "      <td>0.187125</td>\n",
              "      <td>-0.732845</td>\n",
              "    </tr>\n",
              "    <tr>\n",
              "      <th rowspan=\"2\" valign=\"top\">Wed</th>\n",
              "      <th>1</th>\n",
              "      <td>-1.382920</td>\n",
              "      <td>1.482495</td>\n",
              "    </tr>\n",
              "    <tr>\n",
              "      <th>2</th>\n",
              "      <td>0.961458</td>\n",
              "      <td>-2.141212</td>\n",
              "    </tr>\n",
              "    <tr>\n",
              "      <th rowspan=\"2\" valign=\"top\">Th</th>\n",
              "      <th>1</th>\n",
              "      <td>0.992573</td>\n",
              "      <td>1.192241</td>\n",
              "    </tr>\n",
              "    <tr>\n",
              "      <th>2</th>\n",
              "      <td>-1.046780</td>\n",
              "      <td>1.292765</td>\n",
              "    </tr>\n",
              "    <tr>\n",
              "      <th rowspan=\"2\" valign=\"top\">Fri</th>\n",
              "      <th>1</th>\n",
              "      <td>-1.467514</td>\n",
              "      <td>-0.494095</td>\n",
              "    </tr>\n",
              "    <tr>\n",
              "      <th>2</th>\n",
              "      <td>-0.162535</td>\n",
              "      <td>0.485809</td>\n",
              "    </tr>\n",
              "  </tbody>\n",
              "</table>\n",
              "</div>"
            ],
            "text/plain": [
              "              Apples   Oranges\n",
              "Day Sample                    \n",
              "Mon 1       0.681209  1.035125\n",
              "    2      -0.031160  1.939932\n",
              "Tue 1      -1.005187 -0.741790\n",
              "    2       0.187125 -0.732845\n",
              "Wed 1      -1.382920  1.482495\n",
              "    2       0.961458 -2.141212\n",
              "Th  1       0.992573  1.192241\n",
              "    2      -1.046780  1.292765\n",
              "Fri 1      -1.467514 -0.494095\n",
              "    2      -0.162535  0.485809"
            ]
          },
          "metadata": {
            "tags": []
          },
          "execution_count": 70
        }
      ]
    },
    {
      "cell_type": "code",
      "metadata": {
        "id": "33NGObMjUnYH",
        "colab_type": "code",
        "outputId": "9aa3e713-8b02-4fba-b7e8-d70a3e294d3d",
        "colab": {
          "base_uri": "https://localhost:8080/",
          "height": 235
        }
      },
      "source": [
        "# retrieve a cross section: only the second sample of the day\n",
        "df.xs(2, level='Sample') # select all Sample=2 from every Day"
      ],
      "execution_count": 71,
      "outputs": [
        {
          "output_type": "execute_result",
          "data": {
            "text/html": [
              "<div>\n",
              "<style scoped>\n",
              "    .dataframe tbody tr th:only-of-type {\n",
              "        vertical-align: middle;\n",
              "    }\n",
              "\n",
              "    .dataframe tbody tr th {\n",
              "        vertical-align: top;\n",
              "    }\n",
              "\n",
              "    .dataframe thead th {\n",
              "        text-align: right;\n",
              "    }\n",
              "</style>\n",
              "<table border=\"1\" class=\"dataframe\">\n",
              "  <thead>\n",
              "    <tr style=\"text-align: right;\">\n",
              "      <th></th>\n",
              "      <th>Apples</th>\n",
              "      <th>Oranges</th>\n",
              "    </tr>\n",
              "    <tr>\n",
              "      <th>Day</th>\n",
              "      <th></th>\n",
              "      <th></th>\n",
              "    </tr>\n",
              "  </thead>\n",
              "  <tbody>\n",
              "    <tr>\n",
              "      <th>Mon</th>\n",
              "      <td>-0.031160</td>\n",
              "      <td>1.939932</td>\n",
              "    </tr>\n",
              "    <tr>\n",
              "      <th>Tue</th>\n",
              "      <td>0.187125</td>\n",
              "      <td>-0.732845</td>\n",
              "    </tr>\n",
              "    <tr>\n",
              "      <th>Wed</th>\n",
              "      <td>0.961458</td>\n",
              "      <td>-2.141212</td>\n",
              "    </tr>\n",
              "    <tr>\n",
              "      <th>Th</th>\n",
              "      <td>-1.046780</td>\n",
              "      <td>1.292765</td>\n",
              "    </tr>\n",
              "    <tr>\n",
              "      <th>Fri</th>\n",
              "      <td>-0.162535</td>\n",
              "      <td>0.485809</td>\n",
              "    </tr>\n",
              "  </tbody>\n",
              "</table>\n",
              "</div>"
            ],
            "text/plain": [
              "       Apples   Oranges\n",
              "Day                    \n",
              "Mon -0.031160  1.939932\n",
              "Tue  0.187125 -0.732845\n",
              "Wed  0.961458 -2.141212\n",
              "Th  -1.046780  1.292765\n",
              "Fri -0.162535  0.485809"
            ]
          },
          "metadata": {
            "tags": []
          },
          "execution_count": 71
        }
      ]
    },
    {
      "cell_type": "markdown",
      "metadata": {
        "id": "7iVXm-unVhc0",
        "colab_type": "text"
      },
      "source": [
        "## Dealing with missing data"
      ]
    },
    {
      "cell_type": "code",
      "metadata": {
        "id": "Uv0BH8h5Vkcp",
        "colab_type": "code",
        "colab": {}
      },
      "source": [
        "# create dictionary with some null values\n",
        "d = {'A': [1, 2, np.nan], 'B': [5, np.nan, np.nan], 'C': [1, 2, 3]}"
      ],
      "execution_count": 0,
      "outputs": []
    },
    {
      "cell_type": "code",
      "metadata": {
        "id": "_VsmW9e-V3W5",
        "colab_type": "code",
        "outputId": "cce8203f-e7a2-4d4f-f89e-f3285cf47c0d",
        "colab": {
          "base_uri": "https://localhost:8080/",
          "height": 142
        }
      },
      "source": [
        "# create dataframe from the dictionary\n",
        "df = pd.DataFrame(d)\n",
        "df"
      ],
      "execution_count": 73,
      "outputs": [
        {
          "output_type": "execute_result",
          "data": {
            "text/html": [
              "<div>\n",
              "<style scoped>\n",
              "    .dataframe tbody tr th:only-of-type {\n",
              "        vertical-align: middle;\n",
              "    }\n",
              "\n",
              "    .dataframe tbody tr th {\n",
              "        vertical-align: top;\n",
              "    }\n",
              "\n",
              "    .dataframe thead th {\n",
              "        text-align: right;\n",
              "    }\n",
              "</style>\n",
              "<table border=\"1\" class=\"dataframe\">\n",
              "  <thead>\n",
              "    <tr style=\"text-align: right;\">\n",
              "      <th></th>\n",
              "      <th>A</th>\n",
              "      <th>B</th>\n",
              "      <th>C</th>\n",
              "    </tr>\n",
              "  </thead>\n",
              "  <tbody>\n",
              "    <tr>\n",
              "      <th>0</th>\n",
              "      <td>1.0</td>\n",
              "      <td>5.0</td>\n",
              "      <td>1</td>\n",
              "    </tr>\n",
              "    <tr>\n",
              "      <th>1</th>\n",
              "      <td>2.0</td>\n",
              "      <td>NaN</td>\n",
              "      <td>2</td>\n",
              "    </tr>\n",
              "    <tr>\n",
              "      <th>2</th>\n",
              "      <td>NaN</td>\n",
              "      <td>NaN</td>\n",
              "      <td>3</td>\n",
              "    </tr>\n",
              "  </tbody>\n",
              "</table>\n",
              "</div>"
            ],
            "text/plain": [
              "     A    B  C\n",
              "0  1.0  5.0  1\n",
              "1  2.0  NaN  2\n",
              "2  NaN  NaN  3"
            ]
          },
          "metadata": {
            "tags": []
          },
          "execution_count": 73
        }
      ]
    },
    {
      "cell_type": "code",
      "metadata": {
        "id": "E5UQTcDPV-lN",
        "colab_type": "code",
        "outputId": "887fe1da-9623-461a-973f-6247720b0781",
        "colab": {
          "base_uri": "https://localhost:8080/",
          "height": 80
        }
      },
      "source": [
        "# drop rows with null or missing values (called 'na')\n",
        "df.dropna() # default is axis=0, so rows with NaN are dropped"
      ],
      "execution_count": 74,
      "outputs": [
        {
          "output_type": "execute_result",
          "data": {
            "text/html": [
              "<div>\n",
              "<style scoped>\n",
              "    .dataframe tbody tr th:only-of-type {\n",
              "        vertical-align: middle;\n",
              "    }\n",
              "\n",
              "    .dataframe tbody tr th {\n",
              "        vertical-align: top;\n",
              "    }\n",
              "\n",
              "    .dataframe thead th {\n",
              "        text-align: right;\n",
              "    }\n",
              "</style>\n",
              "<table border=\"1\" class=\"dataframe\">\n",
              "  <thead>\n",
              "    <tr style=\"text-align: right;\">\n",
              "      <th></th>\n",
              "      <th>A</th>\n",
              "      <th>B</th>\n",
              "      <th>C</th>\n",
              "    </tr>\n",
              "  </thead>\n",
              "  <tbody>\n",
              "    <tr>\n",
              "      <th>0</th>\n",
              "      <td>1.0</td>\n",
              "      <td>5.0</td>\n",
              "      <td>1</td>\n",
              "    </tr>\n",
              "  </tbody>\n",
              "</table>\n",
              "</div>"
            ],
            "text/plain": [
              "     A    B  C\n",
              "0  1.0  5.0  1"
            ]
          },
          "metadata": {
            "tags": []
          },
          "execution_count": 74
        }
      ]
    },
    {
      "cell_type": "code",
      "metadata": {
        "id": "ffX5UILnWIMz",
        "colab_type": "code",
        "outputId": "6a37e2c1-1e06-43f1-f358-11f68b297397",
        "colab": {
          "base_uri": "https://localhost:8080/",
          "height": 142
        }
      },
      "source": [
        "# create dataframe again\n",
        "d = {'A': [1, 2, np.nan], 'B': [5, np.nan, np.nan], 'C': [1, 2, 3]}\n",
        "df = pd.DataFrame(d)\n",
        "df"
      ],
      "execution_count": 75,
      "outputs": [
        {
          "output_type": "execute_result",
          "data": {
            "text/html": [
              "<div>\n",
              "<style scoped>\n",
              "    .dataframe tbody tr th:only-of-type {\n",
              "        vertical-align: middle;\n",
              "    }\n",
              "\n",
              "    .dataframe tbody tr th {\n",
              "        vertical-align: top;\n",
              "    }\n",
              "\n",
              "    .dataframe thead th {\n",
              "        text-align: right;\n",
              "    }\n",
              "</style>\n",
              "<table border=\"1\" class=\"dataframe\">\n",
              "  <thead>\n",
              "    <tr style=\"text-align: right;\">\n",
              "      <th></th>\n",
              "      <th>A</th>\n",
              "      <th>B</th>\n",
              "      <th>C</th>\n",
              "    </tr>\n",
              "  </thead>\n",
              "  <tbody>\n",
              "    <tr>\n",
              "      <th>0</th>\n",
              "      <td>1.0</td>\n",
              "      <td>5.0</td>\n",
              "      <td>1</td>\n",
              "    </tr>\n",
              "    <tr>\n",
              "      <th>1</th>\n",
              "      <td>2.0</td>\n",
              "      <td>NaN</td>\n",
              "      <td>2</td>\n",
              "    </tr>\n",
              "    <tr>\n",
              "      <th>2</th>\n",
              "      <td>NaN</td>\n",
              "      <td>NaN</td>\n",
              "      <td>3</td>\n",
              "    </tr>\n",
              "  </tbody>\n",
              "</table>\n",
              "</div>"
            ],
            "text/plain": [
              "     A    B  C\n",
              "0  1.0  5.0  1\n",
              "1  2.0  NaN  2\n",
              "2  NaN  NaN  3"
            ]
          },
          "metadata": {
            "tags": []
          },
          "execution_count": 75
        }
      ]
    },
    {
      "cell_type": "code",
      "metadata": {
        "id": "pRSRLzbuWYdQ",
        "colab_type": "code",
        "outputId": "8aa49576-56f8-4db0-a6f1-74be4de05a14",
        "colab": {
          "base_uri": "https://localhost:8080/",
          "height": 142
        }
      },
      "source": [
        "# drop based on columns, axis=1\n",
        "df.dropna(axis=1)"
      ],
      "execution_count": 76,
      "outputs": [
        {
          "output_type": "execute_result",
          "data": {
            "text/html": [
              "<div>\n",
              "<style scoped>\n",
              "    .dataframe tbody tr th:only-of-type {\n",
              "        vertical-align: middle;\n",
              "    }\n",
              "\n",
              "    .dataframe tbody tr th {\n",
              "        vertical-align: top;\n",
              "    }\n",
              "\n",
              "    .dataframe thead th {\n",
              "        text-align: right;\n",
              "    }\n",
              "</style>\n",
              "<table border=\"1\" class=\"dataframe\">\n",
              "  <thead>\n",
              "    <tr style=\"text-align: right;\">\n",
              "      <th></th>\n",
              "      <th>C</th>\n",
              "    </tr>\n",
              "  </thead>\n",
              "  <tbody>\n",
              "    <tr>\n",
              "      <th>0</th>\n",
              "      <td>1</td>\n",
              "    </tr>\n",
              "    <tr>\n",
              "      <th>1</th>\n",
              "      <td>2</td>\n",
              "    </tr>\n",
              "    <tr>\n",
              "      <th>2</th>\n",
              "      <td>3</td>\n",
              "    </tr>\n",
              "  </tbody>\n",
              "</table>\n",
              "</div>"
            ],
            "text/plain": [
              "   C\n",
              "0  1\n",
              "1  2\n",
              "2  3"
            ]
          },
          "metadata": {
            "tags": []
          },
          "execution_count": 76
        }
      ]
    },
    {
      "cell_type": "code",
      "metadata": {
        "id": "R0y7ss5kWjlM",
        "colab_type": "code",
        "outputId": "015a8d65-0f32-4964-8043-e82f9062e490",
        "colab": {
          "base_uri": "https://localhost:8080/",
          "height": 111
        }
      },
      "source": [
        "# drop NaN with a threshhold\n",
        "# a threshhold is the number of occurrences\n",
        "df.dropna(thresh=2) # keep rows with at least 2 non-NaN values"
      ],
      "execution_count": 77,
      "outputs": [
        {
          "output_type": "execute_result",
          "data": {
            "text/html": [
              "<div>\n",
              "<style scoped>\n",
              "    .dataframe tbody tr th:only-of-type {\n",
              "        vertical-align: middle;\n",
              "    }\n",
              "\n",
              "    .dataframe tbody tr th {\n",
              "        vertical-align: top;\n",
              "    }\n",
              "\n",
              "    .dataframe thead th {\n",
              "        text-align: right;\n",
              "    }\n",
              "</style>\n",
              "<table border=\"1\" class=\"dataframe\">\n",
              "  <thead>\n",
              "    <tr style=\"text-align: right;\">\n",
              "      <th></th>\n",
              "      <th>A</th>\n",
              "      <th>B</th>\n",
              "      <th>C</th>\n",
              "    </tr>\n",
              "  </thead>\n",
              "  <tbody>\n",
              "    <tr>\n",
              "      <th>0</th>\n",
              "      <td>1.0</td>\n",
              "      <td>5.0</td>\n",
              "      <td>1</td>\n",
              "    </tr>\n",
              "    <tr>\n",
              "      <th>1</th>\n",
              "      <td>2.0</td>\n",
              "      <td>NaN</td>\n",
              "      <td>2</td>\n",
              "    </tr>\n",
              "  </tbody>\n",
              "</table>\n",
              "</div>"
            ],
            "text/plain": [
              "     A    B  C\n",
              "0  1.0  5.0  1\n",
              "1  2.0  NaN  2"
            ]
          },
          "metadata": {
            "tags": []
          },
          "execution_count": 77
        }
      ]
    },
    {
      "cell_type": "code",
      "metadata": {
        "id": "Dqlfn9Csdbfv",
        "colab_type": "code",
        "outputId": "d03f879d-1c69-4656-d2f1-f1778cd5bd0c",
        "colab": {
          "base_uri": "https://localhost:8080/",
          "height": 142
        }
      },
      "source": [
        "df # full df remains"
      ],
      "execution_count": 78,
      "outputs": [
        {
          "output_type": "execute_result",
          "data": {
            "text/html": [
              "<div>\n",
              "<style scoped>\n",
              "    .dataframe tbody tr th:only-of-type {\n",
              "        vertical-align: middle;\n",
              "    }\n",
              "\n",
              "    .dataframe tbody tr th {\n",
              "        vertical-align: top;\n",
              "    }\n",
              "\n",
              "    .dataframe thead th {\n",
              "        text-align: right;\n",
              "    }\n",
              "</style>\n",
              "<table border=\"1\" class=\"dataframe\">\n",
              "  <thead>\n",
              "    <tr style=\"text-align: right;\">\n",
              "      <th></th>\n",
              "      <th>A</th>\n",
              "      <th>B</th>\n",
              "      <th>C</th>\n",
              "    </tr>\n",
              "  </thead>\n",
              "  <tbody>\n",
              "    <tr>\n",
              "      <th>0</th>\n",
              "      <td>1.0</td>\n",
              "      <td>5.0</td>\n",
              "      <td>1</td>\n",
              "    </tr>\n",
              "    <tr>\n",
              "      <th>1</th>\n",
              "      <td>2.0</td>\n",
              "      <td>NaN</td>\n",
              "      <td>2</td>\n",
              "    </tr>\n",
              "    <tr>\n",
              "      <th>2</th>\n",
              "      <td>NaN</td>\n",
              "      <td>NaN</td>\n",
              "      <td>3</td>\n",
              "    </tr>\n",
              "  </tbody>\n",
              "</table>\n",
              "</div>"
            ],
            "text/plain": [
              "     A    B  C\n",
              "0  1.0  5.0  1\n",
              "1  2.0  NaN  2\n",
              "2  NaN  NaN  3"
            ]
          },
          "metadata": {
            "tags": []
          },
          "execution_count": 78
        }
      ]
    },
    {
      "cell_type": "code",
      "metadata": {
        "id": "HdzhXegqdcdo",
        "colab_type": "code",
        "outputId": "e93c5d01-1530-4cda-b89e-907919d416d8",
        "colab": {
          "base_uri": "https://localhost:8080/",
          "height": 142
        }
      },
      "source": [
        "# fill in missing values\n",
        "df.fillna(value='Absent')"
      ],
      "execution_count": 79,
      "outputs": [
        {
          "output_type": "execute_result",
          "data": {
            "text/html": [
              "<div>\n",
              "<style scoped>\n",
              "    .dataframe tbody tr th:only-of-type {\n",
              "        vertical-align: middle;\n",
              "    }\n",
              "\n",
              "    .dataframe tbody tr th {\n",
              "        vertical-align: top;\n",
              "    }\n",
              "\n",
              "    .dataframe thead th {\n",
              "        text-align: right;\n",
              "    }\n",
              "</style>\n",
              "<table border=\"1\" class=\"dataframe\">\n",
              "  <thead>\n",
              "    <tr style=\"text-align: right;\">\n",
              "      <th></th>\n",
              "      <th>A</th>\n",
              "      <th>B</th>\n",
              "      <th>C</th>\n",
              "    </tr>\n",
              "  </thead>\n",
              "  <tbody>\n",
              "    <tr>\n",
              "      <th>0</th>\n",
              "      <td>1</td>\n",
              "      <td>5</td>\n",
              "      <td>1</td>\n",
              "    </tr>\n",
              "    <tr>\n",
              "      <th>1</th>\n",
              "      <td>2</td>\n",
              "      <td>Absent</td>\n",
              "      <td>2</td>\n",
              "    </tr>\n",
              "    <tr>\n",
              "      <th>2</th>\n",
              "      <td>Absent</td>\n",
              "      <td>Absent</td>\n",
              "      <td>3</td>\n",
              "    </tr>\n",
              "  </tbody>\n",
              "</table>\n",
              "</div>"
            ],
            "text/plain": [
              "        A       B  C\n",
              "0       1       5  1\n",
              "1       2  Absent  2\n",
              "2  Absent  Absent  3"
            ]
          },
          "metadata": {
            "tags": []
          },
          "execution_count": 79
        }
      ]
    },
    {
      "cell_type": "code",
      "metadata": {
        "id": "eYzq2S7Ed37c",
        "colab_type": "code",
        "outputId": "a1819d24-b02b-4fe8-8a14-aea6592a0df4",
        "colab": {
          "base_uri": "https://localhost:8080/",
          "height": 85
        }
      },
      "source": [
        "# replace NaN with mean of that column\n",
        "df['A'].fillna(value=df['A'].mean())\n",
        "\n",
        "# many theories exist about the best ways to fill missing values\n",
        "# check online for recommendations and philosophies"
      ],
      "execution_count": 80,
      "outputs": [
        {
          "output_type": "execute_result",
          "data": {
            "text/plain": [
              "0    1.0\n",
              "1    2.0\n",
              "2    1.5\n",
              "Name: A, dtype: float64"
            ]
          },
          "metadata": {
            "tags": []
          },
          "execution_count": 80
        }
      ]
    },
    {
      "cell_type": "markdown",
      "metadata": {
        "id": "-2tJ8-y65rn5",
        "colab_type": "text"
      },
      "source": [
        "## Groupby functions\n",
        "Aka aggregate functions"
      ]
    },
    {
      "cell_type": "code",
      "metadata": {
        "id": "qTG9qYjH5yEW",
        "colab_type": "code",
        "outputId": "179c3794-0fd4-4d4e-829a-1dacb203448d",
        "colab": {
          "base_uri": "https://localhost:8080/",
          "height": 235
        }
      },
      "source": [
        "# create some data\n",
        "data = {'Company': ['GOOG', 'GOOG', 'MSFT', 'MSFT', 'FB', 'FB'],\n",
        "       'Person': ['Sam', 'Charlie', 'Amy', 'Vanessa', 'Carl', 'Sarah'],\n",
        "       'Sales': [200, 120, 340, 124, 243, 350]}\n",
        "# create dataframe from a dictionary\n",
        "df = pd.DataFrame(data)\n",
        "df"
      ],
      "execution_count": 81,
      "outputs": [
        {
          "output_type": "execute_result",
          "data": {
            "text/html": [
              "<div>\n",
              "<style scoped>\n",
              "    .dataframe tbody tr th:only-of-type {\n",
              "        vertical-align: middle;\n",
              "    }\n",
              "\n",
              "    .dataframe tbody tr th {\n",
              "        vertical-align: top;\n",
              "    }\n",
              "\n",
              "    .dataframe thead th {\n",
              "        text-align: right;\n",
              "    }\n",
              "</style>\n",
              "<table border=\"1\" class=\"dataframe\">\n",
              "  <thead>\n",
              "    <tr style=\"text-align: right;\">\n",
              "      <th></th>\n",
              "      <th>Company</th>\n",
              "      <th>Person</th>\n",
              "      <th>Sales</th>\n",
              "    </tr>\n",
              "  </thead>\n",
              "  <tbody>\n",
              "    <tr>\n",
              "      <th>0</th>\n",
              "      <td>GOOG</td>\n",
              "      <td>Sam</td>\n",
              "      <td>200</td>\n",
              "    </tr>\n",
              "    <tr>\n",
              "      <th>1</th>\n",
              "      <td>GOOG</td>\n",
              "      <td>Charlie</td>\n",
              "      <td>120</td>\n",
              "    </tr>\n",
              "    <tr>\n",
              "      <th>2</th>\n",
              "      <td>MSFT</td>\n",
              "      <td>Amy</td>\n",
              "      <td>340</td>\n",
              "    </tr>\n",
              "    <tr>\n",
              "      <th>3</th>\n",
              "      <td>MSFT</td>\n",
              "      <td>Vanessa</td>\n",
              "      <td>124</td>\n",
              "    </tr>\n",
              "    <tr>\n",
              "      <th>4</th>\n",
              "      <td>FB</td>\n",
              "      <td>Carl</td>\n",
              "      <td>243</td>\n",
              "    </tr>\n",
              "    <tr>\n",
              "      <th>5</th>\n",
              "      <td>FB</td>\n",
              "      <td>Sarah</td>\n",
              "      <td>350</td>\n",
              "    </tr>\n",
              "  </tbody>\n",
              "</table>\n",
              "</div>"
            ],
            "text/plain": [
              "  Company   Person  Sales\n",
              "0    GOOG      Sam    200\n",
              "1    GOOG  Charlie    120\n",
              "2    MSFT      Amy    340\n",
              "3    MSFT  Vanessa    124\n",
              "4      FB     Carl    243\n",
              "5      FB    Sarah    350"
            ]
          },
          "metadata": {
            "tags": []
          },
          "execution_count": 81
        }
      ]
    },
    {
      "cell_type": "code",
      "metadata": {
        "id": "rT68gZGC6Oml",
        "colab_type": "code",
        "outputId": "fe325413-9775-483f-f234-f1e63ef5b590",
        "colab": {
          "base_uri": "https://localhost:8080/",
          "height": 54
        }
      },
      "source": [
        "# group by Company\n",
        "df.groupby('Company') # returns reference to object"
      ],
      "execution_count": 82,
      "outputs": [
        {
          "output_type": "execute_result",
          "data": {
            "text/plain": [
              "<pandas.core.groupby.generic.DataFrameGroupBy object at 0x7f64bb009b70>"
            ]
          },
          "metadata": {
            "tags": []
          },
          "execution_count": 82
        }
      ]
    },
    {
      "cell_type": "code",
      "metadata": {
        "id": "Gf84d7CD6Yet",
        "colab_type": "code",
        "colab": {}
      },
      "source": [
        "# set results to a variable instead\n",
        "byComp = df.groupby('Company')"
      ],
      "execution_count": 0,
      "outputs": []
    },
    {
      "cell_type": "code",
      "metadata": {
        "id": "MSt9NUFG6hXt",
        "colab_type": "code",
        "outputId": "3f61be7a-0ada-4049-a5f2-0895de802ef5",
        "colab": {
          "base_uri": "https://localhost:8080/",
          "height": 173
        }
      },
      "source": [
        "# apply an aggregate function - mean\n",
        "byComp.mean()"
      ],
      "execution_count": 84,
      "outputs": [
        {
          "output_type": "execute_result",
          "data": {
            "text/html": [
              "<div>\n",
              "<style scoped>\n",
              "    .dataframe tbody tr th:only-of-type {\n",
              "        vertical-align: middle;\n",
              "    }\n",
              "\n",
              "    .dataframe tbody tr th {\n",
              "        vertical-align: top;\n",
              "    }\n",
              "\n",
              "    .dataframe thead th {\n",
              "        text-align: right;\n",
              "    }\n",
              "</style>\n",
              "<table border=\"1\" class=\"dataframe\">\n",
              "  <thead>\n",
              "    <tr style=\"text-align: right;\">\n",
              "      <th></th>\n",
              "      <th>Sales</th>\n",
              "    </tr>\n",
              "    <tr>\n",
              "      <th>Company</th>\n",
              "      <th></th>\n",
              "    </tr>\n",
              "  </thead>\n",
              "  <tbody>\n",
              "    <tr>\n",
              "      <th>FB</th>\n",
              "      <td>296.5</td>\n",
              "    </tr>\n",
              "    <tr>\n",
              "      <th>GOOG</th>\n",
              "      <td>160.0</td>\n",
              "    </tr>\n",
              "    <tr>\n",
              "      <th>MSFT</th>\n",
              "      <td>232.0</td>\n",
              "    </tr>\n",
              "  </tbody>\n",
              "</table>\n",
              "</div>"
            ],
            "text/plain": [
              "         Sales\n",
              "Company       \n",
              "FB       296.5\n",
              "GOOG     160.0\n",
              "MSFT     232.0"
            ]
          },
          "metadata": {
            "tags": []
          },
          "execution_count": 84
        }
      ]
    },
    {
      "cell_type": "code",
      "metadata": {
        "id": "kuhSvHRC6nof",
        "colab_type": "code",
        "outputId": "9d69c5b4-9649-46dd-f8d7-493ae0f903c2",
        "colab": {
          "base_uri": "https://localhost:8080/",
          "height": 173
        }
      },
      "source": [
        "# apply an aggregate function - sum\n",
        "byComp.sum()"
      ],
      "execution_count": 85,
      "outputs": [
        {
          "output_type": "execute_result",
          "data": {
            "text/html": [
              "<div>\n",
              "<style scoped>\n",
              "    .dataframe tbody tr th:only-of-type {\n",
              "        vertical-align: middle;\n",
              "    }\n",
              "\n",
              "    .dataframe tbody tr th {\n",
              "        vertical-align: top;\n",
              "    }\n",
              "\n",
              "    .dataframe thead th {\n",
              "        text-align: right;\n",
              "    }\n",
              "</style>\n",
              "<table border=\"1\" class=\"dataframe\">\n",
              "  <thead>\n",
              "    <tr style=\"text-align: right;\">\n",
              "      <th></th>\n",
              "      <th>Sales</th>\n",
              "    </tr>\n",
              "    <tr>\n",
              "      <th>Company</th>\n",
              "      <th></th>\n",
              "    </tr>\n",
              "  </thead>\n",
              "  <tbody>\n",
              "    <tr>\n",
              "      <th>FB</th>\n",
              "      <td>593</td>\n",
              "    </tr>\n",
              "    <tr>\n",
              "      <th>GOOG</th>\n",
              "      <td>320</td>\n",
              "    </tr>\n",
              "    <tr>\n",
              "      <th>MSFT</th>\n",
              "      <td>464</td>\n",
              "    </tr>\n",
              "  </tbody>\n",
              "</table>\n",
              "</div>"
            ],
            "text/plain": [
              "         Sales\n",
              "Company       \n",
              "FB         593\n",
              "GOOG       320\n",
              "MSFT       464"
            ]
          },
          "metadata": {
            "tags": []
          },
          "execution_count": 85
        }
      ]
    },
    {
      "cell_type": "code",
      "metadata": {
        "id": "VU7h2pFb6vUV",
        "colab_type": "code",
        "outputId": "67fc22e8-a85d-49c4-98dd-33fe7cab9a49",
        "colab": {
          "base_uri": "https://localhost:8080/",
          "height": 173
        }
      },
      "source": [
        "# aggregate function - standard deviation\n",
        "byComp.std()"
      ],
      "execution_count": 86,
      "outputs": [
        {
          "output_type": "execute_result",
          "data": {
            "text/html": [
              "<div>\n",
              "<style scoped>\n",
              "    .dataframe tbody tr th:only-of-type {\n",
              "        vertical-align: middle;\n",
              "    }\n",
              "\n",
              "    .dataframe tbody tr th {\n",
              "        vertical-align: top;\n",
              "    }\n",
              "\n",
              "    .dataframe thead th {\n",
              "        text-align: right;\n",
              "    }\n",
              "</style>\n",
              "<table border=\"1\" class=\"dataframe\">\n",
              "  <thead>\n",
              "    <tr style=\"text-align: right;\">\n",
              "      <th></th>\n",
              "      <th>Sales</th>\n",
              "    </tr>\n",
              "    <tr>\n",
              "      <th>Company</th>\n",
              "      <th></th>\n",
              "    </tr>\n",
              "  </thead>\n",
              "  <tbody>\n",
              "    <tr>\n",
              "      <th>FB</th>\n",
              "      <td>75.660426</td>\n",
              "    </tr>\n",
              "    <tr>\n",
              "      <th>GOOG</th>\n",
              "      <td>56.568542</td>\n",
              "    </tr>\n",
              "    <tr>\n",
              "      <th>MSFT</th>\n",
              "      <td>152.735065</td>\n",
              "    </tr>\n",
              "  </tbody>\n",
              "</table>\n",
              "</div>"
            ],
            "text/plain": [
              "              Sales\n",
              "Company            \n",
              "FB        75.660426\n",
              "GOOG      56.568542\n",
              "MSFT     152.735065"
            ]
          },
          "metadata": {
            "tags": []
          },
          "execution_count": 86
        }
      ]
    },
    {
      "cell_type": "code",
      "metadata": {
        "id": "6oYhNROe618U",
        "colab_type": "code",
        "outputId": "6ea5aa5f-e47c-40d7-88f6-307ecc24d895",
        "colab": {
          "base_uri": "https://localhost:8080/",
          "height": 51
        }
      },
      "source": [
        "# apply aggregate function with a selection referring to an index value\n",
        "byComp.sum().loc['FB']"
      ],
      "execution_count": 87,
      "outputs": [
        {
          "output_type": "execute_result",
          "data": {
            "text/plain": [
              "Sales    593\n",
              "Name: FB, dtype: int64"
            ]
          },
          "metadata": {
            "tags": []
          },
          "execution_count": 87
        }
      ]
    },
    {
      "cell_type": "code",
      "metadata": {
        "id": "UVW5AMKI7FPE",
        "colab_type": "code",
        "colab": {
          "base_uri": "https://localhost:8080/",
          "height": 51
        },
        "outputId": "998cc327-d8c5-4a2e-e9aa-bf458f606c78"
      },
      "source": [
        "# tighter code\n",
        "df.groupby('Company').sum().loc['FB']"
      ],
      "execution_count": 88,
      "outputs": [
        {
          "output_type": "execute_result",
          "data": {
            "text/plain": [
              "Sales    593\n",
              "Name: FB, dtype: int64"
            ]
          },
          "metadata": {
            "tags": []
          },
          "execution_count": 88
        }
      ]
    },
    {
      "cell_type": "code",
      "metadata": {
        "id": "-jtWY_WmAK9F",
        "colab_type": "code",
        "colab": {
          "base_uri": "https://localhost:8080/",
          "height": 173
        },
        "outputId": "2aff6757-6cbf-4e87-83db-60bd27c27beb"
      },
      "source": [
        "# count instances in a column\n",
        "df.groupby('Company').count()"
      ],
      "execution_count": 89,
      "outputs": [
        {
          "output_type": "execute_result",
          "data": {
            "text/html": [
              "<div>\n",
              "<style scoped>\n",
              "    .dataframe tbody tr th:only-of-type {\n",
              "        vertical-align: middle;\n",
              "    }\n",
              "\n",
              "    .dataframe tbody tr th {\n",
              "        vertical-align: top;\n",
              "    }\n",
              "\n",
              "    .dataframe thead th {\n",
              "        text-align: right;\n",
              "    }\n",
              "</style>\n",
              "<table border=\"1\" class=\"dataframe\">\n",
              "  <thead>\n",
              "    <tr style=\"text-align: right;\">\n",
              "      <th></th>\n",
              "      <th>Person</th>\n",
              "      <th>Sales</th>\n",
              "    </tr>\n",
              "    <tr>\n",
              "      <th>Company</th>\n",
              "      <th></th>\n",
              "      <th></th>\n",
              "    </tr>\n",
              "  </thead>\n",
              "  <tbody>\n",
              "    <tr>\n",
              "      <th>FB</th>\n",
              "      <td>2</td>\n",
              "      <td>2</td>\n",
              "    </tr>\n",
              "    <tr>\n",
              "      <th>GOOG</th>\n",
              "      <td>2</td>\n",
              "      <td>2</td>\n",
              "    </tr>\n",
              "    <tr>\n",
              "      <th>MSFT</th>\n",
              "      <td>2</td>\n",
              "      <td>2</td>\n",
              "    </tr>\n",
              "  </tbody>\n",
              "</table>\n",
              "</div>"
            ],
            "text/plain": [
              "         Person  Sales\n",
              "Company               \n",
              "FB            2      2\n",
              "GOOG          2      2\n",
              "MSFT          2      2"
            ]
          },
          "metadata": {
            "tags": []
          },
          "execution_count": 89
        }
      ]
    },
    {
      "cell_type": "code",
      "metadata": {
        "id": "omCtXYgTASkj",
        "colab_type": "code",
        "colab": {
          "base_uri": "https://localhost:8080/",
          "height": 173
        },
        "outputId": "e736689b-ad71-47cf-c2c8-0577db78aa40"
      },
      "source": [
        "# find max of each company group\n",
        "df.groupby('Company').max() # person is the last in list for each company"
      ],
      "execution_count": 90,
      "outputs": [
        {
          "output_type": "execute_result",
          "data": {
            "text/html": [
              "<div>\n",
              "<style scoped>\n",
              "    .dataframe tbody tr th:only-of-type {\n",
              "        vertical-align: middle;\n",
              "    }\n",
              "\n",
              "    .dataframe tbody tr th {\n",
              "        vertical-align: top;\n",
              "    }\n",
              "\n",
              "    .dataframe thead th {\n",
              "        text-align: right;\n",
              "    }\n",
              "</style>\n",
              "<table border=\"1\" class=\"dataframe\">\n",
              "  <thead>\n",
              "    <tr style=\"text-align: right;\">\n",
              "      <th></th>\n",
              "      <th>Person</th>\n",
              "      <th>Sales</th>\n",
              "    </tr>\n",
              "    <tr>\n",
              "      <th>Company</th>\n",
              "      <th></th>\n",
              "      <th></th>\n",
              "    </tr>\n",
              "  </thead>\n",
              "  <tbody>\n",
              "    <tr>\n",
              "      <th>FB</th>\n",
              "      <td>Sarah</td>\n",
              "      <td>350</td>\n",
              "    </tr>\n",
              "    <tr>\n",
              "      <th>GOOG</th>\n",
              "      <td>Sam</td>\n",
              "      <td>200</td>\n",
              "    </tr>\n",
              "    <tr>\n",
              "      <th>MSFT</th>\n",
              "      <td>Vanessa</td>\n",
              "      <td>340</td>\n",
              "    </tr>\n",
              "  </tbody>\n",
              "</table>\n",
              "</div>"
            ],
            "text/plain": [
              "          Person  Sales\n",
              "Company                \n",
              "FB         Sarah    350\n",
              "GOOG         Sam    200\n",
              "MSFT     Vanessa    340"
            ]
          },
          "metadata": {
            "tags": []
          },
          "execution_count": 90
        }
      ]
    },
    {
      "cell_type": "code",
      "metadata": {
        "id": "sQdT8S8YAYMM",
        "colab_type": "code",
        "colab": {
          "base_uri": "https://localhost:8080/",
          "height": 173
        },
        "outputId": "abd20af5-8bfd-432f-c08a-547fb1b249f0"
      },
      "source": [
        "# report min of each company\n",
        "df.groupby('Company').min() # shows first person for each company"
      ],
      "execution_count": 91,
      "outputs": [
        {
          "output_type": "execute_result",
          "data": {
            "text/html": [
              "<div>\n",
              "<style scoped>\n",
              "    .dataframe tbody tr th:only-of-type {\n",
              "        vertical-align: middle;\n",
              "    }\n",
              "\n",
              "    .dataframe tbody tr th {\n",
              "        vertical-align: top;\n",
              "    }\n",
              "\n",
              "    .dataframe thead th {\n",
              "        text-align: right;\n",
              "    }\n",
              "</style>\n",
              "<table border=\"1\" class=\"dataframe\">\n",
              "  <thead>\n",
              "    <tr style=\"text-align: right;\">\n",
              "      <th></th>\n",
              "      <th>Person</th>\n",
              "      <th>Sales</th>\n",
              "    </tr>\n",
              "    <tr>\n",
              "      <th>Company</th>\n",
              "      <th></th>\n",
              "      <th></th>\n",
              "    </tr>\n",
              "  </thead>\n",
              "  <tbody>\n",
              "    <tr>\n",
              "      <th>FB</th>\n",
              "      <td>Carl</td>\n",
              "      <td>243</td>\n",
              "    </tr>\n",
              "    <tr>\n",
              "      <th>GOOG</th>\n",
              "      <td>Charlie</td>\n",
              "      <td>120</td>\n",
              "    </tr>\n",
              "    <tr>\n",
              "      <th>MSFT</th>\n",
              "      <td>Amy</td>\n",
              "      <td>124</td>\n",
              "    </tr>\n",
              "  </tbody>\n",
              "</table>\n",
              "</div>"
            ],
            "text/plain": [
              "          Person  Sales\n",
              "Company                \n",
              "FB          Carl    243\n",
              "GOOG     Charlie    120\n",
              "MSFT         Amy    124"
            ]
          },
          "metadata": {
            "tags": []
          },
          "execution_count": 91
        }
      ]
    },
    {
      "cell_type": "code",
      "metadata": {
        "id": "1Cyl5FmCAsiP",
        "colab_type": "code",
        "colab": {
          "base_uri": "https://localhost:8080/",
          "height": 204
        },
        "outputId": "18923fa0-3aa7-43fb-bf18-6c1717ec86e1"
      },
      "source": [
        "# give descriptive stats for each group\n",
        "df.groupby('Company').describe()"
      ],
      "execution_count": 92,
      "outputs": [
        {
          "output_type": "execute_result",
          "data": {
            "text/html": [
              "<div>\n",
              "<style scoped>\n",
              "    .dataframe tbody tr th:only-of-type {\n",
              "        vertical-align: middle;\n",
              "    }\n",
              "\n",
              "    .dataframe tbody tr th {\n",
              "        vertical-align: top;\n",
              "    }\n",
              "\n",
              "    .dataframe thead tr th {\n",
              "        text-align: left;\n",
              "    }\n",
              "\n",
              "    .dataframe thead tr:last-of-type th {\n",
              "        text-align: right;\n",
              "    }\n",
              "</style>\n",
              "<table border=\"1\" class=\"dataframe\">\n",
              "  <thead>\n",
              "    <tr>\n",
              "      <th></th>\n",
              "      <th colspan=\"8\" halign=\"left\">Sales</th>\n",
              "    </tr>\n",
              "    <tr>\n",
              "      <th></th>\n",
              "      <th>count</th>\n",
              "      <th>mean</th>\n",
              "      <th>std</th>\n",
              "      <th>min</th>\n",
              "      <th>25%</th>\n",
              "      <th>50%</th>\n",
              "      <th>75%</th>\n",
              "      <th>max</th>\n",
              "    </tr>\n",
              "    <tr>\n",
              "      <th>Company</th>\n",
              "      <th></th>\n",
              "      <th></th>\n",
              "      <th></th>\n",
              "      <th></th>\n",
              "      <th></th>\n",
              "      <th></th>\n",
              "      <th></th>\n",
              "      <th></th>\n",
              "    </tr>\n",
              "  </thead>\n",
              "  <tbody>\n",
              "    <tr>\n",
              "      <th>FB</th>\n",
              "      <td>2.0</td>\n",
              "      <td>296.5</td>\n",
              "      <td>75.660426</td>\n",
              "      <td>243.0</td>\n",
              "      <td>269.75</td>\n",
              "      <td>296.5</td>\n",
              "      <td>323.25</td>\n",
              "      <td>350.0</td>\n",
              "    </tr>\n",
              "    <tr>\n",
              "      <th>GOOG</th>\n",
              "      <td>2.0</td>\n",
              "      <td>160.0</td>\n",
              "      <td>56.568542</td>\n",
              "      <td>120.0</td>\n",
              "      <td>140.00</td>\n",
              "      <td>160.0</td>\n",
              "      <td>180.00</td>\n",
              "      <td>200.0</td>\n",
              "    </tr>\n",
              "    <tr>\n",
              "      <th>MSFT</th>\n",
              "      <td>2.0</td>\n",
              "      <td>232.0</td>\n",
              "      <td>152.735065</td>\n",
              "      <td>124.0</td>\n",
              "      <td>178.00</td>\n",
              "      <td>232.0</td>\n",
              "      <td>286.00</td>\n",
              "      <td>340.0</td>\n",
              "    </tr>\n",
              "  </tbody>\n",
              "</table>\n",
              "</div>"
            ],
            "text/plain": [
              "        Sales                                                        \n",
              "        count   mean         std    min     25%    50%     75%    max\n",
              "Company                                                              \n",
              "FB        2.0  296.5   75.660426  243.0  269.75  296.5  323.25  350.0\n",
              "GOOG      2.0  160.0   56.568542  120.0  140.00  160.0  180.00  200.0\n",
              "MSFT      2.0  232.0  152.735065  124.0  178.00  232.0  286.00  340.0"
            ]
          },
          "metadata": {
            "tags": []
          },
          "execution_count": 92
        }
      ]
    },
    {
      "cell_type": "code",
      "metadata": {
        "id": "FADwjw4yA_NL",
        "colab_type": "code",
        "colab": {
          "base_uri": "https://localhost:8080/",
          "height": 297
        },
        "outputId": "94c77d69-bb09-4971-e774-1b4d4cb708b5"
      },
      "source": [
        "# show the same info in vertical format\n",
        "df.groupby('Company').describe().transpose()"
      ],
      "execution_count": 93,
      "outputs": [
        {
          "output_type": "execute_result",
          "data": {
            "text/html": [
              "<div>\n",
              "<style scoped>\n",
              "    .dataframe tbody tr th:only-of-type {\n",
              "        vertical-align: middle;\n",
              "    }\n",
              "\n",
              "    .dataframe tbody tr th {\n",
              "        vertical-align: top;\n",
              "    }\n",
              "\n",
              "    .dataframe thead th {\n",
              "        text-align: right;\n",
              "    }\n",
              "</style>\n",
              "<table border=\"1\" class=\"dataframe\">\n",
              "  <thead>\n",
              "    <tr style=\"text-align: right;\">\n",
              "      <th></th>\n",
              "      <th>Company</th>\n",
              "      <th>FB</th>\n",
              "      <th>GOOG</th>\n",
              "      <th>MSFT</th>\n",
              "    </tr>\n",
              "  </thead>\n",
              "  <tbody>\n",
              "    <tr>\n",
              "      <th rowspan=\"8\" valign=\"top\">Sales</th>\n",
              "      <th>count</th>\n",
              "      <td>2.000000</td>\n",
              "      <td>2.000000</td>\n",
              "      <td>2.000000</td>\n",
              "    </tr>\n",
              "    <tr>\n",
              "      <th>mean</th>\n",
              "      <td>296.500000</td>\n",
              "      <td>160.000000</td>\n",
              "      <td>232.000000</td>\n",
              "    </tr>\n",
              "    <tr>\n",
              "      <th>std</th>\n",
              "      <td>75.660426</td>\n",
              "      <td>56.568542</td>\n",
              "      <td>152.735065</td>\n",
              "    </tr>\n",
              "    <tr>\n",
              "      <th>min</th>\n",
              "      <td>243.000000</td>\n",
              "      <td>120.000000</td>\n",
              "      <td>124.000000</td>\n",
              "    </tr>\n",
              "    <tr>\n",
              "      <th>25%</th>\n",
              "      <td>269.750000</td>\n",
              "      <td>140.000000</td>\n",
              "      <td>178.000000</td>\n",
              "    </tr>\n",
              "    <tr>\n",
              "      <th>50%</th>\n",
              "      <td>296.500000</td>\n",
              "      <td>160.000000</td>\n",
              "      <td>232.000000</td>\n",
              "    </tr>\n",
              "    <tr>\n",
              "      <th>75%</th>\n",
              "      <td>323.250000</td>\n",
              "      <td>180.000000</td>\n",
              "      <td>286.000000</td>\n",
              "    </tr>\n",
              "    <tr>\n",
              "      <th>max</th>\n",
              "      <td>350.000000</td>\n",
              "      <td>200.000000</td>\n",
              "      <td>340.000000</td>\n",
              "    </tr>\n",
              "  </tbody>\n",
              "</table>\n",
              "</div>"
            ],
            "text/plain": [
              "Company              FB        GOOG        MSFT\n",
              "Sales count    2.000000    2.000000    2.000000\n",
              "      mean   296.500000  160.000000  232.000000\n",
              "      std     75.660426   56.568542  152.735065\n",
              "      min    243.000000  120.000000  124.000000\n",
              "      25%    269.750000  140.000000  178.000000\n",
              "      50%    296.500000  160.000000  232.000000\n",
              "      75%    323.250000  180.000000  286.000000\n",
              "      max    350.000000  200.000000  340.000000"
            ]
          },
          "metadata": {
            "tags": []
          },
          "execution_count": 93
        }
      ]
    },
    {
      "cell_type": "code",
      "metadata": {
        "id": "EKD5mbaXBLmq",
        "colab_type": "code",
        "colab": {
          "base_uri": "https://localhost:8080/",
          "height": 170
        },
        "outputId": "a8b1838f-d567-4b7c-958c-78719a80609a"
      },
      "source": [
        "# drill down to a single group\n",
        "df.groupby('Company').describe().transpose()['GOOG']"
      ],
      "execution_count": 94,
      "outputs": [
        {
          "output_type": "execute_result",
          "data": {
            "text/plain": [
              "Sales  count      2.000000\n",
              "       mean     160.000000\n",
              "       std       56.568542\n",
              "       min      120.000000\n",
              "       25%      140.000000\n",
              "       50%      160.000000\n",
              "       75%      180.000000\n",
              "       max      200.000000\n",
              "Name: GOOG, dtype: float64"
            ]
          },
          "metadata": {
            "tags": []
          },
          "execution_count": 94
        }
      ]
    },
    {
      "cell_type": "markdown",
      "metadata": {
        "id": "eneaB0JHoQjK",
        "colab_type": "text"
      },
      "source": [
        "## Concatenating"
      ]
    },
    {
      "cell_type": "code",
      "metadata": {
        "id": "-okrSezEoS9T",
        "colab_type": "code",
        "colab": {}
      },
      "source": [
        "# create some dataframes\n",
        "df1 = pd.DataFrame({'A': ['A0', 'A1', 'A2', 'A3'],\n",
        "                   'B': ['B0', 'B1', 'B2', 'B3'],\n",
        "                   'C': ['C0', 'C1', 'C2', 'C3'],\n",
        "                   'D': ['D0', 'D1', 'D2', 'D3']},\n",
        "                  index=[0, 1, 2, 3])\n",
        "df2 = pd.DataFrame({'A': ['A4', 'A5', 'A6', 'A7'],\n",
        "                   'B': ['B4', 'B5', 'B6', 'B7'],\n",
        "                   'C': ['C4', 'C5', 'C6', 'C7'],\n",
        "                   'D': ['D4', 'D5', 'D6', 'D7']},\n",
        "                   index=[4, 5, 6, 7])\n",
        "df3 = pd.DataFrame({'A': ['A8', 'A9', 'A10', 'A11'],\n",
        "                   'B': ['B8', 'B9', 'B10', 'B11'],\n",
        "                   'C': ['C8', 'C9', 'C10', 'C11'],\n",
        "                   'D': ['D8', 'D9', 'D10', 'D11']},\n",
        "                  index=[8, 9, 10, 11])"
      ],
      "execution_count": 0,
      "outputs": []
    },
    {
      "cell_type": "code",
      "metadata": {
        "id": "1WERQA3vrhFl",
        "colab_type": "code",
        "colab": {
          "base_uri": "https://localhost:8080/",
          "height": 173
        },
        "outputId": "54426e14-9d75-4b79-ff77-65128da6487c"
      },
      "source": [
        "df1"
      ],
      "execution_count": 96,
      "outputs": [
        {
          "output_type": "execute_result",
          "data": {
            "text/html": [
              "<div>\n",
              "<style scoped>\n",
              "    .dataframe tbody tr th:only-of-type {\n",
              "        vertical-align: middle;\n",
              "    }\n",
              "\n",
              "    .dataframe tbody tr th {\n",
              "        vertical-align: top;\n",
              "    }\n",
              "\n",
              "    .dataframe thead th {\n",
              "        text-align: right;\n",
              "    }\n",
              "</style>\n",
              "<table border=\"1\" class=\"dataframe\">\n",
              "  <thead>\n",
              "    <tr style=\"text-align: right;\">\n",
              "      <th></th>\n",
              "      <th>A</th>\n",
              "      <th>B</th>\n",
              "      <th>C</th>\n",
              "      <th>D</th>\n",
              "    </tr>\n",
              "  </thead>\n",
              "  <tbody>\n",
              "    <tr>\n",
              "      <th>0</th>\n",
              "      <td>A0</td>\n",
              "      <td>B0</td>\n",
              "      <td>C0</td>\n",
              "      <td>D0</td>\n",
              "    </tr>\n",
              "    <tr>\n",
              "      <th>1</th>\n",
              "      <td>A1</td>\n",
              "      <td>B1</td>\n",
              "      <td>C1</td>\n",
              "      <td>D1</td>\n",
              "    </tr>\n",
              "    <tr>\n",
              "      <th>2</th>\n",
              "      <td>A2</td>\n",
              "      <td>B2</td>\n",
              "      <td>C2</td>\n",
              "      <td>D2</td>\n",
              "    </tr>\n",
              "    <tr>\n",
              "      <th>3</th>\n",
              "      <td>A3</td>\n",
              "      <td>B3</td>\n",
              "      <td>C3</td>\n",
              "      <td>D3</td>\n",
              "    </tr>\n",
              "  </tbody>\n",
              "</table>\n",
              "</div>"
            ],
            "text/plain": [
              "    A   B   C   D\n",
              "0  A0  B0  C0  D0\n",
              "1  A1  B1  C1  D1\n",
              "2  A2  B2  C2  D2\n",
              "3  A3  B3  C3  D3"
            ]
          },
          "metadata": {
            "tags": []
          },
          "execution_count": 96
        }
      ]
    },
    {
      "cell_type": "code",
      "metadata": {
        "id": "uTLAitPcriB6",
        "colab_type": "code",
        "colab": {
          "base_uri": "https://localhost:8080/",
          "height": 173
        },
        "outputId": "209679f5-daf4-4b55-9984-78b78141dc22"
      },
      "source": [
        "df2"
      ],
      "execution_count": 97,
      "outputs": [
        {
          "output_type": "execute_result",
          "data": {
            "text/html": [
              "<div>\n",
              "<style scoped>\n",
              "    .dataframe tbody tr th:only-of-type {\n",
              "        vertical-align: middle;\n",
              "    }\n",
              "\n",
              "    .dataframe tbody tr th {\n",
              "        vertical-align: top;\n",
              "    }\n",
              "\n",
              "    .dataframe thead th {\n",
              "        text-align: right;\n",
              "    }\n",
              "</style>\n",
              "<table border=\"1\" class=\"dataframe\">\n",
              "  <thead>\n",
              "    <tr style=\"text-align: right;\">\n",
              "      <th></th>\n",
              "      <th>A</th>\n",
              "      <th>B</th>\n",
              "      <th>C</th>\n",
              "      <th>D</th>\n",
              "    </tr>\n",
              "  </thead>\n",
              "  <tbody>\n",
              "    <tr>\n",
              "      <th>4</th>\n",
              "      <td>A4</td>\n",
              "      <td>B4</td>\n",
              "      <td>C4</td>\n",
              "      <td>D4</td>\n",
              "    </tr>\n",
              "    <tr>\n",
              "      <th>5</th>\n",
              "      <td>A5</td>\n",
              "      <td>B5</td>\n",
              "      <td>C5</td>\n",
              "      <td>D5</td>\n",
              "    </tr>\n",
              "    <tr>\n",
              "      <th>6</th>\n",
              "      <td>A6</td>\n",
              "      <td>B6</td>\n",
              "      <td>C6</td>\n",
              "      <td>D6</td>\n",
              "    </tr>\n",
              "    <tr>\n",
              "      <th>7</th>\n",
              "      <td>A7</td>\n",
              "      <td>B7</td>\n",
              "      <td>C7</td>\n",
              "      <td>D7</td>\n",
              "    </tr>\n",
              "  </tbody>\n",
              "</table>\n",
              "</div>"
            ],
            "text/plain": [
              "    A   B   C   D\n",
              "4  A4  B4  C4  D4\n",
              "5  A5  B5  C5  D5\n",
              "6  A6  B6  C6  D6\n",
              "7  A7  B7  C7  D7"
            ]
          },
          "metadata": {
            "tags": []
          },
          "execution_count": 97
        }
      ]
    },
    {
      "cell_type": "code",
      "metadata": {
        "id": "c6hGMk2Hrrj3",
        "colab_type": "code",
        "colab": {
          "base_uri": "https://localhost:8080/",
          "height": 173
        },
        "outputId": "9e6c64bd-d1f9-4053-839c-5d7ef5160ee7"
      },
      "source": [
        "df3"
      ],
      "execution_count": 98,
      "outputs": [
        {
          "output_type": "execute_result",
          "data": {
            "text/html": [
              "<div>\n",
              "<style scoped>\n",
              "    .dataframe tbody tr th:only-of-type {\n",
              "        vertical-align: middle;\n",
              "    }\n",
              "\n",
              "    .dataframe tbody tr th {\n",
              "        vertical-align: top;\n",
              "    }\n",
              "\n",
              "    .dataframe thead th {\n",
              "        text-align: right;\n",
              "    }\n",
              "</style>\n",
              "<table border=\"1\" class=\"dataframe\">\n",
              "  <thead>\n",
              "    <tr style=\"text-align: right;\">\n",
              "      <th></th>\n",
              "      <th>A</th>\n",
              "      <th>B</th>\n",
              "      <th>C</th>\n",
              "      <th>D</th>\n",
              "    </tr>\n",
              "  </thead>\n",
              "  <tbody>\n",
              "    <tr>\n",
              "      <th>8</th>\n",
              "      <td>A8</td>\n",
              "      <td>B8</td>\n",
              "      <td>C8</td>\n",
              "      <td>D8</td>\n",
              "    </tr>\n",
              "    <tr>\n",
              "      <th>9</th>\n",
              "      <td>A9</td>\n",
              "      <td>B9</td>\n",
              "      <td>C9</td>\n",
              "      <td>D9</td>\n",
              "    </tr>\n",
              "    <tr>\n",
              "      <th>10</th>\n",
              "      <td>A10</td>\n",
              "      <td>B10</td>\n",
              "      <td>C10</td>\n",
              "      <td>D10</td>\n",
              "    </tr>\n",
              "    <tr>\n",
              "      <th>11</th>\n",
              "      <td>A11</td>\n",
              "      <td>B11</td>\n",
              "      <td>C11</td>\n",
              "      <td>D11</td>\n",
              "    </tr>\n",
              "  </tbody>\n",
              "</table>\n",
              "</div>"
            ],
            "text/plain": [
              "      A    B    C    D\n",
              "8    A8   B8   C8   D8\n",
              "9    A9   B9   C9   D9\n",
              "10  A10  B10  C10  D10\n",
              "11  A11  B11  C11  D11"
            ]
          },
          "metadata": {
            "tags": []
          },
          "execution_count": 98
        }
      ]
    },
    {
      "cell_type": "code",
      "metadata": {
        "id": "lGETTo-NrsPz",
        "colab_type": "code",
        "colab": {
          "base_uri": "https://localhost:8080/",
          "height": 421
        },
        "outputId": "c395f05b-8968-464f-a8ff-14080701040d"
      },
      "source": [
        "# concatenation joins a list of dataframes, one after the other\n",
        "pd.concat([df1, df2, df3])"
      ],
      "execution_count": 99,
      "outputs": [
        {
          "output_type": "execute_result",
          "data": {
            "text/html": [
              "<div>\n",
              "<style scoped>\n",
              "    .dataframe tbody tr th:only-of-type {\n",
              "        vertical-align: middle;\n",
              "    }\n",
              "\n",
              "    .dataframe tbody tr th {\n",
              "        vertical-align: top;\n",
              "    }\n",
              "\n",
              "    .dataframe thead th {\n",
              "        text-align: right;\n",
              "    }\n",
              "</style>\n",
              "<table border=\"1\" class=\"dataframe\">\n",
              "  <thead>\n",
              "    <tr style=\"text-align: right;\">\n",
              "      <th></th>\n",
              "      <th>A</th>\n",
              "      <th>B</th>\n",
              "      <th>C</th>\n",
              "      <th>D</th>\n",
              "    </tr>\n",
              "  </thead>\n",
              "  <tbody>\n",
              "    <tr>\n",
              "      <th>0</th>\n",
              "      <td>A0</td>\n",
              "      <td>B0</td>\n",
              "      <td>C0</td>\n",
              "      <td>D0</td>\n",
              "    </tr>\n",
              "    <tr>\n",
              "      <th>1</th>\n",
              "      <td>A1</td>\n",
              "      <td>B1</td>\n",
              "      <td>C1</td>\n",
              "      <td>D1</td>\n",
              "    </tr>\n",
              "    <tr>\n",
              "      <th>2</th>\n",
              "      <td>A2</td>\n",
              "      <td>B2</td>\n",
              "      <td>C2</td>\n",
              "      <td>D2</td>\n",
              "    </tr>\n",
              "    <tr>\n",
              "      <th>3</th>\n",
              "      <td>A3</td>\n",
              "      <td>B3</td>\n",
              "      <td>C3</td>\n",
              "      <td>D3</td>\n",
              "    </tr>\n",
              "    <tr>\n",
              "      <th>4</th>\n",
              "      <td>A4</td>\n",
              "      <td>B4</td>\n",
              "      <td>C4</td>\n",
              "      <td>D4</td>\n",
              "    </tr>\n",
              "    <tr>\n",
              "      <th>5</th>\n",
              "      <td>A5</td>\n",
              "      <td>B5</td>\n",
              "      <td>C5</td>\n",
              "      <td>D5</td>\n",
              "    </tr>\n",
              "    <tr>\n",
              "      <th>6</th>\n",
              "      <td>A6</td>\n",
              "      <td>B6</td>\n",
              "      <td>C6</td>\n",
              "      <td>D6</td>\n",
              "    </tr>\n",
              "    <tr>\n",
              "      <th>7</th>\n",
              "      <td>A7</td>\n",
              "      <td>B7</td>\n",
              "      <td>C7</td>\n",
              "      <td>D7</td>\n",
              "    </tr>\n",
              "    <tr>\n",
              "      <th>8</th>\n",
              "      <td>A8</td>\n",
              "      <td>B8</td>\n",
              "      <td>C8</td>\n",
              "      <td>D8</td>\n",
              "    </tr>\n",
              "    <tr>\n",
              "      <th>9</th>\n",
              "      <td>A9</td>\n",
              "      <td>B9</td>\n",
              "      <td>C9</td>\n",
              "      <td>D9</td>\n",
              "    </tr>\n",
              "    <tr>\n",
              "      <th>10</th>\n",
              "      <td>A10</td>\n",
              "      <td>B10</td>\n",
              "      <td>C10</td>\n",
              "      <td>D10</td>\n",
              "    </tr>\n",
              "    <tr>\n",
              "      <th>11</th>\n",
              "      <td>A11</td>\n",
              "      <td>B11</td>\n",
              "      <td>C11</td>\n",
              "      <td>D11</td>\n",
              "    </tr>\n",
              "  </tbody>\n",
              "</table>\n",
              "</div>"
            ],
            "text/plain": [
              "      A    B    C    D\n",
              "0    A0   B0   C0   D0\n",
              "1    A1   B1   C1   D1\n",
              "2    A2   B2   C2   D2\n",
              "3    A3   B3   C3   D3\n",
              "4    A4   B4   C4   D4\n",
              "5    A5   B5   C5   D5\n",
              "6    A6   B6   C6   D6\n",
              "7    A7   B7   C7   D7\n",
              "8    A8   B8   C8   D8\n",
              "9    A9   B9   C9   D9\n",
              "10  A10  B10  C10  D10\n",
              "11  A11  B11  C11  D11"
            ]
          },
          "metadata": {
            "tags": []
          },
          "execution_count": 99
        }
      ]
    },
    {
      "cell_type": "code",
      "metadata": {
        "id": "CfYBepSorzDO",
        "colab_type": "code",
        "colab": {
          "base_uri": "https://localhost:8080/",
          "height": 421
        },
        "outputId": "c50b444e-9fb4-4127-a15e-df3dc412f9d9"
      },
      "source": [
        "# concatenate with axis=1 to join at columns\n",
        "pd.concat([df1, df2, df3], axis=1) # lots of missing values\n",
        "# make sure joins happen in the best direction"
      ],
      "execution_count": 101,
      "outputs": [
        {
          "output_type": "execute_result",
          "data": {
            "text/html": [
              "<div>\n",
              "<style scoped>\n",
              "    .dataframe tbody tr th:only-of-type {\n",
              "        vertical-align: middle;\n",
              "    }\n",
              "\n",
              "    .dataframe tbody tr th {\n",
              "        vertical-align: top;\n",
              "    }\n",
              "\n",
              "    .dataframe thead th {\n",
              "        text-align: right;\n",
              "    }\n",
              "</style>\n",
              "<table border=\"1\" class=\"dataframe\">\n",
              "  <thead>\n",
              "    <tr style=\"text-align: right;\">\n",
              "      <th></th>\n",
              "      <th>A</th>\n",
              "      <th>B</th>\n",
              "      <th>C</th>\n",
              "      <th>D</th>\n",
              "      <th>A</th>\n",
              "      <th>B</th>\n",
              "      <th>C</th>\n",
              "      <th>D</th>\n",
              "      <th>A</th>\n",
              "      <th>B</th>\n",
              "      <th>C</th>\n",
              "      <th>D</th>\n",
              "    </tr>\n",
              "  </thead>\n",
              "  <tbody>\n",
              "    <tr>\n",
              "      <th>0</th>\n",
              "      <td>A0</td>\n",
              "      <td>B0</td>\n",
              "      <td>C0</td>\n",
              "      <td>D0</td>\n",
              "      <td>NaN</td>\n",
              "      <td>NaN</td>\n",
              "      <td>NaN</td>\n",
              "      <td>NaN</td>\n",
              "      <td>NaN</td>\n",
              "      <td>NaN</td>\n",
              "      <td>NaN</td>\n",
              "      <td>NaN</td>\n",
              "    </tr>\n",
              "    <tr>\n",
              "      <th>1</th>\n",
              "      <td>A1</td>\n",
              "      <td>B1</td>\n",
              "      <td>C1</td>\n",
              "      <td>D1</td>\n",
              "      <td>NaN</td>\n",
              "      <td>NaN</td>\n",
              "      <td>NaN</td>\n",
              "      <td>NaN</td>\n",
              "      <td>NaN</td>\n",
              "      <td>NaN</td>\n",
              "      <td>NaN</td>\n",
              "      <td>NaN</td>\n",
              "    </tr>\n",
              "    <tr>\n",
              "      <th>2</th>\n",
              "      <td>A2</td>\n",
              "      <td>B2</td>\n",
              "      <td>C2</td>\n",
              "      <td>D2</td>\n",
              "      <td>NaN</td>\n",
              "      <td>NaN</td>\n",
              "      <td>NaN</td>\n",
              "      <td>NaN</td>\n",
              "      <td>NaN</td>\n",
              "      <td>NaN</td>\n",
              "      <td>NaN</td>\n",
              "      <td>NaN</td>\n",
              "    </tr>\n",
              "    <tr>\n",
              "      <th>3</th>\n",
              "      <td>A3</td>\n",
              "      <td>B3</td>\n",
              "      <td>C3</td>\n",
              "      <td>D3</td>\n",
              "      <td>NaN</td>\n",
              "      <td>NaN</td>\n",
              "      <td>NaN</td>\n",
              "      <td>NaN</td>\n",
              "      <td>NaN</td>\n",
              "      <td>NaN</td>\n",
              "      <td>NaN</td>\n",
              "      <td>NaN</td>\n",
              "    </tr>\n",
              "    <tr>\n",
              "      <th>4</th>\n",
              "      <td>NaN</td>\n",
              "      <td>NaN</td>\n",
              "      <td>NaN</td>\n",
              "      <td>NaN</td>\n",
              "      <td>A4</td>\n",
              "      <td>B4</td>\n",
              "      <td>C4</td>\n",
              "      <td>D4</td>\n",
              "      <td>NaN</td>\n",
              "      <td>NaN</td>\n",
              "      <td>NaN</td>\n",
              "      <td>NaN</td>\n",
              "    </tr>\n",
              "    <tr>\n",
              "      <th>5</th>\n",
              "      <td>NaN</td>\n",
              "      <td>NaN</td>\n",
              "      <td>NaN</td>\n",
              "      <td>NaN</td>\n",
              "      <td>A5</td>\n",
              "      <td>B5</td>\n",
              "      <td>C5</td>\n",
              "      <td>D5</td>\n",
              "      <td>NaN</td>\n",
              "      <td>NaN</td>\n",
              "      <td>NaN</td>\n",
              "      <td>NaN</td>\n",
              "    </tr>\n",
              "    <tr>\n",
              "      <th>6</th>\n",
              "      <td>NaN</td>\n",
              "      <td>NaN</td>\n",
              "      <td>NaN</td>\n",
              "      <td>NaN</td>\n",
              "      <td>A6</td>\n",
              "      <td>B6</td>\n",
              "      <td>C6</td>\n",
              "      <td>D6</td>\n",
              "      <td>NaN</td>\n",
              "      <td>NaN</td>\n",
              "      <td>NaN</td>\n",
              "      <td>NaN</td>\n",
              "    </tr>\n",
              "    <tr>\n",
              "      <th>7</th>\n",
              "      <td>NaN</td>\n",
              "      <td>NaN</td>\n",
              "      <td>NaN</td>\n",
              "      <td>NaN</td>\n",
              "      <td>A7</td>\n",
              "      <td>B7</td>\n",
              "      <td>C7</td>\n",
              "      <td>D7</td>\n",
              "      <td>NaN</td>\n",
              "      <td>NaN</td>\n",
              "      <td>NaN</td>\n",
              "      <td>NaN</td>\n",
              "    </tr>\n",
              "    <tr>\n",
              "      <th>8</th>\n",
              "      <td>NaN</td>\n",
              "      <td>NaN</td>\n",
              "      <td>NaN</td>\n",
              "      <td>NaN</td>\n",
              "      <td>NaN</td>\n",
              "      <td>NaN</td>\n",
              "      <td>NaN</td>\n",
              "      <td>NaN</td>\n",
              "      <td>A8</td>\n",
              "      <td>B8</td>\n",
              "      <td>C8</td>\n",
              "      <td>D8</td>\n",
              "    </tr>\n",
              "    <tr>\n",
              "      <th>9</th>\n",
              "      <td>NaN</td>\n",
              "      <td>NaN</td>\n",
              "      <td>NaN</td>\n",
              "      <td>NaN</td>\n",
              "      <td>NaN</td>\n",
              "      <td>NaN</td>\n",
              "      <td>NaN</td>\n",
              "      <td>NaN</td>\n",
              "      <td>A9</td>\n",
              "      <td>B9</td>\n",
              "      <td>C9</td>\n",
              "      <td>D9</td>\n",
              "    </tr>\n",
              "    <tr>\n",
              "      <th>10</th>\n",
              "      <td>NaN</td>\n",
              "      <td>NaN</td>\n",
              "      <td>NaN</td>\n",
              "      <td>NaN</td>\n",
              "      <td>NaN</td>\n",
              "      <td>NaN</td>\n",
              "      <td>NaN</td>\n",
              "      <td>NaN</td>\n",
              "      <td>A10</td>\n",
              "      <td>B10</td>\n",
              "      <td>C10</td>\n",
              "      <td>D10</td>\n",
              "    </tr>\n",
              "    <tr>\n",
              "      <th>11</th>\n",
              "      <td>NaN</td>\n",
              "      <td>NaN</td>\n",
              "      <td>NaN</td>\n",
              "      <td>NaN</td>\n",
              "      <td>NaN</td>\n",
              "      <td>NaN</td>\n",
              "      <td>NaN</td>\n",
              "      <td>NaN</td>\n",
              "      <td>A11</td>\n",
              "      <td>B11</td>\n",
              "      <td>C11</td>\n",
              "      <td>D11</td>\n",
              "    </tr>\n",
              "  </tbody>\n",
              "</table>\n",
              "</div>"
            ],
            "text/plain": [
              "      A    B    C    D    A    B    C    D    A    B    C    D\n",
              "0    A0   B0   C0   D0  NaN  NaN  NaN  NaN  NaN  NaN  NaN  NaN\n",
              "1    A1   B1   C1   D1  NaN  NaN  NaN  NaN  NaN  NaN  NaN  NaN\n",
              "2    A2   B2   C2   D2  NaN  NaN  NaN  NaN  NaN  NaN  NaN  NaN\n",
              "3    A3   B3   C3   D3  NaN  NaN  NaN  NaN  NaN  NaN  NaN  NaN\n",
              "4   NaN  NaN  NaN  NaN   A4   B4   C4   D4  NaN  NaN  NaN  NaN\n",
              "5   NaN  NaN  NaN  NaN   A5   B5   C5   D5  NaN  NaN  NaN  NaN\n",
              "6   NaN  NaN  NaN  NaN   A6   B6   C6   D6  NaN  NaN  NaN  NaN\n",
              "7   NaN  NaN  NaN  NaN   A7   B7   C7   D7  NaN  NaN  NaN  NaN\n",
              "8   NaN  NaN  NaN  NaN  NaN  NaN  NaN  NaN   A8   B8   C8   D8\n",
              "9   NaN  NaN  NaN  NaN  NaN  NaN  NaN  NaN   A9   B9   C9   D9\n",
              "10  NaN  NaN  NaN  NaN  NaN  NaN  NaN  NaN  A10  B10  C10  D10\n",
              "11  NaN  NaN  NaN  NaN  NaN  NaN  NaN  NaN  A11  B11  C11  D11"
            ]
          },
          "metadata": {
            "tags": []
          },
          "execution_count": 101
        }
      ]
    },
    {
      "cell_type": "markdown",
      "metadata": {
        "id": "Qp67ydI1sjNZ",
        "colab_type": "text"
      },
      "source": [
        "## Merging\n",
        "Like concatenating but uses logic to join things more usefully\n"
      ]
    },
    {
      "cell_type": "code",
      "metadata": {
        "id": "bUaAOCOVswAi",
        "colab_type": "code",
        "colab": {}
      },
      "source": [
        "# create dataframes with same key\n",
        "left = pd.DataFrame({'key': ['K0', 'K1', 'K2'],\n",
        "                    'A': ['A0', 'A1', 'A2'],\n",
        "                    'B': ['B0', 'B1', 'B2']})\n",
        "right = pd.DataFrame({'key': ['K0', 'K1', 'K2'],\n",
        "                     'C': ['C0', 'C1', 'C2'],\n",
        "                     'D': ['D0', 'D1', 'D2']})"
      ],
      "execution_count": 0,
      "outputs": []
    },
    {
      "cell_type": "code",
      "metadata": {
        "id": "YyFlKmGUs2IB",
        "colab_type": "code",
        "colab": {
          "base_uri": "https://localhost:8080/",
          "height": 142
        },
        "outputId": "e3bf1a84-ef7c-4c32-fe56-6fd79ace30b8"
      },
      "source": [
        "left"
      ],
      "execution_count": 105,
      "outputs": [
        {
          "output_type": "execute_result",
          "data": {
            "text/html": [
              "<div>\n",
              "<style scoped>\n",
              "    .dataframe tbody tr th:only-of-type {\n",
              "        vertical-align: middle;\n",
              "    }\n",
              "\n",
              "    .dataframe tbody tr th {\n",
              "        vertical-align: top;\n",
              "    }\n",
              "\n",
              "    .dataframe thead th {\n",
              "        text-align: right;\n",
              "    }\n",
              "</style>\n",
              "<table border=\"1\" class=\"dataframe\">\n",
              "  <thead>\n",
              "    <tr style=\"text-align: right;\">\n",
              "      <th></th>\n",
              "      <th>key</th>\n",
              "      <th>A</th>\n",
              "      <th>B</th>\n",
              "    </tr>\n",
              "  </thead>\n",
              "  <tbody>\n",
              "    <tr>\n",
              "      <th>0</th>\n",
              "      <td>K0</td>\n",
              "      <td>A0</td>\n",
              "      <td>B0</td>\n",
              "    </tr>\n",
              "    <tr>\n",
              "      <th>1</th>\n",
              "      <td>K1</td>\n",
              "      <td>A1</td>\n",
              "      <td>B1</td>\n",
              "    </tr>\n",
              "    <tr>\n",
              "      <th>2</th>\n",
              "      <td>K2</td>\n",
              "      <td>A2</td>\n",
              "      <td>B2</td>\n",
              "    </tr>\n",
              "  </tbody>\n",
              "</table>\n",
              "</div>"
            ],
            "text/plain": [
              "  key   A   B\n",
              "0  K0  A0  B0\n",
              "1  K1  A1  B1\n",
              "2  K2  A2  B2"
            ]
          },
          "metadata": {
            "tags": []
          },
          "execution_count": 105
        }
      ]
    },
    {
      "cell_type": "code",
      "metadata": {
        "id": "qQdMSfLetgUv",
        "colab_type": "code",
        "colab": {
          "base_uri": "https://localhost:8080/",
          "height": 142
        },
        "outputId": "01d6cedd-7169-4f26-a2a5-548e3587b2f8"
      },
      "source": [
        "right"
      ],
      "execution_count": 106,
      "outputs": [
        {
          "output_type": "execute_result",
          "data": {
            "text/html": [
              "<div>\n",
              "<style scoped>\n",
              "    .dataframe tbody tr th:only-of-type {\n",
              "        vertical-align: middle;\n",
              "    }\n",
              "\n",
              "    .dataframe tbody tr th {\n",
              "        vertical-align: top;\n",
              "    }\n",
              "\n",
              "    .dataframe thead th {\n",
              "        text-align: right;\n",
              "    }\n",
              "</style>\n",
              "<table border=\"1\" class=\"dataframe\">\n",
              "  <thead>\n",
              "    <tr style=\"text-align: right;\">\n",
              "      <th></th>\n",
              "      <th>key</th>\n",
              "      <th>C</th>\n",
              "      <th>D</th>\n",
              "    </tr>\n",
              "  </thead>\n",
              "  <tbody>\n",
              "    <tr>\n",
              "      <th>0</th>\n",
              "      <td>K0</td>\n",
              "      <td>C0</td>\n",
              "      <td>D0</td>\n",
              "    </tr>\n",
              "    <tr>\n",
              "      <th>1</th>\n",
              "      <td>K1</td>\n",
              "      <td>C1</td>\n",
              "      <td>D1</td>\n",
              "    </tr>\n",
              "    <tr>\n",
              "      <th>2</th>\n",
              "      <td>K2</td>\n",
              "      <td>C2</td>\n",
              "      <td>D2</td>\n",
              "    </tr>\n",
              "  </tbody>\n",
              "</table>\n",
              "</div>"
            ],
            "text/plain": [
              "  key   C   D\n",
              "0  K0  C0  D0\n",
              "1  K1  C1  D1\n",
              "2  K2  C2  D2"
            ]
          },
          "metadata": {
            "tags": []
          },
          "execution_count": 106
        }
      ]
    },
    {
      "cell_type": "code",
      "metadata": {
        "id": "rYxgv6CUthek",
        "colab_type": "code",
        "colab": {
          "base_uri": "https://localhost:8080/",
          "height": 142
        },
        "outputId": "a01e2f77-fa74-40f8-b9de-e173d24ad7cd"
      },
      "source": [
        "# merge two dataframes on 'key', so that the duplicate column is merged\n",
        "pd.merge(left, right, how='inner', on='key')\n",
        "# can also insert a list for the on parameter"
      ],
      "execution_count": 107,
      "outputs": [
        {
          "output_type": "execute_result",
          "data": {
            "text/html": [
              "<div>\n",
              "<style scoped>\n",
              "    .dataframe tbody tr th:only-of-type {\n",
              "        vertical-align: middle;\n",
              "    }\n",
              "\n",
              "    .dataframe tbody tr th {\n",
              "        vertical-align: top;\n",
              "    }\n",
              "\n",
              "    .dataframe thead th {\n",
              "        text-align: right;\n",
              "    }\n",
              "</style>\n",
              "<table border=\"1\" class=\"dataframe\">\n",
              "  <thead>\n",
              "    <tr style=\"text-align: right;\">\n",
              "      <th></th>\n",
              "      <th>key</th>\n",
              "      <th>A</th>\n",
              "      <th>B</th>\n",
              "      <th>C</th>\n",
              "      <th>D</th>\n",
              "    </tr>\n",
              "  </thead>\n",
              "  <tbody>\n",
              "    <tr>\n",
              "      <th>0</th>\n",
              "      <td>K0</td>\n",
              "      <td>A0</td>\n",
              "      <td>B0</td>\n",
              "      <td>C0</td>\n",
              "      <td>D0</td>\n",
              "    </tr>\n",
              "    <tr>\n",
              "      <th>1</th>\n",
              "      <td>K1</td>\n",
              "      <td>A1</td>\n",
              "      <td>B1</td>\n",
              "      <td>C1</td>\n",
              "      <td>D1</td>\n",
              "    </tr>\n",
              "    <tr>\n",
              "      <th>2</th>\n",
              "      <td>K2</td>\n",
              "      <td>A2</td>\n",
              "      <td>B2</td>\n",
              "      <td>C2</td>\n",
              "      <td>D2</td>\n",
              "    </tr>\n",
              "  </tbody>\n",
              "</table>\n",
              "</div>"
            ],
            "text/plain": [
              "  key   A   B   C   D\n",
              "0  K0  A0  B0  C0  D0\n",
              "1  K1  A1  B1  C1  D1\n",
              "2  K2  A2  B2  C2  D2"
            ]
          },
          "metadata": {
            "tags": []
          },
          "execution_count": 107
        }
      ]
    },
    {
      "cell_type": "markdown",
      "metadata": {
        "id": "udOcGlGwuUiD",
        "colab_type": "text"
      },
      "source": [
        "## Joining dataframes"
      ]
    },
    {
      "cell_type": "code",
      "metadata": {
        "id": "d9IjsgRTuYK6",
        "colab_type": "code",
        "colab": {}
      },
      "source": [
        "# create dataframes with same index\n",
        "left = pd.DataFrame({'A': ['A0', 'A1', 'A2'],\n",
        "                    'B': ['B0', 'B1', 'B2']},\n",
        "                   index=['K0', 'K1', 'K2'])\n",
        "right = pd.DataFrame({'C': ['C0', 'C1', 'C2'],\n",
        "                     'D': ['D0', 'D1', 'D2']},\n",
        "                    index=['K0', 'K1', 'K2'])"
      ],
      "execution_count": 0,
      "outputs": []
    },
    {
      "cell_type": "code",
      "metadata": {
        "id": "XJ_alc4muqWb",
        "colab_type": "code",
        "colab": {
          "base_uri": "https://localhost:8080/",
          "height": 142
        },
        "outputId": "ae4b630c-8479-408a-c4d8-7943370a84fc"
      },
      "source": [
        "# join two dataframes\n",
        "left.join(right)"
      ],
      "execution_count": 109,
      "outputs": [
        {
          "output_type": "execute_result",
          "data": {
            "text/html": [
              "<div>\n",
              "<style scoped>\n",
              "    .dataframe tbody tr th:only-of-type {\n",
              "        vertical-align: middle;\n",
              "    }\n",
              "\n",
              "    .dataframe tbody tr th {\n",
              "        vertical-align: top;\n",
              "    }\n",
              "\n",
              "    .dataframe thead th {\n",
              "        text-align: right;\n",
              "    }\n",
              "</style>\n",
              "<table border=\"1\" class=\"dataframe\">\n",
              "  <thead>\n",
              "    <tr style=\"text-align: right;\">\n",
              "      <th></th>\n",
              "      <th>A</th>\n",
              "      <th>B</th>\n",
              "      <th>C</th>\n",
              "      <th>D</th>\n",
              "    </tr>\n",
              "  </thead>\n",
              "  <tbody>\n",
              "    <tr>\n",
              "      <th>K0</th>\n",
              "      <td>A0</td>\n",
              "      <td>B0</td>\n",
              "      <td>C0</td>\n",
              "      <td>D0</td>\n",
              "    </tr>\n",
              "    <tr>\n",
              "      <th>K1</th>\n",
              "      <td>A1</td>\n",
              "      <td>B1</td>\n",
              "      <td>C1</td>\n",
              "      <td>D1</td>\n",
              "    </tr>\n",
              "    <tr>\n",
              "      <th>K2</th>\n",
              "      <td>A2</td>\n",
              "      <td>B2</td>\n",
              "      <td>C2</td>\n",
              "      <td>D2</td>\n",
              "    </tr>\n",
              "  </tbody>\n",
              "</table>\n",
              "</div>"
            ],
            "text/plain": [
              "     A   B   C   D\n",
              "K0  A0  B0  C0  D0\n",
              "K1  A1  B1  C1  D1\n",
              "K2  A2  B2  C2  D2"
            ]
          },
          "metadata": {
            "tags": []
          },
          "execution_count": 109
        }
      ]
    },
    {
      "cell_type": "markdown",
      "metadata": {
        "id": "SZCDtVyqvE11",
        "colab_type": "text"
      },
      "source": [
        "## Operations with dataframes"
      ]
    },
    {
      "cell_type": "code",
      "metadata": {
        "id": "Z3qj_GT5u1_7",
        "colab_type": "code",
        "colab": {
          "base_uri": "https://localhost:8080/",
          "height": 173
        },
        "outputId": "174849ec-89eb-4446-8526-3eda11c5e02f"
      },
      "source": [
        "# create a dataframe\n",
        "df = pd.DataFrame({'col1': [1,2,3,4],\n",
        "                  'col2': [444,555,666,444],\n",
        "                  'col3': ['abc', 'def', 'ghi', 'xyz']})\n",
        "df.head()"
      ],
      "execution_count": 113,
      "outputs": [
        {
          "output_type": "execute_result",
          "data": {
            "text/html": [
              "<div>\n",
              "<style scoped>\n",
              "    .dataframe tbody tr th:only-of-type {\n",
              "        vertical-align: middle;\n",
              "    }\n",
              "\n",
              "    .dataframe tbody tr th {\n",
              "        vertical-align: top;\n",
              "    }\n",
              "\n",
              "    .dataframe thead th {\n",
              "        text-align: right;\n",
              "    }\n",
              "</style>\n",
              "<table border=\"1\" class=\"dataframe\">\n",
              "  <thead>\n",
              "    <tr style=\"text-align: right;\">\n",
              "      <th></th>\n",
              "      <th>col1</th>\n",
              "      <th>col2</th>\n",
              "      <th>col3</th>\n",
              "    </tr>\n",
              "  </thead>\n",
              "  <tbody>\n",
              "    <tr>\n",
              "      <th>0</th>\n",
              "      <td>1</td>\n",
              "      <td>444</td>\n",
              "      <td>abc</td>\n",
              "    </tr>\n",
              "    <tr>\n",
              "      <th>1</th>\n",
              "      <td>2</td>\n",
              "      <td>555</td>\n",
              "      <td>def</td>\n",
              "    </tr>\n",
              "    <tr>\n",
              "      <th>2</th>\n",
              "      <td>3</td>\n",
              "      <td>666</td>\n",
              "      <td>ghi</td>\n",
              "    </tr>\n",
              "    <tr>\n",
              "      <th>3</th>\n",
              "      <td>4</td>\n",
              "      <td>444</td>\n",
              "      <td>xyz</td>\n",
              "    </tr>\n",
              "  </tbody>\n",
              "</table>\n",
              "</div>"
            ],
            "text/plain": [
              "   col1  col2 col3\n",
              "0     1   444  abc\n",
              "1     2   555  def\n",
              "2     3   666  ghi\n",
              "3     4   444  xyz"
            ]
          },
          "metadata": {
            "tags": []
          },
          "execution_count": 113
        }
      ]
    },
    {
      "cell_type": "code",
      "metadata": {
        "id": "Po_0lE2nvjaf",
        "colab_type": "code",
        "colab": {
          "base_uri": "https://localhost:8080/",
          "height": 34
        },
        "outputId": "1f9c0b1f-bf95-4273-9e55-0bb4ba7878a7"
      },
      "source": [
        "# retrieve unique values in a column\n",
        "df['col2'].unique()"
      ],
      "execution_count": 114,
      "outputs": [
        {
          "output_type": "execute_result",
          "data": {
            "text/plain": [
              "array([444, 555, 666])"
            ]
          },
          "metadata": {
            "tags": []
          },
          "execution_count": 114
        }
      ]
    },
    {
      "cell_type": "code",
      "metadata": {
        "id": "PXp2s_grvuuM",
        "colab_type": "code",
        "colab": {
          "base_uri": "https://localhost:8080/",
          "height": 34
        },
        "outputId": "c1a909ad-750b-410e-a607-aa1827f8b7cd"
      },
      "source": [
        "# count the unique values\n",
        "len(df['col2'].unique()) # python method"
      ],
      "execution_count": 115,
      "outputs": [
        {
          "output_type": "execute_result",
          "data": {
            "text/plain": [
              "3"
            ]
          },
          "metadata": {
            "tags": []
          },
          "execution_count": 115
        }
      ]
    },
    {
      "cell_type": "code",
      "metadata": {
        "id": "LQblXSmhv7LA",
        "colab_type": "code",
        "colab": {
          "base_uri": "https://localhost:8080/",
          "height": 34
        },
        "outputId": "fd6a635e-1a70-4d28-e517-f806415cd3ff"
      },
      "source": [
        "# count using pandas nunique()\n",
        "df['col2'].nunique()"
      ],
      "execution_count": 117,
      "outputs": [
        {
          "output_type": "execute_result",
          "data": {
            "text/plain": [
              "3"
            ]
          },
          "metadata": {
            "tags": []
          },
          "execution_count": 117
        }
      ]
    },
    {
      "cell_type": "code",
      "metadata": {
        "id": "c2zliS4kwD7P",
        "colab_type": "code",
        "colab": {
          "base_uri": "https://localhost:8080/",
          "height": 85
        },
        "outputId": "2eca7f9d-45d1-4c93-d23d-5500aaf25526"
      },
      "source": [
        "# retrieve frequency of all values in dataframe\n",
        "df['col2'].value_counts()"
      ],
      "execution_count": 118,
      "outputs": [
        {
          "output_type": "execute_result",
          "data": {
            "text/plain": [
              "444    2\n",
              "555    1\n",
              "666    1\n",
              "Name: col2, dtype: int64"
            ]
          },
          "metadata": {
            "tags": []
          },
          "execution_count": 118
        }
      ]
    },
    {
      "cell_type": "code",
      "metadata": {
        "id": "1Q8lrETsxRvk",
        "colab_type": "code",
        "colab": {}
      },
      "source": [
        "# apply method\n",
        "def times2(x):\n",
        "  return x*2"
      ],
      "execution_count": 0,
      "outputs": []
    },
    {
      "cell_type": "markdown",
      "metadata": {
        "id": "SmAqD_zQwn9q",
        "colab_type": "text"
      },
      "source": [
        "## Conditional selection from dataframe"
      ]
    },
    {
      "cell_type": "code",
      "metadata": {
        "id": "ANgStgtwwsDE",
        "colab_type": "code",
        "colab": {
          "base_uri": "https://localhost:8080/",
          "height": 111
        },
        "outputId": "8e1f5fa5-2aee-40ed-8a18-93921fd3f871"
      },
      "source": [
        "# select from col1 using a condition\n",
        "df[df['col1'] > 2]"
      ],
      "execution_count": 120,
      "outputs": [
        {
          "output_type": "execute_result",
          "data": {
            "text/html": [
              "<div>\n",
              "<style scoped>\n",
              "    .dataframe tbody tr th:only-of-type {\n",
              "        vertical-align: middle;\n",
              "    }\n",
              "\n",
              "    .dataframe tbody tr th {\n",
              "        vertical-align: top;\n",
              "    }\n",
              "\n",
              "    .dataframe thead th {\n",
              "        text-align: right;\n",
              "    }\n",
              "</style>\n",
              "<table border=\"1\" class=\"dataframe\">\n",
              "  <thead>\n",
              "    <tr style=\"text-align: right;\">\n",
              "      <th></th>\n",
              "      <th>col1</th>\n",
              "      <th>col2</th>\n",
              "      <th>col3</th>\n",
              "    </tr>\n",
              "  </thead>\n",
              "  <tbody>\n",
              "    <tr>\n",
              "      <th>2</th>\n",
              "      <td>3</td>\n",
              "      <td>666</td>\n",
              "      <td>ghi</td>\n",
              "    </tr>\n",
              "    <tr>\n",
              "      <th>3</th>\n",
              "      <td>4</td>\n",
              "      <td>444</td>\n",
              "      <td>xyz</td>\n",
              "    </tr>\n",
              "  </tbody>\n",
              "</table>\n",
              "</div>"
            ],
            "text/plain": [
              "   col1  col2 col3\n",
              "2     3   666  ghi\n",
              "3     4   444  xyz"
            ]
          },
          "metadata": {
            "tags": []
          },
          "execution_count": 120
        }
      ]
    },
    {
      "cell_type": "code",
      "metadata": {
        "id": "2a3akiDSw7l0",
        "colab_type": "code",
        "colab": {
          "base_uri": "https://localhost:8080/",
          "height": 80
        },
        "outputId": "123a313a-b782-4709-8eec-7b66ef9a945b"
      },
      "source": [
        "# select using multiple conditions\n",
        "df[(df['col1'] >2) & (df['col2']==444)]"
      ],
      "execution_count": 121,
      "outputs": [
        {
          "output_type": "execute_result",
          "data": {
            "text/html": [
              "<div>\n",
              "<style scoped>\n",
              "    .dataframe tbody tr th:only-of-type {\n",
              "        vertical-align: middle;\n",
              "    }\n",
              "\n",
              "    .dataframe tbody tr th {\n",
              "        vertical-align: top;\n",
              "    }\n",
              "\n",
              "    .dataframe thead th {\n",
              "        text-align: right;\n",
              "    }\n",
              "</style>\n",
              "<table border=\"1\" class=\"dataframe\">\n",
              "  <thead>\n",
              "    <tr style=\"text-align: right;\">\n",
              "      <th></th>\n",
              "      <th>col1</th>\n",
              "      <th>col2</th>\n",
              "      <th>col3</th>\n",
              "    </tr>\n",
              "  </thead>\n",
              "  <tbody>\n",
              "    <tr>\n",
              "      <th>3</th>\n",
              "      <td>4</td>\n",
              "      <td>444</td>\n",
              "      <td>xyz</td>\n",
              "    </tr>\n",
              "  </tbody>\n",
              "</table>\n",
              "</div>"
            ],
            "text/plain": [
              "   col1  col2 col3\n",
              "3     4   444  xyz"
            ]
          },
          "metadata": {
            "tags": []
          },
          "execution_count": 121
        }
      ]
    },
    {
      "cell_type": "code",
      "metadata": {
        "id": "dE8M4soaxNM7",
        "colab_type": "code",
        "colab": {}
      },
      "source": [
        "# define a function\n",
        "def times2(x):\n",
        "  return x * 2"
      ],
      "execution_count": 0,
      "outputs": []
    },
    {
      "cell_type": "code",
      "metadata": {
        "id": "5kSnBCAX9O9h",
        "colab_type": "code",
        "colab": {
          "base_uri": "https://localhost:8080/",
          "height": 173
        },
        "outputId": "b00f52ba-e076-4cf4-d279-134f7e550fb0"
      },
      "source": [
        "# apply your own function to a dataframe\n",
        "df.apply(times2) # applies times2 function to every cell"
      ],
      "execution_count": 125,
      "outputs": [
        {
          "output_type": "execute_result",
          "data": {
            "text/html": [
              "<div>\n",
              "<style scoped>\n",
              "    .dataframe tbody tr th:only-of-type {\n",
              "        vertical-align: middle;\n",
              "    }\n",
              "\n",
              "    .dataframe tbody tr th {\n",
              "        vertical-align: top;\n",
              "    }\n",
              "\n",
              "    .dataframe thead th {\n",
              "        text-align: right;\n",
              "    }\n",
              "</style>\n",
              "<table border=\"1\" class=\"dataframe\">\n",
              "  <thead>\n",
              "    <tr style=\"text-align: right;\">\n",
              "      <th></th>\n",
              "      <th>col1</th>\n",
              "      <th>col2</th>\n",
              "      <th>col3</th>\n",
              "    </tr>\n",
              "  </thead>\n",
              "  <tbody>\n",
              "    <tr>\n",
              "      <th>0</th>\n",
              "      <td>2</td>\n",
              "      <td>888</td>\n",
              "      <td>abcabc</td>\n",
              "    </tr>\n",
              "    <tr>\n",
              "      <th>1</th>\n",
              "      <td>4</td>\n",
              "      <td>1110</td>\n",
              "      <td>defdef</td>\n",
              "    </tr>\n",
              "    <tr>\n",
              "      <th>2</th>\n",
              "      <td>6</td>\n",
              "      <td>1332</td>\n",
              "      <td>ghighi</td>\n",
              "    </tr>\n",
              "    <tr>\n",
              "      <th>3</th>\n",
              "      <td>8</td>\n",
              "      <td>888</td>\n",
              "      <td>xyzxyz</td>\n",
              "    </tr>\n",
              "  </tbody>\n",
              "</table>\n",
              "</div>"
            ],
            "text/plain": [
              "   col1  col2    col3\n",
              "0     2   888  abcabc\n",
              "1     4  1110  defdef\n",
              "2     6  1332  ghighi\n",
              "3     8   888  xyzxyz"
            ]
          },
          "metadata": {
            "tags": []
          },
          "execution_count": 125
        }
      ]
    },
    {
      "cell_type": "code",
      "metadata": {
        "id": "VGGbpOQz9S1V",
        "colab_type": "code",
        "colab": {
          "base_uri": "https://localhost:8080/",
          "height": 102
        },
        "outputId": "bd6cf523-ad0a-4168-95ed-6e4ac3a5aded"
      },
      "source": [
        "# use built-in function len, applied to a dataframe column\n",
        "df['col3'].apply(len) # original cells in df had 3-char strings"
      ],
      "execution_count": 126,
      "outputs": [
        {
          "output_type": "execute_result",
          "data": {
            "text/plain": [
              "0    3\n",
              "1    3\n",
              "2    3\n",
              "3    3\n",
              "Name: col3, dtype: int64"
            ]
          },
          "metadata": {
            "tags": []
          },
          "execution_count": 126
        }
      ]
    },
    {
      "cell_type": "code",
      "metadata": {
        "id": "zDnq97En9nEr",
        "colab_type": "code",
        "colab": {
          "base_uri": "https://localhost:8080/",
          "height": 173
        },
        "outputId": "ea529486-e797-41f1-ade6-8ab234f28dbb"
      },
      "source": [
        "# use lambda expression instead of the function created above\n",
        "df.apply(lambda x: x*2)"
      ],
      "execution_count": 127,
      "outputs": [
        {
          "output_type": "execute_result",
          "data": {
            "text/html": [
              "<div>\n",
              "<style scoped>\n",
              "    .dataframe tbody tr th:only-of-type {\n",
              "        vertical-align: middle;\n",
              "    }\n",
              "\n",
              "    .dataframe tbody tr th {\n",
              "        vertical-align: top;\n",
              "    }\n",
              "\n",
              "    .dataframe thead th {\n",
              "        text-align: right;\n",
              "    }\n",
              "</style>\n",
              "<table border=\"1\" class=\"dataframe\">\n",
              "  <thead>\n",
              "    <tr style=\"text-align: right;\">\n",
              "      <th></th>\n",
              "      <th>col1</th>\n",
              "      <th>col2</th>\n",
              "      <th>col3</th>\n",
              "    </tr>\n",
              "  </thead>\n",
              "  <tbody>\n",
              "    <tr>\n",
              "      <th>0</th>\n",
              "      <td>2</td>\n",
              "      <td>888</td>\n",
              "      <td>abcabc</td>\n",
              "    </tr>\n",
              "    <tr>\n",
              "      <th>1</th>\n",
              "      <td>4</td>\n",
              "      <td>1110</td>\n",
              "      <td>defdef</td>\n",
              "    </tr>\n",
              "    <tr>\n",
              "      <th>2</th>\n",
              "      <td>6</td>\n",
              "      <td>1332</td>\n",
              "      <td>ghighi</td>\n",
              "    </tr>\n",
              "    <tr>\n",
              "      <th>3</th>\n",
              "      <td>8</td>\n",
              "      <td>888</td>\n",
              "      <td>xyzxyz</td>\n",
              "    </tr>\n",
              "  </tbody>\n",
              "</table>\n",
              "</div>"
            ],
            "text/plain": [
              "   col1  col2    col3\n",
              "0     2   888  abcabc\n",
              "1     4  1110  defdef\n",
              "2     6  1332  ghighi\n",
              "3     8   888  xyzxyz"
            ]
          },
          "metadata": {
            "tags": []
          },
          "execution_count": 127
        }
      ]
    },
    {
      "cell_type": "code",
      "metadata": {
        "id": "ZqDtEvhR996q",
        "colab_type": "code",
        "colab": {}
      },
      "source": [
        ""
      ],
      "execution_count": 0,
      "outputs": []
    }
  ]
}