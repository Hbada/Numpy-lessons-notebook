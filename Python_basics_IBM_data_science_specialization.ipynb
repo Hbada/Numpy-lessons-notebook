{
  "nbformat": 4,
  "nbformat_minor": 0,
  "metadata": {
    "colab": {
      "name": "Python basics - IBM data science specialization.ipynb",
      "version": "0.3.2",
      "provenance": [],
      "collapsed_sections": [],
      "include_colab_link": true
    },
    "kernelspec": {
      "name": "python3",
      "display_name": "Python 3"
    }
  },
  "cells": [
    {
      "cell_type": "markdown",
      "metadata": {
        "id": "view-in-github",
        "colab_type": "text"
      },
      "source": [
        "<a href=\"https://colab.research.google.com/github/Hbada/Python-data-analysis-lessons-notebooks/blob/master/Python_basics_IBM_data_science_specialization.ipynb\" target=\"_parent\"><img src=\"https://colab.research.google.com/assets/colab-badge.svg\" alt=\"Open In Colab\"/></a>"
      ]
    },
    {
      "cell_type": "markdown",
      "metadata": {
        "id": "-3aITnSyBDT4",
        "colab_type": "text"
      },
      "source": [
        "From IBM data science specialization on Coursera"
      ]
    },
    {
      "cell_type": "code",
      "metadata": {
        "id": "oc2o_xFOBGzw",
        "colab_type": "code",
        "colab": {}
      },
      "source": [
        "# open a data file (not present on Google colab)\n",
        "with open(\"Example.txt\", \"r\") as File1:\n",
        "  file_stuff = File1.read()\n",
        "  # store file content as a list of strings, one per line\n",
        "  file_stuff2 = File1.readlines() # each line is an item in a list\n",
        "\n",
        "  print(file_stuff) # display whole file\n",
        "  print(file_stuff2) # display first line; first entry of list of strings\n",
        "  \n",
        "print(File1.closed)\n",
        "print(file_stuff)"
      ],
      "execution_count": 0,
      "outputs": []
    },
    {
      "cell_type": "code",
      "metadata": {
        "id": "Q-y_L7trBnFI",
        "colab_type": "code",
        "colab": {}
      },
      "source": [
        "# use a loop to print out each line using file_stuff2 above\n",
        "# remember each line of the data source is stored as an item in a list\n",
        "for line in File1:\n",
        "  print(line)"
      ],
      "execution_count": 0,
      "outputs": []
    },
    {
      "cell_type": "code",
      "metadata": {
        "id": "EeZk9l5wDOr4",
        "colab_type": "code",
        "colab": {}
      },
      "source": [
        "# open a file for writing to\n",
        "# if file exists, it will be overwritten\n",
        "with open(\"/data/File2.txt\", \"w\") as File2:\n",
        "  File2.write(\"This is a new line\")\n",
        "  File2.write(\"Yet another new line\")"
      ],
      "execution_count": 0,
      "outputs": []
    },
    {
      "cell_type": "code",
      "metadata": {
        "id": "7yFwdrKpD_k0",
        "colab_type": "code",
        "colab": {}
      },
      "source": [
        "# append a file\n",
        "with open(\"/data/Example2.txt\", \"a\") as File1:\n",
        "  File1.write(\"This an appended line\")"
      ],
      "execution_count": 0,
      "outputs": []
    },
    {
      "cell_type": "code",
      "metadata": {
        "id": "wlslTKKcEo9O",
        "colab_type": "code",
        "colab": {}
      },
      "source": [
        "# to duplicate a file\n",
        "with open(\"Example.txt\", \"r\") as readfile:\n",
        "  with open(\"Example3.txt\", \"w\") as writefile:\n",
        "    for line in readfile:\n",
        "      writefile.write(line)"
      ],
      "execution_count": 0,
      "outputs": []
    }
  ]
}