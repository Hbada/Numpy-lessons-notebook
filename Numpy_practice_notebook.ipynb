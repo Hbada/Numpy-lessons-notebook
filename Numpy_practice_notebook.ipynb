{
  "nbformat": 4,
  "nbformat_minor": 0,
  "metadata": {
    "colab": {
      "name": "Numpy practice notebook.ipynb",
      "version": "0.3.2",
      "provenance": [],
      "collapsed_sections": [],
      "include_colab_link": true
    },
    "language_info": {
      "codemirror_mode": {
        "name": "ipython",
        "version": 3
      },
      "file_extension": ".py",
      "mimetype": "text/x-python",
      "name": "python",
      "nbconvert_exporter": "python",
      "pygments_lexer": "ipython3",
      "version": "3.7.3"
    },
    "kernelspec": {
      "display_name": "Python 3",
      "language": "python",
      "name": "python3"
    }
  },
  "cells": [
    {
      "cell_type": "markdown",
      "metadata": {
        "id": "view-in-github",
        "colab_type": "text"
      },
      "source": [
        "<a href=\"https://colab.research.google.com/github/Hbada/Numpy-lessons-notebook/blob/master/Numpy_practice_notebook.ipynb\" target=\"_parent\"><img src=\"https://colab.research.google.com/assets/colab-badge.svg\" alt=\"Open In Colab\"/></a>"
      ]
    },
    {
      "cell_type": "code",
      "metadata": {
        "id": "IpaQHQqho1XZ",
        "colab_type": "code",
        "colab": {}
      },
      "source": [
        "# original notebook source: Google Colab\n",
        "# exercise sources: Udemy course Python for Data Science... by Portilla\n",
        "import numpy as np"
      ],
      "execution_count": 0,
      "outputs": []
    },
    {
      "cell_type": "markdown",
      "metadata": {
        "id": "CRp3Zbcmo1Xe",
        "colab_type": "text"
      },
      "source": [
        "## Create array and slices"
      ]
    },
    {
      "cell_type": "code",
      "metadata": {
        "id": "vcAbUE5Uo1Xf",
        "colab_type": "code",
        "outputId": "df340b41-e38d-49b3-c7ad-e878c9c9b2b7",
        "colab": {}
      },
      "source": [
        "# create array from 1 to 5\n",
        "arr = np.arange(1,6)\n",
        "arr"
      ],
      "execution_count": 0,
      "outputs": [
        {
          "output_type": "execute_result",
          "data": {
            "text/plain": [
              "array([1, 2, 3, 4, 5])"
            ]
          },
          "metadata": {
            "tags": []
          },
          "execution_count": 5
        }
      ]
    },
    {
      "cell_type": "code",
      "metadata": {
        "id": "3MwUyvCetOHc",
        "colab_type": "code",
        "colab": {
          "base_uri": "https://localhost:8080/",
          "height": 88
        },
        "outputId": "0ae0b3ac-dc47-4825-ddde-5a8439eb63f8"
      },
      "source": [
        "# create array from 10 to 50\n",
        "np.arange(10,51)"
      ],
      "execution_count": 9,
      "outputs": [
        {
          "output_type": "execute_result",
          "data": {
            "text/plain": [
              "array([10, 11, 12, 13, 14, 15, 16, 17, 18, 19, 20, 21, 22, 23, 24, 25, 26,\n",
              "       27, 28, 29, 30, 31, 32, 33, 34, 35, 36, 37, 38, 39, 40, 41, 42, 43,\n",
              "       44, 45, 46, 47, 48, 49, 50])"
            ]
          },
          "metadata": {
            "tags": []
          },
          "execution_count": 9
        }
      ]
    },
    {
      "cell_type": "code",
      "metadata": {
        "id": "u22M9UHztaXP",
        "colab_type": "code",
        "colab": {
          "base_uri": "https://localhost:8080/",
          "height": 71
        },
        "outputId": "7954e718-fde6-4a94-e2f9-36f0ab493d02"
      },
      "source": [
        "# create array 10 to 50, every 2nd number (evens)\n",
        "np.arange(10,51,2)"
      ],
      "execution_count": 10,
      "outputs": [
        {
          "output_type": "execute_result",
          "data": {
            "text/plain": [
              "array([10, 12, 14, 16, 18, 20, 22, 24, 26, 28, 30, 32, 34, 36, 38, 40, 42,\n",
              "       44, 46, 48, 50])"
            ]
          },
          "metadata": {
            "tags": []
          },
          "execution_count": 10
        }
      ]
    },
    {
      "cell_type": "code",
      "metadata": {
        "id": "_uLNRqujtkCA",
        "colab_type": "code",
        "colab": {
          "base_uri": "https://localhost:8080/",
          "height": 71
        },
        "outputId": "c0e7010f-b2c3-46b7-89fe-17edafc86a3b"
      },
      "source": [
        "# create array 10 to 50, odds only\n",
        "np.arange(11,51,2)"
      ],
      "execution_count": 11,
      "outputs": [
        {
          "output_type": "execute_result",
          "data": {
            "text/plain": [
              "array([11, 13, 15, 17, 19, 21, 23, 25, 27, 29, 31, 33, 35, 37, 39, 41, 43,\n",
              "       45, 47, 49])"
            ]
          },
          "metadata": {
            "tags": []
          },
          "execution_count": 11
        }
      ]
    },
    {
      "cell_type": "code",
      "metadata": {
        "id": "yYFOYGWro1Xl",
        "colab_type": "code",
        "outputId": "eaddcf26-bb1d-413c-9428-385d85d90f92",
        "colab": {
          "base_uri": "https://localhost:8080/",
          "height": 34
        }
      },
      "source": [
        "# slice from index 2 up to but not including 4\n",
        "arr[2:4]"
      ],
      "execution_count": 53,
      "outputs": [
        {
          "output_type": "execute_result",
          "data": {
            "text/plain": [
              "array([3, 4])"
            ]
          },
          "metadata": {
            "tags": []
          },
          "execution_count": 53
        }
      ]
    },
    {
      "cell_type": "code",
      "metadata": {
        "id": "JCC28CZno1Xp",
        "colab_type": "code",
        "outputId": "81822419-93de-497b-bf80-78cc04cb3e30",
        "colab": {
          "base_uri": "https://localhost:8080/",
          "height": 34
        }
      },
      "source": [
        "# \"broadcast\" the value 35 into array at index 0 and 1\n",
        "arr[0:2] = 35\n",
        "arr"
      ],
      "execution_count": 56,
      "outputs": [
        {
          "output_type": "execute_result",
          "data": {
            "text/plain": [
              "array([35, 35,  3,  4,  5])"
            ]
          },
          "metadata": {
            "tags": []
          },
          "execution_count": 56
        }
      ]
    },
    {
      "cell_type": "code",
      "metadata": {
        "id": "Wa9tbGGWo1Xt",
        "colab_type": "code",
        "outputId": "87c808d9-0257-4042-febb-68a038e839eb",
        "colab": {}
      },
      "source": [
        "# re-create array of 5 elements\n",
        "arr = np.arange(1,6)\n",
        "arr"
      ],
      "execution_count": 0,
      "outputs": [
        {
          "output_type": "execute_result",
          "data": {
            "text/plain": [
              "array([1, 2, 3, 4, 5])"
            ]
          },
          "metadata": {
            "tags": []
          },
          "execution_count": 9
        }
      ]
    },
    {
      "cell_type": "code",
      "metadata": {
        "id": "Vm5_Qu0jo1Xx",
        "colab_type": "code",
        "outputId": "48fbc39b-377d-49a8-9f96-3cf6b59f0f63",
        "colab": {}
      },
      "source": [
        "# create 5 random numbers between 0 and 5\n",
        "rand_arr = np.random.rand(5)\n",
        "rand_arr # results are different every time this cell is run"
      ],
      "execution_count": 0,
      "outputs": [
        {
          "output_type": "execute_result",
          "data": {
            "text/plain": [
              "array([0.90649338, 0.37105352, 0.81437113, 0.33438675, 0.12652438])"
            ]
          },
          "metadata": {
            "tags": []
          },
          "execution_count": 52
        }
      ]
    },
    {
      "cell_type": "code",
      "metadata": {
        "id": "wZ7zc3bxvSfg",
        "colab_type": "code",
        "colab": {
          "base_uri": "https://localhost:8080/",
          "height": 54
        },
        "outputId": "4cca0018-d587-4943-c7d9-bcef94598ed1"
      },
      "source": [
        "# create 5 random numbers from normal distribution\n",
        "rand_norm_arr = np.random.randn(5)\n",
        "rand_norm_arr"
      ],
      "execution_count": 18,
      "outputs": [
        {
          "output_type": "execute_result",
          "data": {
            "text/plain": [
              "array([-0.78812176,  0.96553072, -0.9714828 , -1.204266  , -1.63038695])"
            ]
          },
          "metadata": {
            "tags": []
          },
          "execution_count": 18
        }
      ]
    },
    {
      "cell_type": "code",
      "metadata": {
        "id": "jCYOyJwh0zgD",
        "colab_type": "code",
        "colab": {
          "base_uri": "https://localhost:8080/",
          "height": 34
        },
        "outputId": "8ef96203-2481-4512-e398-60887d44b1a5"
      },
      "source": [
        "# create evenly spaced numbers over a range\n",
        "np.linspace(0,20,6)"
      ],
      "execution_count": 69,
      "outputs": [
        {
          "output_type": "execute_result",
          "data": {
            "text/plain": [
              "array([ 0.,  4.,  8., 12., 16., 20.])"
            ]
          },
          "metadata": {
            "tags": []
          },
          "execution_count": 69
        }
      ]
    },
    {
      "cell_type": "code",
      "metadata": {
        "id": "msVddMqXykWI",
        "colab_type": "code",
        "colab": {
          "base_uri": "https://localhost:8080/",
          "height": 207
        },
        "outputId": "9e7dd2d9-7179-44ab-a766-9513f316c2a8"
      },
      "source": [
        "# more complex array of evenly spaced numbers over an interval\n",
        "np.linspace(0.01,1,100).reshape(10,10)"
      ],
      "execution_count": 52,
      "outputs": [
        {
          "output_type": "execute_result",
          "data": {
            "text/plain": [
              "array([[0.01, 0.02, 0.03, 0.04, 0.05, 0.06, 0.07, 0.08, 0.09, 0.1 ],\n",
              "       [0.11, 0.12, 0.13, 0.14, 0.15, 0.16, 0.17, 0.18, 0.19, 0.2 ],\n",
              "       [0.21, 0.22, 0.23, 0.24, 0.25, 0.26, 0.27, 0.28, 0.29, 0.3 ],\n",
              "       [0.31, 0.32, 0.33, 0.34, 0.35, 0.36, 0.37, 0.38, 0.39, 0.4 ],\n",
              "       [0.41, 0.42, 0.43, 0.44, 0.45, 0.46, 0.47, 0.48, 0.49, 0.5 ],\n",
              "       [0.51, 0.52, 0.53, 0.54, 0.55, 0.56, 0.57, 0.58, 0.59, 0.6 ],\n",
              "       [0.61, 0.62, 0.63, 0.64, 0.65, 0.66, 0.67, 0.68, 0.69, 0.7 ],\n",
              "       [0.71, 0.72, 0.73, 0.74, 0.75, 0.76, 0.77, 0.78, 0.79, 0.8 ],\n",
              "       [0.81, 0.82, 0.83, 0.84, 0.85, 0.86, 0.87, 0.88, 0.89, 0.9 ],\n",
              "       [0.91, 0.92, 0.93, 0.94, 0.95, 0.96, 0.97, 0.98, 0.99, 1.  ]])"
            ]
          },
          "metadata": {
            "tags": []
          },
          "execution_count": 52
        }
      ]
    },
    {
      "cell_type": "code",
      "metadata": {
        "id": "zSN66d7WspQG",
        "colab_type": "code",
        "colab": {
          "base_uri": "https://localhost:8080/",
          "height": 34
        },
        "outputId": "7b51d590-7e35-435a-dad9-9e6018a64866"
      },
      "source": [
        "# create array of 5 one's\n",
        "ones_arr = np.ones(5)\n",
        "ones_arr"
      ],
      "execution_count": 37,
      "outputs": [
        {
          "output_type": "execute_result",
          "data": {
            "text/plain": [
              "array([1., 1., 1., 1., 1.])"
            ]
          },
          "metadata": {
            "tags": []
          },
          "execution_count": 37
        }
      ]
    },
    {
      "cell_type": "markdown",
      "metadata": {
        "id": "SNGaPsNko1X1",
        "colab_type": "text"
      },
      "source": [
        "## Max and min"
      ]
    },
    {
      "cell_type": "code",
      "metadata": {
        "id": "6dnDIaCTo1X2",
        "colab_type": "code",
        "outputId": "e682f966-fbbc-4abe-9211-f1a474eed426",
        "colab": {}
      },
      "source": [
        "# create array of 25 random numbers from normal distribution\n",
        "rand_norm_arr = np.random.randn(25)\n",
        "rand_norm_arr"
      ],
      "execution_count": 0,
      "outputs": [
        {
          "output_type": "execute_result",
          "data": {
            "text/plain": [
              "array([ 1.43205485, -0.55812372, -0.68455624, -1.41662653,  1.26904729,\n",
              "       -0.10079617, -0.06484557,  0.52735273, -0.40155089,  1.00229872,\n",
              "       -1.1776841 ,  1.01573834,  2.30981847, -1.88907446, -0.83726486,\n",
              "       -0.61645002, -0.54331498,  1.08397415, -1.19401095,  1.23306596,\n",
              "       -0.40221001,  0.55070226, -0.22999488, -0.20076187,  0.24140577])"
            ]
          },
          "metadata": {
            "tags": []
          },
          "execution_count": 73
        }
      ]
    },
    {
      "cell_type": "code",
      "metadata": {
        "id": "mSd_q_j4o1X6",
        "colab_type": "code",
        "outputId": "137f77a4-4b83-4473-9cdb-d3009126d5bd",
        "colab": {
          "base_uri": "https://localhost:8080/",
          "height": 34
        }
      },
      "source": [
        "# calculate min value\n",
        "rand_norm_arr.min()"
      ],
      "execution_count": 57,
      "outputs": [
        {
          "output_type": "execute_result",
          "data": {
            "text/plain": [
              "-1.630386954009459"
            ]
          },
          "metadata": {
            "tags": []
          },
          "execution_count": 57
        }
      ]
    },
    {
      "cell_type": "code",
      "metadata": {
        "id": "Kl6OAWh0o1X-",
        "colab_type": "code",
        "outputId": "f4362c91-57ea-4571-f6b0-cdb06baad1b7",
        "colab": {}
      },
      "source": [
        "rand_norm_arr.max() # calculate max value"
      ],
      "execution_count": 0,
      "outputs": [
        {
          "output_type": "execute_result",
          "data": {
            "text/plain": [
              "2.7793173967822775"
            ]
          },
          "metadata": {
            "tags": []
          },
          "execution_count": 60
        }
      ]
    },
    {
      "cell_type": "code",
      "metadata": {
        "id": "_zM7x5MSo1YC",
        "colab_type": "code",
        "outputId": "408455d6-f9d7-41e2-fd81-bb6febd31c03",
        "colab": {}
      },
      "source": [
        "rand_norm_arr.argmax() # retrieve index of the max value "
      ],
      "execution_count": 0,
      "outputs": [
        {
          "output_type": "execute_result",
          "data": {
            "text/plain": [
              "16"
            ]
          },
          "metadata": {
            "tags": []
          },
          "execution_count": 62
        }
      ]
    },
    {
      "cell_type": "code",
      "metadata": {
        "id": "dmUBvkVpo1YG",
        "colab_type": "code",
        "outputId": "9027f3c5-6647-4a23-eb7f-fb5aa6e26920",
        "colab": {}
      },
      "source": [
        "rand_norm_arr.argmin() # retrieve index of min"
      ],
      "execution_count": 0,
      "outputs": [
        {
          "output_type": "execute_result",
          "data": {
            "text/plain": [
              "13"
            ]
          },
          "metadata": {
            "tags": []
          },
          "execution_count": 63
        }
      ]
    },
    {
      "cell_type": "markdown",
      "metadata": {
        "id": "9UzcqudUo1YJ",
        "colab_type": "text"
      },
      "source": [
        "## Create matrix aka 2D array"
      ]
    },
    {
      "cell_type": "code",
      "metadata": {
        "id": "3bcRDmzqo1YJ",
        "colab_type": "code",
        "outputId": "0f3d075b-58b4-4c41-cd5a-a0fd7f129f89",
        "colab": {
          "base_uri": "https://localhost:8080/",
          "height": 34
        }
      },
      "source": [
        "# create a nested array using python\n",
        "arr_2d = [[1, 2, 3], [4, 5, 6], [7, 8, 9]]\n",
        "arr_2d"
      ],
      "execution_count": 72,
      "outputs": [
        {
          "output_type": "execute_result",
          "data": {
            "text/plain": [
              "[[1, 2, 3], [4, 5, 6], [7, 8, 9]]"
            ]
          },
          "metadata": {
            "tags": []
          },
          "execution_count": 72
        }
      ]
    },
    {
      "cell_type": "code",
      "metadata": {
        "id": "orEV3Q7ao1YM",
        "colab_type": "code",
        "outputId": "e065678d-a341-413c-d27e-e7f33540dbde",
        "colab": {
          "base_uri": "https://localhost:8080/",
          "height": 68
        }
      },
      "source": [
        "# create 2D array, aka matrix\n",
        "arr_2d = np.array([[1, 2, 3], [4, 5, 6], [7, 8, 9]])\n",
        "arr_2d"
      ],
      "execution_count": 73,
      "outputs": [
        {
          "output_type": "execute_result",
          "data": {
            "text/plain": [
              "array([[1, 2, 3],\n",
              "       [4, 5, 6],\n",
              "       [7, 8, 9]])"
            ]
          },
          "metadata": {
            "tags": []
          },
          "execution_count": 73
        }
      ]
    },
    {
      "cell_type": "code",
      "metadata": {
        "id": "VXWlapclo1YP",
        "colab_type": "code",
        "outputId": "542b61e3-05af-43a0-f809-053055d31de7",
        "colab": {
          "base_uri": "https://localhost:8080/",
          "height": 34
        }
      },
      "source": [
        "# retrieve shape of the array\n",
        "arr_2d.shape"
      ],
      "execution_count": 74,
      "outputs": [
        {
          "output_type": "execute_result",
          "data": {
            "text/plain": [
              "(3, 3)"
            ]
          },
          "metadata": {
            "tags": []
          },
          "execution_count": 74
        }
      ]
    },
    {
      "cell_type": "code",
      "metadata": {
        "id": "GiMYDy9Xty27",
        "colab_type": "code",
        "colab": {
          "base_uri": "https://localhost:8080/",
          "height": 68
        },
        "outputId": "48579f10-7561-4275-bf53-7dec1db8d2c2"
      },
      "source": [
        "# easier way to make a matrix of sequential numbers\n",
        "# new matrix with 3 rows of 3 incl. zero\n",
        "np.arange(9).reshape(3,3)"
      ],
      "execution_count": 75,
      "outputs": [
        {
          "output_type": "execute_result",
          "data": {
            "text/plain": [
              "array([[0, 1, 2],\n",
              "       [3, 4, 5],\n",
              "       [6, 7, 8]])"
            ]
          },
          "metadata": {
            "tags": []
          },
          "execution_count": 75
        }
      ]
    },
    {
      "cell_type": "code",
      "metadata": {
        "id": "YV21GsWlukkW",
        "colab_type": "code",
        "colab": {
          "base_uri": "https://localhost:8080/",
          "height": 102
        },
        "outputId": "45c9dff2-0359-4424-8abe-07b482f2ff87"
      },
      "source": [
        "# create 5 by 5 identity matrix\n",
        "np.eye(5)"
      ],
      "execution_count": 76,
      "outputs": [
        {
          "output_type": "execute_result",
          "data": {
            "text/plain": [
              "array([[1., 0., 0., 0., 0.],\n",
              "       [0., 1., 0., 0., 0.],\n",
              "       [0., 0., 1., 0., 0.],\n",
              "       [0., 0., 0., 1., 0.],\n",
              "       [0., 0., 0., 0., 1.]])"
            ]
          },
          "metadata": {
            "tags": []
          },
          "execution_count": 76
        }
      ]
    },
    {
      "cell_type": "markdown",
      "metadata": {
        "id": "eVzSll01o1YU",
        "colab_type": "text"
      },
      "source": [
        "## Matrix index selections"
      ]
    },
    {
      "cell_type": "code",
      "metadata": {
        "id": "EWRoLOSO1r8B",
        "colab_type": "code",
        "colab": {
          "base_uri": "https://localhost:8080/",
          "height": 68
        },
        "outputId": "6396074f-393e-4b33-9e91-f100ad68999d"
      },
      "source": [
        "# show matrix again\n",
        "arr_2d"
      ],
      "execution_count": 77,
      "outputs": [
        {
          "output_type": "execute_result",
          "data": {
            "text/plain": [
              "array([[1, 2, 3],\n",
              "       [4, 5, 6],\n",
              "       [7, 8, 9]])"
            ]
          },
          "metadata": {
            "tags": []
          },
          "execution_count": 77
        }
      ]
    },
    {
      "cell_type": "code",
      "metadata": {
        "id": "lhkGuyJZ16-b",
        "colab_type": "code",
        "colab": {
          "base_uri": "https://localhost:8080/",
          "height": 34
        },
        "outputId": "ec83c506-be46-41ee-e3ac-c7574d22e92a"
      },
      "source": [
        "# select one row - the first one\n",
        "arr_2d[0]"
      ],
      "execution_count": 79,
      "outputs": [
        {
          "output_type": "execute_result",
          "data": {
            "text/plain": [
              "array([1, 2, 3])"
            ]
          },
          "metadata": {
            "tags": []
          },
          "execution_count": 79
        }
      ]
    },
    {
      "cell_type": "code",
      "metadata": {
        "id": "XlSG9Px52Amc",
        "colab_type": "code",
        "colab": {
          "base_uri": "https://localhost:8080/",
          "height": 34
        },
        "outputId": "17515887-d65a-48a0-fa26-47f801893232"
      },
      "source": [
        "# select last row\n",
        "arr_2d[-1] # could also use arr_2d[2]"
      ],
      "execution_count": 80,
      "outputs": [
        {
          "output_type": "execute_result",
          "data": {
            "text/plain": [
              "array([7, 8, 9])"
            ]
          },
          "metadata": {
            "tags": []
          },
          "execution_count": 80
        }
      ]
    },
    {
      "cell_type": "code",
      "metadata": {
        "id": "7TRf2Vvu2RrR",
        "colab_type": "code",
        "colab": {
          "base_uri": "https://localhost:8080/",
          "height": 51
        },
        "outputId": "f3997aae-01d5-4875-dfc4-f48a789b2884"
      },
      "source": [
        "# select more than one row from a large matrix\n",
        "arr_2d[1:3] # also valid: arr_2d[1:3,:] for row 1 to 2, all columns"
      ],
      "execution_count": 84,
      "outputs": [
        {
          "output_type": "execute_result",
          "data": {
            "text/plain": [
              "array([[4, 5, 6],\n",
              "       [7, 8, 9]])"
            ]
          },
          "metadata": {
            "tags": []
          },
          "execution_count": 84
        }
      ]
    },
    {
      "cell_type": "code",
      "metadata": {
        "id": "rZyS-o-so1YV",
        "colab_type": "code",
        "outputId": "4164b619-2e9d-4a4d-e103-a75cfdf7d528",
        "colab": {
          "base_uri": "https://localhost:8080/",
          "height": 34
        }
      },
      "source": [
        "# select 2nd row, 2nd column\n",
        "arr_2d[1][1]"
      ],
      "execution_count": 85,
      "outputs": [
        {
          "output_type": "execute_result",
          "data": {
            "text/plain": [
              "5"
            ]
          },
          "metadata": {
            "tags": []
          },
          "execution_count": 85
        }
      ]
    },
    {
      "cell_type": "code",
      "metadata": {
        "id": "9T2oSB8Ho1Yc",
        "colab_type": "code",
        "outputId": "f1616f5a-b0ec-44c6-b7df-38f2417d07f2",
        "colab": {
          "base_uri": "https://localhost:8080/",
          "height": 34
        }
      },
      "source": [
        "arr_2d[2,2] # another format to select single item, at row 3, col 3"
      ],
      "execution_count": 87,
      "outputs": [
        {
          "output_type": "execute_result",
          "data": {
            "text/plain": [
              "9"
            ]
          },
          "metadata": {
            "tags": []
          },
          "execution_count": 87
        }
      ]
    },
    {
      "cell_type": "code",
      "metadata": {
        "id": "tj_5FbZlo1Yh",
        "colab_type": "code",
        "outputId": "8f28be4a-bf06-401d-bdfa-a7027744d5ef",
        "colab": {
          "base_uri": "https://localhost:8080/",
          "height": 51
        }
      },
      "source": [
        "# select up to but not including row 2, and columns from 1 on\n",
        "arr_2d[:2, 1:]"
      ],
      "execution_count": 88,
      "outputs": [
        {
          "output_type": "execute_result",
          "data": {
            "text/plain": [
              "array([[2, 3],\n",
              "       [5, 6]])"
            ]
          },
          "metadata": {
            "tags": []
          },
          "execution_count": 88
        }
      ]
    },
    {
      "cell_type": "markdown",
      "metadata": {
        "id": "snKX5eU0o1Yl",
        "colab_type": "text"
      },
      "source": [
        "## Comparison operators"
      ]
    },
    {
      "cell_type": "code",
      "metadata": {
        "id": "aJmjmsQpo1Ym",
        "colab_type": "code",
        "outputId": "4fb0b870-935c-43aa-fd9a-f00ed008267d",
        "colab": {
          "base_uri": "https://localhost:8080/",
          "height": 34
        }
      },
      "source": [
        "# display original 1D array\n",
        "arr"
      ],
      "execution_count": 66,
      "outputs": [
        {
          "output_type": "execute_result",
          "data": {
            "text/plain": [
              "array([35, 35,  3,  4,  5])"
            ]
          },
          "metadata": {
            "tags": []
          },
          "execution_count": 66
        }
      ]
    },
    {
      "cell_type": "code",
      "metadata": {
        "id": "WnovoV3ho1Yp",
        "colab_type": "code",
        "outputId": "409b61d8-eac1-4cad-d137-38a90f69e9f2",
        "colab": {}
      },
      "source": [
        "# calculate whether any items are greater than 3\n",
        "arr > 3"
      ],
      "execution_count": 0,
      "outputs": [
        {
          "output_type": "execute_result",
          "data": {
            "text/plain": [
              "array([False, False, False,  True,  True])"
            ]
          },
          "metadata": {
            "tags": []
          },
          "execution_count": 36
        }
      ]
    },
    {
      "cell_type": "code",
      "metadata": {
        "id": "S-AfeELgo1Ys",
        "colab_type": "code",
        "outputId": "966a3140-16a8-4c0e-fc7d-f65d37889bd7",
        "colab": {}
      },
      "source": [
        "# save boolean results of a comparison\n",
        "bool_array = arr > 2\n",
        "bool_array"
      ],
      "execution_count": 0,
      "outputs": [
        {
          "output_type": "execute_result",
          "data": {
            "text/plain": [
              "array([False, False,  True,  True,  True])"
            ]
          },
          "metadata": {
            "tags": []
          },
          "execution_count": 38
        }
      ]
    },
    {
      "cell_type": "code",
      "metadata": {
        "id": "D4Bf1VaSo1Yv",
        "colab_type": "code",
        "outputId": "48b74214-4843-4ad6-b52d-1babd5a6e8e3",
        "colab": {}
      },
      "source": [
        "# show the elements in arr where bool_array = True\n",
        "arr[bool_array]"
      ],
      "execution_count": 0,
      "outputs": [
        {
          "output_type": "execute_result",
          "data": {
            "text/plain": [
              "array([3, 4, 5])"
            ]
          },
          "metadata": {
            "tags": []
          },
          "execution_count": 39
        }
      ]
    },
    {
      "cell_type": "code",
      "metadata": {
        "id": "fy__v45to1Yy",
        "colab_type": "code",
        "outputId": "ee4b0b57-1197-49c7-d80b-61a6cf8bc108",
        "colab": {}
      },
      "source": [
        "# another way to collect elements that are true for a comparison\n",
        "arr[arr < 3]"
      ],
      "execution_count": 0,
      "outputs": [
        {
          "output_type": "execute_result",
          "data": {
            "text/plain": [
              "array([1, 2])"
            ]
          },
          "metadata": {
            "tags": []
          },
          "execution_count": 41
        }
      ]
    },
    {
      "cell_type": "code",
      "metadata": {
        "id": "mp3DMMevo1Y1",
        "colab_type": "code",
        "outputId": "6e53f0db-708f-44fc-ddfe-26b701726f20",
        "colab": {
          "base_uri": "https://localhost:8080/",
          "height": 102
        }
      },
      "source": [
        "# create matrix 0 to 50; 5 rows & 10 elements each\n",
        "arr_2d = np.arange(50).reshape(5,10)\n",
        "arr_2d"
      ],
      "execution_count": 67,
      "outputs": [
        {
          "output_type": "execute_result",
          "data": {
            "text/plain": [
              "array([[ 0,  1,  2,  3,  4,  5,  6,  7,  8,  9],\n",
              "       [10, 11, 12, 13, 14, 15, 16, 17, 18, 19],\n",
              "       [20, 21, 22, 23, 24, 25, 26, 27, 28, 29],\n",
              "       [30, 31, 32, 33, 34, 35, 36, 37, 38, 39],\n",
              "       [40, 41, 42, 43, 44, 45, 46, 47, 48, 49]])"
            ]
          },
          "metadata": {
            "tags": []
          },
          "execution_count": 67
        }
      ]
    },
    {
      "cell_type": "code",
      "metadata": {
        "id": "3_L7fe4go1Y4",
        "colab_type": "code",
        "outputId": "ef352b57-d698-4169-feb6-3a397e68b006",
        "colab": {}
      },
      "source": [
        "# select row 4 & 5, index 3 to 4 only\n",
        "arr_2d[3:, 3:5]"
      ],
      "execution_count": 0,
      "outputs": [
        {
          "output_type": "execute_result",
          "data": {
            "text/plain": [
              "array([[33, 34],\n",
              "       [43, 44]])"
            ]
          },
          "metadata": {
            "tags": []
          },
          "execution_count": 46
        }
      ]
    },
    {
      "cell_type": "code",
      "metadata": {
        "id": "U82y06ejo1ZD",
        "colab_type": "code",
        "outputId": "2e7dd545-0796-4cd0-90bc-9431181a27d6",
        "colab": {}
      },
      "source": [
        "# select middle row, # 3\n",
        "arr_2d[2]"
      ],
      "execution_count": 0,
      "outputs": [
        {
          "output_type": "execute_result",
          "data": {
            "text/plain": [
              "array([20, 21, 22, 23, 24, 25, 26, 27, 28, 29])"
            ]
          },
          "metadata": {
            "tags": []
          },
          "execution_count": 47
        }
      ]
    },
    {
      "cell_type": "markdown",
      "metadata": {
        "id": "BjnHj-rXo1ZH",
        "colab_type": "text"
      },
      "source": [
        "## Array operations"
      ]
    },
    {
      "cell_type": "code",
      "metadata": {
        "id": "ZGYlvh2so1ZI",
        "colab_type": "code",
        "outputId": "3817460c-9164-415a-819c-ecfbd4b6bce9",
        "colab": {}
      },
      "source": [
        "arr_2d + arr_2d"
      ],
      "execution_count": 0,
      "outputs": [
        {
          "output_type": "execute_result",
          "data": {
            "text/plain": [
              "array([[ 0,  2,  4,  6,  8, 10, 12, 14, 16, 18],\n",
              "       [20, 22, 24, 26, 28, 30, 32, 34, 36, 38],\n",
              "       [40, 42, 44, 46, 48, 50, 52, 54, 56, 58],\n",
              "       [60, 62, 64, 66, 68, 70, 72, 74, 76, 78],\n",
              "       [80, 82, 84, 86, 88, 90, 92, 94, 96, 98]])"
            ]
          },
          "metadata": {
            "tags": []
          },
          "execution_count": 70
        }
      ]
    },
    {
      "cell_type": "code",
      "metadata": {
        "id": "O4_ZIhaHo1ZK",
        "colab_type": "code",
        "outputId": "6c5cf5bc-a62e-4ad5-b75f-3fd9e2334a3d",
        "colab": {
          "base_uri": "https://localhost:8080/",
          "height": 68
        }
      },
      "source": [
        "# new random normal distribution array\n",
        "randn_arr = np.random.randn(9).reshape(3,3)\n",
        "randn_arr"
      ],
      "execution_count": 34,
      "outputs": [
        {
          "output_type": "execute_result",
          "data": {
            "text/plain": [
              "array([[-1.99938432,  0.07718552, -0.41701054],\n",
              "       [-1.31664305, -0.73286689,  0.76526646],\n",
              "       [-0.63060353, -0.362207  ,  0.55869405]])"
            ]
          },
          "metadata": {
            "tags": []
          },
          "execution_count": 34
        }
      ]
    },
    {
      "cell_type": "code",
      "metadata": {
        "id": "LJ0YDQjWo1ZN",
        "colab_type": "code",
        "outputId": "d7d4a4ca-b31f-4497-d68b-a78f86fcf48a",
        "colab": {
          "base_uri": "https://localhost:8080/",
          "height": 68
        }
      },
      "source": [
        "# scalar operation applied to all elements\n",
        "randn_arr = randn_arr * 3\n",
        "randn_arr"
      ],
      "execution_count": 35,
      "outputs": [
        {
          "output_type": "execute_result",
          "data": {
            "text/plain": [
              "array([[-5.99815296,  0.23155656, -1.25103163],\n",
              "       [-3.94992916, -2.19860068,  2.29579939],\n",
              "       [-1.89181059, -1.08662101,  1.67608214]])"
            ]
          },
          "metadata": {
            "tags": []
          },
          "execution_count": 35
        }
      ]
    },
    {
      "cell_type": "code",
      "metadata": {
        "id": "nc46x0IVo1ZQ",
        "colab_type": "code",
        "outputId": "cc4b1fd6-1757-4e39-c418-6eec88877807",
        "colab": {
          "base_uri": "https://localhost:8080/",
          "height": 68
        }
      },
      "source": [
        "# return floor of each element\n",
        "np.floor(randn_arr)"
      ],
      "execution_count": 36,
      "outputs": [
        {
          "output_type": "execute_result",
          "data": {
            "text/plain": [
              "array([[-6.,  0., -2.],\n",
              "       [-4., -3.,  2.],\n",
              "       [-2., -2.,  1.]])"
            ]
          },
          "metadata": {
            "tags": []
          },
          "execution_count": 36
        }
      ]
    },
    {
      "cell_type": "code",
      "metadata": {
        "id": "Y0M8u3kbs7qu",
        "colab_type": "code",
        "colab": {
          "base_uri": "https://localhost:8080/",
          "height": 34
        },
        "outputId": "b089608b-b1ba-4e37-f296-e834cccd8f0f"
      },
      "source": [
        "# multiply all by 3\n",
        "ones_arr * 3"
      ],
      "execution_count": 38,
      "outputs": [
        {
          "output_type": "execute_result",
          "data": {
            "text/plain": [
              "array([3., 3., 3., 3., 3.])"
            ]
          },
          "metadata": {
            "tags": []
          },
          "execution_count": 38
        }
      ]
    },
    {
      "cell_type": "code",
      "metadata": {
        "id": "xZIuN5Bfo1ZT",
        "colab_type": "code",
        "outputId": "615b3959-4a62-4e6f-81f0-57fadfde78a3",
        "colab": {
          "base_uri": "https://localhost:8080/",
          "height": 34
        }
      },
      "source": [
        "# create array of 5 zero elements\n",
        "zeros_arr = np.zeros(5)\n",
        "zeros_arr"
      ],
      "execution_count": 39,
      "outputs": [
        {
          "output_type": "execute_result",
          "data": {
            "text/plain": [
              "array([0., 0., 0., 0., 0.])"
            ]
          },
          "metadata": {
            "tags": []
          },
          "execution_count": 39
        }
      ]
    },
    {
      "cell_type": "code",
      "metadata": {
        "id": "f0ZP0Invo1ZX",
        "colab_type": "code",
        "outputId": "51c9e74e-79f1-49bf-a5a3-68355afa0f4f",
        "colab": {
          "base_uri": "https://localhost:8080/",
          "height": 88
        }
      },
      "source": [
        "zeros_arr / zeros_arr # divide 0 by 0 gives null values"
      ],
      "execution_count": 40,
      "outputs": [
        {
          "output_type": "stream",
          "text": [
            "/usr/local/lib/python3.6/dist-packages/ipykernel_launcher.py:1: RuntimeWarning: invalid value encountered in true_divide\n",
            "  \"\"\"Entry point for launching an IPython kernel.\n"
          ],
          "name": "stderr"
        },
        {
          "output_type": "execute_result",
          "data": {
            "text/plain": [
              "array([nan, nan, nan, nan, nan])"
            ]
          },
          "metadata": {
            "tags": []
          },
          "execution_count": 40
        }
      ]
    },
    {
      "cell_type": "code",
      "metadata": {
        "id": "quKdzn3uo1ZZ",
        "colab_type": "code",
        "outputId": "c9febd75-18ea-47a3-b740-2ee8982435d8",
        "colab": {
          "base_uri": "https://localhost:8080/",
          "height": 88
        }
      },
      "source": [
        "1 / zeros_arr # different error, gives infinity values"
      ],
      "execution_count": 41,
      "outputs": [
        {
          "output_type": "stream",
          "text": [
            "/usr/local/lib/python3.6/dist-packages/ipykernel_launcher.py:1: RuntimeWarning: divide by zero encountered in true_divide\n",
            "  \"\"\"Entry point for launching an IPython kernel.\n"
          ],
          "name": "stderr"
        },
        {
          "output_type": "execute_result",
          "data": {
            "text/plain": [
              "array([inf, inf, inf, inf, inf])"
            ]
          },
          "metadata": {
            "tags": []
          },
          "execution_count": 41
        }
      ]
    },
    {
      "cell_type": "markdown",
      "metadata": {
        "id": "VVq5_Clpo1Zc",
        "colab_type": "text"
      },
      "source": [
        "## Universal array functions"
      ]
    },
    {
      "cell_type": "code",
      "metadata": {
        "id": "RQ95QLRSo1Zc",
        "colab_type": "code",
        "outputId": "5e51eca4-0a1a-4d68-f16f-9220cf64e5fb",
        "colab": {
          "base_uri": "https://localhost:8080/",
          "height": 34
        }
      },
      "source": [
        "arr = np.arange(1,6) # new array 1 to 5\n",
        "arr"
      ],
      "execution_count": 46,
      "outputs": [
        {
          "output_type": "execute_result",
          "data": {
            "text/plain": [
              "array([1, 2, 3, 4, 5])"
            ]
          },
          "metadata": {
            "tags": []
          },
          "execution_count": 46
        }
      ]
    },
    {
      "cell_type": "code",
      "metadata": {
        "id": "0xl44lm4o1Zg",
        "colab_type": "code",
        "outputId": "f0a1816d-5c91-4d44-c8ff-0c0b3147bc9b",
        "colab": {}
      },
      "source": [
        "arr_sq = arr ** 2 # square of every element\n",
        "arr_sq"
      ],
      "execution_count": 0,
      "outputs": [
        {
          "output_type": "execute_result",
          "data": {
            "text/plain": [
              "array([ 1,  4,  9, 16, 25])"
            ]
          },
          "metadata": {
            "tags": []
          },
          "execution_count": 116
        }
      ]
    },
    {
      "cell_type": "code",
      "metadata": {
        "id": "tal3zP_4o1Zi",
        "colab_type": "code",
        "outputId": "575277af-5114-4341-b794-80d6e5de46e0",
        "colab": {}
      },
      "source": [
        "np.sqrt(arr_sq) # square root of each element in arr_sq"
      ],
      "execution_count": 0,
      "outputs": [
        {
          "output_type": "execute_result",
          "data": {
            "text/plain": [
              "array([1., 2., 3., 4., 5.])"
            ]
          },
          "metadata": {
            "tags": []
          },
          "execution_count": 117
        }
      ]
    },
    {
      "cell_type": "code",
      "metadata": {
        "id": "KDMnXZxYo1Zm",
        "colab_type": "code",
        "outputId": "d6d73d1c-ad0a-474c-b0be-45ae6e25a501",
        "colab": {}
      },
      "source": [
        "np.sqrt(49) # square root of a number"
      ],
      "execution_count": 0,
      "outputs": [
        {
          "output_type": "execute_result",
          "data": {
            "text/plain": [
              "7.0"
            ]
          },
          "metadata": {
            "tags": []
          },
          "execution_count": 105
        }
      ]
    },
    {
      "cell_type": "code",
      "metadata": {
        "id": "l2oADv4ro1Zu",
        "colab_type": "code",
        "outputId": "2c57fb4c-5ff0-44ad-8e21-de4471bd9b03",
        "colab": {}
      },
      "source": [
        "# calculate exponential of each element; Euler's formula\n",
        "np.exp(arr)"
      ],
      "execution_count": 0,
      "outputs": [
        {
          "output_type": "execute_result",
          "data": {
            "text/plain": [
              "array([  2.71828183,   7.3890561 ,  20.08553692,  54.59815003,\n",
              "       148.4131591 ])"
            ]
          },
          "metadata": {
            "tags": []
          },
          "execution_count": 115
        }
      ]
    },
    {
      "cell_type": "markdown",
      "metadata": {
        "id": "kJMTwaYTo1Zx",
        "colab_type": "text"
      },
      "source": [
        "More info:\n",
        "\n",
        "1. Exponential function\n",
        "https://en.wikipedia.org/wiki/Exponential_function\n",
        "1. Euler's formula https://en.wikipedia.org/wiki/Euler%27s_formula"
      ]
    },
    {
      "cell_type": "code",
      "metadata": {
        "id": "qGxYVAYzo1Zy",
        "colab_type": "code",
        "outputId": "2b435042-639d-488b-e566-79e885246a19",
        "colab": {}
      },
      "source": [
        "# find max using np instead of arr.max() shown earlier\n",
        "np.max(arr)"
      ],
      "execution_count": 0,
      "outputs": [
        {
          "output_type": "execute_result",
          "data": {
            "text/plain": [
              "5"
            ]
          },
          "metadata": {
            "tags": []
          },
          "execution_count": 119
        }
      ]
    },
    {
      "cell_type": "code",
      "metadata": {
        "id": "wdHBYGZqo1Z2",
        "colab_type": "code",
        "outputId": "51c8574c-8cd4-408c-ced5-4c5fbec57e1b",
        "colab": {}
      },
      "source": [
        "np.sin(arr) # calculate sin of each element"
      ],
      "execution_count": 0,
      "outputs": [
        {
          "output_type": "execute_result",
          "data": {
            "text/plain": [
              "array([ 0.84147098,  0.90929743,  0.14112001, -0.7568025 , -0.95892427])"
            ]
          },
          "metadata": {
            "tags": []
          },
          "execution_count": 120
        }
      ]
    },
    {
      "cell_type": "code",
      "metadata": {
        "id": "rgFCoZlBo1Z8",
        "colab_type": "code",
        "outputId": "c412ff7b-5f34-44fd-c434-2747c6e58fa9",
        "colab": {}
      },
      "source": [
        "np.log(arr) # calculate log of each element"
      ],
      "execution_count": 0,
      "outputs": [
        {
          "output_type": "execute_result",
          "data": {
            "text/plain": [
              "array([0.        , 0.69314718, 1.09861229, 1.38629436, 1.60943791])"
            ]
          },
          "metadata": {
            "tags": []
          },
          "execution_count": 121
        }
      ]
    },
    {
      "cell_type": "markdown",
      "metadata": {
        "id": "sXFW4lNXo1Z-",
        "colab_type": "text"
      },
      "source": [
        "More info:\n",
        "\n",
        "1. Documentation for universal functions in numpy https://docs.scipy.org/doc/numpy/reference/ufuncs.html. Scroll down near the end to find list"
      ]
    },
    {
      "cell_type": "code",
      "metadata": {
        "id": "SJfJI_jdo1Z_",
        "colab_type": "code",
        "colab": {
          "base_uri": "https://localhost:8080/",
          "height": 34
        },
        "outputId": "d0182f69-1d12-4786-d7e1-b6ae969ac1e9"
      },
      "source": [
        "# recall earlier array\n",
        "arr"
      ],
      "execution_count": 93,
      "outputs": [
        {
          "output_type": "execute_result",
          "data": {
            "text/plain": [
              "array([35, 35,  3,  4,  5])"
            ]
          },
          "metadata": {
            "tags": []
          },
          "execution_count": 93
        }
      ]
    },
    {
      "cell_type": "code",
      "metadata": {
        "id": "bpjzYVdP3wZC",
        "colab_type": "code",
        "colab": {
          "base_uri": "https://localhost:8080/",
          "height": 34
        },
        "outputId": "2d5402df-caea-4b8d-e7a1-01065405b4a7"
      },
      "source": [
        "# sum the elements using .sum()\n",
        "arr.sum()"
      ],
      "execution_count": 94,
      "outputs": [
        {
          "output_type": "execute_result",
          "data": {
            "text/plain": [
              "82"
            ]
          },
          "metadata": {
            "tags": []
          },
          "execution_count": 94
        }
      ]
    },
    {
      "cell_type": "code",
      "metadata": {
        "id": "fMbombri389I",
        "colab_type": "code",
        "colab": {
          "base_uri": "https://localhost:8080/",
          "height": 34
        },
        "outputId": "0c6ee6e2-9b99-458b-bfae-0f50f608bfe3"
      },
      "source": [
        "# sum the elements using np.sum()\n",
        "np.sum(arr) # also works for matrix"
      ],
      "execution_count": 95,
      "outputs": [
        {
          "output_type": "execute_result",
          "data": {
            "text/plain": [
              "82"
            ]
          },
          "metadata": {
            "tags": []
          },
          "execution_count": 95
        }
      ]
    },
    {
      "cell_type": "code",
      "metadata": {
        "id": "LUcIt24c4FK5",
        "colab_type": "code",
        "colab": {
          "base_uri": "https://localhost:8080/",
          "height": 34
        },
        "outputId": "06c1754b-cfa5-4800-edcf-2c4fcc4cc9b9"
      },
      "source": [
        "# calculate standard deviation\n",
        "np.std(arr)"
      ],
      "execution_count": 96,
      "outputs": [
        {
          "output_type": "execute_result",
          "data": {
            "text/plain": [
              "15.200000000000001"
            ]
          },
          "metadata": {
            "tags": []
          },
          "execution_count": 96
        }
      ]
    },
    {
      "cell_type": "code",
      "metadata": {
        "id": "PeitJObO4x2-",
        "colab_type": "code",
        "colab": {
          "base_uri": "https://localhost:8080/",
          "height": 68
        },
        "outputId": "43b0e1e7-ca9d-493b-d2a6-270de8e00c09"
      },
      "source": [
        "# recall an earlier bigger matrix\n",
        "randn_arr"
      ],
      "execution_count": 99,
      "outputs": [
        {
          "output_type": "execute_result",
          "data": {
            "text/plain": [
              "array([[-5.99815296,  0.23155656, -1.25103163],\n",
              "       [-3.94992916, -2.19860068,  2.29579939],\n",
              "       [-1.89181059, -1.08662101,  1.67608214]])"
            ]
          },
          "metadata": {
            "tags": []
          },
          "execution_count": 99
        }
      ]
    },
    {
      "cell_type": "code",
      "metadata": {
        "id": "GJgAcaOS4PRl",
        "colab_type": "code",
        "colab": {
          "base_uri": "https://localhost:8080/",
          "height": 34
        },
        "outputId": "62a98979-0a6f-4bbd-a07a-60cdc46ccde6"
      },
      "source": [
        "# another way to get SD\n",
        "randn_arr.std()"
      ],
      "execution_count": 100,
      "outputs": [
        {
          "output_type": "execute_result",
          "data": {
            "text/plain": [
              "2.458728055260157"
            ]
          },
          "metadata": {
            "tags": []
          },
          "execution_count": 100
        }
      ]
    },
    {
      "cell_type": "code",
      "metadata": {
        "id": "o1LR98zE4f_w",
        "colab_type": "code",
        "colab": {
          "base_uri": "https://localhost:8080/",
          "height": 68
        },
        "outputId": "9f023aaa-a564-4f2a-f719-ee2966d35e4f"
      },
      "source": [
        "# recall matrix from earlier\n",
        "arr_2d"
      ],
      "execution_count": 101,
      "outputs": [
        {
          "output_type": "execute_result",
          "data": {
            "text/plain": [
              "array([[1, 2, 3],\n",
              "       [4, 5, 6],\n",
              "       [7, 8, 9]])"
            ]
          },
          "metadata": {
            "tags": []
          },
          "execution_count": 101
        }
      ]
    },
    {
      "cell_type": "code",
      "metadata": {
        "id": "TczXv4-T5Fw8",
        "colab_type": "code",
        "colab": {
          "base_uri": "https://localhost:8080/",
          "height": 34
        },
        "outputId": "c90f7a40-ef13-496a-d12f-b0d5313ed234"
      },
      "source": [
        "# sum the columns\n",
        "arr_2d.sum(axis=0)"
      ],
      "execution_count": 102,
      "outputs": [
        {
          "output_type": "execute_result",
          "data": {
            "text/plain": [
              "array([12, 15, 18])"
            ]
          },
          "metadata": {
            "tags": []
          },
          "execution_count": 102
        }
      ]
    },
    {
      "cell_type": "code",
      "metadata": {
        "id": "kJyZLbhJ5JgL",
        "colab_type": "code",
        "colab": {}
      },
      "source": [
        ""
      ],
      "execution_count": 0,
      "outputs": []
    }
  ]
}