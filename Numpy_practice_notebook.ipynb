{
  "nbformat": 4,
  "nbformat_minor": 0,
  "metadata": {
    "colab": {
      "name": "Numpy practice notebook.ipynb",
      "version": "0.3.2",
      "provenance": [],
      "collapsed_sections": [
        "eVzSll01o1YU",
        "snKX5eU0o1Yl",
        "BjnHj-rXo1ZH",
        "VVq5_Clpo1Zc"
      ],
      "include_colab_link": true
    },
    "language_info": {
      "codemirror_mode": {
        "name": "ipython",
        "version": 3
      },
      "file_extension": ".py",
      "mimetype": "text/x-python",
      "name": "python",
      "nbconvert_exporter": "python",
      "pygments_lexer": "ipython3",
      "version": "3.7.3"
    },
    "kernelspec": {
      "display_name": "Python 3",
      "language": "python",
      "name": "python3"
    }
  },
  "cells": [
    {
      "cell_type": "markdown",
      "metadata": {
        "id": "view-in-github",
        "colab_type": "text"
      },
      "source": [
        "<a href=\"https://colab.research.google.com/github/Hbada/Numpy-lessons-notebook/blob/master/Numpy_practice_notebook.ipynb\" target=\"_parent\"><img src=\"https://colab.research.google.com/assets/colab-badge.svg\" alt=\"Open In Colab\"/></a>"
      ]
    },
    {
      "cell_type": "code",
      "metadata": {
        "id": "IpaQHQqho1XZ",
        "colab_type": "code",
        "colab": {}
      },
      "source": [
        "import numpy as np"
      ],
      "execution_count": 0,
      "outputs": []
    },
    {
      "cell_type": "markdown",
      "metadata": {
        "id": "CRp3Zbcmo1Xe",
        "colab_type": "text"
      },
      "source": [
        "## Create array and slices"
      ]
    },
    {
      "cell_type": "code",
      "metadata": {
        "id": "vcAbUE5Uo1Xf",
        "colab_type": "code",
        "outputId": "df340b41-e38d-49b3-c7ad-e878c9c9b2b7",
        "colab": {}
      },
      "source": [
        "arr = np.arange(1,6) # create array from 1 to 5\n",
        "arr"
      ],
      "execution_count": 0,
      "outputs": [
        {
          "output_type": "execute_result",
          "data": {
            "text/plain": [
              "array([1, 2, 3, 4, 5])"
            ]
          },
          "metadata": {
            "tags": []
          },
          "execution_count": 5
        }
      ]
    },
    {
      "cell_type": "code",
      "metadata": {
        "id": "yYFOYGWro1Xl",
        "colab_type": "code",
        "outputId": "c1885907-e9bb-41ae-aa01-ddd4d10f0aa1",
        "colab": {}
      },
      "source": [
        "arr[2:4] # slice from index 2 up to but not including 4"
      ],
      "execution_count": 0,
      "outputs": [
        {
          "output_type": "execute_result",
          "data": {
            "text/plain": [
              "array([3, 4])"
            ]
          },
          "metadata": {
            "tags": []
          },
          "execution_count": 6
        }
      ]
    },
    {
      "cell_type": "code",
      "metadata": {
        "id": "JCC28CZno1Xp",
        "colab_type": "code",
        "outputId": "b1c608e8-749c-45b1-ffae-deede3456d5f",
        "colab": {}
      },
      "source": [
        "arr[0:2] = 35 # \"broadcast\" the value 35 into array at index 0 and 1\n",
        "arr"
      ],
      "execution_count": 0,
      "outputs": [
        {
          "output_type": "execute_result",
          "data": {
            "text/plain": [
              "array([35, 35,  3,  4,  5])"
            ]
          },
          "metadata": {
            "tags": []
          },
          "execution_count": 7
        }
      ]
    },
    {
      "cell_type": "code",
      "metadata": {
        "id": "Wa9tbGGWo1Xt",
        "colab_type": "code",
        "outputId": "87c808d9-0257-4042-febb-68a038e839eb",
        "colab": {}
      },
      "source": [
        "arr = np.arange(1,6) # re-create array of 5 elements\n",
        "arr"
      ],
      "execution_count": 0,
      "outputs": [
        {
          "output_type": "execute_result",
          "data": {
            "text/plain": [
              "array([1, 2, 3, 4, 5])"
            ]
          },
          "metadata": {
            "tags": []
          },
          "execution_count": 9
        }
      ]
    },
    {
      "cell_type": "code",
      "metadata": {
        "id": "Vm5_Qu0jo1Xx",
        "colab_type": "code",
        "outputId": "48fbc39b-377d-49a8-9f96-3cf6b59f0f63",
        "colab": {}
      },
      "source": [
        "rand_arr = np.random.rand(5) # create 5 random numbers between 0 and 5\n",
        "rand_arr # results are different every time this cell is run"
      ],
      "execution_count": 0,
      "outputs": [
        {
          "output_type": "execute_result",
          "data": {
            "text/plain": [
              "array([0.90649338, 0.37105352, 0.81437113, 0.33438675, 0.12652438])"
            ]
          },
          "metadata": {
            "tags": []
          },
          "execution_count": 52
        }
      ]
    },
    {
      "cell_type": "markdown",
      "metadata": {
        "id": "SNGaPsNko1X1",
        "colab_type": "text"
      },
      "source": [
        "## Max and min"
      ]
    },
    {
      "cell_type": "code",
      "metadata": {
        "id": "6dnDIaCTo1X2",
        "colab_type": "code",
        "outputId": "e682f966-fbbc-4abe-9211-f1a474eed426",
        "colab": {}
      },
      "source": [
        "rand_norm_arr = np.random.randn(25) # create array of 25 random numbers from normal distribution\n",
        "rand_norm_arr"
      ],
      "execution_count": 0,
      "outputs": [
        {
          "output_type": "execute_result",
          "data": {
            "text/plain": [
              "array([ 1.43205485, -0.55812372, -0.68455624, -1.41662653,  1.26904729,\n",
              "       -0.10079617, -0.06484557,  0.52735273, -0.40155089,  1.00229872,\n",
              "       -1.1776841 ,  1.01573834,  2.30981847, -1.88907446, -0.83726486,\n",
              "       -0.61645002, -0.54331498,  1.08397415, -1.19401095,  1.23306596,\n",
              "       -0.40221001,  0.55070226, -0.22999488, -0.20076187,  0.24140577])"
            ]
          },
          "metadata": {
            "tags": []
          },
          "execution_count": 73
        }
      ]
    },
    {
      "cell_type": "code",
      "metadata": {
        "id": "mSd_q_j4o1X6",
        "colab_type": "code",
        "outputId": "9ce772da-60d8-41a1-8a8e-dd8abc9e8e5a",
        "colab": {}
      },
      "source": [
        "rand_norm_arr.min() # calculate min value"
      ],
      "execution_count": 0,
      "outputs": [
        {
          "output_type": "execute_result",
          "data": {
            "text/plain": [
              "-1.9632940959824894"
            ]
          },
          "metadata": {
            "tags": []
          },
          "execution_count": 61
        }
      ]
    },
    {
      "cell_type": "code",
      "metadata": {
        "id": "Kl6OAWh0o1X-",
        "colab_type": "code",
        "outputId": "f4362c91-57ea-4571-f6b0-cdb06baad1b7",
        "colab": {}
      },
      "source": [
        "rand_norm_arr.max() # calculate max value"
      ],
      "execution_count": 0,
      "outputs": [
        {
          "output_type": "execute_result",
          "data": {
            "text/plain": [
              "2.7793173967822775"
            ]
          },
          "metadata": {
            "tags": []
          },
          "execution_count": 60
        }
      ]
    },
    {
      "cell_type": "code",
      "metadata": {
        "id": "_zM7x5MSo1YC",
        "colab_type": "code",
        "outputId": "408455d6-f9d7-41e2-fd81-bb6febd31c03",
        "colab": {}
      },
      "source": [
        "rand_norm_arr.argmax() # retrieve index of the max value "
      ],
      "execution_count": 0,
      "outputs": [
        {
          "output_type": "execute_result",
          "data": {
            "text/plain": [
              "16"
            ]
          },
          "metadata": {
            "tags": []
          },
          "execution_count": 62
        }
      ]
    },
    {
      "cell_type": "code",
      "metadata": {
        "id": "dmUBvkVpo1YG",
        "colab_type": "code",
        "outputId": "9027f3c5-6647-4a23-eb7f-fb5aa6e26920",
        "colab": {}
      },
      "source": [
        "rand_norm_arr.argmin() # retrieve index of min"
      ],
      "execution_count": 0,
      "outputs": [
        {
          "output_type": "execute_result",
          "data": {
            "text/plain": [
              "13"
            ]
          },
          "metadata": {
            "tags": []
          },
          "execution_count": 63
        }
      ]
    },
    {
      "cell_type": "markdown",
      "metadata": {
        "id": "9UzcqudUo1YJ",
        "colab_type": "text"
      },
      "source": [
        "## Create matrix aka 2D array"
      ]
    },
    {
      "cell_type": "code",
      "metadata": {
        "id": "3bcRDmzqo1YJ",
        "colab_type": "code",
        "outputId": "3c25930e-a7e2-47fa-89f4-88df2ea3d7fe",
        "colab": {}
      },
      "source": [
        "arr_2d = [[1, 2, 3], [4, 5, 6], [7, 8, 9]] # create a nested array using python\n",
        "arr_2d"
      ],
      "execution_count": 0,
      "outputs": [
        {
          "output_type": "execute_result",
          "data": {
            "text/plain": [
              "[[1, 2, 3], [4, 5, 6], [7, 8, 9]]"
            ]
          },
          "metadata": {
            "tags": []
          },
          "execution_count": 21
        }
      ]
    },
    {
      "cell_type": "code",
      "metadata": {
        "id": "orEV3Q7ao1YM",
        "colab_type": "code",
        "outputId": "5f3e3583-9958-43b0-e9e8-6f2cb5d02ec3",
        "colab": {}
      },
      "source": [
        "arr_2d = np.array([[1, 2, 3], [4, 5, 6], [7, 8, 9]]) # create 2D array, aka matrix\n",
        "arr_2d"
      ],
      "execution_count": 0,
      "outputs": [
        {
          "output_type": "execute_result",
          "data": {
            "text/plain": [
              "array([[1, 2, 3],\n",
              "       [4, 5, 6],\n",
              "       [7, 8, 9]])"
            ]
          },
          "metadata": {
            "tags": []
          },
          "execution_count": 27
        }
      ]
    },
    {
      "cell_type": "code",
      "metadata": {
        "id": "VXWlapclo1YP",
        "colab_type": "code",
        "outputId": "9077c242-2746-471b-a41e-0e2c73f59c73",
        "colab": {}
      },
      "source": [
        "arr_2d.shape # retrieve shape of the array"
      ],
      "execution_count": 0,
      "outputs": [
        {
          "output_type": "execute_result",
          "data": {
            "text/plain": [
              "(5, 10)"
            ]
          },
          "metadata": {
            "tags": []
          },
          "execution_count": 68
        }
      ]
    },
    {
      "cell_type": "markdown",
      "metadata": {
        "id": "eVzSll01o1YU",
        "colab_type": "text"
      },
      "source": [
        "## Matrix index selections"
      ]
    },
    {
      "cell_type": "code",
      "metadata": {
        "id": "rZyS-o-so1YV",
        "colab_type": "code",
        "outputId": "197834a4-7c1f-4ba7-8103-3d7e35a0de2e",
        "colab": {}
      },
      "source": [
        "arr_2d[1][1] # select 2nd row, 2nd column"
      ],
      "execution_count": 0,
      "outputs": [
        {
          "output_type": "execute_result",
          "data": {
            "text/plain": [
              "5"
            ]
          },
          "metadata": {
            "tags": []
          },
          "execution_count": 28
        }
      ]
    },
    {
      "cell_type": "code",
      "metadata": {
        "id": "RaHwn9juo1YY",
        "colab_type": "code",
        "outputId": "6ff36f5d-437e-4fe7-d019-b993250d782f",
        "colab": {}
      },
      "source": [
        "arr_2d[0] # select entire first item of array, which is a whole 'row' of elements"
      ],
      "execution_count": 0,
      "outputs": [
        {
          "output_type": "execute_result",
          "data": {
            "text/plain": [
              "array([1, 2, 3])"
            ]
          },
          "metadata": {
            "tags": []
          },
          "execution_count": 29
        }
      ]
    },
    {
      "cell_type": "code",
      "metadata": {
        "id": "9T2oSB8Ho1Yc",
        "colab_type": "code",
        "outputId": "4dd8b35f-6c73-433f-aa87-fc7fd0820435",
        "colab": {}
      },
      "source": [
        "arr_2d[2,2] # another way to select row 3, item 3"
      ],
      "execution_count": 0,
      "outputs": [
        {
          "output_type": "execute_result",
          "data": {
            "text/plain": [
              "9"
            ]
          },
          "metadata": {
            "tags": []
          },
          "execution_count": 32
        }
      ]
    },
    {
      "cell_type": "code",
      "metadata": {
        "id": "tj_5FbZlo1Yh",
        "colab_type": "code",
        "outputId": "254b7393-cb0f-460f-f37a-04428ad0437e",
        "colab": {}
      },
      "source": [
        "arr_2d[:2, 1:] # select up to but not including row 2, and columns from 1 on"
      ],
      "execution_count": 0,
      "outputs": [
        {
          "output_type": "execute_result",
          "data": {
            "text/plain": [
              "array([[2, 3],\n",
              "       [5, 6]])"
            ]
          },
          "metadata": {
            "tags": []
          },
          "execution_count": 33
        }
      ]
    },
    {
      "cell_type": "markdown",
      "metadata": {
        "id": "snKX5eU0o1Yl",
        "colab_type": "text"
      },
      "source": [
        "## Comparison operators"
      ]
    },
    {
      "cell_type": "code",
      "metadata": {
        "id": "aJmjmsQpo1Ym",
        "colab_type": "code",
        "outputId": "9babc968-0c25-4280-c474-65668f333fd1",
        "colab": {}
      },
      "source": [
        "arr # original 1D array"
      ],
      "execution_count": 0,
      "outputs": [
        {
          "output_type": "execute_result",
          "data": {
            "text/plain": [
              "array([1, 2, 3, 4, 5])"
            ]
          },
          "metadata": {
            "tags": []
          },
          "execution_count": 35
        }
      ]
    },
    {
      "cell_type": "code",
      "metadata": {
        "id": "WnovoV3ho1Yp",
        "colab_type": "code",
        "outputId": "409b61d8-eac1-4cad-d137-38a90f69e9f2",
        "colab": {}
      },
      "source": [
        "arr > 3 # calculate whether any items are greater than 3"
      ],
      "execution_count": 0,
      "outputs": [
        {
          "output_type": "execute_result",
          "data": {
            "text/plain": [
              "array([False, False, False,  True,  True])"
            ]
          },
          "metadata": {
            "tags": []
          },
          "execution_count": 36
        }
      ]
    },
    {
      "cell_type": "code",
      "metadata": {
        "id": "S-AfeELgo1Ys",
        "colab_type": "code",
        "outputId": "966a3140-16a8-4c0e-fc7d-f65d37889bd7",
        "colab": {}
      },
      "source": [
        "bool_array = arr > 2 # save boolean results of a comparison\n",
        "bool_array"
      ],
      "execution_count": 0,
      "outputs": [
        {
          "output_type": "execute_result",
          "data": {
            "text/plain": [
              "array([False, False,  True,  True,  True])"
            ]
          },
          "metadata": {
            "tags": []
          },
          "execution_count": 38
        }
      ]
    },
    {
      "cell_type": "code",
      "metadata": {
        "id": "D4Bf1VaSo1Yv",
        "colab_type": "code",
        "outputId": "48b74214-4843-4ad6-b52d-1babd5a6e8e3",
        "colab": {}
      },
      "source": [
        "arr[bool_array] # show the elements in arr where bool_array = True"
      ],
      "execution_count": 0,
      "outputs": [
        {
          "output_type": "execute_result",
          "data": {
            "text/plain": [
              "array([3, 4, 5])"
            ]
          },
          "metadata": {
            "tags": []
          },
          "execution_count": 39
        }
      ]
    },
    {
      "cell_type": "code",
      "metadata": {
        "id": "fy__v45to1Yy",
        "colab_type": "code",
        "outputId": "ee4b0b57-1197-49c7-d80b-61a6cf8bc108",
        "colab": {}
      },
      "source": [
        "arr[arr < 3] # another way to collect elements that are true for a comparison"
      ],
      "execution_count": 0,
      "outputs": [
        {
          "output_type": "execute_result",
          "data": {
            "text/plain": [
              "array([1, 2])"
            ]
          },
          "metadata": {
            "tags": []
          },
          "execution_count": 41
        }
      ]
    },
    {
      "cell_type": "code",
      "metadata": {
        "id": "mp3DMMevo1Y1",
        "colab_type": "code",
        "outputId": "ad81f9ff-449d-4850-910a-52b2550d774d",
        "colab": {}
      },
      "source": [
        "arr_2d = np.arange(50).reshape(5,10) # create matrix 0 to 50; 5 rows & 10 elements each\n",
        "arr_2d"
      ],
      "execution_count": 0,
      "outputs": [
        {
          "output_type": "execute_result",
          "data": {
            "text/plain": [
              "array([[ 0,  1,  2,  3,  4,  5,  6,  7,  8,  9],\n",
              "       [10, 11, 12, 13, 14, 15, 16, 17, 18, 19],\n",
              "       [20, 21, 22, 23, 24, 25, 26, 27, 28, 29],\n",
              "       [30, 31, 32, 33, 34, 35, 36, 37, 38, 39],\n",
              "       [40, 41, 42, 43, 44, 45, 46, 47, 48, 49]])"
            ]
          },
          "metadata": {
            "tags": []
          },
          "execution_count": 43
        }
      ]
    },
    {
      "cell_type": "code",
      "metadata": {
        "id": "3_L7fe4go1Y4",
        "colab_type": "code",
        "outputId": "ef352b57-d698-4169-feb6-3a397e68b006",
        "colab": {}
      },
      "source": [
        "arr_2d[3:, 3:5] # select row 4 & 5, index 3 to 4 only"
      ],
      "execution_count": 0,
      "outputs": [
        {
          "output_type": "execute_result",
          "data": {
            "text/plain": [
              "array([[33, 34],\n",
              "       [43, 44]])"
            ]
          },
          "metadata": {
            "tags": []
          },
          "execution_count": 46
        }
      ]
    },
    {
      "cell_type": "code",
      "metadata": {
        "id": "U82y06ejo1ZD",
        "colab_type": "code",
        "outputId": "2e7dd545-0796-4cd0-90bc-9431181a27d6",
        "colab": {}
      },
      "source": [
        "arr_2d[2] # select middle row, # 3"
      ],
      "execution_count": 0,
      "outputs": [
        {
          "output_type": "execute_result",
          "data": {
            "text/plain": [
              "array([20, 21, 22, 23, 24, 25, 26, 27, 28, 29])"
            ]
          },
          "metadata": {
            "tags": []
          },
          "execution_count": 47
        }
      ]
    },
    {
      "cell_type": "markdown",
      "metadata": {
        "id": "BjnHj-rXo1ZH",
        "colab_type": "text"
      },
      "source": [
        "## Array operations"
      ]
    },
    {
      "cell_type": "code",
      "metadata": {
        "id": "ZGYlvh2so1ZI",
        "colab_type": "code",
        "outputId": "3817460c-9164-415a-819c-ecfbd4b6bce9",
        "colab": {}
      },
      "source": [
        "arr_2d + arr_2d"
      ],
      "execution_count": 0,
      "outputs": [
        {
          "output_type": "execute_result",
          "data": {
            "text/plain": [
              "array([[ 0,  2,  4,  6,  8, 10, 12, 14, 16, 18],\n",
              "       [20, 22, 24, 26, 28, 30, 32, 34, 36, 38],\n",
              "       [40, 42, 44, 46, 48, 50, 52, 54, 56, 58],\n",
              "       [60, 62, 64, 66, 68, 70, 72, 74, 76, 78],\n",
              "       [80, 82, 84, 86, 88, 90, 92, 94, 96, 98]])"
            ]
          },
          "metadata": {
            "tags": []
          },
          "execution_count": 70
        }
      ]
    },
    {
      "cell_type": "code",
      "metadata": {
        "id": "O4_ZIhaHo1ZK",
        "colab_type": "code",
        "outputId": "e075c305-f9f5-416b-97fd-ad40859d1515",
        "colab": {}
      },
      "source": [
        "rand_norm_arr # random normal distribution elements from earlier"
      ],
      "execution_count": 0,
      "outputs": [
        {
          "output_type": "execute_result",
          "data": {
            "text/plain": [
              "array([ 1.43205485, -0.55812372, -0.68455624, -1.41662653,  1.26904729,\n",
              "       -0.10079617, -0.06484557,  0.52735273, -0.40155089,  1.00229872,\n",
              "       -1.1776841 ,  1.01573834,  2.30981847, -1.88907446, -0.83726486,\n",
              "       -0.61645002, -0.54331498,  1.08397415, -1.19401095,  1.23306596,\n",
              "       -0.40221001,  0.55070226, -0.22999488, -0.20076187,  0.24140577])"
            ]
          },
          "metadata": {
            "tags": []
          },
          "execution_count": 77
        }
      ]
    },
    {
      "cell_type": "code",
      "metadata": {
        "id": "LJ0YDQjWo1ZN",
        "colab_type": "code",
        "outputId": "c3463933-c72c-4f43-c553-f5f0b438997b",
        "colab": {}
      },
      "source": [
        "norm_arr_2 = rand_norm_arr * 3 # scalar operation applied to all elements\n",
        "norm_arr_2"
      ],
      "execution_count": 0,
      "outputs": [
        {
          "output_type": "execute_result",
          "data": {
            "text/plain": [
              "array([ 4.29616454, -1.67437116, -2.05366873, -4.2498796 ,  3.80714186,\n",
              "       -0.30238851, -0.19453672,  1.5820582 , -1.20465268,  3.00689617,\n",
              "       -3.53305231,  3.04721502,  6.92945542, -5.66722339, -2.51179457,\n",
              "       -1.84935007, -1.62994495,  3.25192246, -3.58203284,  3.69919788,\n",
              "       -1.20663002,  1.65210678, -0.68998463, -0.6022856 ,  0.7242173 ])"
            ]
          },
          "metadata": {
            "tags": []
          },
          "execution_count": 89
        }
      ]
    },
    {
      "cell_type": "code",
      "metadata": {
        "id": "nc46x0IVo1ZQ",
        "colab_type": "code",
        "outputId": "2eb91f0b-9301-4ab2-87a1-604710a4545a",
        "colab": {}
      },
      "source": [
        "np.floor(norm_arr_2).reshape(5,5) # return floor of each element & reshape as 5 rows & 5 col"
      ],
      "execution_count": 0,
      "outputs": [
        {
          "output_type": "execute_result",
          "data": {
            "text/plain": [
              "array([[ 4., -2., -3., -5.,  3.],\n",
              "       [-1., -1.,  1., -2.,  3.],\n",
              "       [-4.,  3.,  6., -6., -3.],\n",
              "       [-2., -2.,  3., -4.,  3.],\n",
              "       [-2.,  1., -1., -1.,  0.]])"
            ]
          },
          "metadata": {
            "tags": []
          },
          "execution_count": 123
        }
      ]
    },
    {
      "cell_type": "code",
      "metadata": {
        "id": "xZIuN5Bfo1ZT",
        "colab_type": "code",
        "outputId": "8bc2b071-a577-4897-c2b1-24c655cfd1d2",
        "colab": {}
      },
      "source": [
        "zero_arr = np.zeros(5) # create array of 5 zero elements\n",
        "zero_arr"
      ],
      "execution_count": 0,
      "outputs": [
        {
          "output_type": "execute_result",
          "data": {
            "text/plain": [
              "array([0., 0., 0., 0., 0.])"
            ]
          },
          "metadata": {
            "tags": []
          },
          "execution_count": 94
        }
      ]
    },
    {
      "cell_type": "code",
      "metadata": {
        "id": "f0ZP0Invo1ZX",
        "colab_type": "code",
        "outputId": "fa8ad292-8254-4643-83a3-988f93b33338",
        "colab": {}
      },
      "source": [
        "zero_arr / zero_arr # divide 0 by 0 gives null values"
      ],
      "execution_count": 0,
      "outputs": [
        {
          "output_type": "stream",
          "text": [
            "/anaconda3/lib/python3.7/site-packages/ipykernel_launcher.py:1: RuntimeWarning: invalid value encountered in true_divide\n",
            "  \"\"\"Entry point for launching an IPython kernel.\n"
          ],
          "name": "stderr"
        },
        {
          "output_type": "execute_result",
          "data": {
            "text/plain": [
              "array([nan, nan, nan, nan, nan])"
            ]
          },
          "metadata": {
            "tags": []
          },
          "execution_count": 96
        }
      ]
    },
    {
      "cell_type": "code",
      "metadata": {
        "id": "quKdzn3uo1ZZ",
        "colab_type": "code",
        "outputId": "096a1f69-afc4-43a3-f9e2-efa7aebdd0f6",
        "colab": {}
      },
      "source": [
        "1 / zero_arr # different error, gives infinity values"
      ],
      "execution_count": 0,
      "outputs": [
        {
          "output_type": "stream",
          "text": [
            "/anaconda3/lib/python3.7/site-packages/ipykernel_launcher.py:1: RuntimeWarning: divide by zero encountered in true_divide\n",
            "  \"\"\"Entry point for launching an IPython kernel.\n"
          ],
          "name": "stderr"
        },
        {
          "output_type": "execute_result",
          "data": {
            "text/plain": [
              "array([inf, inf, inf, inf, inf])"
            ]
          },
          "metadata": {
            "tags": []
          },
          "execution_count": 97
        }
      ]
    },
    {
      "cell_type": "markdown",
      "metadata": {
        "id": "VVq5_Clpo1Zc",
        "colab_type": "text"
      },
      "source": [
        "## Universal array functions"
      ]
    },
    {
      "cell_type": "code",
      "metadata": {
        "id": "RQ95QLRSo1Zc",
        "colab_type": "code",
        "outputId": "c80fa278-36b6-4421-8741-dc2831900412",
        "colab": {}
      },
      "source": [
        "arr # show matrix again"
      ],
      "execution_count": 0,
      "outputs": [
        {
          "output_type": "execute_result",
          "data": {
            "text/plain": [
              "array([1, 2, 3, 4, 5])"
            ]
          },
          "metadata": {
            "tags": []
          },
          "execution_count": 107
        }
      ]
    },
    {
      "cell_type": "code",
      "metadata": {
        "id": "0xl44lm4o1Zg",
        "colab_type": "code",
        "outputId": "f0a1816d-5c91-4d44-c8ff-0c0b3147bc9b",
        "colab": {}
      },
      "source": [
        "arr_sq = arr ** 2 # square of every element\n",
        "arr_sq"
      ],
      "execution_count": 0,
      "outputs": [
        {
          "output_type": "execute_result",
          "data": {
            "text/plain": [
              "array([ 1,  4,  9, 16, 25])"
            ]
          },
          "metadata": {
            "tags": []
          },
          "execution_count": 116
        }
      ]
    },
    {
      "cell_type": "code",
      "metadata": {
        "id": "tal3zP_4o1Zi",
        "colab_type": "code",
        "outputId": "575277af-5114-4341-b794-80d6e5de46e0",
        "colab": {}
      },
      "source": [
        "np.sqrt(arr_sq) # square root of each element in arr_sq"
      ],
      "execution_count": 0,
      "outputs": [
        {
          "output_type": "execute_result",
          "data": {
            "text/plain": [
              "array([1., 2., 3., 4., 5.])"
            ]
          },
          "metadata": {
            "tags": []
          },
          "execution_count": 117
        }
      ]
    },
    {
      "cell_type": "code",
      "metadata": {
        "id": "KDMnXZxYo1Zm",
        "colab_type": "code",
        "outputId": "d6d73d1c-ad0a-474c-b0be-45ae6e25a501",
        "colab": {}
      },
      "source": [
        "np.sqrt(49) # square root of a number"
      ],
      "execution_count": 0,
      "outputs": [
        {
          "output_type": "execute_result",
          "data": {
            "text/plain": [
              "7.0"
            ]
          },
          "metadata": {
            "tags": []
          },
          "execution_count": 105
        }
      ]
    },
    {
      "cell_type": "code",
      "metadata": {
        "id": "l2oADv4ro1Zu",
        "colab_type": "code",
        "outputId": "2c57fb4c-5ff0-44ad-8e21-de4471bd9b03",
        "colab": {}
      },
      "source": [
        "np.exp(arr) # calculate exponential of each element; Euler's formula"
      ],
      "execution_count": 0,
      "outputs": [
        {
          "output_type": "execute_result",
          "data": {
            "text/plain": [
              "array([  2.71828183,   7.3890561 ,  20.08553692,  54.59815003,\n",
              "       148.4131591 ])"
            ]
          },
          "metadata": {
            "tags": []
          },
          "execution_count": 115
        }
      ]
    },
    {
      "cell_type": "markdown",
      "metadata": {
        "id": "kJMTwaYTo1Zx",
        "colab_type": "text"
      },
      "source": [
        "More info:\n",
        "\n",
        "1. Exponential function\n",
        "https://en.wikipedia.org/wiki/Exponential_function\n",
        "1. Euler's formula https://en.wikipedia.org/wiki/Euler%27s_formula"
      ]
    },
    {
      "cell_type": "code",
      "metadata": {
        "id": "qGxYVAYzo1Zy",
        "colab_type": "code",
        "outputId": "2b435042-639d-488b-e566-79e885246a19",
        "colab": {}
      },
      "source": [
        "np.max(arr) # find max using np instead of arr.max() shown earlier"
      ],
      "execution_count": 0,
      "outputs": [
        {
          "output_type": "execute_result",
          "data": {
            "text/plain": [
              "5"
            ]
          },
          "metadata": {
            "tags": []
          },
          "execution_count": 119
        }
      ]
    },
    {
      "cell_type": "code",
      "metadata": {
        "id": "wdHBYGZqo1Z2",
        "colab_type": "code",
        "outputId": "51c8574c-8cd4-408c-ced5-4c5fbec57e1b",
        "colab": {}
      },
      "source": [
        "np.sin(arr) # calculate sin of each element"
      ],
      "execution_count": 0,
      "outputs": [
        {
          "output_type": "execute_result",
          "data": {
            "text/plain": [
              "array([ 0.84147098,  0.90929743,  0.14112001, -0.7568025 , -0.95892427])"
            ]
          },
          "metadata": {
            "tags": []
          },
          "execution_count": 120
        }
      ]
    },
    {
      "cell_type": "code",
      "metadata": {
        "id": "rgFCoZlBo1Z8",
        "colab_type": "code",
        "outputId": "c412ff7b-5f34-44fd-c434-2747c6e58fa9",
        "colab": {}
      },
      "source": [
        "np.log(arr) # calculate log of each element"
      ],
      "execution_count": 0,
      "outputs": [
        {
          "output_type": "execute_result",
          "data": {
            "text/plain": [
              "array([0.        , 0.69314718, 1.09861229, 1.38629436, 1.60943791])"
            ]
          },
          "metadata": {
            "tags": []
          },
          "execution_count": 121
        }
      ]
    },
    {
      "cell_type": "markdown",
      "metadata": {
        "id": "sXFW4lNXo1Z-",
        "colab_type": "text"
      },
      "source": [
        "More info:\n",
        "\n",
        "1. Documentation for universal functions in numpy https://docs.scipy.org/doc/numpy/reference/ufuncs.html. Scroll down near the end to find list"
      ]
    },
    {
      "cell_type": "code",
      "metadata": {
        "id": "SJfJI_jdo1Z_",
        "colab_type": "code",
        "colab": {}
      },
      "source": [
        ""
      ],
      "execution_count": 0,
      "outputs": []
    }
  ]
}