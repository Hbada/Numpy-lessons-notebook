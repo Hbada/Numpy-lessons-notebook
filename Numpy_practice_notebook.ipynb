{
  "nbformat": 4,
  "nbformat_minor": 0,
  "metadata": {
    "colab": {
      "name": "Numpy practice notebook.ipynb",
      "version": "0.3.2",
      "provenance": [],
      "collapsed_sections": [
        "SNGaPsNko1X1"
      ],
      "include_colab_link": true
    },
    "language_info": {
      "codemirror_mode": {
        "name": "ipython",
        "version": 3
      },
      "file_extension": ".py",
      "mimetype": "text/x-python",
      "name": "python",
      "nbconvert_exporter": "python",
      "pygments_lexer": "ipython3",
      "version": "3.7.3"
    },
    "kernelspec": {
      "display_name": "Python 3",
      "language": "python",
      "name": "python3"
    }
  },
  "cells": [
    {
      "cell_type": "markdown",
      "metadata": {
        "id": "view-in-github",
        "colab_type": "text"
      },
      "source": [
        "<a href=\"https://colab.research.google.com/github/Hbada/Numpy-lessons-notebook/blob/master/Numpy_practice_notebook.ipynb\" target=\"_parent\"><img src=\"https://colab.research.google.com/assets/colab-badge.svg\" alt=\"Open In Colab\"/></a>"
      ]
    },
    {
      "cell_type": "code",
      "metadata": {
        "id": "IpaQHQqho1XZ",
        "colab_type": "code",
        "colab": {}
      },
      "source": [
        "# original notebook source: Google Colab\n",
        "import numpy as np"
      ],
      "execution_count": 0,
      "outputs": []
    },
    {
      "cell_type": "markdown",
      "metadata": {
        "id": "CRp3Zbcmo1Xe",
        "colab_type": "text"
      },
      "source": [
        "## Create array and slices"
      ]
    },
    {
      "cell_type": "code",
      "metadata": {
        "id": "vcAbUE5Uo1Xf",
        "colab_type": "code",
        "outputId": "df340b41-e38d-49b3-c7ad-e878c9c9b2b7",
        "colab": {}
      },
      "source": [
        "arr = np.arange(1,6) # create array from 1 to 5\n",
        "arr"
      ],
      "execution_count": 0,
      "outputs": [
        {
          "output_type": "execute_result",
          "data": {
            "text/plain": [
              "array([1, 2, 3, 4, 5])"
            ]
          },
          "metadata": {
            "tags": []
          },
          "execution_count": 5
        }
      ]
    },
    {
      "cell_type": "code",
      "metadata": {
        "id": "3MwUyvCetOHc",
        "colab_type": "code",
        "colab": {
          "base_uri": "https://localhost:8080/",
          "height": 88
        },
        "outputId": "0ae0b3ac-dc47-4825-ddde-5a8439eb63f8"
      },
      "source": [
        "np.arange(10,51) # create array from 10 to 50"
      ],
      "execution_count": 9,
      "outputs": [
        {
          "output_type": "execute_result",
          "data": {
            "text/plain": [
              "array([10, 11, 12, 13, 14, 15, 16, 17, 18, 19, 20, 21, 22, 23, 24, 25, 26,\n",
              "       27, 28, 29, 30, 31, 32, 33, 34, 35, 36, 37, 38, 39, 40, 41, 42, 43,\n",
              "       44, 45, 46, 47, 48, 49, 50])"
            ]
          },
          "metadata": {
            "tags": []
          },
          "execution_count": 9
        }
      ]
    },
    {
      "cell_type": "code",
      "metadata": {
        "id": "u22M9UHztaXP",
        "colab_type": "code",
        "colab": {
          "base_uri": "https://localhost:8080/",
          "height": 71
        },
        "outputId": "7954e718-fde6-4a94-e2f9-36f0ab493d02"
      },
      "source": [
        "np.arange(10,51,2) # create array 10 to 50, every 2nd number (evens)"
      ],
      "execution_count": 10,
      "outputs": [
        {
          "output_type": "execute_result",
          "data": {
            "text/plain": [
              "array([10, 12, 14, 16, 18, 20, 22, 24, 26, 28, 30, 32, 34, 36, 38, 40, 42,\n",
              "       44, 46, 48, 50])"
            ]
          },
          "metadata": {
            "tags": []
          },
          "execution_count": 10
        }
      ]
    },
    {
      "cell_type": "code",
      "metadata": {
        "id": "_uLNRqujtkCA",
        "colab_type": "code",
        "colab": {
          "base_uri": "https://localhost:8080/",
          "height": 71
        },
        "outputId": "c0e7010f-b2c3-46b7-89fe-17edafc86a3b"
      },
      "source": [
        "np.arange(11,51,2) # create array 10 to 50, odds only"
      ],
      "execution_count": 11,
      "outputs": [
        {
          "output_type": "execute_result",
          "data": {
            "text/plain": [
              "array([11, 13, 15, 17, 19, 21, 23, 25, 27, 29, 31, 33, 35, 37, 39, 41, 43,\n",
              "       45, 47, 49])"
            ]
          },
          "metadata": {
            "tags": []
          },
          "execution_count": 11
        }
      ]
    },
    {
      "cell_type": "code",
      "metadata": {
        "id": "yYFOYGWro1Xl",
        "colab_type": "code",
        "outputId": "c1885907-e9bb-41ae-aa01-ddd4d10f0aa1",
        "colab": {}
      },
      "source": [
        "arr[2:4] # slice from index 2 up to but not including 4"
      ],
      "execution_count": 0,
      "outputs": [
        {
          "output_type": "execute_result",
          "data": {
            "text/plain": [
              "array([3, 4])"
            ]
          },
          "metadata": {
            "tags": []
          },
          "execution_count": 6
        }
      ]
    },
    {
      "cell_type": "code",
      "metadata": {
        "id": "JCC28CZno1Xp",
        "colab_type": "code",
        "outputId": "b1c608e8-749c-45b1-ffae-deede3456d5f",
        "colab": {}
      },
      "source": [
        "arr[0:2] = 35 # \"broadcast\" the value 35 into array at index 0 and 1\n",
        "arr"
      ],
      "execution_count": 0,
      "outputs": [
        {
          "output_type": "execute_result",
          "data": {
            "text/plain": [
              "array([35, 35,  3,  4,  5])"
            ]
          },
          "metadata": {
            "tags": []
          },
          "execution_count": 7
        }
      ]
    },
    {
      "cell_type": "code",
      "metadata": {
        "id": "Wa9tbGGWo1Xt",
        "colab_type": "code",
        "outputId": "87c808d9-0257-4042-febb-68a038e839eb",
        "colab": {}
      },
      "source": [
        "arr = np.arange(1,6) # re-create array of 5 elements\n",
        "arr"
      ],
      "execution_count": 0,
      "outputs": [
        {
          "output_type": "execute_result",
          "data": {
            "text/plain": [
              "array([1, 2, 3, 4, 5])"
            ]
          },
          "metadata": {
            "tags": []
          },
          "execution_count": 9
        }
      ]
    },
    {
      "cell_type": "code",
      "metadata": {
        "id": "Vm5_Qu0jo1Xx",
        "colab_type": "code",
        "outputId": "48fbc39b-377d-49a8-9f96-3cf6b59f0f63",
        "colab": {}
      },
      "source": [
        "rand_arr = np.random.rand(5) # create 5 random numbers between 0 and 5\n",
        "rand_arr # results are different every time this cell is run"
      ],
      "execution_count": 0,
      "outputs": [
        {
          "output_type": "execute_result",
          "data": {
            "text/plain": [
              "array([0.90649338, 0.37105352, 0.81437113, 0.33438675, 0.12652438])"
            ]
          },
          "metadata": {
            "tags": []
          },
          "execution_count": 52
        }
      ]
    },
    {
      "cell_type": "code",
      "metadata": {
        "id": "wZ7zc3bxvSfg",
        "colab_type": "code",
        "colab": {
          "base_uri": "https://localhost:8080/",
          "height": 54
        },
        "outputId": "4cca0018-d587-4943-c7d9-bcef94598ed1"
      },
      "source": [
        "rand_norm_arr = np.random.randn(5) # create 5 random numbers from normal distribution\n",
        "rand_norm_arr"
      ],
      "execution_count": 18,
      "outputs": [
        {
          "output_type": "execute_result",
          "data": {
            "text/plain": [
              "array([-0.78812176,  0.96553072, -0.9714828 , -1.204266  , -1.63038695])"
            ]
          },
          "metadata": {
            "tags": []
          },
          "execution_count": 18
        }
      ]
    },
    {
      "cell_type": "markdown",
      "metadata": {
        "id": "SNGaPsNko1X1",
        "colab_type": "text"
      },
      "source": [
        "## Max and min"
      ]
    },
    {
      "cell_type": "code",
      "metadata": {
        "id": "6dnDIaCTo1X2",
        "colab_type": "code",
        "outputId": "e682f966-fbbc-4abe-9211-f1a474eed426",
        "colab": {}
      },
      "source": [
        "rand_norm_arr = np.random.randn(25) # create array of 25 random numbers from normal distribution\n",
        "rand_norm_arr"
      ],
      "execution_count": 0,
      "outputs": [
        {
          "output_type": "execute_result",
          "data": {
            "text/plain": [
              "array([ 1.43205485, -0.55812372, -0.68455624, -1.41662653,  1.26904729,\n",
              "       -0.10079617, -0.06484557,  0.52735273, -0.40155089,  1.00229872,\n",
              "       -1.1776841 ,  1.01573834,  2.30981847, -1.88907446, -0.83726486,\n",
              "       -0.61645002, -0.54331498,  1.08397415, -1.19401095,  1.23306596,\n",
              "       -0.40221001,  0.55070226, -0.22999488, -0.20076187,  0.24140577])"
            ]
          },
          "metadata": {
            "tags": []
          },
          "execution_count": 73
        }
      ]
    },
    {
      "cell_type": "code",
      "metadata": {
        "id": "mSd_q_j4o1X6",
        "colab_type": "code",
        "outputId": "9ce772da-60d8-41a1-8a8e-dd8abc9e8e5a",
        "colab": {}
      },
      "source": [
        "rand_norm_arr.min() # calculate min value"
      ],
      "execution_count": 0,
      "outputs": [
        {
          "output_type": "execute_result",
          "data": {
            "text/plain": [
              "-1.9632940959824894"
            ]
          },
          "metadata": {
            "tags": []
          },
          "execution_count": 61
        }
      ]
    },
    {
      "cell_type": "code",
      "metadata": {
        "id": "Kl6OAWh0o1X-",
        "colab_type": "code",
        "outputId": "f4362c91-57ea-4571-f6b0-cdb06baad1b7",
        "colab": {}
      },
      "source": [
        "rand_norm_arr.max() # calculate max value"
      ],
      "execution_count": 0,
      "outputs": [
        {
          "output_type": "execute_result",
          "data": {
            "text/plain": [
              "2.7793173967822775"
            ]
          },
          "metadata": {
            "tags": []
          },
          "execution_count": 60
        }
      ]
    },
    {
      "cell_type": "code",
      "metadata": {
        "id": "_zM7x5MSo1YC",
        "colab_type": "code",
        "outputId": "408455d6-f9d7-41e2-fd81-bb6febd31c03",
        "colab": {}
      },
      "source": [
        "rand_norm_arr.argmax() # retrieve index of the max value "
      ],
      "execution_count": 0,
      "outputs": [
        {
          "output_type": "execute_result",
          "data": {
            "text/plain": [
              "16"
            ]
          },
          "metadata": {
            "tags": []
          },
          "execution_count": 62
        }
      ]
    },
    {
      "cell_type": "code",
      "metadata": {
        "id": "dmUBvkVpo1YG",
        "colab_type": "code",
        "outputId": "9027f3c5-6647-4a23-eb7f-fb5aa6e26920",
        "colab": {}
      },
      "source": [
        "rand_norm_arr.argmin() # retrieve index of min"
      ],
      "execution_count": 0,
      "outputs": [
        {
          "output_type": "execute_result",
          "data": {
            "text/plain": [
              "13"
            ]
          },
          "metadata": {
            "tags": []
          },
          "execution_count": 63
        }
      ]
    },
    {
      "cell_type": "markdown",
      "metadata": {
        "id": "9UzcqudUo1YJ",
        "colab_type": "text"
      },
      "source": [
        "## Create matrix aka 2D array"
      ]
    },
    {
      "cell_type": "code",
      "metadata": {
        "id": "3bcRDmzqo1YJ",
        "colab_type": "code",
        "outputId": "3c25930e-a7e2-47fa-89f4-88df2ea3d7fe",
        "colab": {}
      },
      "source": [
        "arr_2d = [[1, 2, 3], [4, 5, 6], [7, 8, 9]] # create a nested array using python\n",
        "arr_2d"
      ],
      "execution_count": 0,
      "outputs": [
        {
          "output_type": "execute_result",
          "data": {
            "text/plain": [
              "[[1, 2, 3], [4, 5, 6], [7, 8, 9]]"
            ]
          },
          "metadata": {
            "tags": []
          },
          "execution_count": 21
        }
      ]
    },
    {
      "cell_type": "code",
      "metadata": {
        "id": "orEV3Q7ao1YM",
        "colab_type": "code",
        "outputId": "5f3e3583-9958-43b0-e9e8-6f2cb5d02ec3",
        "colab": {}
      },
      "source": [
        "arr_2d = np.array([[1, 2, 3], [4, 5, 6], [7, 8, 9]]) # create 2D array, aka matrix\n",
        "arr_2d"
      ],
      "execution_count": 0,
      "outputs": [
        {
          "output_type": "execute_result",
          "data": {
            "text/plain": [
              "array([[1, 2, 3],\n",
              "       [4, 5, 6],\n",
              "       [7, 8, 9]])"
            ]
          },
          "metadata": {
            "tags": []
          },
          "execution_count": 27
        }
      ]
    },
    {
      "cell_type": "code",
      "metadata": {
        "id": "VXWlapclo1YP",
        "colab_type": "code",
        "outputId": "9077c242-2746-471b-a41e-0e2c73f59c73",
        "colab": {}
      },
      "source": [
        "arr_2d.shape # retrieve shape of the array"
      ],
      "execution_count": 0,
      "outputs": [
        {
          "output_type": "execute_result",
          "data": {
            "text/plain": [
              "(5, 10)"
            ]
          },
          "metadata": {
            "tags": []
          },
          "execution_count": 68
        }
      ]
    },
    {
      "cell_type": "code",
      "metadata": {
        "id": "GiMYDy9Xty27",
        "colab_type": "code",
        "colab": {
          "base_uri": "https://localhost:8080/",
          "height": 68
        },
        "outputId": "1dfe8233-d53c-44fd-a917-14e583df3ca5"
      },
      "source": [
        "# easier way to make a matrix of sequential numbers\n",
        "np.arange(9).reshape(3,3) # new matrix with 3 rows of 3 incl. zero"
      ],
      "execution_count": 13,
      "outputs": [
        {
          "output_type": "execute_result",
          "data": {
            "text/plain": [
              "array([[0, 1, 2],\n",
              "       [3, 4, 5],\n",
              "       [6, 7, 8]])"
            ]
          },
          "metadata": {
            "tags": []
          },
          "execution_count": 13
        }
      ]
    },
    {
      "cell_type": "code",
      "metadata": {
        "id": "YV21GsWlukkW",
        "colab_type": "code",
        "colab": {
          "base_uri": "https://localhost:8080/",
          "height": 102
        },
        "outputId": "a252bc56-d179-4473-89e7-d6f1ef312a4f"
      },
      "source": [
        "np.eye(5) # create 5 by 5 identity matrix"
      ],
      "execution_count": 14,
      "outputs": [
        {
          "output_type": "execute_result",
          "data": {
            "text/plain": [
              "array([[1., 0., 0., 0., 0.],\n",
              "       [0., 1., 0., 0., 0.],\n",
              "       [0., 0., 1., 0., 0.],\n",
              "       [0., 0., 0., 1., 0.],\n",
              "       [0., 0., 0., 0., 1.]])"
            ]
          },
          "metadata": {
            "tags": []
          },
          "execution_count": 14
        }
      ]
    },
    {
      "cell_type": "markdown",
      "metadata": {
        "id": "eVzSll01o1YU",
        "colab_type": "text"
      },
      "source": [
        "## Matrix index selections"
      ]
    },
    {
      "cell_type": "code",
      "metadata": {
        "id": "rZyS-o-so1YV",
        "colab_type": "code",
        "outputId": "197834a4-7c1f-4ba7-8103-3d7e35a0de2e",
        "colab": {}
      },
      "source": [
        "arr_2d[1][1] # select 2nd row, 2nd column"
      ],
      "execution_count": 0,
      "outputs": [
        {
          "output_type": "execute_result",
          "data": {
            "text/plain": [
              "5"
            ]
          },
          "metadata": {
            "tags": []
          },
          "execution_count": 28
        }
      ]
    },
    {
      "cell_type": "code",
      "metadata": {
        "id": "RaHwn9juo1YY",
        "colab_type": "code",
        "outputId": "6ff36f5d-437e-4fe7-d019-b993250d782f",
        "colab": {}
      },
      "source": [
        "arr_2d[0] # select entire first item of array, which is a whole 'row' of elements"
      ],
      "execution_count": 0,
      "outputs": [
        {
          "output_type": "execute_result",
          "data": {
            "text/plain": [
              "array([1, 2, 3])"
            ]
          },
          "metadata": {
            "tags": []
          },
          "execution_count": 29
        }
      ]
    },
    {
      "cell_type": "code",
      "metadata": {
        "id": "9T2oSB8Ho1Yc",
        "colab_type": "code",
        "outputId": "4dd8b35f-6c73-433f-aa87-fc7fd0820435",
        "colab": {}
      },
      "source": [
        "arr_2d[2,2] # another way to select row 3, item 3"
      ],
      "execution_count": 0,
      "outputs": [
        {
          "output_type": "execute_result",
          "data": {
            "text/plain": [
              "9"
            ]
          },
          "metadata": {
            "tags": []
          },
          "execution_count": 32
        }
      ]
    },
    {
      "cell_type": "code",
      "metadata": {
        "id": "tj_5FbZlo1Yh",
        "colab_type": "code",
        "outputId": "254b7393-cb0f-460f-f37a-04428ad0437e",
        "colab": {}
      },
      "source": [
        "arr_2d[:2, 1:] # select up to but not including row 2, and columns from 1 on"
      ],
      "execution_count": 0,
      "outputs": [
        {
          "output_type": "execute_result",
          "data": {
            "text/plain": [
              "array([[2, 3],\n",
              "       [5, 6]])"
            ]
          },
          "metadata": {
            "tags": []
          },
          "execution_count": 33
        }
      ]
    },
    {
      "cell_type": "markdown",
      "metadata": {
        "id": "snKX5eU0o1Yl",
        "colab_type": "text"
      },
      "source": [
        "## Comparison operators"
      ]
    },
    {
      "cell_type": "code",
      "metadata": {
        "id": "aJmjmsQpo1Ym",
        "colab_type": "code",
        "outputId": "9babc968-0c25-4280-c474-65668f333fd1",
        "colab": {}
      },
      "source": [
        "arr # original 1D array"
      ],
      "execution_count": 0,
      "outputs": [
        {
          "output_type": "execute_result",
          "data": {
            "text/plain": [
              "array([1, 2, 3, 4, 5])"
            ]
          },
          "metadata": {
            "tags": []
          },
          "execution_count": 35
        }
      ]
    },
    {
      "cell_type": "code",
      "metadata": {
        "id": "WnovoV3ho1Yp",
        "colab_type": "code",
        "outputId": "409b61d8-eac1-4cad-d137-38a90f69e9f2",
        "colab": {}
      },
      "source": [
        "arr > 3 # calculate whether any items are greater than 3"
      ],
      "execution_count": 0,
      "outputs": [
        {
          "output_type": "execute_result",
          "data": {
            "text/plain": [
              "array([False, False, False,  True,  True])"
            ]
          },
          "metadata": {
            "tags": []
          },
          "execution_count": 36
        }
      ]
    },
    {
      "cell_type": "code",
      "metadata": {
        "id": "S-AfeELgo1Ys",
        "colab_type": "code",
        "outputId": "966a3140-16a8-4c0e-fc7d-f65d37889bd7",
        "colab": {}
      },
      "source": [
        "bool_array = arr > 2 # save boolean results of a comparison\n",
        "bool_array"
      ],
      "execution_count": 0,
      "outputs": [
        {
          "output_type": "execute_result",
          "data": {
            "text/plain": [
              "array([False, False,  True,  True,  True])"
            ]
          },
          "metadata": {
            "tags": []
          },
          "execution_count": 38
        }
      ]
    },
    {
      "cell_type": "code",
      "metadata": {
        "id": "D4Bf1VaSo1Yv",
        "colab_type": "code",
        "outputId": "48b74214-4843-4ad6-b52d-1babd5a6e8e3",
        "colab": {}
      },
      "source": [
        "arr[bool_array] # show the elements in arr where bool_array = True"
      ],
      "execution_count": 0,
      "outputs": [
        {
          "output_type": "execute_result",
          "data": {
            "text/plain": [
              "array([3, 4, 5])"
            ]
          },
          "metadata": {
            "tags": []
          },
          "execution_count": 39
        }
      ]
    },
    {
      "cell_type": "code",
      "metadata": {
        "id": "fy__v45to1Yy",
        "colab_type": "code",
        "outputId": "ee4b0b57-1197-49c7-d80b-61a6cf8bc108",
        "colab": {}
      },
      "source": [
        "arr[arr < 3] # another way to collect elements that are true for a comparison"
      ],
      "execution_count": 0,
      "outputs": [
        {
          "output_type": "execute_result",
          "data": {
            "text/plain": [
              "array([1, 2])"
            ]
          },
          "metadata": {
            "tags": []
          },
          "execution_count": 41
        }
      ]
    },
    {
      "cell_type": "code",
      "metadata": {
        "id": "mp3DMMevo1Y1",
        "colab_type": "code",
        "outputId": "ad81f9ff-449d-4850-910a-52b2550d774d",
        "colab": {}
      },
      "source": [
        "arr_2d = np.arange(50).reshape(5,10) # create matrix 0 to 50; 5 rows & 10 elements each\n",
        "arr_2d"
      ],
      "execution_count": 0,
      "outputs": [
        {
          "output_type": "execute_result",
          "data": {
            "text/plain": [
              "array([[ 0,  1,  2,  3,  4,  5,  6,  7,  8,  9],\n",
              "       [10, 11, 12, 13, 14, 15, 16, 17, 18, 19],\n",
              "       [20, 21, 22, 23, 24, 25, 26, 27, 28, 29],\n",
              "       [30, 31, 32, 33, 34, 35, 36, 37, 38, 39],\n",
              "       [40, 41, 42, 43, 44, 45, 46, 47, 48, 49]])"
            ]
          },
          "metadata": {
            "tags": []
          },
          "execution_count": 43
        }
      ]
    },
    {
      "cell_type": "code",
      "metadata": {
        "id": "3_L7fe4go1Y4",
        "colab_type": "code",
        "outputId": "ef352b57-d698-4169-feb6-3a397e68b006",
        "colab": {}
      },
      "source": [
        "arr_2d[3:, 3:5] # select row 4 & 5, index 3 to 4 only"
      ],
      "execution_count": 0,
      "outputs": [
        {
          "output_type": "execute_result",
          "data": {
            "text/plain": [
              "array([[33, 34],\n",
              "       [43, 44]])"
            ]
          },
          "metadata": {
            "tags": []
          },
          "execution_count": 46
        }
      ]
    },
    {
      "cell_type": "code",
      "metadata": {
        "id": "U82y06ejo1ZD",
        "colab_type": "code",
        "outputId": "2e7dd545-0796-4cd0-90bc-9431181a27d6",
        "colab": {}
      },
      "source": [
        "arr_2d[2] # select middle row, # 3"
      ],
      "execution_count": 0,
      "outputs": [
        {
          "output_type": "execute_result",
          "data": {
            "text/plain": [
              "array([20, 21, 22, 23, 24, 25, 26, 27, 28, 29])"
            ]
          },
          "metadata": {
            "tags": []
          },
          "execution_count": 47
        }
      ]
    },
    {
      "cell_type": "markdown",
      "metadata": {
        "id": "BjnHj-rXo1ZH",
        "colab_type": "text"
      },
      "source": [
        "## Array operations"
      ]
    },
    {
      "cell_type": "code",
      "metadata": {
        "id": "ZGYlvh2so1ZI",
        "colab_type": "code",
        "outputId": "3817460c-9164-415a-819c-ecfbd4b6bce9",
        "colab": {}
      },
      "source": [
        "arr_2d + arr_2d"
      ],
      "execution_count": 0,
      "outputs": [
        {
          "output_type": "execute_result",
          "data": {
            "text/plain": [
              "array([[ 0,  2,  4,  6,  8, 10, 12, 14, 16, 18],\n",
              "       [20, 22, 24, 26, 28, 30, 32, 34, 36, 38],\n",
              "       [40, 42, 44, 46, 48, 50, 52, 54, 56, 58],\n",
              "       [60, 62, 64, 66, 68, 70, 72, 74, 76, 78],\n",
              "       [80, 82, 84, 86, 88, 90, 92, 94, 96, 98]])"
            ]
          },
          "metadata": {
            "tags": []
          },
          "execution_count": 70
        }
      ]
    },
    {
      "cell_type": "code",
      "metadata": {
        "id": "O4_ZIhaHo1ZK",
        "colab_type": "code",
        "outputId": "6c5cf5bc-a62e-4ad5-b75f-3fd9e2334a3d",
        "colab": {
          "base_uri": "https://localhost:8080/",
          "height": 68
        }
      },
      "source": [
        "randn_arr = np.random.randn(9).reshape(3,3) # new random normal distribution array\n",
        "randn_arr"
      ],
      "execution_count": 34,
      "outputs": [
        {
          "output_type": "execute_result",
          "data": {
            "text/plain": [
              "array([[-1.99938432,  0.07718552, -0.41701054],\n",
              "       [-1.31664305, -0.73286689,  0.76526646],\n",
              "       [-0.63060353, -0.362207  ,  0.55869405]])"
            ]
          },
          "metadata": {
            "tags": []
          },
          "execution_count": 34
        }
      ]
    },
    {
      "cell_type": "code",
      "metadata": {
        "id": "LJ0YDQjWo1ZN",
        "colab_type": "code",
        "outputId": "d7d4a4ca-b31f-4497-d68b-a78f86fcf48a",
        "colab": {
          "base_uri": "https://localhost:8080/",
          "height": 68
        }
      },
      "source": [
        "randn_arr = randn_arr * 3 # scalar operation applied to all elements\n",
        "randn_arr"
      ],
      "execution_count": 35,
      "outputs": [
        {
          "output_type": "execute_result",
          "data": {
            "text/plain": [
              "array([[-5.99815296,  0.23155656, -1.25103163],\n",
              "       [-3.94992916, -2.19860068,  2.29579939],\n",
              "       [-1.89181059, -1.08662101,  1.67608214]])"
            ]
          },
          "metadata": {
            "tags": []
          },
          "execution_count": 35
        }
      ]
    },
    {
      "cell_type": "code",
      "metadata": {
        "id": "nc46x0IVo1ZQ",
        "colab_type": "code",
        "outputId": "cc4b1fd6-1757-4e39-c418-6eec88877807",
        "colab": {
          "base_uri": "https://localhost:8080/",
          "height": 68
        }
      },
      "source": [
        "np.floor(randn_arr) # return floor of each element"
      ],
      "execution_count": 36,
      "outputs": [
        {
          "output_type": "execute_result",
          "data": {
            "text/plain": [
              "array([[-6.,  0., -2.],\n",
              "       [-4., -3.,  2.],\n",
              "       [-2., -2.,  1.]])"
            ]
          },
          "metadata": {
            "tags": []
          },
          "execution_count": 36
        }
      ]
    },
    {
      "cell_type": "code",
      "metadata": {
        "id": "zSN66d7WspQG",
        "colab_type": "code",
        "colab": {
          "base_uri": "https://localhost:8080/",
          "height": 34
        },
        "outputId": "7b51d590-7e35-435a-dad9-9e6018a64866"
      },
      "source": [
        "ones_arr = np.ones(5) # create array of 5 one's\n",
        "ones_arr"
      ],
      "execution_count": 37,
      "outputs": [
        {
          "output_type": "execute_result",
          "data": {
            "text/plain": [
              "array([1., 1., 1., 1., 1.])"
            ]
          },
          "metadata": {
            "tags": []
          },
          "execution_count": 37
        }
      ]
    },
    {
      "cell_type": "code",
      "metadata": {
        "id": "Y0M8u3kbs7qu",
        "colab_type": "code",
        "colab": {
          "base_uri": "https://localhost:8080/",
          "height": 34
        },
        "outputId": "b089608b-b1ba-4e37-f296-e834cccd8f0f"
      },
      "source": [
        "ones_arr * 3 # multiply all by 3"
      ],
      "execution_count": 38,
      "outputs": [
        {
          "output_type": "execute_result",
          "data": {
            "text/plain": [
              "array([3., 3., 3., 3., 3.])"
            ]
          },
          "metadata": {
            "tags": []
          },
          "execution_count": 38
        }
      ]
    },
    {
      "cell_type": "code",
      "metadata": {
        "id": "xZIuN5Bfo1ZT",
        "colab_type": "code",
        "outputId": "615b3959-4a62-4e6f-81f0-57fadfde78a3",
        "colab": {
          "base_uri": "https://localhost:8080/",
          "height": 34
        }
      },
      "source": [
        "zeros_arr = np.zeros(5) # create array of 5 zero elements\n",
        "zeros_arr"
      ],
      "execution_count": 39,
      "outputs": [
        {
          "output_type": "execute_result",
          "data": {
            "text/plain": [
              "array([0., 0., 0., 0., 0.])"
            ]
          },
          "metadata": {
            "tags": []
          },
          "execution_count": 39
        }
      ]
    },
    {
      "cell_type": "code",
      "metadata": {
        "id": "f0ZP0Invo1ZX",
        "colab_type": "code",
        "outputId": "51c9e74e-79f1-49bf-a5a3-68355afa0f4f",
        "colab": {
          "base_uri": "https://localhost:8080/",
          "height": 88
        }
      },
      "source": [
        "zeros_arr / zeros_arr # divide 0 by 0 gives null values"
      ],
      "execution_count": 40,
      "outputs": [
        {
          "output_type": "stream",
          "text": [
            "/usr/local/lib/python3.6/dist-packages/ipykernel_launcher.py:1: RuntimeWarning: invalid value encountered in true_divide\n",
            "  \"\"\"Entry point for launching an IPython kernel.\n"
          ],
          "name": "stderr"
        },
        {
          "output_type": "execute_result",
          "data": {
            "text/plain": [
              "array([nan, nan, nan, nan, nan])"
            ]
          },
          "metadata": {
            "tags": []
          },
          "execution_count": 40
        }
      ]
    },
    {
      "cell_type": "code",
      "metadata": {
        "id": "quKdzn3uo1ZZ",
        "colab_type": "code",
        "outputId": "c9febd75-18ea-47a3-b740-2ee8982435d8",
        "colab": {
          "base_uri": "https://localhost:8080/",
          "height": 88
        }
      },
      "source": [
        "1 / zeros_arr # different error, gives infinity values"
      ],
      "execution_count": 41,
      "outputs": [
        {
          "output_type": "stream",
          "text": [
            "/usr/local/lib/python3.6/dist-packages/ipykernel_launcher.py:1: RuntimeWarning: divide by zero encountered in true_divide\n",
            "  \"\"\"Entry point for launching an IPython kernel.\n"
          ],
          "name": "stderr"
        },
        {
          "output_type": "execute_result",
          "data": {
            "text/plain": [
              "array([inf, inf, inf, inf, inf])"
            ]
          },
          "metadata": {
            "tags": []
          },
          "execution_count": 41
        }
      ]
    },
    {
      "cell_type": "markdown",
      "metadata": {
        "id": "VVq5_Clpo1Zc",
        "colab_type": "text"
      },
      "source": [
        "## Universal array functions"
      ]
    },
    {
      "cell_type": "code",
      "metadata": {
        "id": "RQ95QLRSo1Zc",
        "colab_type": "code",
        "outputId": "5e51eca4-0a1a-4d68-f16f-9220cf64e5fb",
        "colab": {
          "base_uri": "https://localhost:8080/",
          "height": 34
        }
      },
      "source": [
        "arr = np.arange(1,6) # new array 1 to 5\n",
        "arr"
      ],
      "execution_count": 46,
      "outputs": [
        {
          "output_type": "execute_result",
          "data": {
            "text/plain": [
              "array([1, 2, 3, 4, 5])"
            ]
          },
          "metadata": {
            "tags": []
          },
          "execution_count": 46
        }
      ]
    },
    {
      "cell_type": "code",
      "metadata": {
        "id": "0xl44lm4o1Zg",
        "colab_type": "code",
        "outputId": "f0a1816d-5c91-4d44-c8ff-0c0b3147bc9b",
        "colab": {}
      },
      "source": [
        "arr_sq = arr ** 2 # square of every element\n",
        "arr_sq"
      ],
      "execution_count": 0,
      "outputs": [
        {
          "output_type": "execute_result",
          "data": {
            "text/plain": [
              "array([ 1,  4,  9, 16, 25])"
            ]
          },
          "metadata": {
            "tags": []
          },
          "execution_count": 116
        }
      ]
    },
    {
      "cell_type": "code",
      "metadata": {
        "id": "tal3zP_4o1Zi",
        "colab_type": "code",
        "outputId": "575277af-5114-4341-b794-80d6e5de46e0",
        "colab": {}
      },
      "source": [
        "np.sqrt(arr_sq) # square root of each element in arr_sq"
      ],
      "execution_count": 0,
      "outputs": [
        {
          "output_type": "execute_result",
          "data": {
            "text/plain": [
              "array([1., 2., 3., 4., 5.])"
            ]
          },
          "metadata": {
            "tags": []
          },
          "execution_count": 117
        }
      ]
    },
    {
      "cell_type": "code",
      "metadata": {
        "id": "KDMnXZxYo1Zm",
        "colab_type": "code",
        "outputId": "d6d73d1c-ad0a-474c-b0be-45ae6e25a501",
        "colab": {}
      },
      "source": [
        "np.sqrt(49) # square root of a number"
      ],
      "execution_count": 0,
      "outputs": [
        {
          "output_type": "execute_result",
          "data": {
            "text/plain": [
              "7.0"
            ]
          },
          "metadata": {
            "tags": []
          },
          "execution_count": 105
        }
      ]
    },
    {
      "cell_type": "code",
      "metadata": {
        "id": "l2oADv4ro1Zu",
        "colab_type": "code",
        "outputId": "2c57fb4c-5ff0-44ad-8e21-de4471bd9b03",
        "colab": {}
      },
      "source": [
        "np.exp(arr) # calculate exponential of each element; Euler's formula"
      ],
      "execution_count": 0,
      "outputs": [
        {
          "output_type": "execute_result",
          "data": {
            "text/plain": [
              "array([  2.71828183,   7.3890561 ,  20.08553692,  54.59815003,\n",
              "       148.4131591 ])"
            ]
          },
          "metadata": {
            "tags": []
          },
          "execution_count": 115
        }
      ]
    },
    {
      "cell_type": "markdown",
      "metadata": {
        "id": "kJMTwaYTo1Zx",
        "colab_type": "text"
      },
      "source": [
        "More info:\n",
        "\n",
        "1. Exponential function\n",
        "https://en.wikipedia.org/wiki/Exponential_function\n",
        "1. Euler's formula https://en.wikipedia.org/wiki/Euler%27s_formula"
      ]
    },
    {
      "cell_type": "code",
      "metadata": {
        "id": "qGxYVAYzo1Zy",
        "colab_type": "code",
        "outputId": "2b435042-639d-488b-e566-79e885246a19",
        "colab": {}
      },
      "source": [
        "np.max(arr) # find max using np instead of arr.max() shown earlier"
      ],
      "execution_count": 0,
      "outputs": [
        {
          "output_type": "execute_result",
          "data": {
            "text/plain": [
              "5"
            ]
          },
          "metadata": {
            "tags": []
          },
          "execution_count": 119
        }
      ]
    },
    {
      "cell_type": "code",
      "metadata": {
        "id": "wdHBYGZqo1Z2",
        "colab_type": "code",
        "outputId": "51c8574c-8cd4-408c-ced5-4c5fbec57e1b",
        "colab": {}
      },
      "source": [
        "np.sin(arr) # calculate sin of each element"
      ],
      "execution_count": 0,
      "outputs": [
        {
          "output_type": "execute_result",
          "data": {
            "text/plain": [
              "array([ 0.84147098,  0.90929743,  0.14112001, -0.7568025 , -0.95892427])"
            ]
          },
          "metadata": {
            "tags": []
          },
          "execution_count": 120
        }
      ]
    },
    {
      "cell_type": "code",
      "metadata": {
        "id": "rgFCoZlBo1Z8",
        "colab_type": "code",
        "outputId": "c412ff7b-5f34-44fd-c434-2747c6e58fa9",
        "colab": {}
      },
      "source": [
        "np.log(arr) # calculate log of each element"
      ],
      "execution_count": 0,
      "outputs": [
        {
          "output_type": "execute_result",
          "data": {
            "text/plain": [
              "array([0.        , 0.69314718, 1.09861229, 1.38629436, 1.60943791])"
            ]
          },
          "metadata": {
            "tags": []
          },
          "execution_count": 121
        }
      ]
    },
    {
      "cell_type": "markdown",
      "metadata": {
        "id": "sXFW4lNXo1Z-",
        "colab_type": "text"
      },
      "source": [
        "More info:\n",
        "\n",
        "1. Documentation for universal functions in numpy https://docs.scipy.org/doc/numpy/reference/ufuncs.html. Scroll down near the end to find list"
      ]
    },
    {
      "cell_type": "code",
      "metadata": {
        "id": "SJfJI_jdo1Z_",
        "colab_type": "code",
        "colab": {}
      },
      "source": [
        ""
      ],
      "execution_count": 0,
      "outputs": []
    }
  ]
}